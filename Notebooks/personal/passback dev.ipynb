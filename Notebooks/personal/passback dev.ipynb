{
 "cells": [
  {
   "cell_type": "code",
   "execution_count": null,
   "metadata": {},
   "outputs": [],
   "source": [
    "\n",
    "array (\n",
    " 'oauth_consumer_key' => 'qow6cc1RZf16eOKQGsXZELNZmuYlUrxDo5xT4BAs',\n",
    " 'oauth_signature_method' => 'HMAC-SHA1',\n",
    " 'oauth_timestamp' => '1634687179',\n",
    " 'oauth_nonce' => 'KLto8vfCu2cwB7QWC2miylMSVxfnm8IU2kA68q8',\n",
    " 'oauth_version' => '1.0',\n",
    " 'context_id' => '522866e77b5756393414c4205c85ac295cd80216',\n",
    " 'context_label' => 'Adam Swenson Test Course',\n",
    " 'context_title' => 'Adam Swenson Test Course',\n",
    " 'custom_canvas_assignment_points_possible' => '5000000',\n",
    " 'custom_canvas_assignment_title' => 'Voting app demo: Chair',\n",
    " 'custom_canvas_enrollment_state' => 'active',\n",
    " 'ext_ims_lis_basic_outcome_url' => 'https://canvas.csun.edu/api/lti/v1/tools/10341/ext_grade_passback',\n",
    " 'ext_lti_assignment_id' => 'f7de6518-18b6-49d4-a744-24940110a60a',\n",
    " 'ext_outcome_data_values_accepted' => 'url,text',\n",
    " 'ext_outcome_result_total_score_accepted' => 'true',\n",
    " 'ext_outcome_submission_submitted_at_accepted' => 'true',\n",
    " 'ext_outcomes_tool_placement_url' => 'https://canvas.csun.edu/api/lti/v1/turnitin/outcomes_placement/10341',\n",
    " 'ext_roles' => 'urn:lti:instrole:ims/lis/Student,urn:lti:role:ims/lis/Learner,urn:lti:sysrole:ims/lis/User',\n",
    " 'launch_presentation_document_target' => 'iframe',\n",
    " 'launch_presentation_locale' => 'en',\n",
    " 'launch_presentation_return_url' => 'https://canvas.csun.edu/courses/85210/modules',\n",
    " 'lis_outcome_service_url' => 'https://canvas.csun.edu/api/lti/v1/tools/10341/grade_passback',\n",
    " 'lis_person_name_family' => 'Sal',\n",
    " 'lis_person_name_full' => 'Student Test Sal',\n",
    " 'lis_person_name_given' => 'Student Test',\n",
    " 'lis_result_sourcedid' => '10341-85210-872641-169957-8e69842695da6dac7abe14f312e1e4334edcc0db',\n",
    " 'lti_message_type' => 'basic-lti-launch-request',\n",
    " 'lti_version' => 'LTI-1p0',\n",
    " 'oauth_callback' => 'about:blank',\n",
    " 'resource_link_id' => '8b4b2cf622149fa631b6fde16635449dbbebaed3',\n",
    " 'resource_link_title' => 'Voting app demo: Chair',\n",
    " 'roles' => 'Learner',\n",
    " 'tool_consumer_info_product_family_code' => 'canvas',\n",
    " 'tool_consumer_info_version' => 'cloud',\n",
    " 'tool_consumer_instance_contact_email' => 'notifications@instructure.com',\n",
    " 'tool_consumer_instance_guid' => '7db438071375c02373713c12c73869ff2f470b68.csun.instructure.com',\n",
    " 'tool_consumer_instance_name' => 'California State University Northridge',\n",
    " 'user_id' => '55bfa60ba72a8341ce91797167c89ff0f4e41fc4',\n",
    " 'oauth_signature' => 'uhj83nv5rEz/ptcu59LIKG3o0iw=',\n",
    ")\n",
    "\n",
    "'lis_outcome_service_url' => 'https://canvas.csun.edu/api/lti/v1/tools/10341/grade_passback',\n",
    "  'lis_result_sourcedid' => '10341-85210-872641-169957-8e69842695da6dac7abe14f312e1e4334edcc0db',"
   ]
  },
  {
   "cell_type": "code",
   "execution_count": null,
   "metadata": {},
   "outputs": [],
   "source": [
    "import requests\n"
   ]
  },
  {
   "cell_type": "code",
   "execution_count": null,
   "metadata": {},
   "outputs": [],
   "source": [
    "poxml = \"\"\"\n",
    "    static public $XML_TEMPLATE = '<?xml version = \"1.0\" encoding = \"UTF-8\"?>\n",
    "<imsx_POXEnvelopeRequest xmlns = \"http://www.imsglobal.org/services/ltiv1p1/xsd/imsoms_v1p0\">\n",
    "  <imsx_POXHeader>\n",
    "    <imsx_POXRequestHeaderInfo>\n",
    "      <imsx_version>V1.0</imsx_version>\n",
    "      <imsx_messageIdentifier>9893829283928333</imsx_messageIdentifier>\n",
    "          </imsx_POXRequestHeaderInfo>\n",
    "          </imsx_POXHeader>\n",
    "          <imsx_POXBody>\n",
    "          <replaceResultRequest>\n",
    "          <resultRecord>\n",
    "          <sourcedGUID>\n",
    "          <sourcedId>10341-85210-872641-169957-8e69842695da6dac7abe14f312e1e4334edcc0db</sourcedId>\n",
    "        </sourcedGUID>\n",
    "        <result>\n",
    "          <resultScore>\n",
    "            <language>en</language>\n",
    "            <textString>0.9</textString>\n",
    "          </resultScore>\n",
    "        </result>\n",
    "      </resultRecord>\n",
    "    </replaceResultRequest>\n",
    "  </imsx_POXBody>\n",
    "</imsx_POXEnvelopeRequest>\n",
    "\"\"\""
   ]
  },
  {
   "cell_type": "code",
   "execution_count": null,
   "metadata": {},
   "outputs": [],
   "source": [
    "# worked! (w score 1)\n",
    "\n",
    "consumerKey = 'qow6cc1RZf16eOKQGsXZELNZmuYlUrxDo5xT4BAs'\n",
    "secretKey = 'TXxGTdqbI0qPNbniZ8jPl6jqjRjH0tiOX5EKQHKJ'\n",
    "sourceId = '10341-85210-872641-169957-8e69842695da6dac7abe14f312e1e4334edcc0db'\n",
    "url = 'https://canvas.csun.edu/api/lti/v1/tools/10341/ext_grade_passback'\n",
    "# url = 'https://canvas.csun.edu/api/lti/v1/tools/10341/grade_passback'"
   ]
  },
  {
   "cell_type": "code",
   "execution_count": null,
   "metadata": {},
   "outputs": [],
   "source": [
    "#php class generated\n",
    " \"Authorization: OAuth oauth_version=\"1.0\",\n",
    "    oauth_nonce=\"68kgr4fXmiJ\",\n",
    "    oauth_timestamp=\"1635457202\",\n",
    "    oauth_body_hash=\"RVwJ8y8MBJfkzdk4YAJ5TbttbX8=\",\n",
    "    oauth_consumer_key=\"qow6cc1RZf16eOKQGsXZELNZmuYlUrxDo5xT4BAs\",\n",
    "    oauth_signature_method=\"HMAC-SHA1\",\n",
    "    oauth_signature=\"4Bc934xZcSJWaNa298ZG1Ujroyc%253D\"\"\n"
   ]
  },
  {
   "cell_type": "code",
   "execution_count": null,
   "metadata": {},
   "outputs": [],
   "source": [
    "import requests\n",
    "\n",
    "url = \"https://canvas.csun.edu/api/lti/v1/tools/10341/grade_passback\"\n",
    "\n",
    "payload=\"<?xml version = \\\"1.0\\\" encoding = \\\"UTF-8\\\"?>\\n<imsx_POXEnvelopeRequest xmlns = \\\"http://www.imsglobal.org/services/ltiv1p1/xsd/imsoms_v1p0\\\">\\n  <imsx_POXHeader>\\n    <imsx_POXRequestHeaderInfo>\\n      <imsx_version>V1.0</imsx_version>\\n      <imsx_messageIdentifier>9893829283928333</imsx_messageIdentifier>\\n          </imsx_POXRequestHeaderInfo>\\n          </imsx_POXHeader>\\n          <imsx_POXBody>\\n          <replaceResultRequest>\\n          <resultRecord>\\n          <sourcedGUID>\\n          <sourcedId>10341-85210-872641-169957-8e69842695da6dac7abe14f312e1e4334edcc0db</sourcedId>\\n        </sourcedGUID>\\n        <result>\\n          <resultScore>\\n            <language>en</language>\\n            <textString>1.0</textString>\\n          </resultScore>\\n        </result>\\n      </resultRecord>\\n    </replaceResultRequest>\\n  </imsx_POXBody>\\n</imsx_POXEnvelopeRequest>\"\n",
    "headers = {\n",
    "  'Authorization': 'OAuth oauth_consumer_key=\"qow6cc1RZf16eOKQGsXZELNZmuYlUrxDo5xT4BAs\",\n",
    "    oauth_signature_method=\"HMAC-SHA1\",\n",
    "    oauth_timestamp=\"1635457202\",\n",
    "    oauth_nonce=\"68kgr4fXmiJ\",\n",
    "    oauth_version=\"1.0\",\n",
    "    oauth_body_hash=\"XSWk1lAQos1%2FLnojme%2Fn7PNdpUw%3D\",oauth_signature=\"IjlSpgPYqm88N84z4qyoZRnaZl8%3D\"',\n",
    "  'Content-Type': 'application/xml',\n",
    "#   'Cookie': '_csrf_token=qzpJJAX9%2FsaFsbSjNpT142vyIFaO6Eim%2Fr%2FXwADsTwX4SwVOcK%2FIjfT48JZ50LCkArNoPLa4GNGIxqf4bqs9aA%3D%3D; log_session_id=712c509d24ef53cbdea6b13ec0f63a79; canvas_session=0Je8RLBY5o-qw3GbFOFwRw+_-3oLbkehr2O96l1hecCQJHLEeSOCtP6lvMblJdjLOYWFVMDjXo7YGpiYqxnLfAKHx09MgeOOC1jQSdUNRgde8_Hjk1CQ-wWS1eBLbncwBYM1MspgxOLZ1dniX1oSA38NZnGxd5Q4xLgIovO5aNVADMlIvzudRa0AsAGivAPZC4mD_gdEfvwyk7Pk11o3A9kbpVUNivzaI217bwFNL6U58owjpo-GDH6rPZXSndnNdVr7MmYOgzkwsSNKdksmZQIX4IGTsWwxF7kVxIby9ePIg.VGNSGL3atoniCiZ3RnF3QEdG3L0.W6Qo6A'\n",
    "}\n",
    "\n",
    "response = requests.request(\"POST\", url, headers=headers, data=payload)\n",
    "\n",
    "print(response.text)"
   ]
  },
  {
   "cell_type": "code",
   "execution_count": null,
   "metadata": {},
   "outputs": [],
   "source": [
    "headers = { \"Content-Type\" : \"application/xml\",\n",
    "  \"Authorization\" :      'OAuth oauth_version=\"1.0\",oauth_nonce=\"1985281010\",oauth_timestamp=\"1635472607\",oauth_body_hash=\"BQjmG2QxmTjaM1JPviWdqEFM7/s=\",oauth_consumer_key=\"qow6cc1RZf16eOKQGsXZELNZmuYlUrxDo5xT4BAs\",oauth_signature_method=\"HMAC-SHA1\",oauth_signature=\"MwksH17GH7IG%2BbmjIDlkJehAt9M%3D\"'\n",
    "\n",
    "          }\n",
    "  \n",
    "poxml = \"\"\"\n",
    "    <?xml version = \"1.0\" encoding = \"UTF-8\"?>\\n\n",
    "    <imsx_POXEnvelopeRequest xmlns = \"http://www.imsglobal.org/services/ltiv1p1/xsd/imsoms_v1p0\">\\n\n",
    "      <imsx_POXHeader>\\n\n",
    "        <imsx_POXRequestHeaderInfo>\\n\n",
    "          <imsx_version>V1.0</imsx_version>\\n\n",
    "          <imsx_messageIdentifier>129484343</imsx_messageIdentifier>\\n\n",
    "              </imsx_POXRequestHeaderInfo>\\n\n",
    "              </imsx_POXHeader>\\n\n",
    "              <imsx_POXBody>\\n\n",
    "              <replaceResultRequest>\\n\n",
    "              <resultRecord>\\n\n",
    "              <sourcedGUID>\\n\n",
    "              <sourcedId>10341-85210-872641-169957-8e69842695da6dac7abe14f312e1e4334edcc0db</sourcedId>\\n\n",
    "            </sourcedGUID>\\n\n",
    "            <result>\\n\n",
    "              <resultScore>\\n\n",
    "                <language>en</language>\\n\n",
    "                <textString>0.9</textString>\\n\n",
    "              </resultScore>\\n\n",
    "            </result>\\n\n",
    "          </resultRecord>\\n\n",
    "        </replaceResultRequest>\\n\n",
    "      </imsx_POXBody>\\n\n",
    "    </imsx_POXEnvelopeRequest>\n",
    "    \"\"\""
   ]
  },
  {
   "cell_type": "code",
   "execution_count": null,
   "metadata": {},
   "outputs": [],
   "source": [
    "r = requests.post(url, data=poxml, headers=headers)\n",
    "r.text"
   ]
  },
  {
   "cell_type": "code",
   "execution_count": null,
   "metadata": {},
   "outputs": [],
   "source": [
    "r.status_code"
   ]
  },
  {
   "cell_type": "code",
   "execution_count": null,
   "metadata": {},
   "outputs": [],
   "source": [
    "r.__dict__"
   ]
  },
  {
   "cell_type": "code",
   "execution_count": null,
   "metadata": {},
   "outputs": [],
   "source": []
  },
  {
   "cell_type": "code",
   "execution_count": null,
   "metadata": {},
   "outputs": [],
   "source": []
  },
  {
   "cell_type": "code",
   "execution_count": null,
   "metadata": {},
   "outputs": [],
   "source": []
  },
  {
   "cell_type": "code",
   "execution_count": null,
   "metadata": {},
   "outputs": [],
   "source": []
  },
  {
   "cell_type": "code",
   "execution_count": null,
   "metadata": {},
   "outputs": [],
   "source": []
  },
  {
   "cell_type": "code",
   "execution_count": null,
   "metadata": {},
   "outputs": [],
   "source": []
  },
  {
   "cell_type": "code",
   "execution_count": null,
   "metadata": {},
   "outputs": [],
   "source": []
  },
  {
   "cell_type": "code",
   "execution_count": null,
   "metadata": {},
   "outputs": [],
   "source": []
  },
  {
   "cell_type": "code",
   "execution_count": null,
   "metadata": {},
   "outputs": [],
   "source": []
  },
  {
   "cell_type": "markdown",
   "metadata": {},
   "source": [
    "# prev"
   ]
  },
  {
   "cell_type": "code",
   "execution_count": null,
   "metadata": {},
   "outputs": [],
   "source": [
    "poxml = \"\"\"\n",
    "    static public $XML_TEMPLATE = '<?xml version = \"1.0\" encoding = \"UTF-8\"?>\n",
    "<imsx_POXEnvelopeRequest xmlns = \"http://www.imsglobal.org/services/ltiv1p1/xsd/imsoms_v1p0\">\n",
    "  <imsx_POXHeader>\n",
    "    <imsx_POXRequestHeaderInfo>\n",
    "      <imsx_version>V1.0</imsx_version>\n",
    "      <imsx_messageIdentifier>9893829283928333</imsx_messageIdentifier>\n",
    "          </imsx_POXRequestHeaderInfo>\n",
    "          </imsx_POXHeader>\n",
    "          <imsx_POXBody>\n",
    "          <replaceResultRequest>\n",
    "          <resultRecord>\n",
    "          <sourcedGUID>\n",
    "          <sourcedId>10341-85210-872641-169957-8e69842695da6dac7abe14f312e1e4334edcc0db</sourcedId>\n",
    "        </sourcedGUID>\n",
    "        <result>\n",
    "          <resultScore>\n",
    "            <language>en</language>\n",
    "            <textString>5000000</textString>\n",
    "          </resultScore>\n",
    "        </result>\n",
    "      </resultRecord>\n",
    "    </replaceResultRequest>\n",
    "  </imsx_POXBody>\n",
    "</imsx_POXEnvelopeRequest>\n",
    "\"\"\""
   ]
  },
  {
   "cell_type": "code",
   "execution_count": null,
   "metadata": {},
   "outputs": [],
   "source": []
  },
  {
   "cell_type": "code",
   "execution_count": null,
   "metadata": {},
   "outputs": [],
   "source": [
    "url = 'https://canvas.csun.edu/api/lti/v1/tools/14228/ext_grade_passback'\n",
    "# url = 'https://canvas.csun.edu/api/lti/v1/tools/10341/grade_passback'"
   ]
  },
  {
   "cell_type": "code",
   "execution_count": null,
   "metadata": {},
   "outputs": [],
   "source": [
    "body_hash = hashlib.sha1(poxml.encode('utf-8')).hexdigest()\n",
    "headers = {\n",
    "    'Content-type' : 'application/xml',\n",
    "'Authorization': f'OAuth realm : \"\", oauth_version : 1.0, oauth_body_hash=\"{body_hash}\",oauth_signature_method=\"HMAC-SHA1\"',\n",
    "#         'oauth_version' : \"1.0\",\"\n",
    "#         'OAuth realm' : \"\",\n",
    "#         'oauth_version' : \"1.0\",\n",
    "#     oauth_nonce=\"29f90c047a44b2ece73d00a09364d49b\",\n",
    "\n",
    "#   oauth_timestamp=\"1313350943\",oauth_consumer_key=\"lmsng.school.edu\",\n",
    "\n",
    "#   oauth_body_hash=\"v%2BxFnmDSHV%2Fj29qhxLwkFILrtPo%3D\",\n",
    "\n",
    "#   oauth_signature_method=\"HMAC-SHA1\",\n",
    "\n",
    "#   oauth_signature=\"8auRpRdPY2KRXUrOyz3HKCs92y8%3D\"\n",
    "#     }\n",
    "}\n",
    "headers"
   ]
  },
  {
   "cell_type": "code",
   "execution_count": null,
   "metadata": {},
   "outputs": [],
   "source": [
    "headers = { \"Content-Type\" : \"application/xml\",\n",
    "           \"Authorization\" : 'OAuth oauth_version=\"1.0\",oauth_nonce=\"1451508479\",oauth_timestamp=\"1635452700\",oauth_body_hash=\"ciwjAg6bcFcusYBDqXt3iukeTrQ=\",oauth_consumer_key=\"f3e4282e97dc69c5c096dd937b0f6d5ceb1920fa\",oauth_signature_method=\"HMAC-SHA1\",oauth_signature=\"rcAoolWIAV7z8u2ElAlFSqWR2vk%253D\"'\n",
    "\n",
    "#  \"Authorization\" : 'OAuth oauth_version=\"1.0\",oauth_nonce=\"1429124215\",oauth_timestamp=\"1635192297\",oauth_body_hash=\"QBX8aDehMwjhGUjd2awD4BcLpBw=\",oauth_consumer_key=\"da0ca95a6f32c52288a59f7424e6c28ca4fc1cb8\",oauth_signature_method=\"HMAC-SHA1\",oauth_signature=\"lout%252FeR5o3YB6o7nJE7COfVpP1M%253D\"'\n",
    "#  \"Authorization\" : 'OAuth oauth_version=\"1.0\",oauth_nonce=\"1280235411\",oauth_timestamp=\"1635365739\",oauth_body_hash=\"OqYDvTItZ5SF4n55JFYAvz5NdSA=\",oauth_consumer_key=\"768b78af6539ce9ad13ed85c08c49ec0d06d0f88\",oauth_signature_method=\"HMAC-SHA1\",oauth_signature=\"mqVOqXhJWFWZKkBF4P5XO5cVxN4%253D\"'\n",
    "          }"
   ]
  },
  {
   "cell_type": "code",
   "execution_count": null,
   "metadata": {},
   "outputs": [],
   "source": [
    "\n",
    "\n",
    "'oauth_consumer_key' => 'qow6cc1RZf16eOKQGsXZELNZmuYlUrxDo5xT4BAs',\n",
    " 'oauth_signature_method' => 'HMAC-SHA1',\n",
    " 'oauth_timestamp' => '1634684989',\n",
    " 'oauth_nonce' => 'IUOXp5O3NYpQvpb2iTHsxuCtxnHZae6cY993GSUEgk',\n",
    " 'oauth_version' => '1.0',\n",
    " 'context_id' => '522866e77b5756393414c4205c85ac295cd80216',\n",
    " 'context_label' => 'Adam Swenson Test Course',\n",
    " 'context_title' => 'Adam Swenson Test Course',\n",
    " 'custom_canvas_assignment_points_possible' => '5000000',\n",
    " 'custom_canvas_assignment_title' => 'Voting app demo: Chair',\n",
    " 'custom_canvas_enrollment_state' => 'active',\n",
    " 'ext_ims_lis_basic_outcome_url' => 'https://canvas.csun.edu/api/lti/v1/tools/10341/ext_grade_passback',\n",
    " 'ext_lti_assignment_id' => 'f7de6518-18b6-49d4-a744-24940110a60a',\n",
    " 'ext_outcome_data_values_accepted' => 'url,text',\n",
    " 'ext_outcome_result_total_score_accepted' => 'true',\n",
    " 'ext_outcome_submission_submitted_at_accepted' => 'true',\n",
    " 'ext_outcomes_tool_placement_url' => 'https://canvas.csun.edu/api/lti/v1/turnitin/outcomes_placement/10341',\n",
    " 'ext_roles' => 'urn:lti:instrole:ims/lis/Instructor,urn:lti:instrole:ims/lis/Student,urn:lti:role:ims/lis/Instructor,urn:lti:role:ims/lis/Learner/NonCreditLearner,urn:lti:role:ims/lis/Mentor,urn:lti:sysrole:ims/lis/User',\n",
    " 'launch_presentation_document_target' => 'iframe',\n",
    " 'launch_presentation_locale' => 'en',\n",
    " 'launch_presentation_return_url' => 'https://canvas.csun.edu/courses/85210/modules',\n",
    " 'lis_outcome_service_url' => 'https://canvas.csun.edu/api/lti/v1/tools/10341/grade_passback',\n",
    " 'lis_person_name_family' => 'Swenson',\n",
    " 'lis_person_name_full' => 'Adam Swenson',\n",
    " 'lis_person_name_given' => 'Adam',\n",
    " 'lti_message_type' => 'basic-lti-launch-request',\n",
    " 'lti_version' => 'LTI-1p0',\n",
    " 'oauth_callback' => 'about:blank',\n",
    " 'resource_link_id' => '8b4b2cf622149fa631b6fde16635449dbbebaed3',\n",
    " 'resource_link_title' => 'Voting app demo: Chair',\n",
    " 'roles' => 'Instructor',\n",
    " 'tool_consumer_info_product_family_code' => 'canvas',\n",
    " 'tool_consumer_info_version' => 'cloud',\n",
    " 'tool_consumer_instance_contact_email' => 'notifications@instructure.com',\n",
    " 'tool_consumer_instance_guid' => '7db438071375c02373713c12c73869ff2f470b68.csun.instructure.com',\n",
    " 'tool_consumer_instance_name' => 'California State University Northridge',\n",
    " 'user_id' => '6d6d9761019fbcf67efbe2730d66ef66c92331a7',\n",
    " 'oauth_signature' => 'Jg344EygfGnRXGLDN4aweIp3/VI=',\n",
    ")"
   ]
  },
  {
   "cell_type": "code",
   "execution_count": null,
   "metadata": {},
   "outputs": [],
   "source": [
    "r = requests.post(url, data=poxml, headers=headers)\n",
    "r.text"
   ]
  },
  {
   "cell_type": "code",
   "execution_count": null,
   "metadata": {},
   "outputs": [],
   "source": [
    "r.status_code"
   ]
  },
  {
   "cell_type": "code",
   "execution_count": null,
   "metadata": {},
   "outputs": [],
   "source": [
    "r.__dict__"
   ]
  },
  {
   "cell_type": "code",
   "execution_count": null,
   "metadata": {},
   "outputs": [],
   "source": [
    "import hashlib\n",
    "hashlib.sha1(b'dog').hexdigest()"
   ]
  },
  {
   "cell_type": "code",
   "execution_count": null,
   "metadata": {},
   "outputs": [],
   "source": [
    "The oauth_body_hash [OBH, 11] is computed using a SHA-1 hash of the body contents and added to the Authorization header. All of the OAuth parameters, HTTP method, and URL are signed like any other OAuth signed request.  \n",
    "Other than in producing the body hash value, the actual POST data is not involved in the computation of the oauth_signature.\n",
    "\n",
    "\n",
    "Authorization: OAuth realm=\"\",oauth_version=\"1.0\",\n",
    "\n",
    "  oauth_nonce=\"29f90c047a44b2ece73d00a09364d49b\",\n",
    "\n",
    "  oauth_timestamp=\"1313350943\",oauth_consumer_key=\"lmsng.school.edu\",\n",
    "\n",
    "  oauth_body_hash=\"v%2BxFnmDSHV%2Fj29qhxLwkFILrtPo%3D\",\n",
    "\n",
    "  oauth_signature_method=\"HMAC-SHA1\",\n",
    "\n",
    "  oauth_signature=\"8auRpRdPY2KRXUrOyz3HKCs92y8%3D\"\n",
    "\n",
    "Content-type: application/xml"
   ]
  },
  {
   "cell_type": "code",
   "execution_count": null,
   "metadata": {},
   "outputs": [],
   "source": [
    "p [2021-10-28 21:16:45] production-demo.DEBUG: array (\n",
    "Oct 28 14:16:46 voteomatic php   'oauth_consumer_key' => 'qow6cc1RZf16eOKQGsXZELNZmuYlUrxDo5xT4BAs',\n",
    "Oct 28 14:16:46 voteomatic php   'oauth_signature_method' => 'HMAC-SHA1',\n",
    "Oct 28 14:16:46 voteomatic php   'oauth_timestamp' => '1635455801',\n",
    "Oct 28 14:16:46 voteomatic php   'oauth_nonce' => 'Jv6bYiyUM7leR35NFpbQs6VFMVoatXjLr277byaQsRY',\n",
    "Oct 28 14:16:46 voteomatic php   'oauth_version' => '1.0',\n",
    "Oct 28 14:16:46 voteomatic php   'context_id' => '522866e77b5756393414c4205c85ac295cd80216',\n",
    "Oct 28 14:16:46 voteomatic php   'context_label' => 'Adam Swenson Test Course',\n",
    "Oct 28 14:16:46 voteomatic php   'context_title' => 'Adam Swenson Test Course',\n",
    "Oct 28 14:16:46 voteomatic php   'custom_canvas_assignment_points_possible' => '5000000',\n",
    "Oct 28 14:16:46 voteomatic php   'custom_canvas_assignment_title' => 'Voting app demo: Chair',\n",
    "Oct 28 14:16:46 voteomatic php   'custom_canvas_enrollment_state' => 'active',\n",
    "Oct 28 14:16:46 voteomatic php   'ext_ims_lis_basic_outcome_url' => 'https://canvas.csun.edu/api/lti/v1/tools/10341/ext_grade_passback',\n",
    "Oct 28 14:16:46 voteomatic php   'ext_lti_assignment_id' => 'f7de6518-18b6-49d4-a744-24940110a60a',\n",
    "Oct 28 14:16:46 voteomatic php   'ext_outcome_data_values_accepted' => 'url,text',\n",
    "Oct 28 14:16:46 voteomatic php   'ext_outcome_result_total_score_accepted' => 'true',\n",
    "Oct 28 14:16:46 voteomatic php   'ext_outcome_submission_submitted_at_accepted' => 'true',\n",
    "Oct 28 14:16:46 voteomatic php   'ext_outcomes_tool_placement_url' => 'https://canvas.csun.edu/api/lti/v1/turnitin/outcomes_placement/10341',\n",
    "Oct 28 14:16:46 voteomatic php   'ext_roles' => 'urn:lti:instrole:ims/lis/Instructor,urn:lti:instrole:ims/lis/Student,urn:lti:role:ims/lis/Instructor,urn:lti:role:ims/lis/Learner/NonCreditLearner,urn:lti:role:ims/lis/Mentor,urn:lti:sysrole:ims/lis/User',\n",
    "Oct 28 14:16:46 voteomatic php   'launch_presentation_document_target' => 'iframe',\n",
    "Oct 28 14:16:46 voteomatic php   'launch_presentation_locale' => 'en',\n",
    "Oct 28 14:16:46 voteomatic php   'launch_presentation_return_url' => 'https://canvas.csun.edu/courses/85210/modules',\n",
    "Oct 28 14:16:46 voteomatic php   'lis_outcome_service_url' => 'https://canvas.csun.edu/api/lti/v1/tools/10341/grade_passback',\n",
    "Oct 28 14:16:46 voteomatic php   'lis_person_name_family' => 'Swenson',\n",
    "Oct 28 14:16:46 voteomatic php   'lis_person_name_full' => 'Adam Swenson',\n",
    "Oct 28 14:16:46 voteomatic php   'lis_person_name_given' => 'Adam',\n",
    "Oct 28 14:16:46 voteomatic php   'lti_message_type' => 'basic-lti-launch-request',\n",
    "Oct 28 14:16:46 voteomatic php   'lti_version' => 'LTI-1p0',\n",
    "Oct 28 14:16:46 voteomatic php   'oauth_callback' => 'about:blank',\n",
    "Oct 28 14:16:46 voteomatic php   'resource_link_id' => '8b4b2cf622149fa631b6fde16635449dbbebaed3',\n",
    "Oct 28 14:16:46 voteomatic php   'resource_link_title' => 'Voting app demo: Chair',\n",
    "Oct 28 14:16:46 voteomatic php   'roles' => 'Instructor',\n",
    "Oct 28 14:16:46 voteomatic php   'tool_consumer_info_product_family_code' => 'canvas',\n",
    "Oct 28 14:16:46 voteomatic php   'tool_consumer_info_version' => 'cloud',\n",
    "Oct 28 14:16:46 voteomatic php   'tool_consumer_instance_contact_email' => 'notifications@instructure.com',\n",
    "Oct 28 14:16:46 voteomatic php   'tool_consumer_instance_guid' => '7db438071375c02373713c12c73869ff2f470b68.csun.instructure.com',\n",
    "Oct 28 14:16:46 voteomatic php   'tool_consumer_instance_name' => 'California State University Northridge',\n",
    "Oct 28 14:16:46 voteomatic php   'user_id' => '6d6d9761019fbcf67efbe2730d66ef66c92331a7',\n",
    "Oct 28 14:16:46 voteomatic php   'oauth_signature' => '5ovaN00ftUary9NsxLiIwD008q4=',"
   ]
  }
 ],
 "metadata": {
  "kernelspec": {
   "display_name": "canv-env",
   "language": "python",
   "name": "canv-env"
  },
  "language_info": {
   "codemirror_mode": {
    "name": "ipython",
    "version": 3
   },
   "file_extension": ".py",
   "mimetype": "text/x-python",
   "name": "python",
   "nbconvert_exporter": "python",
   "pygments_lexer": "ipython3",
   "version": "3.6.4"
  },
  "toc": {
   "colors": {
    "hover_highlight": "#DAA520",
    "navigate_num": "#000000",
    "navigate_text": "#333333",
    "running_highlight": "#FF0000",
    "selected_highlight": "#FFD700",
    "sidebar_border": "#EEEEEE",
    "wrapper_background": "#FFFFFF"
   },
   "moveMenuLeft": true,
   "nav_menu": {
    "height": "11.1px",
    "width": "251.1px"
   },
   "navigate_menu": true,
   "number_sections": true,
   "sideBar": true,
   "threshold": 4,
   "toc_cell": false,
   "toc_section_display": "block",
   "toc_window_display": false,
   "widenNotebook": false
  }
 },
 "nbformat": 4,
 "nbformat_minor": 2
}
