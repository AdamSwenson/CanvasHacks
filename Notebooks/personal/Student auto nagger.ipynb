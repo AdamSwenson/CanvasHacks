{
 "cells": [
  {
   "cell_type": "markdown",
   "metadata": {},
   "source": [
    "Detects when a student has missed an assignment within n past assignments and then sends reminders"
   ]
  },
  {
   "cell_type": "code",
   "execution_count": null,
   "metadata": {
    "run_control": {
     "marked": true
    }
   },
   "outputs": [],
   "source": [
    "%cd ~/Dropbox/CanvasHacks\n",
    "\n",
    "from CanvasHacks import environment\n",
    "\n",
    "# Widgets\n",
    "from CanvasHacks.Widgets.SkaaControls import multiple_unit_control\n",
    "from CanvasHacks.Widgets.LiveSelection import make_test_selector\n",
    "from CanvasHacks.Widgets.AssignmentSelection import make_unit_chooser, make_selection_button\n",
    "\n",
    "# Repos\n",
    "from CanvasHacks.Repositories.overview import SkaaOverviewRepository\n",
    "\n",
    "# Data store\n",
    "# Only used as a convenient way to load relevant repositories \n",
    "from CanvasHacks.Displays.dashboard import ControlStore"
   ]
  },
  {
   "cell_type": "code",
   "execution_count": null,
   "metadata": {
    "run_control": {
     "marked": true
    }
   },
   "outputs": [],
   "source": [
    "# TEST = True\n",
    "TEST = False\n",
    "\n",
    "# SEND = True\n",
    "SEND = False"
   ]
  },
  {
   "cell_type": "markdown",
   "metadata": {},
   "source": [
    "# Late reviews"
   ]
  },
  {
   "cell_type": "code",
   "execution_count": null,
   "metadata": {
    "run_control": {
     "marked": true
    }
   },
   "outputs": [],
   "source": [
    "from CanvasHacks.StudentNaggers.skaa_review import SkaaReviewNagger"
   ]
  },
  {
   "cell_type": "markdown",
   "metadata": {},
   "source": [
    "## Send for multiple units"
   ]
  },
  {
   "cell_type": "code",
   "execution_count": null,
   "metadata": {},
   "outputs": [],
   "source": [
    "def run_review_nagger_on_units(unit_numbers):\n",
    "    \"\"\"Sends reminder message to students who have not yet done the \n",
    "    assigned review for each of the provided units\n",
    "    :unit_numbers List of integers\n",
    "    \"\"\"\n",
    "    control_store = ControlStore()\n",
    "    for i in unit_numbers:\n",
    "        control_store.load_unit(i)\n",
    "        repo = control_store.skaa_repos[i]\n",
    "        nagger = SkaaReviewNagger(repo, is_test=TEST, send=SEND)\n",
    "        print(f\"Nagging about late reviews for unit {i}. \\nTEST is {TEST}. \\nSEND is {SEND}\")\n",
    "        nagger.run()"
   ]
  },
  {
   "cell_type": "code",
   "execution_count": null,
   "metadata": {},
   "outputs": [],
   "source": [
    "units = [1]\n",
    "# units = [i for i in range(1,7)]"
   ]
  },
  {
   "cell_type": "code",
   "execution_count": null,
   "metadata": {
    "editable": false,
    "run_control": {
     "frozen": true,
     "marked": false
    }
   },
   "outputs": [],
   "source": [
    "run_review_nagger_on_units(units)"
   ]
  },
  {
   "cell_type": "code",
   "execution_count": null,
   "metadata": {},
   "outputs": [],
   "source": []
  },
  {
   "cell_type": "code",
   "execution_count": null,
   "metadata": {},
   "outputs": [],
   "source": []
  },
  {
   "cell_type": "code",
   "execution_count": null,
   "metadata": {
    "editable": false,
    "run_control": {
     "frozen": true,
     "marked": false
    }
   },
   "outputs": [],
   "source": [
    "# For multiple classes\n",
    "units = [1]\n",
    "# units = [i for i in range(1,7)]\n",
    "\n",
    "# not using its log display features, just a convenient way to load what's needed. \n",
    "control_store = ControlStore()\n",
    "[control_store.load_unit(i) for i in units]\n",
    "\n",
    "repo = control_store.skaa_repos[environment.CONFIG.unit.unit_number]\n",
    "nagger = SkaaReviewNagger(repo, is_test=TEST, send=SEND)\n",
    "\n",
    "print(f\"Will run on unit {environment.CONFIG.unit.unit_number}. \\nTEST is {TEST}. \\nSEND is {SEND}\")"
   ]
  },
  {
   "cell_type": "markdown",
   "metadata": {
    "run_control": {
     "marked": false
    }
   },
   "source": [
    "## Send for single unit"
   ]
  },
  {
   "cell_type": "code",
   "execution_count": null,
   "metadata": {
    "run_control": {
     "marked": true
    }
   },
   "outputs": [],
   "source": [
    "# make_test_selector()\n",
    "make_unit_chooser(num_units=8)"
   ]
  },
  {
   "cell_type": "code",
   "execution_count": null,
   "metadata": {},
   "outputs": [],
   "source": [
    "repo = control_store.skaa_repos[environment.CONFIG.unit.unit_number]\n",
    "nagger = SkaaReviewNagger(repo, is_test=TEST, send=SEND)\n",
    "print(f\"Nagging about late reviews for unit {environment.CONFIG.unit.unit_number}. \\nTEST is {TEST}. \\nSEND is {SEND}\")\n"
   ]
  },
  {
   "cell_type": "code",
   "execution_count": null,
   "metadata": {
    "editable": false,
    "run_control": {
     "frozen": true
    }
   },
   "outputs": [],
   "source": [
    "nagger.run()"
   ]
  },
  {
   "cell_type": "code",
   "execution_count": null,
   "metadata": {},
   "outputs": [],
   "source": []
  },
  {
   "cell_type": "code",
   "execution_count": null,
   "metadata": {},
   "outputs": [],
   "source": []
  },
  {
   "cell_type": "code",
   "execution_count": null,
   "metadata": {},
   "outputs": [],
   "source": []
  },
  {
   "cell_type": "markdown",
   "metadata": {},
   "source": [
    "# Late essay assignments"
   ]
  },
  {
   "cell_type": "code",
   "execution_count": null,
   "metadata": {},
   "outputs": [],
   "source": [
    "from CanvasHacks.StudentNaggers.essay import EssayNagger"
   ]
  },
  {
   "cell_type": "code",
   "execution_count": null,
   "metadata": {},
   "outputs": [],
   "source": [
    "def run_essay_nagger_on_units(unit_numbers, test=TEST, send=SEND):\n",
    "    \"\"\"Sends reminder message to students who have not yet done the \n",
    "    assigned essay for each of the provided units\n",
    "    :unit_numbers List of integers\n",
    "    \"\"\"\n",
    "    # not using its log display features, just a convenient way to load what's needed. \n",
    "    control_store = ControlStore()\n",
    "    for i in unit_numbers:\n",
    "        control_store.load_unit(i)\n",
    "        repo = control_store.skaa_repos[i]\n",
    "        nagger = EssayNagger(repo, is_test=test, send=send)\n",
    "        print(f\"Nagging about late reviews for unit {i}. \\nTEST is {test}. \\nSEND is {send}\")\n",
    "#         nagger.run()"
   ]
  },
  {
   "cell_type": "code",
   "execution_count": null,
   "metadata": {},
   "outputs": [],
   "source": [
    "units = [1]\n",
    "# units = [i for i in range(1,7)]\n"
   ]
  },
  {
   "cell_type": "code",
   "execution_count": null,
   "metadata": {},
   "outputs": [],
   "source": [
    "run_essay_nagger_on_units(units)"
   ]
  },
  {
   "cell_type": "code",
   "execution_count": null,
   "metadata": {},
   "outputs": [],
   "source": []
  },
  {
   "cell_type": "code",
   "execution_count": null,
   "metadata": {},
   "outputs": [],
   "source": []
  },
  {
   "cell_type": "code",
   "execution_count": null,
   "metadata": {},
   "outputs": [],
   "source": []
  },
  {
   "cell_type": "code",
   "execution_count": null,
   "metadata": {},
   "outputs": [],
   "source": [
    "units = [1]\n",
    "# units = [i for i in range(1,7)]\n",
    "\n",
    "# not using its log display features, just a convenient way to load what's needed. \n",
    "control_store = ControlStore()\n",
    "[control_store.load_unit(i) for i in units]"
   ]
  },
  {
   "cell_type": "code",
   "execution_count": null,
   "metadata": {},
   "outputs": [],
   "source": [
    "\n",
    "repo = control_store.skaa_repos[environment.CONFIG.unit.unit_number]\n",
    "nagger = EssayNagger(repo, is_test=TEST, send=SEND)"
   ]
  },
  {
   "cell_type": "code",
   "execution_count": null,
   "metadata": {},
   "outputs": [],
   "source": []
  },
  {
   "cell_type": "code",
   "execution_count": null,
   "metadata": {},
   "outputs": [],
   "source": []
  },
  {
   "cell_type": "code",
   "execution_count": null,
   "metadata": {},
   "outputs": [],
   "source": []
  },
  {
   "cell_type": "code",
   "execution_count": null,
   "metadata": {},
   "outputs": [],
   "source": []
  },
  {
   "cell_type": "code",
   "execution_count": null,
   "metadata": {},
   "outputs": [],
   "source": []
  },
  {
   "cell_type": "markdown",
   "metadata": {},
   "source": [
    "# Consolidated controls (dev)"
   ]
  },
  {
   "cell_type": "code",
   "execution_count": null,
   "metadata": {},
   "outputs": [],
   "source": [
    "from CanvasHacks.Widgets.NagControls import nag_button_area\n",
    "\n",
    "store = ControlStore()\n",
    "nag_button_area(store)"
   ]
  },
  {
   "cell_type": "code",
   "execution_count": null,
   "metadata": {},
   "outputs": [],
   "source": []
  },
  {
   "cell_type": "code",
   "execution_count": null,
   "metadata": {},
   "outputs": [],
   "source": []
  },
  {
   "cell_type": "markdown",
   "metadata": {},
   "source": [
    "# ------------- Old"
   ]
  },
  {
   "cell_type": "code",
   "execution_count": null,
   "metadata": {
    "editable": false,
    "run_control": {
     "frozen": true
    }
   },
   "outputs": [],
   "source": [
    "# not using its log display features, just a convenient way to load what's needed. \n",
    "# control_store = ControlStore()\n",
    "# control_store.load_unit(unit=environment.CONFIG.unit)"
   ]
  },
  {
   "cell_type": "code",
   "execution_count": null,
   "metadata": {
    "run_control": {
     "marked": true
    }
   },
   "outputs": [],
   "source": [
    "adam_id = 6417\n",
    "\n",
    "# Test data\n",
    "test_course_id = 85210\n",
    "\n",
    "main_quiz = 165098\n",
    "review_quiz = 165820\n",
    "meta_review = 165821\n",
    "\n",
    "url = 'https://canvas.csun.edu/api/v1/courses/85210/assignments/{}/submissions'\n",
    "\n",
    "# last semester data\n",
    "prev_course_id = 62657\n",
    "prev_quiz = 151633\n",
    "\n",
    "COURSE_ID = test_course_id\n",
    "# COURSE_ID = prev_course_id\n",
    "# QUIZ_ID = prev_quiz\n",
    "\n",
    "TEST_STUDENT_ID = 168439\n",
    "\n",
    "SEMESTER_NAME = 'S20'\n",
    "LOC = '{}/Box Sync/TEACHING/Phil 305 Business ethics/Phil305 S20'.format(environment.ROOT)# placeholder for where the access codes are stored\n",
    "ACCESS_CODES_FP = \"{}/{}-assignment-access-codes.xlsx\".format(LOC, SEMESTER_NAME)\n",
    "\n",
    "UNIT_NUMBER = 1"
   ]
  },
  {
   "cell_type": "code",
   "execution_count": null,
   "metadata": {},
   "outputs": [],
   "source": [
    "pd.to_datetime('2020-01-22T03:02:56Z')"
   ]
  },
  {
   "cell_type": "code",
   "execution_count": null,
   "metadata": {
    "run_control": {
     "marked": true
    }
   },
   "outputs": [],
   "source": [
    "# Initialize a Canvas api objects\n",
    "canvas = Canvas(environment.CONFIG.canvas_url_base, environment.CONFIG.canvas_token)\n",
    "course = canvas.get_course(COURSE_ID)\n"
   ]
  },
  {
   "cell_type": "code",
   "execution_count": null,
   "metadata": {},
   "outputs": [],
   "source": [
    "assignments = [ (a.id, pd.to_datetime(a.due_at)) for a in course.get_assignments() if a.due_at]\n",
    "# make sure they are sorted in expected order\n",
    "assignments.sort(key=lambda x: x[1])\n",
    "\n",
    "assignments"
   ]
  },
  {
   "cell_type": "code",
   "execution_count": null,
   "metadata": {},
   "outputs": [],
   "source": [
    "# Assignments due before today\n",
    "previous_assignments = [a for a in assignments if a[1] < pd.to_datetime(datetime.datetime.now(tzinfo='UTC'))]\n",
    "previous_assignments"
   ]
  },
  {
   "cell_type": "code",
   "execution_count": null,
   "metadata": {},
   "outputs": [],
   "source": [
    "def s(a):\n",
    "    return a[1]\n",
    "assignments\n"
   ]
  },
  {
   "cell_type": "code",
   "execution_count": null,
   "metadata": {},
   "outputs": [],
   "source": [
    "assignments.sort(key=s, reverse=True)\n",
    "assignments"
   ]
  },
  {
   "cell_type": "code",
   "execution_count": null,
   "metadata": {},
   "outputs": [],
   "source": []
  }
 ],
 "metadata": {
  "kernelspec": {
   "display_name": "canv-env",
   "language": "python",
   "name": "canv-env"
  },
  "language_info": {
   "codemirror_mode": {
    "name": "ipython",
    "version": 3
   },
   "file_extension": ".py",
   "mimetype": "text/x-python",
   "name": "python",
   "nbconvert_exporter": "python",
   "pygments_lexer": "ipython3",
   "version": "3.6.4"
  },
  "toc": {
   "base_numbering": 1,
   "colors": {
    "hover_highlight": "#DAA520",
    "navigate_num": "#000000",
    "navigate_text": "#333333",
    "running_highlight": "#FF0000",
    "selected_highlight": "#FFD700",
    "sidebar_border": "#EEEEEE",
    "wrapper_background": "#FFFFFF"
   },
   "moveMenuLeft": true,
   "nav_menu": {},
   "navigate_menu": true,
   "number_sections": true,
   "sideBar": true,
   "skip_h1_title": false,
   "threshold": 4,
   "title_cell": "Table of Contents",
   "title_sidebar": "Contents",
   "toc_cell": false,
   "toc_position": {},
   "toc_section_display": true,
   "toc_window_display": false,
   "widenNotebook": false
  }
 },
 "nbformat": 4,
 "nbformat_minor": 4
}
