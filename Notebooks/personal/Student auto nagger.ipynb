{
 "cells": [
  {
   "cell_type": "markdown",
   "metadata": {},
   "source": [
    "__Detects when a student has missed an assignment within n past assignments and then sends reminders__\n",
    "\n",
    "* May 2023 Bug sent message to students who had done assignment when used bulk sender\n",
    "\n"
   ]
  },
  {
   "cell_type": "code",
   "execution_count": null,
   "metadata": {
    "run_control": {
     "marked": true
    }
   },
   "outputs": [],
   "source": [
    "# TEST = True\n",
    "TEST = False\n",
    "\n",
    "SEND = True\n",
    "# SEND = False"
   ]
  },
  {
   "cell_type": "code",
   "execution_count": null,
   "metadata": {
    "run_control": {
     "marked": true
    }
   },
   "outputs": [],
   "source": [
    "# Dynamically sets location so do not have to manually toggle between dropbox and documents\n",
    "import os\n",
    "path = \"/\".join([a for a in os.path.abspath(\"\").split('/') if a not in ['Notebooks', 'personal']])\n",
    "%cd $path\n",
    "\n",
    "from CanvasHacks import environment\n",
    "\n",
    "# Widgets\n",
    "# from CanvasHacks.Widgets.SkaaControls import multiple_unit_control\n",
    "# from CanvasHacks.Widgets.LiveSelection import make_test_selector\n",
    "# from CanvasHacks.Widgets.AssignmentSelection import make_unit_chooser, make_selection_button\n",
    "\n",
    "# Repos\n",
    "# from CanvasHacks.Repositories.overview import SkaaOverviewRepository\n",
    "\n",
    "# Data store\n",
    "# Only used as a convenient way to load relevant repositories \n",
    "from CanvasHacks.Displays.dashboard import ControlStore\n",
    "\n",
    "from CanvasHacks.StudentNaggers.skaa_review import SkaaReviewNagger"
   ]
  },
  {
   "cell_type": "code",
   "execution_count": null,
   "metadata": {},
   "outputs": [],
   "source": []
  },
  {
   "cell_type": "markdown",
   "metadata": {},
   "source": [
    "# Late reviews"
   ]
  },
  {
   "cell_type": "markdown",
   "metadata": {},
   "source": [
    "## Send for multiple units\n",
    "\n",
    "2024-05-02 This seems to work. Though worried about unit 6."
   ]
  },
  {
   "cell_type": "code",
   "execution_count": null,
   "metadata": {},
   "outputs": [],
   "source": [
    "def run_review_nagger_on_units(unit_numbers):\n",
    "    \"\"\"Sends reminder message to students who have not yet done the \n",
    "    assigned review for each of the provided units\n",
    "    :unit_numbers List of integers\n",
    "    \"\"\"\n",
    "    control_store = ControlStore()\n",
    "    for i in unit_numbers:\n",
    "        control_store.load_unit(i)\n",
    "        repo = control_store.skaa_repos[i]\n",
    "        nagger = SkaaReviewNagger(repo, is_test=TEST, send=SEND)\n",
    "        print(f\"Nagging about late reviews for unit {i}. \\nTEST is {TEST}. \\nSEND is {SEND}\")\n",
    "        nagger.run()"
   ]
  },
  {
   "cell_type": "code",
   "execution_count": null,
   "metadata": {},
   "outputs": [],
   "source": [
    "units = [1,2,3, 4, 5]\n",
    "# units = [i for i in range(1,7)]"
   ]
  },
  {
   "cell_type": "code",
   "execution_count": null,
   "metadata": {
    "deletable": false,
    "editable": false,
    "run_control": {
     "frozen": true,
     "marked": false
    }
   },
   "outputs": [],
   "source": [
    "run_review_nagger_on_units(units)"
   ]
  },
  {
   "cell_type": "code",
   "execution_count": null,
   "metadata": {},
   "outputs": [],
   "source": []
  },
  {
   "cell_type": "code",
   "execution_count": null,
   "metadata": {},
   "outputs": [],
   "source": []
  },
  {
   "cell_type": "markdown",
   "metadata": {
    "run_control": {
     "marked": false
    }
   },
   "source": [
    "## Send for single unit\n",
    "\n",
    "2023-12-12 There are 2 errors. It is sending to students who have already done the assignment. \n",
    "\n",
    "Seems to be concentrated on unit 6\n",
    "\n",
    "It is also raising the following exception\n",
    "`\n",
    "    ---------------------------------------------------------------------------\n",
    "AttributeError                            Traceback (most recent call last)\n",
    "Cell In [27], line 2\n",
    "      1 # Actually runs\n",
    "----> 2 nagger.run()\n",
    "\n",
    "File ~/Dropbox/CanvasHacks/CanvasHacks/StudentNaggers/skaa_review.py:71, in SkaaReviewNagger.run(self)\n",
    "     68 print( \"Going to nag {} students to turn in SKAA review\".format( len( self.recipients ) ) )\n",
    "     70 for cid, name in self.recipients:\n",
    "---> 71     self.messenger.send_message_to_student( cid, name )\n",
    "     73 log_nag_messages(activity=self.activity, list_of_sent_messages=self.messenger.sent, is_dry_run=self.is_test)\n",
    "\n",
    "File ~/Dropbox/CanvasHacks/CanvasHacks/Messaging/nagging.py:138, in ReviewNonSubmittersMessaging.send_message_to_student(self, student_id, first_name)\n",
    "    137 def send_message_to_student( self, student_id, first_name ):\n",
    "--> 138     body = self.prepare_message( first_name, student_id )\n",
    "    140     if self.send:\n",
    "    141         msg = self.messenger.send( student_id=student_id, subject=self.subject, body=body )\n",
    "\n",
    "File ~/Dropbox/CanvasHacks/CanvasHacks/Messaging/nagging.py:120, in ReviewNonSubmittersMessaging.prepare_message(self, student_name, student_id)\n",
    "    115 def prepare_message( self, student_name, student_id ):\n",
    "    116     data = {\n",
    "    117         'name': student_name,\n",
    "    118         'assignment_name': self.activity.name,\n",
    "    119         'original_due_date': self.activity.string_due_date,\n",
    "--> 120         'invite_sent_date' : self.get_review_invitation_date( student_id )\n",
    "    121     }\n",
    "    123     return REVIEW_NON_SUBMITTER_TEMPLATE.format( **data )\n",
    "\n",
    "File ~/Dropbox/CanvasHacks/CanvasHacks/Messaging/nagging.py:134, in ReviewNonSubmittersMessaging.get_review_invitation_date(self, student_id)\n",
    "    132 # todo error handling needs to be added here so just returns empty string\n",
    "    133 invite = self.invite_status_repo.get(student_id)\n",
    "--> 134 return self.make_date_for_message(invite.sent_at)\n",
    "\n",
    "AttributeError: 'NoneType' object has no attribute 'sent_at'`"
   ]
  },
  {
   "cell_type": "code",
   "execution_count": null,
   "metadata": {
    "run_control": {
     "marked": true
    }
   },
   "outputs": [],
   "source": [
    "# make_test_selector()\n",
    "make_unit_chooser(num_units=8)"
   ]
  },
  {
   "cell_type": "code",
   "execution_count": null,
   "metadata": {},
   "outputs": [],
   "source": [
    "repo = control_store.skaa_repos[5]\n",
    "\n",
    "# repo = control_store.skaa_repos[environment.CONFIG.unit.unit_number]\n",
    "nagger = SkaaReviewNagger(repo, is_test=TEST, send=SEND)\n",
    "print(f\"Nagging about late reviews for unit {environment.CONFIG.unit.unit_number}. \\nTEST is {TEST}. \\nSEND is {SEND}\")\n"
   ]
  },
  {
   "cell_type": "code",
   "execution_count": null,
   "metadata": {
    "deletable": false,
    "editable": false,
    "run_control": {
     "frozen": true
    }
   },
   "outputs": [],
   "source": [
    "# Actually runs\n",
    "nagger.run()"
   ]
  },
  {
   "cell_type": "code",
   "execution_count": null,
   "metadata": {},
   "outputs": [],
   "source": []
  },
  {
   "cell_type": "code",
   "execution_count": null,
   "metadata": {},
   "outputs": [],
   "source": []
  },
  {
   "cell_type": "code",
   "execution_count": null,
   "metadata": {},
   "outputs": [],
   "source": []
  },
  {
   "cell_type": "markdown",
   "metadata": {},
   "source": [
    "# Late essay assignments\n",
    "\n",
    "Fall 2023: Accidentally sent reminder to at least one student who had turned in the previous week."
   ]
  },
  {
   "cell_type": "code",
   "execution_count": null,
   "metadata": {
    "run_control": {
     "marked": true
    }
   },
   "outputs": [],
   "source": [
    "from CanvasHacks.StudentNaggers.essay import EssayNagger\n",
    "\n",
    "def run_essay_nagger_on_units(unit_numbers, test=TEST, send=SEND):\n",
    "    \"\"\"Sends reminder message to students who have not yet done the \n",
    "    assigned essay for each of the provided units\n",
    "    :unit_numbers List of integers\n",
    "    \"\"\"\n",
    "    # not using its log display features, just a convenient way to load what's needed. \n",
    "    control_store = ControlStore()\n",
    "    for i in unit_numbers:\n",
    "        control_store.load_unit(i)\n",
    "        repo = control_store.skaa_repos[i]\n",
    "        nagger = EssayNagger(repo, is_test=test, send=send)\n",
    "        print(f\"Nagging about late reviews for unit {i}. \\nTEST is {test}. \\nSEND is {send}\")\n",
    "        nagger.run()"
   ]
  },
  {
   "cell_type": "code",
   "execution_count": null,
   "metadata": {
    "deletable": false,
    "editable": false,
    "run_control": {
     "frozen": true
    }
   },
   "outputs": [],
   "source": [
    "# units = [1]\n",
    "units = [i for i in range(1,5)]\n",
    "run_essay_nagger_on_units(units)"
   ]
  },
  {
   "cell_type": "code",
   "execution_count": null,
   "metadata": {},
   "outputs": [],
   "source": []
  },
  {
   "cell_type": "code",
   "execution_count": null,
   "metadata": {},
   "outputs": [],
   "source": []
  },
  {
   "cell_type": "code",
   "execution_count": null,
   "metadata": {},
   "outputs": [],
   "source": []
  },
  {
   "cell_type": "code",
   "execution_count": null,
   "metadata": {},
   "outputs": [],
   "source": []
  },
  {
   "cell_type": "code",
   "execution_count": null,
   "metadata": {},
   "outputs": [],
   "source": []
  },
  {
   "cell_type": "code",
   "execution_count": null,
   "metadata": {},
   "outputs": [],
   "source": []
  },
  {
   "cell_type": "code",
   "execution_count": null,
   "metadata": {},
   "outputs": [],
   "source": []
  },
  {
   "cell_type": "code",
   "execution_count": null,
   "metadata": {},
   "outputs": [],
   "source": []
  },
  {
   "cell_type": "markdown",
   "metadata": {},
   "source": [
    "# Consolidated controls (dev)"
   ]
  },
  {
   "cell_type": "code",
   "execution_count": null,
   "metadata": {},
   "outputs": [],
   "source": [
    "from CanvasHacks.Widgets.NagControls import nag_button_area\n",
    "\n",
    "store = ControlStore()\n",
    "nag_button_area(store)"
   ]
  },
  {
   "cell_type": "code",
   "execution_count": null,
   "metadata": {},
   "outputs": [],
   "source": []
  },
  {
   "cell_type": "code",
   "execution_count": null,
   "metadata": {},
   "outputs": [],
   "source": []
  },
  {
   "cell_type": "code",
   "execution_count": null,
   "metadata": {},
   "outputs": [],
   "source": []
  }
 ],
 "metadata": {
  "kernelspec": {
   "display_name": "canv-env",
   "language": "python",
   "name": "canv-env"
  },
  "language_info": {
   "codemirror_mode": {
    "name": "ipython",
    "version": 3
   },
   "file_extension": ".py",
   "mimetype": "text/x-python",
   "name": "python",
   "nbconvert_exporter": "python",
   "pygments_lexer": "ipython3",
   "version": "3.10.14"
  },
  "toc": {
   "base_numbering": 1,
   "nav_menu": {},
   "number_sections": true,
   "sideBar": true,
   "skip_h1_title": false,
   "title_cell": "Table of Contents",
   "title_sidebar": "Contents",
   "toc_cell": false,
   "toc_position": {},
   "toc_section_display": true,
   "toc_window_display": false
  },
  "varInspector": {
   "cols": {
    "lenName": 16,
    "lenType": 16,
    "lenVar": 40
   },
   "kernels_config": {
    "python": {
     "delete_cmd_postfix": "",
     "delete_cmd_prefix": "del ",
     "library": "var_list.py",
     "varRefreshCmd": "print(var_dic_list())"
    },
    "r": {
     "delete_cmd_postfix": ") ",
     "delete_cmd_prefix": "rm(",
     "library": "var_list.r",
     "varRefreshCmd": "cat(var_dic_list()) "
    }
   },
   "types_to_exclude": [
    "module",
    "function",
    "builtin_function_or_method",
    "instance",
    "_Feature"
   ],
   "window_display": false
  }
 },
 "nbformat": 4,
 "nbformat_minor": 4
}
