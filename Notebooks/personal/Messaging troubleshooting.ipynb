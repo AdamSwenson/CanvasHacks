{
 "cells": [
  {
   "cell_type": "code",
   "execution_count": null,
   "metadata": {
    "run_control": {
     "marked": true
    }
   },
   "outputs": [],
   "source": [
    "%cd ~/Dropbox/CanvasHacks\n",
    "\n",
    "import pandas as pd\n",
    "pd.options.display.max_rows = 999\n",
    "import os\n",
    "\n",
    "#Plotting \n",
    "%matplotlib inline\n",
    "from matplotlib import pyplot as plt\n",
    "import seaborn as sns\n",
    "sns.set(style=\"whitegrid\")\n",
    "\n",
    "sns.set_palette(sns.color_palette('plasma'))\n",
    "\n",
    "\n",
    "from CanvasHacks import environment\n",
    "from CanvasHacks.Configuration import InteractiveConfiguration\n",
    "# from CanvasHacks.PeerReviewed.Definitions import TopicalAssignment, ContentAssignment\n",
    "from CanvasHacks.Models.QuizModels import QuizData\n",
    "\n",
    "# Repos\n",
    "from CanvasHacks.Repositories.DataManagement import DataStore\n",
    "from CanvasHacks.Repositories.factories import WorkRepositoryFactory, WorkRepositoryLoaderFactory\n",
    "from CanvasHacks.Repositories.quizzes import QuizRepository, ReviewRepository\n",
    "from CanvasHacks.Repositories.codes import AccessCodeRepo\n",
    "from CanvasHacks.Repositories.reviewer_associations import assign_reviewers, AssociationRepository\n",
    "from CanvasHacks.Repositories.students import StudentRepository\n",
    "from CanvasHacks.Repositories.submissions import SubmissionRepository, QuizSubmissionRepository\n",
    "# from CanvasHacks.Repositories.quizzes import process_work, load_student_work, remove_non_final_attempts, make_drop_list, save_json, drop_columns_from_frame\n",
    "\n",
    "\n",
    "# Filesystem\n",
    "from CanvasHacks.Files.FileTools import makeDataFileIterator, create_folder\n",
    "from CanvasHacks.Files.QuizReportFileTools import load_new\n",
    "# from CanvasHacks.QuizReportFileTools import  make_quiz_repo, load_activity_data_from_files\n",
    "\n",
    "# Widgets\n",
    "from CanvasHacks.Widgets.AssignmentSelection import make_assignment_chooser, view_selected_assignments, view_ungraded_assignments\n",
    "from CanvasHacks.Widgets.LiveSelection import make_test_selector\n",
    "from CanvasHacks.Widgets.AssignmentSelection import make_unit_chooser, make_selection_button\n",
    "from CanvasHacks.Widgets.ConsolidatedTextOutput import make_assignment_header, make_consolidated_text_fields\n",
    "from CanvasHacks.Widgets.InputFields import make_course_ids_input, make_canvas_token_input, make_canvas_url_input, make_general_reset_button\n"
   ]
  },
  {
   "cell_type": "code",
   "execution_count": null,
   "metadata": {},
   "outputs": [],
   "source": [
    "%cd ~/Dropbox/CanvasHacks\n",
    "from CanvasHacks import environment\n"
   ]
  },
  {
   "cell_type": "code",
   "execution_count": null,
   "metadata": {},
   "outputs": [],
   "source": [
    "environment.EMAIL_LIST_FILE"
   ]
  },
  {
   "cell_type": "code",
   "execution_count": null,
   "metadata": {
    "run_control": {
     "marked": true
    }
   },
   "outputs": [],
   "source": [
    "subject = \"test message which sho\"\n",
    "# body = \"This is a test\"\n",
    "body = \"\"\"\n",
    "Hi  Ariana,\n",
    "    \n",
    "    Here is another student's assignment for you to review:\n",
    "    =======================\n",
    "    \n",
    "    \n",
    "            ------\n",
    "    Prompt: body\n",
    "\n",
    "    Their response:\n",
    "    The tragedy of the commons is a concept in which decision-makers in any given scenario find themselves in a rational trap. It is a rational trap because people get caught in between the costs and the benefits of a dilemma. The scenario always results in the second-worst possible outcome especially when the decision-makers are being rational. If the two choices are either to cheat or to follow the rules, it is in your favor to always cheat despite it resulting in disaster for everyone. When you find yourself in the tragedy of the commons, you always lose. I made a chart to show you why it is logical to always cheat.\n",
    "\n",
    "\n",
    "\n",
    "\n",
    "FUTURE 1\n",
    "\n",
    "\n",
    "FUTURE 2\n",
    "\n",
    "\n",
    "\n",
    "\n",
    "# of fish caught is LESS than Z = Freedom\n",
    "\n",
    "\n",
    "# of fish caught is MORE than Z = disaster\n",
    "\n",
    "\n",
    "\n",
    "\n",
    "A) No extra fish = freedom\n",
    "\n",
    "Because no one caught an extra fish, there is no extra profit.\n",
    "\n",
    "Profit = $0\n",
    "\n",
    "\n",
    "\n",
    "\n",
    "C) No extra fish = disaster\n",
    "\n",
    "You did not catch an extra fish, so there is no extra profit for you\n",
    "\n",
    "Profit = $0\n",
    "\n",
    "Someone else caught an extra fish.\n",
    "Loss = $1,000,000\n",
    "\n",
    "\n",
    "\n",
    "\n",
    "\n",
    "B) Caught extra fish = freedom\n",
    "\n",
    "You caught an extra fish. Because there is no disaster, there is a profit.\n",
    "\n",
    "Profit = $100\n",
    "\n",
    "\n",
    "D) Caught extra fish = disaster\n",
    "\n",
    "You caught an extra fish which means you earned extra profit\n",
    "\n",
    "Profit = $100\n",
    "\n",
    "Extra fish equals disaster.\n",
    "Loss = 999,900\n",
    "\n",
    "\n",
    "\n",
    "\n",
    "\n",
    "\n",
    "In the example above, you either have the option of not catching an extra fish or catching an extra fish. In the Future 1 example, the fish quota is not surpassed, and the result is less financial pain for the fishing village. In the Future 2 example, the fish quota is surpassed, and each fisherman suffers from a $1,000,000 loss. Let’s take a closer look at Future 1. In scenario A, no one catches an extra fish, so no one makes an extra profit. However, because you have the option of catching an extra fish (scenario B) and not having it end in total disaster, the rational decision is to always catch the extra fish. This makes sense because you could earn an extra $100 profit without it resulting in total disaster.\n",
    "Now we will exam Future 2. In scenario C, the person who catches the extra fish makes that decision based on the logic applied in scenario B. He/she can catch the extra fish because they can earn an additional $100. This impacts you the most (the person who did not catch the extra fish) because you lose $1,000,000. In scenario D, the second-worst possible outcome, if you catch the extra fish and total disaster is imminent anyway, you still suffer a substantial loss, but it is not the worst-possible outcome.\n",
    "Whatever example you are looking at, whether it be Future 1 or Future 2, the best possible outcome is for you to always catch the extra fish despite that logic leading to a lose-lose situation. Therefore, the tragedy of the commons is a rational trap. Each scenario influences the decision-maker to go against what is good for the group and decide to protect themselves instead. A $100 profit is better than no profit. A $999,900 loss is better than a $1,000,000 loss. Each example clearly states that cheating is the only rational decision.\n",
    "How do we avoid getting trapped in between the costs and the benefits of a situation? To avoid this trap, the payoff structure needs to be changed. An endless number of potential scenarios can arise when trying to change the payoff structure, but I am going to keep things simple. The best solution, in my own humble opinion, is to make the payoff structure more beneficial for everyone to not catch the extra fish. What if there was a $1,000 bonus for staying within the fish-catching limit? The payoff structure would look entirely different. In scenario A, there while there would still be an individual profit of $100 for catching the additional fish, the payoff structure would be changed, and you would be rewarded for not going overboard. Because let’s remember, catching additional fish means that everyone, including yourself, faces a $1,000,000 punishment.\n",
    "If this were the case, the $1,000 bonus eliminates the need to catch additional fish. If you were still feeling greedy, and you wanted to seek the $100 profit for each additional fish caught, you still have that option. But the inevitable $1,000,000 loss makes the $100 profit per fish caught a foolish decision. You would have to catch 10,000 additional fish just to offset the $1,000,000 loss! That sounds incredibly hard. The cost-benefit relationship has been changed and there’s substantial incentive to follow the rules.\n",
    "On the contrary, what if there was an additional monetary punishment for each fisherman who exceed their total? Another way to escape the tragedy of the commons is to impose additional costs to catching extra fish. Let’s assume that there is no additional bonus for staying within the fish-catching limit. If each fisherman caught extra fish, every fisherman would still lose $1,000,000 as originally stated above in scenario C. But what if you lost $1,000,000 per extra fish caught? Or what if the $1,000,000 loss only applied to the fisherman who caught the extra fish? Even though the cost-benefit relationship is wildly disproportionate, the incentive to stay within the guidelines increases. Would you want to be known as the guy/girl who can catch the most fish even though you face harsher financial punishments? In this scenario, catching extra fish never makes sense. In both proposed scenarios, a win-win/win-lose outcome is now an option.\n",
    "Lastly, social shame is a powerful example of how to change to payoff structure. If you are a fisherman, and you catch extra fish, it would be appropriate to kick you out of the fishing village. Your individual costs would severely outweigh your individual benefits, and it would make no sense to keep you inside of the village. I hope that you, the reader, now have a better understanding of the tragedy of the commons. I hope that I’ve describe why it is always rational to always cheat in the tragedy of the commons. Most importantly, it is imperative that you change the payoff structure when you find yourself inside these lose-lose, rational traps.\n",
    "            ------\n",
    "    \n",
    "    \n",
    "    =======================\n",
    "    \n",
    "    \n",
    "     Please make sure you read the instructions in Unit 1: Peer review before getting started.\n",
    "     \n",
    "     To complete your review, open the quiz named \n",
    "             Unit 1: Peer review \n",
    "             https://canvas.csun.edu/courses/95570/assignments/948046\n",
    "    Here's the access code: mmmmmm-tacos\n",
    "    \n",
    "    As always, canvas will lie to you about time limits by displaying an ominous, but meaningless in this course, 'Time Elapsed' timer. There is no time-limit other than you should try to submit your review before 11.59PM on 2021-02-14. \n",
    "    \n",
    "    You may open and look at the peer review assignment as many times as you like.\n",
    "    \n",
    "    Please remember that the person you are reviewing is not the person reviewing you.\n",
    "        \n",
    "    Enjoy,\n",
    "    /a\"\"\""
   ]
  },
  {
   "cell_type": "markdown",
   "metadata": {},
   "source": [
    "# Canvas messaging"
   ]
  },
  {
   "cell_type": "code",
   "execution_count": null,
   "metadata": {},
   "outputs": [],
   "source": [
    "from CanvasHacks.Messaging.SendTools import ConversationMessageSender"
   ]
  },
  {
   "cell_type": "code",
   "execution_count": null,
   "metadata": {},
   "outputs": [],
   "source": [
    "test_student_id = 169912\n",
    "# test_student_id = 988210\n",
    "cms = ConversationMessageSender()"
   ]
  },
  {
   "cell_type": "code",
   "execution_count": null,
   "metadata": {},
   "outputs": [],
   "source": [
    "r = cms.send(test_student_id, subject, body)"
   ]
  },
  {
   "cell_type": "code",
   "execution_count": null,
   "metadata": {},
   "outputs": [],
   "source": [
    "cms.errors"
   ]
  },
  {
   "cell_type": "code",
   "execution_count": null,
   "metadata": {},
   "outputs": [],
   "source": [
    "r"
   ]
  },
  {
   "cell_type": "code",
   "execution_count": null,
   "metadata": {},
   "outputs": [],
   "source": [
    "emails.EMAIL_LIST_FILE"
   ]
  },
  {
   "cell_type": "code",
   "execution_count": null,
   "metadata": {},
   "outputs": [],
   "source": []
  },
  {
   "cell_type": "code",
   "execution_count": null,
   "metadata": {},
   "outputs": [],
   "source": [
    "from CanvasHacks.Api.RequestTools import send_get_request"
   ]
  },
  {
   "cell_type": "code",
   "execution_count": null,
   "metadata": {},
   "outputs": [],
   "source": [
    "send_get_request('https://canvas.csun.edu/api/v1/conversations')"
   ]
  },
  {
   "cell_type": "code",
   "execution_count": null,
   "metadata": {},
   "outputs": [],
   "source": [
    "environment"
   ]
  },
  {
   "cell_type": "code",
   "execution_count": null,
   "metadata": {},
   "outputs": [],
   "source": [
    "import os\n",
    "\n",
    "ROOT = os.getenv( \"HOME\" )\n",
    "\n",
    "emails_filename = 'Phil305F24emails.xlsx'\n",
    "emails_path = f\"{ROOT}/Box Sync/TEACHING/Phil 305 Business ethics/Phil305 F24/{emails_filename}\"\n",
    "\n",
    "emails = pd.read_excel(emails_path).set_index('ID')\n"
   ]
  },
  {
   "cell_type": "code",
   "execution_count": null,
   "metadata": {},
   "outputs": [],
   "source": [
    "def lookup_email( csun_id, emails_frame=emails):\n",
    "    return emails.loc[csun_id].email"
   ]
  },
  {
   "cell_type": "code",
   "execution_count": null,
   "metadata": {},
   "outputs": [],
   "source": [
    "lookup_email(107361265)"
   ]
  },
  {
   "cell_type": "markdown",
   "metadata": {},
   "source": [
    "# Email version"
   ]
  },
  {
   "cell_type": "code",
   "execution_count": null,
   "metadata": {},
   "outputs": [],
   "source": [
    "# email sender"
   ]
  },
  {
   "cell_type": "code",
   "execution_count": null,
   "metadata": {},
   "outputs": [],
   "source": [
    "import os\n",
    "adLibDir = '%s/Dropbox/AdLib/' % os.getenv(\"HOME\")\n",
    "%cd $adLibDir\n"
   ]
  },
  {
   "cell_type": "code",
   "execution_count": null,
   "metadata": {},
   "outputs": [],
   "source": [
    "# from AdamTools.Email.EmailerBase import ExchangeEmailer"
   ]
  },
  {
   "cell_type": "code",
   "execution_count": null,
   "metadata": {
    "deletable": false,
    "editable": false,
    "run_control": {
     "frozen": true
    }
   },
   "outputs": [],
   "source": [
    "password = ''\n",
    "\n",
    "destination = 'nicomachus@gmail.com'\n",
    "subject = 'Assignment thing'\n",
    "message_content = 'test content'\n",
    "\n",
    "mailer = ExchangeEmailer(password)\n",
    "mailer.sendMail( destination, message_content, subject, print_status=True ):\n"
   ]
  },
  {
   "cell_type": "code",
   "execution_count": null,
   "metadata": {},
   "outputs": [],
   "source": []
  },
  {
   "cell_type": "code",
   "execution_count": null,
   "metadata": {},
   "outputs": [],
   "source": [
    "from CanvasHacks.Messaging.SendTools import ExchangeMessageSender"
   ]
  },
  {
   "cell_type": "code",
   "execution_count": null,
   "metadata": {},
   "outputs": [],
   "source": [
    "sender = ExchangeMessageSender\n",
    "student_id = 99\n",
    "subject = 'subject of message 1005'\n",
    "# message = 'body of message'"
   ]
  },
  {
   "cell_type": "code",
   "execution_count": null,
   "metadata": {},
   "outputs": [],
   "source": [
    "ems= ExchangeMessageSender(text_subtype='plain')"
   ]
  },
  {
   "cell_type": "code",
   "execution_count": null,
   "metadata": {},
   "outputs": [],
   "source": [
    "ems.send(student_id, subject, body)"
   ]
  },
  {
   "cell_type": "code",
   "execution_count": null,
   "metadata": {},
   "outputs": [],
   "source": []
  },
  {
   "cell_type": "markdown",
   "metadata": {},
   "source": [
    "Problem\n",
    "\n",
    "    Sent twice to students though was a duplicate of the same thing"
   ]
  },
  {
   "cell_type": "code",
   "execution_count": null,
   "metadata": {},
   "outputs": [],
   "source": [
    "from CanvasHacks.Displays.dashboard import ControlStore\n",
    "from CanvasHacks.executables.run_skaa_on_single_unit import run_all_steps\n",
    "control_store = ControlStore()\n",
    "environment.CONFIG.set_unit(2)\n",
    "environment.CONFIG.set_test()\n",
    "environment.CONFIG.email_password = '05e07155d6e80a'"
   ]
  },
  {
   "cell_type": "code",
   "execution_count": null,
   "metadata": {},
   "outputs": [],
   "source": [
    "# run_all_steps()\n",
    "# run_all_steps(SEND=False)"
   ]
  },
  {
   "cell_type": "code",
   "execution_count": null,
   "metadata": {},
   "outputs": [],
   "source": [
    "environment.CONFIG.__dict__"
   ]
  },
  {
   "cell_type": "code",
   "execution_count": null,
   "metadata": {},
   "outputs": [],
   "source": [
    "environment.CONFIG.set_test()\n",
    "environment.__dict__"
   ]
  },
  {
   "cell_type": "code",
   "execution_count": null,
   "metadata": {},
   "outputs": [],
   "source": [
    "b = [{372003}, {362145}, {273607}, {320251}, {338565}, {295602}, {390705}, {379805}, {397736}, {407666}, {363923}, {229243}, {349767}, {223285}, {338847}, {237364}, {409325}, {308997}, {333406}, {344641}, {230241}, {309367}, {387833}, {295516}, {397078}, {389491}, {222614}, {242171}, {319968}, {362289}, {372657}, {363354}, {392981}, {405438}, {273268}, {290706}, {143976}, {370323}, {301261}, {380472}, {398934}, {406256}, {406364}, {403309}, {65845}, {387945}, {187011}, {398558}, {285775}, {343685}, {244496}, {196529}, {93091}, {357309}, {405413}, {403964}, {309365}, {233425}, {310661}, {229737}, {329891}, {175498}, {276874}, {290522}, {363140}, {355655}, {272966}, {291927}, {406402}, {321012}, {185819}, {343174}, {350257}]"
   ]
  },
  {
   "cell_type": "code",
   "execution_count": null,
   "metadata": {},
   "outputs": [],
   "source": [
    "a = [list(a)[0] for a in b]\n",
    "a.sort()\n",
    "a"
   ]
  },
  {
   "cell_type": "code",
   "execution_count": null,
   "metadata": {},
   "outputs": [],
   "source": []
  },
  {
   "cell_type": "code",
   "execution_count": null,
   "metadata": {},
   "outputs": [],
   "source": []
  }
 ],
 "metadata": {
  "kernelspec": {
   "display_name": "canv-env",
   "language": "python",
   "name": "canv-env"
  },
  "language_info": {
   "codemirror_mode": {
    "name": "ipython",
    "version": 3
   },
   "file_extension": ".py",
   "mimetype": "text/x-python",
   "name": "python",
   "nbconvert_exporter": "python",
   "pygments_lexer": "ipython3",
   "version": "3.10.14"
  },
  "toc": {
   "base_numbering": 1,
   "nav_menu": {},
   "number_sections": true,
   "sideBar": true,
   "skip_h1_title": false,
   "title_cell": "Table of Contents",
   "title_sidebar": "Contents",
   "toc_cell": false,
   "toc_position": {},
   "toc_section_display": true,
   "toc_window_display": false
  },
  "varInspector": {
   "cols": {
    "lenName": 16,
    "lenType": 16,
    "lenVar": 40
   },
   "kernels_config": {
    "python": {
     "delete_cmd_postfix": "",
     "delete_cmd_prefix": "del ",
     "library": "var_list.py",
     "varRefreshCmd": "print(var_dic_list())"
    },
    "r": {
     "delete_cmd_postfix": ") ",
     "delete_cmd_prefix": "rm(",
     "library": "var_list.r",
     "varRefreshCmd": "cat(var_dic_list()) "
    }
   },
   "types_to_exclude": [
    "module",
    "function",
    "builtin_function_or_method",
    "instance",
    "_Feature"
   ],
   "window_display": false
  }
 },
 "nbformat": 4,
 "nbformat_minor": 2
}
