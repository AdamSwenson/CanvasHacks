{
 "cells": [
  {
   "cell_type": "markdown",
   "metadata": {},
   "source": [
    "__for working on logging and status display tools__"
   ]
  },
  {
   "cell_type": "code",
   "execution_count": null,
   "metadata": {
    "run_control": {
     "marked": true
    }
   },
   "outputs": [],
   "source": [
    "%cd ~/Dropbox/CanvasHacks\n",
    "\n",
    "#Plotting \n",
    "%matplotlib inline\n",
    "from matplotlib import pyplot as plt\n",
    "import seaborn as sns\n",
    "sns.set(style=\"whitegrid\")\n",
    "from IPython.display import set_matplotlib_formats\n",
    "set_matplotlib_formats('svg', 'pdf')\n",
    "\n",
    "import pandas as pd\n",
    "pd.options.display.max_rows = 999\n",
    "\n",
    "\n",
    "from CanvasHacks import environment\n",
    "\n",
    "\n",
    "# This aren't used in the non-saving version\n",
    "from CanvasHacks.FileTools import makeDataFileIterator\n",
    "\n",
    "# Import the Canvas class\n",
    "from canvasapi import Canvas\n",
    "from canvasapi.quiz import QuizReport, Quiz\n",
    "from canvasapi.requester import Requester\n",
    "from canvasapi.conversation import Conversation\n",
    "\n",
    "# Initialize a Canvas api objects\n",
    "canvas = Canvas(environment.CONFIG.canvas_url_base, environment.CONFIG.canvas_token)\n",
    "\n",
    "import inspect\n",
    "def look_inside(obj):\n",
    "    print(inspect.getmembers(obj, lambda a:not(inspect.isroutine(a))))\n",
    "\n",
    "from CanvasHacks.PeerReviewed.Definitions import *\n",
    "\n",
    "from CanvasHacks.Repositories.status import InvitationStatusRepository, FeedbackStatusRepository\n",
    "from CanvasHacks.Repositories.quizzes import QuizRepository\n",
    "\n",
    "from CanvasHacks.Widgets.LiveSelection import make_test_selector\n",
    "from CanvasHacks.Widgets.AssignmentSelection import make_unit_chooser\n",
    "\n",
    "from CanvasHacks.SkaaSteps.SendInitialWorkToReviewer import SendInitialWorkToReviewer\n",
    "\n",
    "from CanvasHacks.Models.review_association import ReviewAssociation\n",
    "from CanvasHacks.Models.status_record import ComplexStatusRecord, FeedbackReceivedRecord, InvitationReceivedRecord,\\\n",
    "    StatusRecord\n",
    "from CanvasHacks.Models.student import StoredStudent\n",
    "\n",
    "from CanvasHacks.Repositories.students import StudentRepository\n",
    "from CanvasHacks.Repositories.reviewer_associations import AssociationRepository\n",
    "\n",
    "from faker import Faker\n",
    "fake = Faker()\n",
    "from tests.factories.PeerReviewedFactories import discussion_entry_factory"
   ]
  },
  {
   "cell_type": "code",
   "execution_count": null,
   "metadata": {},
   "outputs": [],
   "source": [
    "import CanvasHacks.testglobals\n",
    "# Set on the global variable (which is only used in certain tests)\n",
    "# CanvasHacks.testglobals.TEST\n",
    "CanvasHacks.testglobals.TEST_WITH_FILE_DB = True"
   ]
  },
  {
   "cell_type": "code",
   "execution_count": null,
   "metadata": {},
   "outputs": [],
   "source": [
    "make_test_selector()\n",
    "make_unit_chooser()"
   ]
  },
  {
   "cell_type": "markdown",
   "metadata": {},
   "source": [
    "# Dashboard"
   ]
  },
  {
   "cell_type": "code",
   "execution_count": null,
   "metadata": {},
   "outputs": [],
   "source": [
    "# just for easy db access\n",
    "SEND = False\n",
    "step = SendInitialWorkToReviewer(course=environment.CONFIG.course, unit=environment.CONFIG.unit, send=SEND)\n",
    "dao = step.dao\n",
    "unit = environment.CONFIG.unit"
   ]
  },
  {
   "cell_type": "code",
   "execution_count": null,
   "metadata": {},
   "outputs": [],
   "source": [
    "\n",
    "studentRepo = StudentRepository(environment.CONFIG.course)\n",
    "studentRepo.download()\n",
    "\n",
    "\n",
    "skaa_data = []\n",
    "discussion_data = []\n",
    "skaa_components = [c for c in unit.components if isinstance(c, SkaaReviewGroup)]\n",
    "discussion_components = [c for c in unit.components if isinstance(c, DiscussionGroup)]\n",
    "\n",
    "\n",
    "def get_data(studentRepo, components):\n",
    "    invite_fields = {Review: 'invited_to_review', MetaReview: 'invited_to_metareview', DiscussionReview: 'invited_to_discussion_review'}\n",
    "    feedback_fields = {Review: 'received_ca_feedback', MetaReview: 'received_meta_feedback', DiscussionReview: 'received_discussion_feedback'}\n",
    "\n",
    "    data = []\n",
    "    for sid, obj in studentRepo.data.items():\n",
    "        d = { \n",
    "            'student': obj.name,\n",
    "            'canvas_id': sid,\n",
    "            'csun_id': obj.sis_user_id\n",
    "        }\n",
    "        for c in components:\n",
    "            assignRepo = AssociationRepository(dao, c)\n",
    "            if len(assignRepo.get_associations()) > 0:\n",
    "                try:\n",
    "                    # get the record where the student is the reviwer\n",
    "                    a = assignRepo.get_by_reviewer(sid)\n",
    "                    # get the name of the student being assessed\n",
    "                    d['reviewing'] = studentRepo.get_student_name(a.assessee_id)\n",
    "                    # get the record where the student is the author\n",
    "                    b = assignRepo.get_by_author(sid)\n",
    "                    # get the name \n",
    "                    d['reviewed_by'] = studentRepo.get_student_name(b.assessor_id)\n",
    "                except AttributeError:\n",
    "                    pass\n",
    "\n",
    "            invite_fieldname = invite_fields.get(type(c))\n",
    "\n",
    "            if invite_fieldname is not None:\n",
    "                inv = InvitationStatusRepository(dao, c)\n",
    "                d[invite_fieldname] = pd.to_datetime(inv.received_at(sid))\n",
    "\n",
    "            # Note: can't do in similar way to invitations since invited to metareview and received ca feedback \n",
    "            # use different activities. The invitation is for the upcoming one which provides feedback\n",
    "            # on the previous one\n",
    "\n",
    "            if isinstance(c, InitialWork):\n",
    "                # we can't use the review object because feedback on the review\n",
    "                # comes from the metareview\n",
    "                fb_fieldname = 'received_feedback_on_essay'\n",
    "            \n",
    "            if isinstance(c, Review):\n",
    "                fb_fieldname = 'received_feedback_on_review'\n",
    "            \n",
    "            if isinstance(c, DiscussionForum):\n",
    "                fb_fieldname = 'received_discussion_feedback'\n",
    "#             fb_fieldname = feedback_fields.get(type(c))\n",
    "            \n",
    "            if fb_fieldname is not None:\n",
    "                fr = FeedbackStatusRepository(dao, c)\n",
    "                d[fb_fieldname] = pd.to_datetime(fr.received_at(sid))\n",
    "\n",
    "        data.append(d)\n",
    "    return data\n",
    "\n",
    "skaa_data = get_data(studentRepo, skaa_components)\n",
    "discussion_data = get_data(studentRepo, discussion_components)\n",
    "\n",
    "skaa_data = pd.DataFrame(skaa_data)\n",
    "discussion_data = pd.DataFrame(discussion_data)\n",
    "\n",
    "# Divide up who has done initial work and been assigned a reviewer\n",
    "ca = skaa_data[~skaa_data.reviewing.isnull()]\n",
    "no_ca = skaa_data[skaa_data.reviewing.isnull()]\n",
    "\n",
    "# Students whose reviewer has and has not turned in review\n",
    "reviewed = ca[~ca.received_feedback_on_essay.isnull()]\n",
    "nonreviewed = ca[ca.received_feedback_on_essay.isnull()].drop(['reviewing'], axis=1)\n",
    "\n",
    "# Metareviewer turned in\n",
    "metareviewed = ca[~ca.received_feedback_on_review.isnull()].drop(['reviewed_by'], axis=1)\n",
    "nonmetareviewed = ca[ca.received_feedback_on_review.isnull()].drop(['reviewed_by'], axis=1)\n",
    "\n",
    "\n",
    "print(\"===================== initial work =====================\")\n",
    "print(\"{} students have turned in essay and been paired up\".format(len(ca)))\n",
    "print(\"{} students haven't turned in essay\".format(len(no_ca)))\n",
    "\n",
    "print(\"===================== review =====================\")\n",
    "print(\"{} students' reviewers has turned in the review\".format(len(reviewed)))\n",
    "print(\"{} students have a reviewer who hasn't turned in the review\".format(len(nonreviewed)))\n",
    "\n",
    "print(\"===================== metareview =====================\")\n",
    "print(\"{} students' authors have turned in the metareview\".format(len(metareviewed)))\n",
    "print(\"{} students' authors haven't turned in the metareview\".format(len(nonmetareviewed)))\n"
   ]
  },
  {
   "cell_type": "code",
   "execution_count": null,
   "metadata": {},
   "outputs": [],
   "source": [
    "skaa_data\n",
    "# discussion_data"
   ]
  },
  {
   "cell_type": "code",
   "execution_count": null,
   "metadata": {},
   "outputs": [],
   "source": []
  },
  {
   "cell_type": "code",
   "execution_count": null,
   "metadata": {},
   "outputs": [],
   "source": []
  },
  {
   "cell_type": "code",
   "execution_count": null,
   "metadata": {},
   "outputs": [],
   "source": []
  },
  {
   "cell_type": "markdown",
   "metadata": {},
   "source": [
    "## Students who have been paired up"
   ]
  },
  {
   "cell_type": "code",
   "execution_count": null,
   "metadata": {},
   "outputs": [],
   "source": [
    "print(\"{} students have turned in essay and been paired up\".format(len(ca)))\n",
    "ca"
   ]
  },
  {
   "cell_type": "markdown",
   "metadata": {},
   "source": [
    "## Students who haven't turned in the Essay / content assignment\n",
    "\n"
   ]
  },
  {
   "cell_type": "code",
   "execution_count": null,
   "metadata": {},
   "outputs": [],
   "source": [
    "print(\"{} students haven't turned in essay\".format(len(no_ca)))\n",
    "no_ca"
   ]
  },
  {
   "cell_type": "markdown",
   "metadata": {},
   "source": [
    "## Students whose reviewer hasn't turned in the review"
   ]
  },
  {
   "cell_type": "code",
   "execution_count": null,
   "metadata": {},
   "outputs": [],
   "source": [
    "# reviewed = ca[~ca.received_ca_feedback.isnull()]\n",
    "print(\"{} students' reviewers has turned in the review\".format(len(reviewed)))\n",
    "# nonreviewed = ca[ca.received_ca_feedback.isnull()].drop(['reviewing'], axis=1)\n",
    "print(\"{} students have a reviewer who hasn't turned in the review\".format(len(nonreviewed)))\n",
    "nonreviewed"
   ]
  },
  {
   "cell_type": "markdown",
   "metadata": {},
   "source": [
    "## Reviewers whose author hasn't turned in metareview\n",
    "\n",
    "Here we needd to look at the reviewing field. The 'student' is the person who didn't turn in the metareview"
   ]
  },
  {
   "cell_type": "code",
   "execution_count": null,
   "metadata": {},
   "outputs": [],
   "source": [
    "# nonmetareviewed = ca[ca.received_meta_feedback.isnull()].drop(['reviewed_by'], axis=1)\n",
    "print(\"{} students' authors haven't turned in the metareview\".format(len(nonmetareviewed)))\n",
    "nonmetareviewed"
   ]
  },
  {
   "cell_type": "code",
   "execution_count": null,
   "metadata": {},
   "outputs": [],
   "source": [
    "unit.components"
   ]
  },
  {
   "cell_type": "code",
   "execution_count": null,
   "metadata": {},
   "outputs": [],
   "source": [
    "fr = FeedbackStatusRepository(dao, unit.review)\n"
   ]
  },
  {
   "cell_type": "code",
   "execution_count": null,
   "metadata": {},
   "outputs": [],
   "source": [
    "fr.previously_received[0].__dict__"
   ]
  },
  {
   "cell_type": "code",
   "execution_count": null,
   "metadata": {},
   "outputs": [],
   "source": [
    "fr.reviewers_with_authors_sent_feedback"
   ]
  },
  {
   "cell_type": "code",
   "execution_count": null,
   "metadata": {},
   "outputs": [],
   "source": [
    "fr.received_at(86937)"
   ]
  },
  {
   "cell_type": "code",
   "execution_count": null,
   "metadata": {},
   "outputs": [],
   "source": []
  },
  {
   "cell_type": "code",
   "execution_count": null,
   "metadata": {},
   "outputs": [],
   "source": []
  },
  {
   "cell_type": "code",
   "execution_count": null,
   "metadata": {},
   "outputs": [],
   "source": []
  },
  {
   "cell_type": "markdown",
   "metadata": {},
   "source": [
    "# Discussion"
   ]
  },
  {
   "cell_type": "markdown",
   "metadata": {},
   "source": [
    "## Students who haven't posted to the forum"
   ]
  },
  {
   "cell_type": "code",
   "execution_count": null,
   "metadata": {},
   "outputs": [],
   "source": [
    "posters = discussion_data[~discussion_data.reviewing.isnull()]\n",
    "nonposters = discussion_data[discussion_data.reviewing.isnull()]\n",
    "nonposters"
   ]
  },
  {
   "cell_type": "markdown",
   "metadata": {},
   "source": [
    "## Students whose reviewers didn't do the review"
   ]
  },
  {
   "cell_type": "code",
   "execution_count": null,
   "metadata": {},
   "outputs": [],
   "source": [
    "posters[posters.received_discussion_feedback.isnull()]"
   ]
  },
  {
   "cell_type": "code",
   "execution_count": null,
   "metadata": {},
   "outputs": [],
   "source": []
  },
  {
   "cell_type": "code",
   "execution_count": null,
   "metadata": {},
   "outputs": [],
   "source": []
  },
  {
   "cell_type": "markdown",
   "metadata": {},
   "source": [
    "# Nag\n",
    "\n",
    "## Nag people to turn in Essay"
   ]
  },
  {
   "cell_type": "code",
   "execution_count": null,
   "metadata": {},
   "outputs": [],
   "source": [
    "from CanvasHacks.Messaging.nagging import EssayNonSubmittersMessaging\n",
    "\n",
    "messenger = EssayNonSubmittersMessaging(unit, send=True)\n",
    "\n",
    "non_submitters = [(cid, studentRepo.get_student_first_name(cid)) for cid in no_ca.canvas_id.tolist()]\n",
    "len(non_submitters)"
   ]
  },
  {
   "cell_type": "code",
   "execution_count": null,
   "metadata": {
    "editable": false,
    "run_control": {
     "frozen": true
    }
   },
   "outputs": [],
   "source": [
    "for cid, name in non_submitters:\n",
    "    messenger.send_message_to_student(cid, name)"
   ]
  },
  {
   "cell_type": "code",
   "execution_count": null,
   "metadata": {},
   "outputs": [],
   "source": [
    "non_submitters[0]"
   ]
  },
  {
   "cell_type": "code",
   "execution_count": null,
   "metadata": {},
   "outputs": [],
   "source": []
  },
  {
   "cell_type": "code",
   "execution_count": null,
   "metadata": {},
   "outputs": [],
   "source": []
  },
  {
   "cell_type": "code",
   "execution_count": null,
   "metadata": {},
   "outputs": [],
   "source": []
  },
  {
   "cell_type": "code",
   "execution_count": null,
   "metadata": {},
   "outputs": [],
   "source": []
  },
  {
   "cell_type": "code",
   "execution_count": null,
   "metadata": {},
   "outputs": [],
   "source": []
  },
  {
   "cell_type": "code",
   "execution_count": null,
   "metadata": {},
   "outputs": [],
   "source": []
  },
  {
   "cell_type": "code",
   "execution_count": null,
   "metadata": {},
   "outputs": [],
   "source": [
    "invite_repos = {}\n",
    "feedback_repos = {}\n",
    "for c in unit.components:\n",
    "    ftuple = invite_fields.get(type(c))\n",
    "    print(c, ftuple)\n",
    "\n",
    "#     invite_repos[c.title_base] = SentInvitationStatusRepository(dao, c)\n",
    "#     feedback_repos[c.title_base] = SentFeedbackStatusRepository(dao, c)\n",
    "\n"
   ]
  },
  {
   "cell_type": "code",
   "execution_count": null,
   "metadata": {},
   "outputs": [],
   "source": []
  },
  {
   "cell_type": "code",
   "execution_count": null,
   "metadata": {},
   "outputs": [],
   "source": []
  },
  {
   "cell_type": "code",
   "execution_count": null,
   "metadata": {},
   "outputs": [],
   "source": [
    "q = \"\"\"\n",
    "SELECT s.name AS student, s.id AS canvas_id, s.csun_id,\n",
    "sring.name AS reviewing,\n",
    "sby.name AS reviewed_by\n",
    "FROM students s\n",
    "-- person they are reviewing\n",
    "INNER JOIN students sring ON rass.assessee_id = sring.id\n",
    "INNER JOIN review_associations rass ON s.id = rass.assessor_id\n",
    "-- person they are reviewed by\n",
    "INNER JOIN students sby ON revby.assessor_id = sby.id\n",
    "INNER JOIN review_associations revby ON s.id = revby.assessee_id\n",
    "WHERE rass.activity_id = 641141 \n",
    "AND revby.activity_id = 641141\n",
    "\"\"\"\n",
    "r = dao.session.execute(q)\n",
    "r = [f for f in r]\n",
    "r"
   ]
  },
  {
   "cell_type": "code",
   "execution_count": null,
   "metadata": {},
   "outputs": [],
   "source": [
    "activity = unit.discussion_forum\n",
    "all_recs = dao.session\\\n",
    "            .query( ReviewAssociation )\\\n",
    "            .join( FeedbackReceivedRecord, FeedbackReceivedRecord.student_id == ReviewAssociation.assessee_id ).all()\n",
    "#             .filter( ReviewAssociation.activity_id == activity.id )\\\n",
    "#             .filter( FeedbackReceivedRecord.activity_id == activity.id )\\\n",
    "#             .all()\n"
   ]
  },
  {
   "cell_type": "code",
   "execution_count": null,
   "metadata": {},
   "outputs": [],
   "source": [
    "columns = [\n",
    "    'student',\n",
    "    'csun_id',\n",
    "    'canvas_id',\n",
    "    # Assigned to review\n",
    "    'reviewing',\n",
    "    'invited_to_review_on',\n",
    "    # who is reviewing them\n",
    "    'being_reviewed_by',\n",
    "    'reviewer_invited_on',\n",
    "    # Feedback\n",
    "    'received_feedback_on'\n",
    "]"
   ]
  },
  {
   "cell_type": "code",
   "execution_count": null,
   "metadata": {},
   "outputs": [],
   "source": [
    "# works for getting names\n",
    "\"\"\"SELECT s.name AS student, s.id as canvas_id, s.csun_id, \n",
    "(select ss.name  from students ss \n",
    "inner join review_associations rc on ss.id = rc.assessor_id\n",
    "where rc.assessee_id = s.id)  as reviewing, \n",
    "(select revby.name from students revby \n",
    "inner join review_associations rb on revby.id = rb.assessee_id\n",
    "where rb.assessor_id = s.id)  as reviewed_by\n",
    "from students s \n",
    "inner join review_associations ra on s.id = ra.assessor_id\n",
    "inner join students ss  on ra.assessee_id = ss.id\n",
    "\n",
    "\"\"\""
   ]
  },
  {
   "cell_type": "code",
   "execution_count": null,
   "metadata": {},
   "outputs": [],
   "source": []
  },
  {
   "cell_type": "code",
   "execution_count": null,
   "metadata": {},
   "outputs": [],
   "source": []
  },
  {
   "cell_type": "code",
   "execution_count": null,
   "metadata": {},
   "outputs": [],
   "source": [
    "q = \"\"\"select ra.assessor_id as reviewer, ra.assessee_id as author, fb.sent_at\"\"\""
   ]
  },
  {
   "cell_type": "code",
   "execution_count": null,
   "metadata": {},
   "outputs": [],
   "source": [
    "\"\"\"\n",
    "SELECT ra.assessee_id AS author_id, \n",
    "ra.assessor_id AS reviewer_id, \n",
    "fb.sent_at AS received_fb_date,\n",
    "inv.sent_at AS invited_date\n",
    "FROM review_associations as ra \n",
    "LEFT JOIN feedback_received as fb\n",
    "ON ra.assessee_id = fb.student_id \n",
    "LEFT JOIN invitation_received as inv\n",
    "ON ra.assessor_id = inv.student_id\n",
    "\"\"\""
   ]
  },
  {
   "cell_type": "code",
   "execution_count": null,
   "metadata": {},
   "outputs": [],
   "source": [
    "all_recs"
   ]
  },
  {
   "cell_type": "code",
   "execution_count": null,
   "metadata": {},
   "outputs": [],
   "source": [
    "unit.discussion_forum.id"
   ]
  },
  {
   "cell_type": "code",
   "execution_count": null,
   "metadata": {},
   "outputs": [],
   "source": []
  },
  {
   "cell_type": "code",
   "execution_count": null,
   "metadata": {},
   "outputs": [],
   "source": [
    "# dao.initialize_db_file()"
   ]
  },
  {
   "cell_type": "code",
   "execution_count": null,
   "metadata": {
    "editable": false,
    "run_control": {
     "frozen": true
    }
   },
   "outputs": [],
   "source": [
    "students = []\n",
    "for d in studentRepo.data.values():\n",
    "    s = StoredStudent(**d.attributes)\n",
    "    students.append(s)\n",
    "    dao.session.add(s)\n",
    "dao.session.commit()"
   ]
  },
  {
   "cell_type": "code",
   "execution_count": null,
   "metadata": {},
   "outputs": [],
   "source": [
    "students"
   ]
  },
  {
   "cell_type": "code",
   "execution_count": null,
   "metadata": {},
   "outputs": [],
   "source": []
  },
  {
   "cell_type": "code",
   "execution_count": null,
   "metadata": {},
   "outputs": [],
   "source": []
  },
  {
   "cell_type": "code",
   "execution_count": null,
   "metadata": {},
   "outputs": [],
   "source": []
  },
  {
   "cell_type": "code",
   "execution_count": null,
   "metadata": {},
   "outputs": [],
   "source": [
    "[v for v in studentRepo.data.values()][0].__dict__"
   ]
  },
  {
   "cell_type": "code",
   "execution_count": null,
   "metadata": {},
   "outputs": [],
   "source": [
    "s = StoredStudent(short_name='t')\n",
    "# s.sis_user_id = 2"
   ]
  },
  {
   "cell_type": "code",
   "execution_count": null,
   "metadata": {},
   "outputs": [],
   "source": [
    "s.__dict__"
   ]
  },
  {
   "cell_type": "code",
   "execution_count": null,
   "metadata": {},
   "outputs": [],
   "source": []
  },
  {
   "cell_type": "code",
   "execution_count": null,
   "metadata": {},
   "outputs": [],
   "source": []
  },
  {
   "cell_type": "code",
   "execution_count": null,
   "metadata": {},
   "outputs": [],
   "source": []
  },
  {
   "cell_type": "markdown",
   "metadata": {},
   "source": [
    "# Logging"
   ]
  },
  {
   "cell_type": "code",
   "execution_count": null,
   "metadata": {
    "run_control": {
     "marked": true
    }
   },
   "outputs": [],
   "source": [
    "from CanvasHacks.Logging import *\n",
    "\n",
    "# environment.CONFIG.set_test()\n"
   ]
  },
  {
   "cell_type": "code",
   "execution_count": null,
   "metadata": {},
   "outputs": [],
   "source": [
    "StudentWorkLogger.write('taco 22')"
   ]
  },
  {
   "cell_type": "code",
   "execution_count": null,
   "metadata": {},
   "outputs": [],
   "source": [
    "\n",
    "# def log_student_work(func):\n",
    "#     # @wraps(func)\n",
    "#     def wrapper(*args, **kwargs):\n",
    "#         # handle logging\n",
    "#         StudentWorkLogger.write(\"\\n\".join(args))\n",
    "#         # call og function\n",
    "#         func(*args, **kwargs)\n",
    "\n",
    "#     return wrapper\n",
    "\n",
    "@log_student_work\n",
    "def test(content):\n",
    "    print('yay', content)"
   ]
  },
  {
   "cell_type": "code",
   "execution_count": null,
   "metadata": {},
   "outputs": [],
   "source": [
    "test('dog')"
   ]
  },
  {
   "cell_type": "code",
   "execution_count": null,
   "metadata": {},
   "outputs": [],
   "source": [
    "j =\"d\"\n",
    "j += 'i'\n",
    "j"
   ]
  },
  {
   "cell_type": "code",
   "execution_count": null,
   "metadata": {},
   "outputs": [],
   "source": [
    "class T:\n",
    "    \n",
    "    @property\n",
    "    def j(self):\n",
    "        return 'k'\n",
    "\n",
    "T.j"
   ]
  },
  {
   "cell_type": "markdown",
   "metadata": {},
   "source": [
    "# Message logging"
   ]
  },
  {
   "cell_type": "code",
   "execution_count": null,
   "metadata": {},
   "outputs": [],
   "source": [
    "MessageLogger.write('hello')"
   ]
  },
  {
   "cell_type": "code",
   "execution_count": null,
   "metadata": {},
   "outputs": [],
   "source": [
    "@log_message\n",
    "def sender(to, fromf, p):\n",
    "    print('j')\n",
    "    return 'l'"
   ]
  },
  {
   "cell_type": "code",
   "execution_count": null,
   "metadata": {},
   "outputs": [],
   "source": [
    "sender(to='f', fromf=2, p='s')"
   ]
  },
  {
   "cell_type": "code",
   "execution_count": null,
   "metadata": {},
   "outputs": [],
   "source": [
    "@log_message\n",
    "def esender(to, fromf, p):\n",
    "    raise Exception('taco')"
   ]
  },
  {
   "cell_type": "code",
   "execution_count": null,
   "metadata": {},
   "outputs": [],
   "source": [
    "esender('f', 2, 's')"
   ]
  },
  {
   "cell_type": "code",
   "execution_count": null,
   "metadata": {},
   "outputs": [],
   "source": [
    "e =Exception('r')"
   ]
  },
  {
   "cell_type": "code",
   "execution_count": null,
   "metadata": {},
   "outputs": [],
   "source": [
    "e.__str__()"
   ]
  },
  {
   "cell_type": "code",
   "execution_count": null,
   "metadata": {},
   "outputs": [],
   "source": []
  },
  {
   "cell_type": "code",
   "execution_count": null,
   "metadata": {},
   "outputs": [],
   "source": [
    "# machine readable notification logs"
   ]
  },
  {
   "cell_type": "code",
   "execution_count": null,
   "metadata": {},
   "outputs": [],
   "source": [
    "message_types = [\n",
    "    # reviewer gets initial work to review\n",
    "    'initial-work',\n",
    "    # author of original work gets feedback\n",
    "    'peer-review-feedback',\n",
    "    # reviewer gets metareview on feedback\n",
    "    'metareview-feedback'\n",
    "]"
   ]
  },
  {
   "cell_type": "markdown",
   "metadata": {},
   "source": [
    "Want to log: \n",
    "\n",
    "review assignment id \n",
    "\n",
    "    Let's me tie back to the other student\n",
    "\n",
    "receipient id\n",
    "\n",
    "    The student who was sent the message\n",
    "    \n",
    "time sent\n",
    "\n",
    "    duh\n",
    "    \n",
    "type of message\n",
    "\n",
    "    - What the content was\n",
    "    \n",
    "    \n",
    "So when I download new data I can lok up the review assignments by the assessor id from the new data, "
   ]
  },
  {
   "cell_type": "code",
   "execution_count": null,
   "metadata": {},
   "outputs": [],
   "source": []
  }
 ],
 "metadata": {
  "kernelspec": {
   "display_name": "canvashacks",
   "language": "python",
   "name": "canvashacks"
  },
  "language_info": {
   "codemirror_mode": {
    "name": "ipython",
    "version": 3
   },
   "file_extension": ".py",
   "mimetype": "text/x-python",
   "name": "python",
   "nbconvert_exporter": "python",
   "pygments_lexer": "ipython3",
   "version": "3.6.4"
  },
  "toc": {
   "base_numbering": 1,
   "colors": {
    "hover_highlight": "#DAA520",
    "navigate_num": "#000000",
    "navigate_text": "#333333",
    "running_highlight": "#FF0000",
    "selected_highlight": "#FFD700",
    "sidebar_border": "#EEEEEE",
    "wrapper_background": "#FFFFFF"
   },
   "moveMenuLeft": true,
   "nav_menu": {},
   "navigate_menu": true,
   "number_sections": true,
   "sideBar": true,
   "skip_h1_title": false,
   "threshold": 4,
   "title_cell": "Table of Contents",
   "title_sidebar": "Contents",
   "toc_cell": false,
   "toc_position": {},
   "toc_section_display": true,
   "toc_window_display": false,
   "widenNotebook": false
  }
 },
 "nbformat": 4,
 "nbformat_minor": 4
}
