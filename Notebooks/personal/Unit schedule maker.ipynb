{
 "cells": [
  {
   "cell_type": "code",
   "execution_count": null,
   "metadata": {},
   "outputs": [],
   "source": [
    "from datetime import datetime, date, timedelta"
   ]
  },
  {
   "cell_type": "markdown",
   "metadata": {},
   "source": [
    "# Make list of data objects for each day"
   ]
  },
  {
   "cell_type": "code",
   "execution_count": null,
   "metadata": {},
   "outputs": [],
   "source": []
  },
  {
   "cell_type": "code",
   "execution_count": null,
   "metadata": {},
   "outputs": [],
   "source": []
  },
  {
   "cell_type": "code",
   "execution_count": null,
   "metadata": {},
   "outputs": [],
   "source": []
  },
  {
   "cell_type": "code",
   "execution_count": null,
   "metadata": {},
   "outputs": [],
   "source": [
    "UNIT_LENGTH = 14\n",
    "\n",
    "def day_iter(start_date, num_days=UNIT_LENGTH):\n",
    "    for _ in range(0, num_days):\n",
    "        yield start_date\n",
    "        start_date = start_date + timedelta(days=1)\n",
    "\n",
    "\n",
    "def make_day_data(day):\n",
    "    return {\n",
    "        'day': day.strftime(\"%A, %d %B\"),\n",
    "    'due_items': [],\n",
    "    'opens_items': [],\n",
    "    'doing_items': [],\n",
    "    }"
   ]
  },
  {
   "cell_type": "code",
   "execution_count": null,
   "metadata": {},
   "outputs": [],
   "source": []
  },
  {
   "cell_type": "code",
   "execution_count": null,
   "metadata": {},
   "outputs": [],
   "source": [
    "di = day_iter(start_date)\n",
    "days = []\n",
    "\n",
    "try:\n",
    "    while True:\n",
    "        day = next(di)\n",
    "        days.append(make_day_data(day))\n",
    "except StopIteration:\n",
    "    pass\n",
    "\n",
    "days"
   ]
  },
  {
   "cell_type": "code",
   "execution_count": null,
   "metadata": {},
   "outputs": [],
   "source": []
  },
  {
   "cell_type": "markdown",
   "metadata": {},
   "source": [
    "# Make html"
   ]
  },
  {
   "cell_type": "code",
   "execution_count": null,
   "metadata": {},
   "outputs": [],
   "source": [
    "day_template = \"\"\"\n",
    "\n",
    "<h2>{day_of_week} ({date})</h2>\n",
    "<h3>Should be working on</h3>\n",
    "{working_block}\n",
    "\n",
    "<h3>Due by 11.59PM</h3>\n",
    "{due_block}\n",
    "\n",
    "<h3>Becomes available</h3>\n",
    "{opens_block}\n",
    "\n",
    "\"\"\""
   ]
  },
  {
   "cell_type": "code",
   "execution_count": null,
   "metadata": {},
   "outputs": [],
   "source": [
    "def list_block(items):\n",
    "    item_templ = \"<li>{item}</li>\"\n",
    "    templ = \"\"\"<ul>\n",
    "    {item_list}\n",
    "    </ul>\n",
    "    \"\"\"\n",
    "    item_list = \"\".join([item_templ.format(item=i) for i in items])\n",
    "    return templ.format(item_list=item_list)\n",
    "\n",
    "def block_maker(items):\n",
    "    if len(items) == 0:\n",
    "        return \"<p>Nothing</p>\"\n",
    "    return list_block(items)"
   ]
  },
  {
   "cell_type": "code",
   "execution_count": null,
   "metadata": {},
   "outputs": [],
   "source": [
    "list_block(['taco', 'dog'])"
   ]
  },
  {
   "cell_type": "code",
   "execution_count": null,
   "metadata": {},
   "outputs": [],
   "source": [
    "opens_block = \"\"\"\n",
    "\"\"\""
   ]
  },
  {
   "cell_type": "code",
   "execution_count": null,
   "metadata": {},
   "outputs": [],
   "source": [
    "day_block = {\n",
    "    'day_of_week': day_of_week,\n",
    "    'date': date,\n",
    "    'due_block' : block_maker(due_items),\n",
    "    'opens_block': block_maker(opens_items),\n",
    "    'working_block': block_maker(doing_items)\n",
    "}"
   ]
  },
  {
   "cell_type": "code",
   "execution_count": null,
   "metadata": {},
   "outputs": [],
   "source": [
    "start_date = date(2020, 2, 20)"
   ]
  },
  {
   "cell_type": "code",
   "execution_count": null,
   "metadata": {},
   "outputs": [],
   "source": [
    "start_date.strftime(\"%A, %d %B\")\n",
    "# start_date.strftime(\"%m/%d\")"
   ]
  },
  {
   "cell_type": "code",
   "execution_count": null,
   "metadata": {},
   "outputs": [],
   "source": [
    "assign = {\n",
    "    'name': 'taco',\n",
    "    'open': 0\n",
    "    'close': 3\n",
    "}"
   ]
  },
  {
   "cell_type": "code",
   "execution_count": null,
   "metadata": {},
   "outputs": [],
   "source": [
    "next(di)"
   ]
  },
  {
   "cell_type": "code",
   "execution_count": null,
   "metadata": {},
   "outputs": [],
   "source": [
    "di = day_iter(start_date)\n",
    "\n",
    "for _ in range(0, 15):\n",
    "    print(next(di))\n"
   ]
  },
  {
   "cell_type": "code",
   "execution_count": null,
   "metadata": {},
   "outputs": [],
   "source": []
  }
 ],
 "metadata": {
  "kernelspec": {
   "display_name": "canvashacks",
   "language": "python",
   "name": "canvashacks"
  },
  "language_info": {
   "codemirror_mode": {
    "name": "ipython",
    "version": 3
   },
   "file_extension": ".py",
   "mimetype": "text/x-python",
   "name": "python",
   "nbconvert_exporter": "python",
   "pygments_lexer": "ipython3",
   "version": "3.6.4"
  },
  "toc": {
   "colors": {
    "hover_highlight": "#DAA520",
    "navigate_num": "#000000",
    "navigate_text": "#333333",
    "running_highlight": "#FF0000",
    "selected_highlight": "#FFD700",
    "sidebar_border": "#EEEEEE",
    "wrapper_background": "#FFFFFF"
   },
   "moveMenuLeft": true,
   "nav_menu": {
    "height": "49.3333px",
    "width": "252.2px"
   },
   "navigate_menu": true,
   "number_sections": true,
   "sideBar": true,
   "threshold": 4,
   "toc_cell": false,
   "toc_section_display": "block",
   "toc_window_display": false,
   "widenNotebook": false
  }
 },
 "nbformat": 4,
 "nbformat_minor": 2
}
