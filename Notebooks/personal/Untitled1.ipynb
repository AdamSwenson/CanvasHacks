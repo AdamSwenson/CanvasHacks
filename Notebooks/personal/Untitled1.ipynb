{
 "cells": [
  {
   "cell_type": "code",
   "execution_count": null,
   "metadata": {},
   "outputs": [],
   "source": [
    "# Dynamically sets location so do not have to manually toggle between dropbox and documents\n",
    "import os\n",
    "path = \"/\".join([a for a in os.path.abspath(\"\").split('/') if a not in ['Notebooks', 'personal']])\n",
    "%cd $path\n",
    "\n",
    "from CanvasHacks import environment\n",
    "\n",
    "import pandas as pd\n",
    "pd.options.display.max_rows = 999\n",
    "from CanvasHacks.Widgets.SkaaControls import multiple_unit_control\n",
    "from CanvasHacks.Widgets.DashboardControls import button_area, make_control_store\n",
    "from CanvasHacks.Displays.dashboard import ControlStore\n",
    "from CanvasHacks.executables.easy_skaa_runner import run_multiple_units"
   ]
  },
  {
   "cell_type": "code",
   "execution_count": null,
   "metadata": {},
   "outputs": [],
   "source": [
    "from CanvasHacks.Repositories.students import StudentRepository\n",
    "sr = StudentRepository(environment.CONFIG.course)\n",
    "sr.download()\n",
    "sr.data"
   ]
  },
  {
   "cell_type": "code",
   "execution_count": null,
   "metadata": {},
   "outputs": [],
   "source": [
    "sr.data[419302]"
   ]
  },
  {
   "cell_type": "code",
   "execution_count": null,
   "metadata": {},
   "outputs": [],
   "source": [
    "sr.get_student_email(419302)"
   ]
  },
  {
   "cell_type": "markdown",
   "metadata": {},
   "source": [
    "Daniel Lara (419302) is reviewing Armen (354923); has submitted review\n",
    "but not reviewed\n"
   ]
  },
  {
   "cell_type": "code",
   "execution_count": null,
   "metadata": {},
   "outputs": [],
   "source": [
    "sr.data[354923]"
   ]
  },
  {
   "cell_type": "code",
   "execution_count": null,
   "metadata": {},
   "outputs": [],
   "source": [
    "Armen (354923) received Karyo Sugimoto to review; has received feedback"
   ]
  },
  {
   "cell_type": "code",
   "execution_count": null,
   "metadata": {},
   "outputs": [],
   "source": [
    "# message send error\n",
    "# Luis negretti -- seems to have been resolved in deletion of all uninvited. \n",
    "sr.data[281207]"
   ]
  },
  {
   "cell_type": "markdown",
   "metadata": {},
   "source": [
    "Plan:\n",
    "\n",
    "After affected students have turned in everything, create a dummy assignment for the student missing a reviewer and revert changes to association repo get_by_author. \n",
    "\n",
    "For now, use documents version of controls and dropbox version of dashboard"
   ]
  }
 ],
 "metadata": {
  "kernelspec": {
   "display_name": "canv-env",
   "language": "python",
   "name": "canv-env"
  },
  "language_info": {
   "codemirror_mode": {
    "name": "ipython",
    "version": 3
   },
   "file_extension": ".py",
   "mimetype": "text/x-python",
   "name": "python",
   "nbconvert_exporter": "python",
   "pygments_lexer": "ipython3",
   "version": "3.10.14"
  }
 },
 "nbformat": 4,
 "nbformat_minor": 4
}
