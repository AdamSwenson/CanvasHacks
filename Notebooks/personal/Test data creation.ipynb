{
 "cells": [
  {
   "cell_type": "markdown",
   "metadata": {},
   "source": [
    "__tools for test data and otherwise accessing canvas as a student__"
   ]
  },
  {
   "cell_type": "code",
   "execution_count": null,
   "metadata": {
    "run_control": {
     "marked": true
    }
   },
   "outputs": [],
   "source": [
    "%cd ~/Dropbox/CanvasHacks\n",
    "\n",
    "#Plotting \n",
    "# %matplotlib inline\n",
    "# from matplotlib import pyplot as plt\n",
    "# import seaborn as sns\n",
    "# sns.set(style=\"whitegrid\")\n",
    "\n",
    "import pandas as pd\n",
    "\n",
    "from CanvasHacks import environment\n",
    "from CanvasHacks.RequestTools import *\n",
    "from CanvasHacks.UrlTools import *\n",
    "from CanvasHacks.Configuration import InteractiveConfiguration\n",
    "from CanvasHacks.Widgets.InputFields import make_course_ids_input, make_canvas_token_input, make_canvas_url_input, make_general_reset_button\n",
    "import CanvasHacks.GradingTools as GT\n",
    "import CanvasHacks.DownloadProcessingTools as PT\n",
    "from CanvasHacks.Repositories.DataManagement import DataStore\n",
    "\n",
    "from CanvasHacks.Widgets.ConsolidatedTextOutput import make_assignment_header, make_consolidated_text_fields\n",
    "from CanvasHacks.UploadGradeTools import make_upload_button\n",
    "\n",
    "# This aren't used in the non-saving version\n",
    "from CanvasHacks.FileTools import makeDataFileIterator\n",
    "from CanvasHacks.JournalsFileTools import get_journal_folders, make_folder_list, calculate_journal_counts\n",
    "from CanvasHacks.JournalsFileTools import journal_folder_name, create_folder\n",
    "\n",
    "\n",
    "from CanvasHacks.Models.student import Student\n",
    "\n",
    "# Import the Canvas class\n",
    "import canvasapi\n",
    "from canvasapi import Canvas\n",
    "from canvasapi.quiz import QuizReport, Quiz\n",
    "# from canvasapi.requester import Requester\n",
    "# from canvasapi.conversation import Conversation\n",
    "\n",
    "# Initialize a Canvas api objects\n",
    "canvas = Canvas(environment.CONFIG.canvas_url_base, environment.CONFIG.canvas_token)\n",
    "# requester = Requester(environment.CONFIG.canvas_url_base, environment.CONFIG.canvas_token)\n",
    "\n",
    "import inspect\n",
    "def look_inside(obj):\n",
    "    print(inspect.getmembers(obj, lambda a:not(inspect.isroutine(a))))\n",
    "\n",
    "from CanvasHacks.PeerReviewed.Definitions import Review, InitialWork, MetaReview, Unit\n",
    "\n",
    "\n",
    "from CanvasHacks.Repositories.quizzes import QuizRepository\n",
    "\n",
    "# Widgets\n",
    "from CanvasHacks.Widgets.AssignmentSelection import make_assignment_chooser, view_selected_assignments, view_ungraded_assignments\n",
    "from CanvasHacks.Widgets.AssignmentSelection import make_discussion_chooser\n",
    "from CanvasHacks.Widgets.LiveSelection import make_test_selector\n",
    "from CanvasHacks.Widgets.AssignmentSelection import make_unit_chooser\n",
    "\n",
    "\n",
    "# Testing\n",
    "from faker import Faker\n",
    "fake = Faker()\n",
    "from CanvasHacks.Models.users import StudentUser\n",
    "from tests.factories.PeerReviewedFactories import discussion_entry_factory\n",
    "from tests.factories.SKAAFactories import populate_quiz_w_text_answers\n",
    "from tests.factories.SKAAFactories import populate_discussion, populate_assignment, answer_survey\n",
    "\n",
    "STUDENT_TEST_ACCT_FP = \"{}/private/test-accounts.xlsx\".format(environment.CONFIG.proj_base)\n"
   ]
  },
  {
   "cell_type": "code",
   "execution_count": null,
   "metadata": {
    "run_control": {
     "marked": true
    }
   },
   "outputs": [],
   "source": [
    "\n",
    "\n",
    "main_quiz = 165098\n",
    "review_quiz = 165820\n",
    "meta_review = 165821\n",
    "\n",
    "url = 'https://canvas.csun.edu/api/v1/courses/85210/assignments/{}/submissions'\n",
    "\n",
    "# last semester data\n",
    "prev_course_id = 62657\n",
    "prev_quiz = 151633\n",
    "\n",
    "# QUIZ_ID = prev_quiz\n",
    "\n",
    "TEST_STUDENT_ID = 168439\n",
    "SEMESTER_NAME = 'S20'\n",
    "topic_id = 737847\n",
    "\n",
    "\n",
    "adam_id = 6417\n",
    "\n",
    "# Test data\n",
    "test_course_id = 85210\n",
    "\n",
    "COURSE_ID = test_course_id\n",
    "# COURSE_ID = prev_course_id\n",
    "SEMESTER_NAME = 'S20'\n",
    "UNIT_NUMBER = 1"
   ]
  },
  {
   "cell_type": "code",
   "execution_count": null,
   "metadata": {
    "run_control": {
     "marked": true
    }
   },
   "outputs": [],
   "source": [
    "STUDENT_TEST_ACCT_FP = \"{}/private/test-accounts.xlsx\".format(environment.CONFIG.proj_base)\n",
    "student_users_df = pd.read_excel(STUDENT_TEST_ACCT_FP)\n",
    "tokens = student_users_df.token.dropna().tolist()\n"
   ]
  },
  {
   "cell_type": "code",
   "execution_count": null,
   "metadata": {
    "run_control": {
     "marked": true
    }
   },
   "outputs": [],
   "source": [
    "make_test_selector()\n",
    "make_unit_chooser()"
   ]
  },
  {
   "cell_type": "code",
   "execution_count": null,
   "metadata": {
    "run_control": {
     "marked": true
    }
   },
   "outputs": [],
   "source": [
    "# Load definitions of unit components\n",
    "# course = canvas.get_course(COURSE_ID)\n",
    "# unit = Unit(course, UNIT_NUMBER)\n",
    "\n",
    "canvas = environment.CONFIG.canvas\n",
    "course = environment.CONFIG.course\n",
    "unit = environment.CONFIG.unit\n"
   ]
  },
  {
   "cell_type": "markdown",
   "metadata": {},
   "source": [
    "# Populate survey"
   ]
  },
  {
   "cell_type": "markdown",
   "metadata": {},
   "source": [
    "## Peer review"
   ]
  },
  {
   "cell_type": "code",
   "execution_count": null,
   "metadata": {
    "editable": false,
    "run_control": {
     "frozen": true
    }
   },
   "outputs": [],
   "source": [
    "questions = course.get_quiz(unit.review.quiz_id).get_questions()\n",
    "essay_questions = [q for q in questions if q.question_type == 'essay_question']\n",
    "multiple_choice = [q for q in questions if q.question_type == 'multiple_choice_question']\n",
    "\n",
    "answers = []\n",
    "for t in tokens:\n",
    "    a = answer_survey(t, COURSE_ID, unit.review.quiz_id, essay_questions, multiple_choice)\n",
    "    answers.append(a)\n",
    "answers"
   ]
  },
  {
   "cell_type": "markdown",
   "metadata": {},
   "source": [
    "## Metareview"
   ]
  },
  {
   "cell_type": "code",
   "execution_count": null,
   "metadata": {
    "editable": false,
    "run_control": {
     "frozen": true
    }
   },
   "outputs": [],
   "source": [
    "questions = course.get_quiz(unit.metareview.quiz_id).get_questions()\n",
    "essay_questions = [q for q in questions if q.question_type == 'essay_question']\n",
    "multiple_choice = [q for q in questions if q.question_type == 'multiple_choice_question']\n",
    "\n",
    "answers = []\n",
    "for t in tokens:\n",
    "    a = answer_survey(t, COURSE_ID, unit.metareview.quiz_id, essay_questions, multiple_choice)\n",
    "    answers.append(a)\n",
    "answers\n"
   ]
  },
  {
   "cell_type": "code",
   "execution_count": null,
   "metadata": {},
   "outputs": [],
   "source": []
  },
  {
   "cell_type": "code",
   "execution_count": null,
   "metadata": {},
   "outputs": [],
   "source": []
  },
  {
   "cell_type": "markdown",
   "metadata": {},
   "source": [
    "# Populate quiz\n",
    "\n",
    "The process for creating dummy data for a quiz is as follows:\n",
    "\n",
    "- As instructor, get list of questions on the quiz\n",
    "\n",
    "- As student, create submission\n",
    "s = s1.assignment.create_submission()\n",
    "\n",
    "- submit answers\n",
    "\n",
    ".answer_submission_questions(quiz_questions=[{\n",
    "    \"id\": \"3134771\",\n",
    "    \"answer\": \"Hello World! d\"\n",
    "  }])\n",
    "  \n",
    "  - mark submission complete"
   ]
  },
  {
   "cell_type": "code",
   "execution_count": null,
   "metadata": {
    "editable": false,
    "run_control": {
     "frozen": true
    }
   },
   "outputs": [],
   "source": [
    "populate_quiz_w_text_answers(COURSE_ID, quiz_id, tokens)"
   ]
  },
  {
   "cell_type": "code",
   "execution_count": null,
   "metadata": {},
   "outputs": [],
   "source": []
  },
  {
   "cell_type": "markdown",
   "metadata": {},
   "source": [
    "# Populate assignments"
   ]
  },
  {
   "cell_type": "code",
   "execution_count": null,
   "metadata": {},
   "outputs": [],
   "source": [
    "assign_id = 640461"
   ]
  },
  {
   "cell_type": "code",
   "execution_count": null,
   "metadata": {
    "editable": false,
    "run_control": {
     "frozen": true
    }
   },
   "outputs": [],
   "source": [
    "populate_assignment(tokens, assign_id, COURSE_ID)"
   ]
  },
  {
   "cell_type": "code",
   "execution_count": null,
   "metadata": {},
   "outputs": [],
   "source": []
  },
  {
   "cell_type": "markdown",
   "metadata": {},
   "source": [
    "# Populate discussion forum"
   ]
  },
  {
   "cell_type": "code",
   "execution_count": null,
   "metadata": {},
   "outputs": [],
   "source": [
    "make_discussion_chooser(course)"
   ]
  },
  {
   "cell_type": "code",
   "execution_count": null,
   "metadata": {
    "editable": false,
    "run_control": {
     "frozen": true,
     "marked": false
    }
   },
   "outputs": [],
   "source": [
    "depth =2\n",
    "for topic_id, name in environment.CONFIG.discussions:\n",
    "    populate_discussion(tokens, topic_id, depth, COURSE_ID)"
   ]
  },
  {
   "cell_type": "code",
   "execution_count": null,
   "metadata": {},
   "outputs": [],
   "source": []
  },
  {
   "cell_type": "code",
   "execution_count": null,
   "metadata": {},
   "outputs": [],
   "source": []
  },
  {
   "cell_type": "code",
   "execution_count": null,
   "metadata": {},
   "outputs": [],
   "source": []
  },
  {
   "cell_type": "code",
   "execution_count": null,
   "metadata": {},
   "outputs": [],
   "source": []
  },
  {
   "cell_type": "code",
   "execution_count": null,
   "metadata": {},
   "outputs": [],
   "source": []
  },
  {
   "cell_type": "markdown",
   "metadata": {},
   "source": [
    "# Attic"
   ]
  },
  {
   "cell_type": "code",
   "execution_count": null,
   "metadata": {},
   "outputs": [],
   "source": []
  },
  {
   "cell_type": "code",
   "execution_count": null,
   "metadata": {},
   "outputs": [],
   "source": [
    "# def get_question_ids(course, quiz_id):\n",
    "#     \"\"\"Returns list of ids for questions comprising quiz\"\"\"\n",
    "#     qids = [q.id for q in course.get_quiz(quiz_id).get_questions()]\n",
    "#     print(\"{} question ids retrieved for quiz {}\".format(len(qids), quiz_id))\n",
    "#     return qids\n",
    "\n",
    "\n",
    "# def answer_quiz_for_student(student_token, course_id, quiz_id, question_ids):\n",
    "#     student = StudentUser(student_token, course_id, quiz_id=quiz_id)\n",
    "#     quiz = student.course.get_quiz(quiz_id)\n",
    "    \n",
    "#     # Create a submission object\n",
    "#     try:\n",
    "#         submission = quiz.create_submission()\n",
    "#     except canvasapi.exceptions.Conflict:\n",
    "#         # a submission was already created\n",
    "#         # so get that one\n",
    "#         submission = [s for s in quiz.get_submissions()][0]\n",
    "\n",
    "        \n",
    "#     # make answers\n",
    "#     answers = []\n",
    "#     for qid in question_ids:\n",
    "#         answers.append({\n",
    "#             'id' : qid,\n",
    "#             'answer': fake.paragraph()\n",
    "#         })\n",
    "    \n",
    "#     # submit answers\n",
    "#     question_subs = submission.answer_submission_questions(quiz_questions=answers)\n",
    "    \n",
    "#     # Complete the quiz\n",
    "#     submission.complete()\n",
    "#     print(\"Answers created for user {}\".format(submission.user_id))\n",
    "\n",
    "#     # return quizSubmissionQuestions for use in testing\n",
    "#     # answer text will be stored on answer attribute\n",
    "#     return question_subs\n",
    "\n",
    "\n",
    "# def populate_quiz_w_text_answers(course, quiz_id, student_tokens):\n",
    "#     \"\"\"\n",
    "#     Answers all text entry questions for a quiz for all students\n",
    "    \n",
    "#     Returns a list of QuizSubmissionQuestions which contains the answer text\n",
    "#     in answer attribute\"\"\"\n",
    "#     answers = []\n",
    "#     question_ids = get_question_ids(course, quiz_id)\n",
    "#     for t in student_tokens:\n",
    "#         r = answer_quiz_for_student(t, course.id, quiz_id, question_ids)\n",
    "#         answers.append(r)\n",
    "#     return answers\n",
    "\n"
   ]
  },
  {
   "cell_type": "code",
   "execution_count": null,
   "metadata": {},
   "outputs": [],
   "source": [
    "# def populate_assignment(tokens, assignment_id, course_id=COURSE_ID):\n",
    "#     \"\"\"Uploads a paragraph of response text for each token provided\n",
    "#     in tokens. \n",
    "#     Returns a list of the submission objects returned\"\"\"\n",
    "#     submissions = []\n",
    "    \n",
    "#     for t in tokens:\n",
    "#         msg = fake.paragraph()\n",
    "#         sub = {\n",
    "#             'submission_type': 'online_text_entry',\n",
    "#             'body': msg,\n",
    "#         }\n",
    "#         s1 = StudentUser(t, course_id, assignment_id=assignment_id)\n",
    "#         result = s1.assignment.submit(sub)\n",
    "#         submissions.append(result)\n",
    "#     return submissions"
   ]
  },
  {
   "cell_type": "code",
   "execution_count": null,
   "metadata": {},
   "outputs": [],
   "source": []
  },
  {
   "cell_type": "code",
   "execution_count": null,
   "metadata": {
    "run_control": {
     "marked": false
    }
   },
   "outputs": [],
   "source": [
    "# def populate_discussion(tokens, topic_id, deep, course_id=COURSE_ID):\n",
    "#     posts = []\n",
    "#     student_users = []\n",
    "#     for t in tokens:\n",
    "#         student_users.append(StudentUser(t, COURSE_ID, topic_id=topic_id))\n",
    "\n",
    "#     for su in student_users:\n",
    "#         msg = fake.paragraph()\n",
    "#         e = su.post_entry(msg)\n",
    "#         posts.append(e)\n",
    "#     for i in range(0, deep):\n",
    "#         for s1 in student_users:\n",
    "#             for entry in s1.discussion_entries:\n",
    "#                 # every other student comments on each entry\n",
    "#                 for s2 in student_users:\n",
    "#                     msg = fake.paragraph()\n",
    "#                     e = s2.discussion.get_entries([entry.id])\n",
    "#                     r = e[0].post_reply(message=msg)\n",
    "#                     posts.append(r)"
   ]
  },
  {
   "cell_type": "code",
   "execution_count": null,
   "metadata": {},
   "outputs": [],
   "source": [
    "# def answer_quiz_for_student(student_token, course_id, quiz_id, question_ids):\n",
    "#     student = StudentUser(student_token, course_id, quiz_id=quiz_id)\n",
    "#     quiz = student.course.get_quiz(quiz_id)\n",
    "    \n",
    "#     # Create a submission object\n",
    "#     try:\n",
    "#         submission = quiz.create_submission()\n",
    "#     except canvasapi.exceptions.Conflict:\n",
    "#         # a submission was already created\n",
    "#         # so get that one\n",
    "#         submission = [s for s in quiz.get_submissions()][0]\n",
    "\n",
    "        \n",
    "#     # make answers\n",
    "#     answers = []\n",
    "#     for qid in question_ids:\n",
    "#         answers.append({\n",
    "#             'id' : qid,\n",
    "#             'answer': fake.paragraph()\n",
    "#         })\n",
    "    \n",
    "#     # submit answers\n",
    "#     question_subs = submission.answer_submission_questions(quiz_questions=answers)\n",
    "    \n",
    "#     # Complete the quiz\n",
    "#     submission.complete()\n",
    "#     print(\"Answers created for user {}\".format(submission.user_id))\n",
    "\n",
    "#     # return quizSubmissionQuestions for use in testing\n",
    "#     # answer text will be stored on answer attribute\n",
    "#     return question_subs\n"
   ]
  },
  {
   "cell_type": "code",
   "execution_count": null,
   "metadata": {},
   "outputs": [],
   "source": []
  },
  {
   "cell_type": "code",
   "execution_count": null,
   "metadata": {},
   "outputs": [],
   "source": [
    "msg = fake.paragraph()\n",
    "entry = s_discussion.post_entry(message=msg)\n"
   ]
  },
  {
   "cell_type": "code",
   "execution_count": null,
   "metadata": {},
   "outputs": [],
   "source": [
    "entry.post_reply(message=fake.paragraph())"
   ]
  },
  {
   "cell_type": "code",
   "execution_count": null,
   "metadata": {},
   "outputs": [],
   "source": []
  },
  {
   "cell_type": "code",
   "execution_count": null,
   "metadata": {
    "run_control": {
     "marked": false
    }
   },
   "outputs": [],
   "source": [
    "def make_course(token, course_id=COURSE_ID):\n",
    "    # Student account\n",
    "    canvas = Canvas(environment.CONFIG.canvas_url_base, token)\n",
    "    course = canvas.get_course(course_id)\n",
    "    return course"
   ]
  }
 ],
 "metadata": {
  "kernelspec": {
   "display_name": "canvashacks",
   "language": "python",
   "name": "canvashacks"
  },
  "language_info": {
   "codemirror_mode": {
    "name": "ipython",
    "version": 3
   },
   "file_extension": ".py",
   "mimetype": "text/x-python",
   "name": "python",
   "nbconvert_exporter": "python",
   "pygments_lexer": "ipython3",
   "version": "3.6.4"
  },
  "toc": {
   "base_numbering": 1,
   "colors": {
    "hover_highlight": "#DAA520",
    "navigate_num": "#000000",
    "navigate_text": "#333333",
    "running_highlight": "#FF0000",
    "selected_highlight": "#FFD700",
    "sidebar_border": "#EEEEEE",
    "wrapper_background": "#FFFFFF"
   },
   "moveMenuLeft": true,
   "nav_menu": {},
   "navigate_menu": true,
   "number_sections": true,
   "sideBar": true,
   "skip_h1_title": false,
   "threshold": 4,
   "title_cell": "Table of Contents",
   "title_sidebar": "Contents",
   "toc_cell": false,
   "toc_position": {},
   "toc_section_display": true,
   "toc_window_display": false,
   "widenNotebook": false
  }
 },
 "nbformat": 4,
 "nbformat_minor": 4
}
