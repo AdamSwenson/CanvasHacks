{
 "cells": [
  {
   "cell_type": "markdown",
   "metadata": {},
   "source": [
    "This is for viewing stats and figuring out problems (e.g., who hasn't done a review, etc)\n",
    "\n",
    "\n",
    "# todo \n",
    "\n",
    "way of telling who has turned in essay but has no reviewer\n",
    "\n",
    "way of telling who turned in essay etc after the final close of metareview window"
   ]
  },
  {
   "cell_type": "code",
   "execution_count": null,
   "metadata": {
    "run_control": {
     "marked": false
    }
   },
   "outputs": [],
   "source": [
    "%%javascript\n",
    "IPython.OutputArea.prototype._should_scroll = function(lines) {\n",
    "    return false;\n",
    "}"
   ]
  },
  {
   "cell_type": "code",
   "execution_count": null,
   "metadata": {},
   "outputs": [],
   "source": []
  },
  {
   "cell_type": "code",
   "execution_count": null,
   "metadata": {
    "run_control": {
     "marked": true
    }
   },
   "outputs": [],
   "source": [
    "# Dynamically sets location so do not have to manually toggle between dropbox and documents\n",
    "import os\n",
    "path = \"/\".join([a for a in os.path.abspath(\"\").split('/') if a not in ['Notebooks', 'personal']])\n",
    "%cd $path\n",
    "\n",
    "import pandas as pd\n",
    "pd.options.display.max_rows = 999\n",
    "import os\n",
    "\n",
    "#Plotting \n",
    "%matplotlib inline\n",
    "from matplotlib import pyplot as plt\n",
    "import seaborn as sns\n",
    "sns.set(style=\"whitegrid\")\n",
    "\n",
    "sns.set_palette(sns.color_palette('plasma'))\n",
    "\n",
    "\n",
    "from CanvasHacks import environment\n",
    "from CanvasHacks.Configuration import InteractiveConfiguration\n",
    "# from CanvasHacks.PeerReviewed.Definitions import TopicalAssignment, ContentAssignment\n",
    "from CanvasHacks.Models.QuizModels import QuizData\n",
    "\n",
    "# Repos\n",
    "from CanvasHacks.Repositories.DataManagement import DataStore\n",
    "from CanvasHacks.Repositories.factories import WorkRepositoryFactory, WorkRepositoryLoaderFactory\n",
    "from CanvasHacks.Repositories.quizzes import QuizRepository, ReviewRepository\n",
    "from CanvasHacks.Repositories.codes import AccessCodeRepo\n",
    "from CanvasHacks.Repositories.reviewer_associations import assign_reviewers, AssociationRepository\n",
    "from CanvasHacks.Repositories.students import StudentRepository\n",
    "from CanvasHacks.Repositories.submissions import SubmissionRepository, QuizSubmissionRepository\n",
    "# from CanvasHacks.Repositories.quizzes import process_work, load_student_work, remove_non_final_attempts, make_drop_list, save_json, drop_columns_from_frame\n",
    "\n",
    "from CanvasHacks.Displays.dashboard import ControlStore\n",
    "\n",
    "# Filesystem\n",
    "from CanvasHacks.Files.FileTools import makeDataFileIterator, create_folder\n",
    "from CanvasHacks.Files.QuizReportFileTools import load_new\n",
    "# from CanvasHacks.QuizReportFileTools import  make_quiz_repo, load_activity_data_from_files\n",
    "\n",
    "# Widgets\n",
    "from CanvasHacks.Widgets.AssignmentSelection import make_assignment_chooser, view_selected_assignments, view_ungraded_assignments\n",
    "from CanvasHacks.Widgets.LiveSelection import make_test_selector\n",
    "from CanvasHacks.Widgets.AssignmentSelection import make_unit_chooser, make_selection_button\n",
    "from CanvasHacks.Widgets.ConsolidatedTextOutput import make_assignment_header, make_consolidated_text_fields\n",
    "from CanvasHacks.Widgets.InputFields import make_course_ids_input, make_canvas_token_input, make_canvas_url_input, make_general_reset_button\n"
   ]
  },
  {
   "cell_type": "code",
   "execution_count": null,
   "metadata": {},
   "outputs": [],
   "source": []
  },
  {
   "cell_type": "code",
   "execution_count": null,
   "metadata": {
    "run_control": {
     "marked": false
    }
   },
   "outputs": [],
   "source": [
    "units = [1,2,3,4, 5,6, 7 ]\n",
    "\n",
    "# units = [i for i in range(1,8)]\n",
    "# units.append(8)\n",
    "\n",
    "control_store = ControlStore()\n",
    "[control_store.load_unit(i) for i in units]"
   ]
  },
  {
   "cell_type": "markdown",
   "metadata": {},
   "source": [
    "# Plots"
   ]
  },
  {
   "cell_type": "code",
   "execution_count": null,
   "metadata": {
    "run_control": {
     "marked": false
    }
   },
   "outputs": [],
   "source": [
    "import seaborn as sns\n",
    "sns.set(style=\"whitegrid\")\n",
    "from IPython.display import set_matplotlib_formats\n",
    "set_matplotlib_formats('svg', 'pdf')\n",
    "\n",
    "from bokeh.plotting import figure, show, output_notebook\n",
    "from bokeh.transform import dodge\n",
    "from bokeh.models import ColumnDataSource, Band, Span, Plot, HoverTool\n",
    "# output to static HTML \n",
    "output_notebook()\n",
    "\n",
    "try:\n",
    "    j = [control_store._get_unit_run_data(u) for u in units]\n",
    "    j = [k for k in j if k is not None]\n",
    "except AttributeError as e:\n",
    "    print(e)\n",
    "\n",
    "d = pd.DataFrame(j)\n",
    "# d = pd.DataFrame([control_store._get_unit_run_data(u) for u in units] )\n",
    "\n",
    "renames = {\n",
    "    'unit_number' : 'Unit',\n",
    "    'essay' : 'Essay',\n",
    "    'no_essay' : \"No Essay\",\n",
    "    'skaa_review' : 'Review',\n",
    "    'skaa_no_review' : \"No Review\",\n",
    "    'skaa_metareview' : \"Metareview\",\n",
    "    'skaa_no_metareview' : 'No Metareview'\n",
    "}\n",
    "\n",
    "d.rename(renames, axis=1, inplace=True)\n",
    "# d\n",
    "\n",
    "def plot_summary(frame, complete_name, incomplete_name):\n",
    "\n",
    "    ESSAY_TOOLTIPS = [\n",
    "                (\"Essays submitted\", \"@Essay{0,0}\"),\n",
    "    #         (\"date\", \"@date\")\n",
    "    #     (\"avg total\", \"@total_patients{0,0}\"),\n",
    "    #         (\"date\", \"@date\")\n",
    "    ]\n",
    "    \n",
    "    TOOLTIPS = ESSAY_TOOLTIPS if complete_name == 'Essay' else [] \n",
    "\n",
    "    p = figure(\n",
    "        plot_width=1000,\n",
    "        plot_height=400,\n",
    "        title=f\"{complete_name} \",\n",
    "    #     x_axis_type='datetime',\n",
    "               tooltips=TOOLTIPS\n",
    "        \n",
    "    )\n",
    "\n",
    "    #     bar_data = frame.reset_index()\n",
    "    #     if trim_pos is not None:\n",
    "    #         bar_data = bar_data[bar_data[field_name] <= trim_pos]\n",
    "    #     if trim_neg is not None:\n",
    "    #         bar_data = bar_data[bar_data[field_name] >= trim_neg]\n",
    "\n",
    "    source = ColumnDataSource(frame)\n",
    "    p.xaxis.axis_label = \"Unit\"\n",
    "    p.yaxis.axis_label = \"# Students\"\n",
    "    \n",
    "    # add a circle renderer with a size, color, and alpha\n",
    "    # p.circle(x='date', y='new_confirmed_cases', size=10, color=\"navy\", source=source, alpha=0.5)\n",
    "    p.vbar(\n",
    "        x='Unit',\n",
    "        top=complete_name,\n",
    "        color=\"navy\",\n",
    "        width=0.3,\n",
    "        source=source,\n",
    "        alpha=0.8,\n",
    "        legend_label=complete_name)\n",
    "\n",
    "    p.vbar(\n",
    "#         x='Unit',\n",
    "            x=dodge('Unit', -0.3, range=p.x_range),\n",
    "        top=incomplete_name,\n",
    "        color=\"firebrick\",\n",
    "        width=0.3,\n",
    "        source=source,\n",
    "        alpha=0.8,\n",
    "        legend_label=incomplete_name,\n",
    ")\n",
    "\n",
    "\n",
    "# source = ColumnDataSource(data=dict(x=x, counts=counts))\n",
    "    \n",
    "    # p.line(\n",
    "    #     x='date',\n",
    "    #     y='total_patients',\n",
    "    #     line_width=5,\n",
    "    #     color=\"navy\",\n",
    "    #     source=source2,\n",
    "    #     alpha=0.3,\n",
    "    #     legend_label='7-day rolling avg')\n",
    "\n",
    "    p.legend.location = 'top_right'\n",
    "\n",
    "    show(p)\n",
    "\n",
    "plot_summary(d, 'Essay', 'No Essay')\n",
    "\n",
    "plot_summary(d, 'Review', 'No Review')\n",
    "\n",
    "plot_summary(d, 'Metareview', 'No Metareview')"
   ]
  },
  {
   "cell_type": "code",
   "execution_count": null,
   "metadata": {
    "deletable": false,
    "editable": false,
    "run_control": {
     "frozen": true,
     "marked": true
    }
   },
   "outputs": [],
   "source": [
    "d"
   ]
  },
  {
   "cell_type": "markdown",
   "metadata": {},
   "source": [
    "# When things get submitted"
   ]
  },
  {
   "cell_type": "code",
   "execution_count": null,
   "metadata": {
    "run_control": {
     "marked": false
    }
   },
   "outputs": [],
   "source": [
    "from bokeh.transform import jitter\n",
    "from bokeh.transform import linear_cmap\n",
    "from bokeh.palettes import Spectral6, Plasma, mpl\n",
    "\n",
    "# MAX_UNIT = 8\n",
    "\n",
    "# units = [u for u in range(1,MAX_UNIT + 1)]\n",
    "subs = []\n",
    "\n",
    "for u in units:\n",
    "    try:\n",
    "        for i, r in control_store.skaa_repos[u].data.iterrows():\n",
    "            subs.append({ 'unit' : u , 'submitted' : r.invited_to_review} )\n",
    "    except (KeyError, AttributeError):\n",
    "        pass\n",
    "\n",
    "subs = pd.DataFrame(subs)\n",
    "subs.dropna(inplace=True)\n",
    "source = ColumnDataSource(subs)\n",
    "\n",
    "mapper = linear_cmap(field_name='unit', palette=mpl['Plasma'][7] ,low=min(units) ,high=max(units))\n",
    "\n",
    "p = figure(\n",
    "        plot_width=1000,\n",
    "        plot_height=500,\n",
    "        title=f\"Essay submissions: Number submitted by day\",\n",
    "        x_axis_type='datetime') #,\n",
    "p.yaxis.axis_label = \"Unit\"\n",
    "p.circle(x='submitted', \n",
    "         y=jitter('unit', width=0.6, range=p.y_range),\n",
    "         legend_label='unit', \n",
    "         color=mapper, \n",
    "         source=source, \n",
    "         alpha=0.9)\n",
    "p.legend.location = 'top_left'\n",
    "\n",
    "show(p)\n",
    "\n",
    "# sources = []\n",
    "sources = {}\n",
    "\n",
    "for u in units:\n",
    "    repo = control_store.skaa_repos[u]\n",
    "    if len(repo.data[repo.data.invited_to_review.notna()]) > 0:\n",
    "        c = repo.data.invited_to_review.copy(deep=True)\n",
    "        c = pd.DataFrame(c).dropna().rename({'invited_to_review' : 'date'}, axis=1).set_index('date')\n",
    "        c['cum_subs'] = 1\n",
    "        c = c.resample('1D').count()\n",
    "        c['cum_subs'] = c.cum_subs.cumsum()\n",
    "        c['unit'] = u\n",
    "        sources[u] = ColumnDataSource(c.reset_index())\n",
    "\n",
    "#     sources.append((u, ColumnDataSource(c.reset_index())))\n",
    "#     sources.append(c)\n",
    "\n",
    "# sources = pd.concat(sources)\n",
    "\n",
    "def make_color_iter(number=8):\n",
    "    for m in mpl['Plasma'][number]:\n",
    "        yield m\n",
    "    \n",
    "\n",
    "enrollment = len(control_store.skaa_repos[1].studentRepo.data)\n",
    "\n",
    "ci = make_color_iter()\n",
    "\n",
    "TOOLTIPS = [\n",
    "    (\"Total submissions\", \"@cum_subs{0,0}\"),\n",
    "        (\"Unit\", \"@unit\"),\n",
    "#     (\"Date\", \"@date\")\n",
    "]\n",
    "\n",
    "\n",
    "p = figure(\n",
    "        plot_width=1000,\n",
    "        plot_height=500,\n",
    "        title=f\"Essay submissions: Cumulative submissions\",\n",
    "        x_axis_type='datetime',\n",
    "tooltips=TOOLTIPS) #,\n",
    "\n",
    "p.yaxis.axis_label = \"Cumulative submissions\"\n",
    "\n",
    "\n",
    "for unit, s in sources.items():\n",
    "    p.line(\n",
    "    x='date',\n",
    "    y='cum_subs',\n",
    "    line_width=5,\n",
    "    color=next(ci),\n",
    "    source=s,\n",
    "    alpha=0.8,\n",
    "    legend_label=f\"Unit {unit}\"\n",
    "    )\n",
    "\n",
    "enrolled = Span(location=enrollment,\n",
    "                dimension='width', line_color='red',\n",
    "                line_dash='dashed', line_width=3)\n",
    "p.add_layout(enrolled)\n",
    "    \n",
    "p.legend.location = 'bottom_left'\n",
    "\n",
    "show(p)"
   ]
  },
  {
   "cell_type": "code",
   "execution_count": null,
   "metadata": {
    "deletable": false,
    "editable": false,
    "run_control": {
     "frozen": true
    }
   },
   "outputs": [],
   "source": [
    "subs[subs.submitted > '2023-12-15']"
   ]
  },
  {
   "cell_type": "markdown",
   "metadata": {},
   "source": [
    "# Which students have / have not done stuff"
   ]
  },
  {
   "cell_type": "code",
   "execution_count": null,
   "metadata": {},
   "outputs": [],
   "source": []
  },
  {
   "cell_type": "code",
   "execution_count": null,
   "metadata": {
    "run_control": {
     "marked": true
    }
   },
   "outputs": [],
   "source": [
    "make_test_selector()\n",
    "make_unit_chooser(num_units=8)\n"
   ]
  },
  {
   "cell_type": "code",
   "execution_count": null,
   "metadata": {},
   "outputs": [],
   "source": [
    "# Added new control store so don't have to wait for all units to download \n",
    "# by using the instance above\n",
    "control_store = ControlStore()\n",
    "control_store.load_unit(environment.CONFIG.unit.unit_number)\n",
    "\n",
    "repo = control_store.skaa_repos[environment.CONFIG.unit.unit_number]"
   ]
  },
  {
   "cell_type": "code",
   "execution_count": null,
   "metadata": {},
   "outputs": [],
   "source": []
  },
  {
   "cell_type": "markdown",
   "metadata": {},
   "source": [
    "select * from review_associations ra left join invitation_received ir \n",
    "on ra.assessor_id = ir.student_id  where ir.sent_at is NULL;\n",
    "\n",
    "select * from review_associations ra left join invitation_received ir \n",
    "on ra.assessor_id = ir.student_id  where ir.sent_at is not NULL;\n",
    "\n",
    "delete  from review_associations \n",
    "where assessor_id in (select assessor_id \n",
    "from (select assessor_id \n",
    "from review_associations ra left join invitation_received ir \n",
    "on ra.assessor_id = ir.student_id  where ir.sent_at is NULL) x);"
   ]
  },
  {
   "cell_type": "markdown",
   "metadata": {},
   "source": [
    "# finding students at end of semester after metareview end"
   ]
  },
  {
   "cell_type": "code",
   "execution_count": null,
   "metadata": {},
   "outputs": [],
   "source": []
  },
  {
   "cell_type": "code",
   "execution_count": null,
   "metadata": {},
   "outputs": [],
   "source": [
    "# repo = control_store.skaa_repos[1]\n",
    "# repo.essay[repo.essay.invited_to_metareview > '2023-12-15']"
   ]
  },
  {
   "cell_type": "markdown",
   "metadata": {},
   "source": [
    "## Students who have done essay and been assigned a reviewer"
   ]
  },
  {
   "cell_type": "code",
   "execution_count": null,
   "metadata": {},
   "outputs": [],
   "source": [
    "repo.essay"
   ]
  },
  {
   "cell_type": "markdown",
   "metadata": {},
   "source": [
    "## Students who have not submitted the essay "
   ]
  },
  {
   "cell_type": "code",
   "execution_count": null,
   "metadata": {},
   "outputs": [],
   "source": [
    "\"\"\"\n",
    "Students who have not submitted the initial work\n",
    ":return: DataFrame\n",
    "\"\"\"\n",
    "repo.no_essay"
   ]
  },
  {
   "cell_type": "markdown",
   "metadata": {},
   "source": [
    "## Students whose reviewer has turned in the review"
   ]
  },
  {
   "cell_type": "code",
   "execution_count": null,
   "metadata": {},
   "outputs": [],
   "source": [
    "\"\"\"\n",
    "Returns the subset of students who have turned in the initial work\n",
    "whose reviewer has turned in the review\n",
    ":return: DataFrame\n",
    "\"\"\"        \n",
    "repo.reviewed\n",
    " "
   ]
  },
  {
   "cell_type": "markdown",
   "metadata": {},
   "source": [
    "## Students with a reviewer who hasn't turned in the review"
   ]
  },
  {
   "cell_type": "code",
   "execution_count": null,
   "metadata": {},
   "outputs": [],
   "source": [
    "   \n",
    "\"\"\"\n",
    "Returns the subset of students who have turned in the initial work\n",
    "whose reviewer has NOT turned in the review\n",
    "\"\"\"\n",
    "# repo.non_reviewed\n",
    "r = repo.non_reviewed\n",
    "r[pd.isnull(r.invited_to_metareview)]"
   ]
  },
  {
   "cell_type": "code",
   "execution_count": null,
   "metadata": {},
   "outputs": [],
   "source": []
  },
  {
   "cell_type": "markdown",
   "metadata": {},
   "source": [
    "## Students whose author has turned in the metareview"
   ]
  },
  {
   "cell_type": "code",
   "execution_count": null,
   "metadata": {},
   "outputs": [],
   "source": [
    "\"\"\"\n",
    "Returns the subset of students who have turned in the initial work\n",
    "whose author has turned in the metareview\n",
    "\"\"\"\n",
    "repo.metareviewed"
   ]
  },
  {
   "cell_type": "markdown",
   "metadata": {},
   "source": [
    "## Students whose author has not turned in the metareview"
   ]
  },
  {
   "cell_type": "code",
   "execution_count": null,
   "metadata": {},
   "outputs": [],
   "source": [
    "\"\"\"\n",
    "Returns the subset of students who have turned in the initial work\n",
    "whose author has turned in the metareview\n",
    "\"\"\"\n",
    "repo.non_metareviewed"
   ]
  },
  {
   "cell_type": "code",
   "execution_count": null,
   "metadata": {},
   "outputs": [],
   "source": []
  },
  {
   "cell_type": "markdown",
   "metadata": {},
   "source": [
    "# Days after official due date"
   ]
  },
  {
   "cell_type": "code",
   "execution_count": null,
   "metadata": {},
   "outputs": [],
   "source": [
    "control_store.skaa_repos[4].data"
   ]
  },
  {
   "cell_type": "code",
   "execution_count": null,
   "metadata": {},
   "outputs": [],
   "source": []
  },
  {
   "cell_type": "code",
   "execution_count": null,
   "metadata": {},
   "outputs": [],
   "source": [
    "pd.to_datetime?"
   ]
  },
  {
   "cell_type": "code",
   "execution_count": null,
   "metadata": {},
   "outputs": [],
   "source": [
    "initial_work_index = 0\n",
    "review_index = 1\n",
    "meta_index = 2\n",
    "due_dates = []\n",
    "\n",
    "for unit_num in units:\n",
    "    components = control_store.units[unit_num].components\n",
    "    due_dates.append({\n",
    "    'unit' : unit_num,\n",
    "    'essay' : pd.to_datetime(components[0].due_at,  utc=True),\n",
    "    'review': pd.to_datetime(components[1].due_at),\n",
    "    'meta' : pd.to_datetime(components[2].due_at)\n",
    "    })\n",
    "due_dates = pd.DataFrame(due_dates)\n",
    "due_dates.set_index('unit', inplace=True)"
   ]
  },
  {
   "cell_type": "code",
   "execution_count": null,
   "metadata": {},
   "outputs": [],
   "source": [
    "from bokeh.transform import jitter\n",
    "from bokeh.transform import linear_cmap\n",
    "from bokeh.palettes import Spectral6, Plasma, mpl"
   ]
  },
  {
   "cell_type": "code",
   "execution_count": null,
   "metadata": {},
   "outputs": [],
   "source": [
    "# MAX_UNIT = 8\n",
    "\n",
    "# units = [u for u in range(1,MAX_UNIT + 1)]\n",
    "subs = []\n",
    "\n",
    "for u in units:\n",
    "    try:\n",
    "        for i, r in control_store.skaa_repos[u].data.iterrows():\n",
    "            subs.append({ 'unit' : u , 'submitted' : r.invited_to_review} )\n",
    "    except (KeyError, AttributeError):\n",
    "        pass\n",
    "\n",
    "subs = pd.DataFrame(subs)\n",
    "subs.dropna(inplace=True)\n",
    "subs"
   ]
  },
  {
   "cell_type": "code",
   "execution_count": null,
   "metadata": {},
   "outputs": [],
   "source": [
    "subs.set_index('unit', inplace=True)"
   ]
  },
  {
   "cell_type": "code",
   "execution_count": null,
   "metadata": {},
   "outputs": [],
   "source": [
    "subs['submitted'] = pd.to_datetime(subs['submitted'], utc=True)"
   ]
  },
  {
   "cell_type": "code",
   "execution_count": null,
   "metadata": {
    "run_control": {
     "marked": false
    }
   },
   "outputs": [],
   "source": [
    "subs.loc[3]['submitted'].tolist()[0]"
   ]
  },
  {
   "cell_type": "markdown",
   "metadata": {},
   "source": [
    "nb, using the invited to review will create a few outliers who had to wait for a partner"
   ]
  },
  {
   "cell_type": "code",
   "execution_count": null,
   "metadata": {},
   "outputs": [],
   "source": [
    "after_due = []\n",
    "\n",
    "for u in units:\n",
    "    essay_due_date = due_dates.loc[u]['essay']\n",
    "    print(essay_due_date)"
   ]
  },
  {
   "cell_type": "code",
   "execution_count": null,
   "metadata": {},
   "outputs": [],
   "source": [
    "due_dates.loc[1]['essay']"
   ]
  },
  {
   "cell_type": "code",
   "execution_count": null,
   "metadata": {},
   "outputs": [],
   "source": [
    "    deltas[u] = subs.loc[u]['submitted'] - due_dates.loc[u]['essay']"
   ]
  },
  {
   "cell_type": "code",
   "execution_count": null,
   "metadata": {},
   "outputs": [],
   "source": [
    "deltas = []\n",
    "for u in units: \n",
    "    d = subs.loc[u]['submitted'] - due_dates.loc[u]['essay']\n",
    "    deltas.append(d)\n",
    "# deltas = pd.DataFrame(deltas)\n",
    "\n",
    "deltas = pd.concat(deltas)\n",
    "deltas = pd.DataFrame(deltas)\n",
    "deltas.reset_index(inplace=True)\n",
    "# cast to a decimal value representing number of days\n",
    "deltas['submitted'] = deltas['submitted'].astype(\"timedelta64[D]\")"
   ]
  },
  {
   "cell_type": "code",
   "execution_count": null,
   "metadata": {},
   "outputs": [],
   "source": [
    "deltas"
   ]
  },
  {
   "cell_type": "code",
   "execution_count": null,
   "metadata": {},
   "outputs": [],
   "source": [
    "sns.violinplot(data=deltas, x='unit', y='submitted')"
   ]
  },
  {
   "cell_type": "code",
   "execution_count": null,
   "metadata": {},
   "outputs": [],
   "source": [
    "sns.boxplot(data=deltas, x='unit', y='submitted')"
   ]
  },
  {
   "cell_type": "code",
   "execution_count": null,
   "metadata": {},
   "outputs": [],
   "source": []
  },
  {
   "cell_type": "code",
   "execution_count": null,
   "metadata": {},
   "outputs": [],
   "source": [
    "source = ColumnDataSource(subs)\n",
    "\n",
    "mapper = linear_cmap(field_name='unit', palette=mpl['Plasma'][7] ,low=min(units) ,high=max(units))\n",
    "\n",
    "p = figure(\n",
    "        plot_width=1000,\n",
    "        plot_height=500,\n",
    "        title=f\"Essay submissions: Number submitted by day\",\n",
    "        x_axis_type='datetime') #,\n",
    "p.yaxis.axis_label = \"Unit\"\n",
    "p.circle(x='submitted', \n",
    "         y=jitter('unit', width=0.6, range=p.y_range),\n",
    "         legend_label='unit', \n",
    "         color=mapper, \n",
    "         source=source, \n",
    "         alpha=0.9)\n",
    "p.legend.location = 'top_left'\n",
    "\n",
    "show(p)\n",
    "\n",
    "# sources = []\n",
    "sources = {}\n",
    "\n",
    "for u in units:\n",
    "    repo = control_store.skaa_repos[u]\n",
    "    c = repo.data.invited_to_review.copy(deep=True)\n",
    "    c = pd.DataFrame(c).dropna().rename({'invited_to_review' : 'date'}, axis=1).set_index('date')\n",
    "    c['cum_subs'] = 1\n",
    "    c = c.resample('1D').count()\n",
    "    c['cum_subs'] = c.cum_subs.cumsum()\n",
    "    c['unit'] = u\n",
    "    sources[u] = ColumnDataSource(c.reset_index())\n",
    "    \n",
    "#     sources.append((u, ColumnDataSource(c.reset_index())))\n",
    "#     sources.append(c)\n",
    "\n",
    "# sources = pd.concat(sources)\n",
    "\n",
    "def make_color_iter(number=8):\n",
    "    for m in mpl['Plasma'][number]:\n",
    "        yield m\n",
    "    \n",
    "\n",
    "enrollment = len(control_store.skaa_repos[1].studentRepo.data)\n",
    "\n",
    "ci = make_color_iter()\n",
    "\n",
    "TOOLTIPS = [\n",
    "    (\"Total submissions\", \"@cum_subs{0,0}\"),\n",
    "        (\"Unit\", \"@unit\"),\n",
    "#     (\"Date\", \"@date\")\n",
    "]\n",
    "\n",
    "\n",
    "p = figure(\n",
    "        plot_width=1000,\n",
    "        plot_height=500,\n",
    "        title=f\"Essay submissions: Cumulative submissions\",\n",
    "        x_axis_type='datetime',\n",
    "tooltips=TOOLTIPS) #,\n",
    "\n",
    "p.yaxis.axis_label = \"Cumulative submissions\"\n",
    "\n",
    "\n",
    "for unit, s in sources.items():\n",
    "    p.line(\n",
    "    x='date',\n",
    "    y='cum_subs',\n",
    "    line_width=5,\n",
    "    color=next(ci),\n",
    "    source=s,\n",
    "    alpha=0.8,\n",
    "    legend_label=f\"Unit {unit}\"\n",
    "    )\n",
    "\n",
    "enrolled = Span(location=enrollment,\n",
    "                dimension='width', line_color='red',\n",
    "                line_dash='dashed', line_width=3)\n",
    "p.add_layout(enrolled)\n",
    "    \n",
    "p.legend.location = 'bottom_left'\n",
    "\n",
    "show(p)"
   ]
  },
  {
   "cell_type": "code",
   "execution_count": null,
   "metadata": {},
   "outputs": [],
   "source": []
  },
  {
   "cell_type": "code",
   "execution_count": null,
   "metadata": {},
   "outputs": [],
   "source": []
  },
  {
   "cell_type": "markdown",
   "metadata": {},
   "source": [
    "# Days after received feedback"
   ]
  },
  {
   "cell_type": "code",
   "execution_count": null,
   "metadata": {},
   "outputs": [],
   "source": []
  }
 ],
 "metadata": {
  "kernelspec": {
   "display_name": "canv-env",
   "language": "python",
   "name": "canv-env"
  },
  "language_info": {
   "codemirror_mode": {
    "name": "ipython",
    "version": 3
   },
   "file_extension": ".py",
   "mimetype": "text/x-python",
   "name": "python",
   "nbconvert_exporter": "python",
   "pygments_lexer": "ipython3",
   "version": "3.10.14"
  },
  "toc": {
   "base_numbering": 1,
   "nav_menu": {
    "height": "178.367px",
    "width": "251.267px"
   },
   "number_sections": true,
   "sideBar": true,
   "skip_h1_title": false,
   "title_cell": "Table of Contents",
   "title_sidebar": "Contents",
   "toc_cell": false,
   "toc_position": {},
   "toc_section_display": "block",
   "toc_window_display": false
  },
  "varInspector": {
   "cols": {
    "lenName": 16,
    "lenType": 16,
    "lenVar": 40
   },
   "kernels_config": {
    "python": {
     "delete_cmd_postfix": "",
     "delete_cmd_prefix": "del ",
     "library": "var_list.py",
     "varRefreshCmd": "print(var_dic_list())"
    },
    "r": {
     "delete_cmd_postfix": ") ",
     "delete_cmd_prefix": "rm(",
     "library": "var_list.r",
     "varRefreshCmd": "cat(var_dic_list()) "
    }
   },
   "types_to_exclude": [
    "module",
    "function",
    "builtin_function_or_method",
    "instance",
    "_Feature"
   ],
   "window_display": false
  }
 },
 "nbformat": 4,
 "nbformat_minor": 2
}
