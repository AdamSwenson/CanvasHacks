{
 "cells": [
  {
   "cell_type": "markdown",
   "metadata": {},
   "source": [
    "__This contains the master controls and dashboards for all tools. No development should be done herein__\n",
    "\n"
   ]
  },
  {
   "cell_type": "code",
   "execution_count": null,
   "metadata": {
    "run_control": {
     "marked": true
    }
   },
   "outputs": [],
   "source": [
    "START_UNIT = 1\n",
    "STOP_UNIT = 6  \n",
    "# MINUTES_REST = 120\n",
    "MINUTES_REST = 45\n",
    "\n",
    "REPORT_GEN_TIMEOUT = 25#60\n",
    "REPORT_ID_ATTEMPTS = 100"
   ]
  },
  {
   "cell_type": "code",
   "execution_count": null,
   "metadata": {
    "run_control": {
     "marked": true
    }
   },
   "outputs": [],
   "source": [
    "%%javascript\n",
    "IPython.OutputArea.prototype._should_scroll = function(lines) {\n",
    "    return false\n",
    "}"
   ]
  },
  {
   "cell_type": "code",
   "execution_count": null,
   "metadata": {
    "run_control": {
     "marked": true
    }
   },
   "outputs": [],
   "source": [
    "# NOTE LOCATION!!!!!\n",
    "# %cd ~/Dropbox/CanvasHacks\n",
    "%cd ~/Documents/CanvasHacks\n",
    "from CanvasHacks import environment\n",
    "\n",
    "import pandas as pd\n",
    "pd.options.display.max_rows = 999\n",
    "from CanvasHacks.Widgets.SkaaControls import multiple_unit_control\n",
    "from CanvasHacks.Widgets.DashboardControls import button_area, make_control_store\n",
    "from CanvasHacks.Displays.dashboard import ControlStore\n",
    "from CanvasHacks.executables.easy_skaa_runner import run_multiple_units"
   ]
  },
  {
   "cell_type": "code",
   "execution_count": null,
   "metadata": {
    "run_control": {
     "marked": true
    }
   },
   "outputs": [],
   "source": [
    "control_store = ControlStore()\n",
    "\n",
    "try:\n",
    "    run_multiple_units(control_store, START_UNIT, STOP_UNIT, MINUTES_REST, rest_timeout=REPORT_GEN_TIMEOUT,max_id_attempts=REPORT_ID_ATTEMPTS  )\n",
    "except:\n",
    "    run_multiple_units(control_store, START_UNIT, STOP_UNIT, MINUTES_REST, rest_timeout=REPORT_GEN_TIMEOUT,max_id_attempts=REPORT_ID_ATTEMPTS  )\n",
    "        "
   ]
  },
  {
   "cell_type": "code",
   "execution_count": null,
   "metadata": {},
   "outputs": [],
   "source": []
  },
  {
   "cell_type": "code",
   "execution_count": null,
   "metadata": {},
   "outputs": [],
   "source": []
  }
 ],
 "metadata": {
  "kernelspec": {
   "display_name": "canv-env",
   "language": "python",
   "name": "canv-env"
  },
  "language_info": {
   "codemirror_mode": {
    "name": "ipython",
    "version": 3
   },
   "file_extension": ".py",
   "mimetype": "text/x-python",
   "name": "python",
   "nbconvert_exporter": "python",
   "pygments_lexer": "ipython3",
   "version": "3.10.14"
  },
  "toc": {
   "base_numbering": 1,
   "nav_menu": {
    "height": "141.067px",
    "width": "251.1px"
   },
   "number_sections": true,
   "sideBar": true,
   "skip_h1_title": false,
   "title_cell": "Table of Contents",
   "title_sidebar": "Contents",
   "toc_cell": false,
   "toc_position": {},
   "toc_section_display": "block",
   "toc_window_display": false
  },
  "varInspector": {
   "cols": {
    "lenName": 16,
    "lenType": 16,
    "lenVar": 40
   },
   "kernels_config": {
    "python": {
     "delete_cmd_postfix": "",
     "delete_cmd_prefix": "del ",
     "library": "var_list.py",
     "varRefreshCmd": "print(var_dic_list())"
    },
    "r": {
     "delete_cmd_postfix": ") ",
     "delete_cmd_prefix": "rm(",
     "library": "var_list.r",
     "varRefreshCmd": "cat(var_dic_list()) "
    }
   },
   "types_to_exclude": [
    "module",
    "function",
    "builtin_function_or_method",
    "instance",
    "_Feature"
   ],
   "window_display": false
  }
 },
 "nbformat": 4,
 "nbformat_minor": 2
}
