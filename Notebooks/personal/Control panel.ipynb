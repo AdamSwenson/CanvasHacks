{
 "cells": [
  {
   "cell_type": "markdown",
   "metadata": {},
   "source": [
    "__This contains the master controls and dashboards for all tools. No development should be done herein__\n",
    "\n",
    "todo\n",
    "\n",
    "    Summary output should indicate how many new submissions since last run\n",
    "    \n",
    "    Update the run multiple tools to use loop when run from command line.\n",
    "    \n",
    "    ability to easily get discussion post counts (to troubleshoot reviews)"
   ]
  },
  {
   "cell_type": "code",
   "execution_count": null,
   "metadata": {
    "run_control": {
     "marked": true
    }
   },
   "outputs": [],
   "source": [
    "%%javascript\n",
    "IPython.OutputArea.prototype._should_scroll = function(lines) {\n",
    "    return false\n",
    "}"
   ]
  },
  {
   "cell_type": "code",
   "execution_count": null,
   "metadata": {
    "run_control": {
     "marked": true
    }
   },
   "outputs": [],
   "source": [
    "# %cd ~/Dropbox/CanvasHacks\n",
    "%cd ~/Documents/CanvasHacks\n",
    "from CanvasHacks import environment\n",
    "\n",
    "import pandas as pd\n",
    "pd.options.display.max_rows = 999\n",
    "from CanvasHacks.Widgets.SkaaControls import multiple_unit_control\n",
    "from CanvasHacks.Widgets.DashboardControls import button_area, make_control_store\n",
    "from CanvasHacks.Displays.dashboard import ControlStore\n",
    "# \n",
    "# individ_control_store = make_control_store()\n",
    "# button_area(individ_control_store)\n"
   ]
  },
  {
   "cell_type": "code",
   "execution_count": null,
   "metadata": {},
   "outputs": [],
   "source": [
    "environment.__dict__"
   ]
  },
  {
   "cell_type": "code",
   "execution_count": null,
   "metadata": {
    "run_control": {
     "marked": true
    }
   },
   "outputs": [],
   "source": [
    "from CanvasHacks.executables.easy_skaa_runner import run_multiple_units\n",
    "\n",
    "control_store = ControlStore()\n",
    "START_UNIT = 2\n",
    "STOP_UNIT = 4  \n",
    "# MINUTES_REST = 120\n",
    "MINUTES_REST = 45\n",
    "\n",
    "REPORT_GEN_TIMEOUT = 25#60\n",
    "REPORT_ID_ATTEMPTS = 100"
   ]
  },
  {
   "cell_type": "code",
   "execution_count": null,
   "metadata": {
    "run_control": {
     "marked": true
    }
   },
   "outputs": [],
   "source": [
    "try:\n",
    "    run_multiple_units(control_store, START_UNIT, STOP_UNIT, MINUTES_REST, rest_timeout=REPORT_GEN_TIMEOUT,max_id_attempts=REPORT_ID_ATTEMPTS  )\n",
    "except:\n",
    "    run_multiple_units(control_store, START_UNIT, STOP_UNIT, MINUTES_REST, rest_timeout=REPORT_GEN_TIMEOUT,max_id_attempts=REPORT_ID_ATTEMPTS  )\n",
    "        "
   ]
  },
  {
   "cell_type": "code",
   "execution_count": null,
   "metadata": {},
   "outputs": [],
   "source": []
  },
  {
   "cell_type": "code",
   "execution_count": null,
   "metadata": {},
   "outputs": [],
   "source": []
  },
  {
   "cell_type": "code",
   "execution_count": null,
   "metadata": {},
   "outputs": [],
   "source": [
    "    "
   ]
  },
  {
   "cell_type": "code",
   "execution_count": null,
   "metadata": {},
   "outputs": [],
   "source": []
  },
  {
   "cell_type": "code",
   "execution_count": null,
   "metadata": {
    "deletable": false,
    "editable": false,
    "run_control": {
     "frozen": true
    }
   },
   "outputs": [],
   "source": [
    "def runner(control_store, start_unit=START_UNIT, stop_unit=STOP_UNIT, minutes_rest=MINUTES_REST, rest_timeout=REPORT_GEN_TIMEOUT,max_id_attempts=REPORT_ID_ATTEMPTS ):\n",
    "    try:\n",
    "        run_multiple_units(control_store, start_unit, stop_unit, minutes_rest, rest_timeout, max_id_attempts )\n",
    "    except:\n",
    "        runner(control_store, start_unit, stop_unit, minutes_rest, rest_timeout, max_id_attempts )\n",
    "\n",
    "runner(control_store, start_unit=START_UNIT, stop_unit=STOP_UNIT, minutes_rest=MINUTES_REST, rest_timeout=REPORT_GEN_TIMEOUT,max_id_attempts=REPORT_ID_ATTEMPTS )\n"
   ]
  },
  {
   "cell_type": "code",
   "execution_count": null,
   "metadata": {},
   "outputs": [],
   "source": []
  },
  {
   "cell_type": "code",
   "execution_count": null,
   "metadata": {
    "deletable": false,
    "editable": false,
    "run_control": {
     "frozen": true
    }
   },
   "outputs": [],
   "source": [
    "def t():\n",
    "    try:\n",
    "        raise Exception\n",
    "    except:\n",
    "        print('j')\n",
    "        t()\n",
    "\n",
    "t()"
   ]
  },
  {
   "cell_type": "code",
   "execution_count": null,
   "metadata": {},
   "outputs": [],
   "source": []
  },
  {
   "cell_type": "code",
   "execution_count": null,
   "metadata": {},
   "outputs": [],
   "source": []
  },
  {
   "cell_type": "code",
   "execution_count": null,
   "metadata": {},
   "outputs": [],
   "source": []
  },
  {
   "cell_type": "code",
   "execution_count": null,
   "metadata": {},
   "outputs": [],
   "source": []
  },
  {
   "cell_type": "code",
   "execution_count": null,
   "metadata": {
    "run_control": {
     "marked": true
    }
   },
   "outputs": [],
   "source": [
    "control_store = ControlStore()\n",
    "multiple_unit_control(control_store)"
   ]
  },
  {
   "cell_type": "markdown",
   "metadata": {},
   "source": [
    "Remember: for F20 Unit 1 need to update the downloaded file as follows:\n",
    "\n",
    "    Rename question field to 'body'\n",
    "\n",
    "    Rename id to student_id\n",
    "    \n",
    "    Make a copy of student_id column and call it user_id\n",
    "    "
   ]
  },
  {
   "cell_type": "code",
   "execution_count": null,
   "metadata": {},
   "outputs": [],
   "source": [
    "# current run\n",
    "control_store.display_stats()"
   ]
  },
  {
   "cell_type": "code",
   "execution_count": null,
   "metadata": {
    "deletable": false,
    "editable": false,
    "run_control": {
     "frozen": true
    }
   },
   "outputs": [],
   "source": [
    "# prev run\n",
    "control_store.d"
   ]
  },
  {
   "cell_type": "code",
   "execution_count": null,
   "metadata": {},
   "outputs": [],
   "source": []
  },
  {
   "cell_type": "code",
   "execution_count": null,
   "metadata": {},
   "outputs": [],
   "source": [
    "control_store.display_incomplete_tables()"
   ]
  },
  {
   "cell_type": "markdown",
   "metadata": {},
   "source": [
    "# Plots"
   ]
  },
  {
   "cell_type": "code",
   "execution_count": null,
   "metadata": {},
   "outputs": [],
   "source": [
    "#  control_store._get_unit_run_data(8)"
   ]
  },
  {
   "cell_type": "code",
   "execution_count": null,
   "metadata": {},
   "outputs": [],
   "source": [
    "units = [i for i in range(1,7)]\n",
    "units.append(8)\n",
    "# print(units)\n",
    "d = pd.DataFrame([ control_store._get_unit_run_data(i) for i in units])\n",
    "\n",
    "renames = {\n",
    "    'unit_number' : 'Unit',\n",
    "    'essay' : 'Essay',\n",
    "    'no_essay' : \"No Essay\",\n",
    "    'skaa_review' : 'Review',\n",
    "    'skaa_no_review' : \"No Review\",\n",
    "    'skaa_metareview' : \"Metareview\",\n",
    "    'skaa_no_metareview' : 'No Metareview'\n",
    "}\n",
    "\n",
    "d.rename(renames, axis=1, inplace=True)\n",
    "# d\n",
    "\n",
    "def plot_summary(frame, complete_name, incomplete_name):\n",
    "\n",
    "    TOOLTIPS = [\n",
    "    #     (\"avg total\", \"@total_patients{0,0}\"),\n",
    "    #         (\"date\", \"@date\")\n",
    "    ]\n",
    "\n",
    "    p = figure(\n",
    "        plot_width=1000,\n",
    "        plot_height=400,\n",
    "        title=f\"{complete_name} \",\n",
    "    #     x_axis_type='datetime',\n",
    "    #            tooltips=TOOLTIPS\n",
    "    )\n",
    "\n",
    "    #     bar_data = frame.reset_index()\n",
    "    #     if trim_pos is not None:\n",
    "    #         bar_data = bar_data[bar_data[field_name] <= trim_pos]\n",
    "    #     if trim_neg is not None:\n",
    "    #         bar_data = bar_data[bar_data[field_name] >= trim_neg]\n",
    "\n",
    "    source = ColumnDataSource(frame)\n",
    "\n",
    "    # add a circle renderer with a size, color, and alpha\n",
    "    # p.circle(x='date', y='new_confirmed_cases', size=10, color=\"navy\", source=source, alpha=0.5)\n",
    "    p.vbar(\n",
    "        x='Unit',\n",
    "        top=complete_name,\n",
    "        color=\"green\",\n",
    "        width=0.3,\n",
    "        source=source,\n",
    "        alpha=0.8,\n",
    "        legend_label=complete_name)\n",
    "\n",
    "    p.vbar(\n",
    "#         x='Unit',\n",
    "            x=dodge('Unit', -0.3, range=p.x_range),\n",
    "        top=incomplete_name,\n",
    "        color=\"red\",\n",
    "        width=0.3,\n",
    "        source=source,\n",
    "        alpha=0.8,\n",
    "        legend_label=incomplete_name,\n",
    ")\n",
    "\n",
    "\n",
    "# source = ColumnDataSource(data=dict(x=x, counts=counts))\n",
    "    \n",
    "    # p.line(\n",
    "    #     x='date',\n",
    "    #     y='total_patients',\n",
    "    #     line_width=5,\n",
    "    #     color=\"navy\",\n",
    "    #     source=source2,\n",
    "    #     alpha=0.3,\n",
    "    #     legend_label='7-day rolling avg')\n",
    "\n",
    "    p.legend.location = 'bottom_left'\n",
    "\n",
    "    show(p)\n"
   ]
  },
  {
   "cell_type": "code",
   "execution_count": null,
   "metadata": {
    "deletable": false,
    "editable": false,
    "run_control": {
     "frozen": true
    }
   },
   "outputs": [],
   "source": [
    "d.set_index('unit_number',inplace=True)\n",
    "d"
   ]
  },
  {
   "cell_type": "code",
   "execution_count": null,
   "metadata": {
    "deletable": false,
    "editable": false,
    "run_control": {
     "frozen": true
    }
   },
   "outputs": [],
   "source": [
    "essay = d[['essay', 'no_essay']]\n",
    "review = d[['skaa_review', 'skaa_no_review']]\n",
    "metareview = d[['skaa_metareview', 'skaa_no_metareview']]\n"
   ]
  },
  {
   "cell_type": "code",
   "execution_count": null,
   "metadata": {},
   "outputs": [],
   "source": [
    "sns.countplot(d[['Essay', 'No Essay']])"
   ]
  },
  {
   "cell_type": "code",
   "execution_count": null,
   "metadata": {},
   "outputs": [],
   "source": []
  },
  {
   "cell_type": "code",
   "execution_count": null,
   "metadata": {},
   "outputs": [],
   "source": [
    "complete_name = 'Essay'\n",
    "incomplete_name = 'No Essay'\n",
    "frame = d.copy()\n",
    "cols = [complete_name, incomplete_name]\n",
    "units = frame.Unit.tolist()\n",
    "x = [ (col, unit) for col in cols for unit in units ]\n",
    "# counts = sum(zip(data['2015'], data['2016'], data['2017']), ()) # like an hstack\n"
   ]
  },
  {
   "cell_type": "code",
   "execution_count": null,
   "metadata": {},
   "outputs": [],
   "source": [
    "plot_summary(d, 'Essay', 'No Essay')\n",
    "\n",
    "plot_summary(d, 'Review', 'No Review')\n",
    "\n",
    "plot_summary(d, 'Metareview', 'No Metareview')\n",
    "\n",
    "# When things get submitted\n",
    "\n",
    "from bokeh.transform import jitter\n",
    "from bokeh.transform import linear_cmap\n",
    "from bokeh.palettes import Spectral6, Plasma, mpl\n",
    "\n",
    "MAX_UNIT = 8\n",
    "\n",
    "units = [u for u in range(1,MAX_UNIT + 1)]\n",
    "subs = []\n",
    "\n",
    "for u in units:\n",
    "    try:\n",
    "        for i, r in control_store.skaa_repos[u].data.iterrows():\n",
    "            subs.append({ 'unit' : u , 'submitted' : r.invited_to_review} )\n",
    "    except (KeyError, AttributeError):\n",
    "        pass\n",
    "\n",
    "subs = pd.DataFrame(subs)\n",
    "subs.dropna(inplace=True)\n",
    "source = ColumnDataSource(subs)\n",
    "\n",
    "mapper = linear_cmap(field_name='unit', palette=mpl['Plasma'][7] ,low=min(units) ,high=max(units))\n",
    "\n",
    "p = figure(\n",
    "        plot_width=900,\n",
    "        plot_height=300,\n",
    "        title=f\"Essay submissions\",\n",
    "        x_axis_type='datetime') #,\n",
    "\n",
    "p.circle(x='submitted', \n",
    "         y=jitter('unit', width=0.6, range=p.y_range),\n",
    "         legend_label='unit', \n",
    "         color=mapper, \n",
    "         source=source, \n",
    "         alpha=0.9)\n",
    "p.legend.location = 'top_left'\n",
    "\n",
    "show(p)\n"
   ]
  },
  {
   "cell_type": "code",
   "execution_count": null,
   "metadata": {},
   "outputs": [],
   "source": []
  },
  {
   "cell_type": "code",
   "execution_count": null,
   "metadata": {},
   "outputs": [],
   "source": []
  },
  {
   "cell_type": "code",
   "execution_count": null,
   "metadata": {},
   "outputs": [],
   "source": []
  },
  {
   "cell_type": "markdown",
   "metadata": {},
   "source": [
    "todo\n",
    "\n",
    "ability to see which students are waiting"
   ]
  },
  {
   "cell_type": "markdown",
   "metadata": {},
   "source": [
    "# Students missing some portion"
   ]
  },
  {
   "cell_type": "code",
   "execution_count": null,
   "metadata": {},
   "outputs": [],
   "source": [
    "control_store.display_incomplete_tables()"
   ]
  },
  {
   "cell_type": "code",
   "execution_count": null,
   "metadata": {},
   "outputs": [],
   "source": [
    "control_store.skaa_repos[3].data"
   ]
  },
  {
   "cell_type": "markdown",
   "metadata": {},
   "source": [
    "# Students who have completed the assignments"
   ]
  },
  {
   "cell_type": "code",
   "execution_count": null,
   "metadata": {},
   "outputs": [],
   "source": [
    "control_store.display_complete_tables()"
   ]
  },
  {
   "cell_type": "code",
   "execution_count": null,
   "metadata": {},
   "outputs": [],
   "source": []
  },
  {
   "cell_type": "code",
   "execution_count": null,
   "metadata": {},
   "outputs": [],
   "source": [
    "control_store.units[3].components[1].__dict__"
   ]
  },
  {
   "cell_type": "code",
   "execution_count": null,
   "metadata": {},
   "outputs": [],
   "source": []
  },
  {
   "cell_type": "code",
   "execution_count": null,
   "metadata": {},
   "outputs": [],
   "source": [
    "environment.CONFIG.unit.review"
   ]
  },
  {
   "cell_type": "markdown",
   "metadata": {},
   "source": [
    "# Stats after running for individual units\n",
    "\n",
    "NB, must manually load tables with button before using\n",
    "\n",
    "## SKAA\n",
    "\n",
    "### Students who haven't turned in the Essay / content assignment"
   ]
  },
  {
   "cell_type": "code",
   "execution_count": null,
   "metadata": {},
   "outputs": [],
   "source": [
    "individ_control_store['all_steps'][3]['skaa_dash'].no_essay\n",
    "# control_store['skaa_dash'].no_essay"
   ]
  },
  {
   "cell_type": "markdown",
   "metadata": {},
   "source": [
    "### Students whose reviewer hasn't turned in the review"
   ]
  },
  {
   "cell_type": "code",
   "execution_count": null,
   "metadata": {},
   "outputs": [],
   "source": [
    "individ_control_store['skaa_dash'].non_reviewed"
   ]
  },
  {
   "cell_type": "markdown",
   "metadata": {},
   "source": [
    "### Reviewers whose author hasn't turned in metareview\n",
    "\n",
    "Here we needd to look at the reviewing field. The 'student' is the person who didn't turn in the metareview"
   ]
  },
  {
   "cell_type": "code",
   "execution_count": null,
   "metadata": {},
   "outputs": [],
   "source": [
    "individ_control_store['skaa_dash'].non_metareviewed"
   ]
  },
  {
   "cell_type": "markdown",
   "metadata": {},
   "source": [
    "## Discussions\n",
    "### Students who haven't posted to the forum"
   ]
  },
  {
   "cell_type": "code",
   "execution_count": null,
   "metadata": {},
   "outputs": [],
   "source": [
    "individ_control_store['diss_dash'].non_posters"
   ]
  },
  {
   "cell_type": "markdown",
   "metadata": {},
   "source": [
    "### Students whose reviewers didn't do the review"
   ]
  },
  {
   "cell_type": "code",
   "execution_count": null,
   "metadata": {},
   "outputs": [],
   "source": [
    "individ_control_store['diss_dash'].non_reviewed"
   ]
  },
  {
   "cell_type": "code",
   "execution_count": null,
   "metadata": {},
   "outputs": [],
   "source": [
    "individ_control_store['diss_dash'].reviewed"
   ]
  },
  {
   "cell_type": "code",
   "execution_count": null,
   "metadata": {},
   "outputs": [],
   "source": []
  },
  {
   "cell_type": "code",
   "execution_count": null,
   "metadata": {},
   "outputs": [],
   "source": []
  },
  {
   "cell_type": "code",
   "execution_count": null,
   "metadata": {},
   "outputs": [],
   "source": []
  },
  {
   "cell_type": "code",
   "execution_count": null,
   "metadata": {},
   "outputs": [],
   "source": []
  },
  {
   "cell_type": "code",
   "execution_count": null,
   "metadata": {},
   "outputs": [],
   "source": []
  },
  {
   "cell_type": "code",
   "execution_count": null,
   "metadata": {},
   "outputs": [],
   "source": []
  },
  {
   "cell_type": "code",
   "execution_count": null,
   "metadata": {},
   "outputs": [],
   "source": []
  }
 ],
 "metadata": {
  "kernelspec": {
   "display_name": "canv-env",
   "language": "python",
   "name": "canv-env"
  },
  "language_info": {
   "codemirror_mode": {
    "name": "ipython",
    "version": 3
   },
   "file_extension": ".py",
   "mimetype": "text/x-python",
   "name": "python",
   "nbconvert_exporter": "python",
   "pygments_lexer": "ipython3",
   "version": "3.10.14"
  },
  "toc": {
   "base_numbering": 1,
   "nav_menu": {
    "height": "141.067px",
    "width": "251.1px"
   },
   "number_sections": true,
   "sideBar": true,
   "skip_h1_title": false,
   "title_cell": "Table of Contents",
   "title_sidebar": "Contents",
   "toc_cell": false,
   "toc_position": {},
   "toc_section_display": "block",
   "toc_window_display": false
  },
  "varInspector": {
   "cols": {
    "lenName": 16,
    "lenType": 16,
    "lenVar": 40
   },
   "kernels_config": {
    "python": {
     "delete_cmd_postfix": "",
     "delete_cmd_prefix": "del ",
     "library": "var_list.py",
     "varRefreshCmd": "print(var_dic_list())"
    },
    "r": {
     "delete_cmd_postfix": ") ",
     "delete_cmd_prefix": "rm(",
     "library": "var_list.r",
     "varRefreshCmd": "cat(var_dic_list()) "
    }
   },
   "types_to_exclude": [
    "module",
    "function",
    "builtin_function_or_method",
    "instance",
    "_Feature"
   ],
   "window_display": false
  }
 },
 "nbformat": 4,
 "nbformat_minor": 2
}
