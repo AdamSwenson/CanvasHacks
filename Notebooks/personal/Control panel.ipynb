{
 "cells": [
  {
   "cell_type": "markdown",
   "metadata": {},
   "source": [
    "__This contains the master controls and dashboards for all tools. No development should be done herein__\n",
    "\n",
    "todo\n",
    "\n",
    "    Summary output should indicate how many new submissions since last run\n",
    "    \n",
    "    Update the run multiple tools to use loop when run from command line.\n",
    "    \n",
    "    ability to easily get discussion post counts (to troubleshoot reviews)"
   ]
  },
  {
   "cell_type": "code",
   "execution_count": null,
   "metadata": {
    "run_control": {
     "marked": true
    }
   },
   "outputs": [],
   "source": [
    "%%javascript\n",
    "IPython.OutputArea.prototype._should_scroll = function(lines) {\n",
    "    return false;\n",
    "}"
   ]
  },
  {
   "cell_type": "code",
   "execution_count": null,
   "metadata": {
    "run_control": {
     "marked": true
    }
   },
   "outputs": [],
   "source": [
    "%cd ~/Dropbox/CanvasHacks\n",
    "from CanvasHacks import environment\n",
    "\n",
    "import pandas as pd\n",
    "pd.options.display.max_rows = 999\n",
    "from CanvasHacks.Widgets.SkaaControls import multiple_unit_control\n",
    "from CanvasHacks.Widgets.DashboardControls import button_area, make_control_store\n",
    "from CanvasHacks.Displays.dashboard import ControlStore\n",
    "\n",
    "individ_control_store = make_control_store()\n",
    "button_area(individ_control_store)\n",
    "\n",
    "control_store = ControlStore()\n",
    "multiple_unit_control(control_store)"
   ]
  },
  {
   "cell_type": "code",
   "execution_count": null,
   "metadata": {},
   "outputs": [],
   "source": [
    "PROBLEM FOR UNIT 1 METAREVIEW\n",
    "\n",
    "Going to send metareview results for 2 students\n",
    "'NoneType' object has no attribute 'sortable_name'\n",
    "\n",
    "---------------------------------------------------------------------------\n",
    "AttributeError                            Traceback (most recent call last)\n",
    "~/Dropbox/CanvasHacks/CanvasHacks/Messaging/skaa.py in prepare_message(self, review_assignment, other)\n",
    "    216 \n",
    "--> 217                 'name': get_first_name( receiving_student ),\n",
    "    218 \n",
    "\n",
    "~/Dropbox/CanvasHacks/CanvasHacks/Models/student.py in get_first_name(user)\n",
    "     62     \"\"\"\n",
    "---> 63     return user.sortable_name.split(',')[1]\n",
    "     64 \n",
    "\n",
    "AttributeError: 'NoneType' object has no attribute 'sortable_name'\n",
    "\n",
    "During handling of the above exception, another exception occurred:\n",
    "\n",
    "MessageDataCreationError                  Traceback (most recent call last)\n",
    "~/.pyenv/versions/3.6.4/lib/python3.6/site-packages/ipywidgets/widgets/widget_output.py in inner(*args, **kwargs)\n",
    "     99                     self.clear_output(*clear_args, **clear_kwargs)\n",
    "    100                 with self:\n",
    "--> 101                     return func(*args, **kwargs)\n",
    "    102             return inner\n",
    "    103         return capture_decorator\n",
    "\n",
    "~/Dropbox/CanvasHacks/CanvasHacks/Widgets/SkaaControls.py in callback(change)\n",
    "    146 \n",
    "    147                 elif tasks.value == 'SKAA':\n",
    "--> 148                     control_store.completed_steps = skaa_runner.run( **kwargs )\n",
    "    149 \n",
    "    150                     # control_store['all_steps'].append(skaa_runner.run(**kwargs))\n",
    "\n",
    "~/Dropbox/CanvasHacks/CanvasHacks/executables/run_skaa_on_multiple_units.py in run(self, **kwargs)\n",
    "     41             # environment.CONFIG.unit = Unit( environment.CONFIG.course, unit_number )\n",
    "     42 \n",
    "---> 43             results[unit_number] = run_all_steps( **kwargs )\n",
    "     44         return results\n",
    "     45 \n",
    "\n",
    "~/Dropbox/CanvasHacks/CanvasHacks/executables/run_skaa_on_single_unit.py in run_all_steps(SEND, download, **kwargs)\n",
    "     33                                           send=SEND,\n",
    "     34                                           **kwargs)\n",
    "---> 35         step3.run( rest_timeout=5, download=download )\n",
    "     36     except AttributeError as e:\n",
    "     37         # This may be raised when there is no metareview assignment\n",
    "\n",
    "~/Dropbox/CanvasHacks/CanvasHacks/SkaaSteps/SendMetareviewToReviewer.py in run(self, **kwargs)\n",
    "     57             self._assign_step()\n",
    "     58 \n",
    "---> 59             self._message_step()\n",
    "     60 \n",
    "     61         except NoStudentsNeedNotification:\n",
    "\n",
    "~/Dropbox/CanvasHacks/CanvasHacks/SkaaSteps/SendMetareviewToReviewer.py in _message_step(self)\n",
    "     70                                                           self.work_repo,\n",
    "     71                                                           self.statusRepos )\n",
    "---> 72         self.messenger.notify( self.associations, self.send )\n",
    "     73         # Log the run\n",
    "     74         msg = \"Sent {} metareview results to authors\".format( len( self.associations ) )\n",
    "\n",
    "~/Dropbox/CanvasHacks/CanvasHacks/Messaging/base.py in notify(self, review_assignments, send, other)\n",
    "    114         for rev in review_assignments:\n",
    "    115             # print( rev )\n",
    "--> 116             message_data = self.prepare_message( rev, other )\n",
    "    117             # messages.append( message_data )\n",
    "    118 \n",
    "\n",
    "~/Dropbox/CanvasHacks/CanvasHacks/Messaging/skaa.py in prepare_message(self, review_assignment, other)\n",
    "    236             # todo exception handling\n",
    "    237             print( e )\n",
    "--> 238             raise MessageDataCreationError( review_assignment )\n",
    "    239 \n",
    "    240 \n",
    "\n",
    "MessageDataCreationError: <ReviewAssociation(id=24, activity_id=765481, assessor_id=178415, assessee_id=190233\n",
    "\n"
   ]
  },
  {
   "cell_type": "markdown",
   "metadata": {},
   "source": [
    "Remember: for F20 Unit 1 need to update the downloaded file as follows:\n",
    "\n",
    "    Rename question field to 'body'\n",
    "\n",
    "    Rename id to student_id\n",
    "    \n",
    "    Make a copy of student_id column and call it user_id\n",
    "    "
   ]
  },
  {
   "cell_type": "code",
   "execution_count": null,
   "metadata": {},
   "outputs": [],
   "source": [
    "# current run\n",
    "control_store.display_stats()"
   ]
  },
  {
   "cell_type": "code",
   "execution_count": null,
   "metadata": {},
   "outputs": [],
   "source": [
    "# prev run\n",
    "control_store.display_stats()"
   ]
  },
  {
   "cell_type": "markdown",
   "metadata": {},
   "source": [
    "todo\n",
    "\n",
    "ability to see which students are waiting"
   ]
  },
  {
   "cell_type": "markdown",
   "metadata": {},
   "source": [
    "# Students missing some portion"
   ]
  },
  {
   "cell_type": "code",
   "execution_count": null,
   "metadata": {},
   "outputs": [],
   "source": [
    "control_store.display_incomplete_tables()"
   ]
  },
  {
   "cell_type": "markdown",
   "metadata": {},
   "source": [
    "# Students who have completed the assignments"
   ]
  },
  {
   "cell_type": "code",
   "execution_count": null,
   "metadata": {},
   "outputs": [],
   "source": [
    "control_store.display_complete_tables()"
   ]
  },
  {
   "cell_type": "code",
   "execution_count": null,
   "metadata": {},
   "outputs": [],
   "source": []
  },
  {
   "cell_type": "code",
   "execution_count": null,
   "metadata": {},
   "outputs": [],
   "source": [
    "control_store.units[3].components[1].__dict__"
   ]
  },
  {
   "cell_type": "code",
   "execution_count": null,
   "metadata": {},
   "outputs": [],
   "source": []
  },
  {
   "cell_type": "code",
   "execution_count": null,
   "metadata": {},
   "outputs": [],
   "source": [
    "environment.CONFIG.unit.review"
   ]
  },
  {
   "cell_type": "markdown",
   "metadata": {},
   "source": [
    "# Stats after running for individual units\n",
    "\n",
    "NB, must manually load tables with button before using\n",
    "\n",
    "## SKAA\n",
    "\n",
    "### Students who haven't turned in the Essay / content assignment"
   ]
  },
  {
   "cell_type": "code",
   "execution_count": null,
   "metadata": {},
   "outputs": [],
   "source": [
    "individ_control_store['all_steps'][3]['skaa_dash'].no_essay\n",
    "# control_store['skaa_dash'].no_essay"
   ]
  },
  {
   "cell_type": "markdown",
   "metadata": {},
   "source": [
    "### Students whose reviewer hasn't turned in the review"
   ]
  },
  {
   "cell_type": "code",
   "execution_count": null,
   "metadata": {},
   "outputs": [],
   "source": [
    "individ_control_store['skaa_dash'].non_reviewed"
   ]
  },
  {
   "cell_type": "markdown",
   "metadata": {},
   "source": [
    "### Reviewers whose author hasn't turned in metareview\n",
    "\n",
    "Here we needd to look at the reviewing field. The 'student' is the person who didn't turn in the metareview"
   ]
  },
  {
   "cell_type": "code",
   "execution_count": null,
   "metadata": {},
   "outputs": [],
   "source": [
    "individ_control_store['skaa_dash'].non_metareviewed"
   ]
  },
  {
   "cell_type": "markdown",
   "metadata": {},
   "source": [
    "## Discussions\n",
    "### Students who haven't posted to the forum"
   ]
  },
  {
   "cell_type": "code",
   "execution_count": null,
   "metadata": {},
   "outputs": [],
   "source": [
    "individ_control_store['diss_dash'].non_posters"
   ]
  },
  {
   "cell_type": "markdown",
   "metadata": {},
   "source": [
    "### Students whose reviewers didn't do the review"
   ]
  },
  {
   "cell_type": "code",
   "execution_count": null,
   "metadata": {},
   "outputs": [],
   "source": [
    "individ_control_store['diss_dash'].non_reviewed"
   ]
  },
  {
   "cell_type": "code",
   "execution_count": null,
   "metadata": {},
   "outputs": [],
   "source": [
    "individ_control_store['diss_dash'].reviewed"
   ]
  },
  {
   "cell_type": "code",
   "execution_count": null,
   "metadata": {},
   "outputs": [],
   "source": []
  },
  {
   "cell_type": "code",
   "execution_count": null,
   "metadata": {},
   "outputs": [],
   "source": []
  },
  {
   "cell_type": "code",
   "execution_count": null,
   "metadata": {},
   "outputs": [],
   "source": []
  },
  {
   "cell_type": "code",
   "execution_count": null,
   "metadata": {},
   "outputs": [],
   "source": []
  },
  {
   "cell_type": "code",
   "execution_count": null,
   "metadata": {},
   "outputs": [],
   "source": []
  },
  {
   "cell_type": "code",
   "execution_count": null,
   "metadata": {},
   "outputs": [],
   "source": []
  },
  {
   "cell_type": "code",
   "execution_count": null,
   "metadata": {},
   "outputs": [],
   "source": []
  }
 ],
 "metadata": {
  "kernelspec": {
   "display_name": "canv-env",
   "language": "python",
   "name": "canv-env"
  },
  "language_info": {
   "codemirror_mode": {
    "name": "ipython",
    "version": 3
   },
   "file_extension": ".py",
   "mimetype": "text/x-python",
   "name": "python",
   "nbconvert_exporter": "python",
   "pygments_lexer": "ipython3",
   "version": "3.6.4"
  },
  "toc": {
   "colors": {
    "hover_highlight": "#DAA520",
    "navigate_num": "#000000",
    "navigate_text": "#333333",
    "running_highlight": "#FF0000",
    "selected_highlight": "#FFD700",
    "sidebar_border": "#EEEEEE",
    "wrapper_background": "#FFFFFF"
   },
   "moveMenuLeft": true,
   "nav_menu": {
    "height": "141.067px",
    "width": "251.1px"
   },
   "navigate_menu": true,
   "number_sections": true,
   "sideBar": true,
   "threshold": 4,
   "toc_cell": false,
   "toc_section_display": "block",
   "toc_window_display": false,
   "widenNotebook": false
  }
 },
 "nbformat": 4,
 "nbformat_minor": 2
}
