{
 "cells": [
  {
   "cell_type": "code",
   "execution_count": null,
   "metadata": {},
   "outputs": [],
   "source": [
    "# random model"
   ]
  },
  {
   "cell_type": "code",
   "execution_count": null,
   "metadata": {},
   "outputs": [],
   "source": [
    "student_time = \n",
    "\n",
    "\n",
    "def student_ed_units(net_input_time, individual_characteristics_and_context):\n",
    "    ed_units = 0\n",
    "    #     .....\n",
    "    return ed_units\n",
    "\n",
    "def optimize(ed_unit_function, number_students):\n",
    "    \"\"\"returns a tuple (ed_units, time_taken)\"\"\"\n",
    "    # recursive crap\n",
    "    \n",
    "\n",
    "def adam_optimize(teaching_time_available, number_students):\n",
    "    time_per_student = teaching_time_available / number_students\n",
    "    "
   ]
  },
  {
   "cell_type": "code",
   "execution_count": null,
   "metadata": {},
   "outputs": [],
   "source": []
  },
  {
   "cell_type": "code",
   "execution_count": null,
   "metadata": {},
   "outputs": [],
   "source": []
  },
  {
   "cell_type": "code",
   "execution_count": null,
   "metadata": {},
   "outputs": [],
   "source": []
  },
  {
   "cell_type": "code",
   "execution_count": null,
   "metadata": {},
   "outputs": [],
   "source": []
  },
  {
   "cell_type": "code",
   "execution_count": null,
   "metadata": {},
   "outputs": [],
   "source": []
  },
  {
   "cell_type": "code",
   "execution_count": null,
   "metadata": {},
   "outputs": [],
   "source": []
  },
  {
   "cell_type": "code",
   "execution_count": null,
   "metadata": {},
   "outputs": [],
   "source": []
  },
  {
   "cell_type": "code",
   "execution_count": null,
   "metadata": {},
   "outputs": [],
   "source": []
  },
  {
   "cell_type": "code",
   "execution_count": null,
   "metadata": {},
   "outputs": [],
   "source": [
    "%cd ~/Dropbox/CanvasHacks\n",
    "\n",
    "\n",
    "from IPython.display import display, Latex\n",
    "from ipywidgets import widgets\n",
    "\n",
    "import pandas as pd\n",
    "pd.options.display.max_rows = 999\n",
    "\n",
    "#Plotting \n",
    "%matplotlib inline\n",
    "from matplotlib import pyplot as plt\n",
    "from IPython.display import set_matplotlib_formats\n",
    "set_matplotlib_formats('svg', 'pdf')\n",
    "\n",
    "import seaborn as sns\n",
    "sns.set(style=\"whitegrid\")\n",
    "sns.set_palette(sns.color_palette('plasma'))\n",
    "\n",
    "from canvasapi import Canvas\n",
    "from CanvasHacks import environment\n",
    "from CanvasHacks.Files.FileTools import makeDataFileIterator\n",
    "from CanvasHacks.Text.cleaners import UtfCleaner\n",
    "\n",
    "SEMESTER_NAME = 'F20'\n",
    "SURVEY_FOLDER = '{}/Box Sync/TEACHING/Phil 305 Business ethics/Surveys/{}'.format(environment.ROOT, SEMESTER_NAME)"
   ]
  },
  {
   "cell_type": "code",
   "execution_count": null,
   "metadata": {},
   "outputs": [],
   "source": [
    "fiter = makeDataFileIterator(SURVEY_FOLDER)\n",
    "files = [f for f in fiter]"
   ]
  },
  {
   "cell_type": "code",
   "execution_count": null,
   "metadata": {},
   "outputs": [],
   "source": [
    "files"
   ]
  },
  {
   "cell_type": "code",
   "execution_count": null,
   "metadata": {},
   "outputs": [],
   "source": [
    "data = pd.read_excel(files[1])\n",
    "# data.columns"
   ]
  },
  {
   "cell_type": "code",
   "execution_count": null,
   "metadata": {},
   "outputs": [],
   "source": [
    "data"
   ]
  },
  {
   "cell_type": "code",
   "execution_count": null,
   "metadata": {},
   "outputs": [],
   "source": [
    "to_drop = ['id', 'sis_id', 'section', 'section_id', 'section_sis_id','submitted', 'attempt', 'n correct', 'n incorrect', 'score']\n",
    "# to_drop = ['Unnamed: 0', 'id', 'sis_id', 'section', 'section_id', 'section_sis_id',\n",
    "#     'submitted', 'attempt', 'n correct', 'n incorrect', 'score']\n",
    "\n",
    "\n",
    "# remove stupid columns\n",
    "for c in data.columns:\n",
    "    try:\n",
    "        if float(c):\n",
    "            to_drop.append(c)\n",
    "    except ValueError:\n",
    "        pass\n",
    "\n",
    "data.drop(to_drop, inplace=True, axis=1)\n",
    "\n",
    "# clean up remaining names\n",
    "try:\n",
    "    to_rename = { c : c.split(':')[1].strip() for c in data.columns }\n",
    "    data.rename(to_rename, inplace=True, axis=1)\n",
    "except IndexError:\n",
    "    pass\n",
    "    \n",
    "    \n",
    "# Figure out which columns are likert scale ratings and which are text entry\n",
    "likert = ['Strongly agree', 'Agree', 'Disagree', 'Strongly disagree']\n",
    "hours_col = \"On average, approximately how much time have you spent on this class per week?\"\n",
    "\n",
    "text_entry_cols = [c for c in data.columns if data[c][0] not in likert and c != hours_col]\n",
    "likert_cols = [c for c in data.columns if c not in text_entry_cols and c != hours_col]"
   ]
  },
  {
   "cell_type": "code",
   "execution_count": null,
   "metadata": {},
   "outputs": [],
   "source": [
    "print(f\"{len(data)} responses to survey received\")"
   ]
  },
  {
   "cell_type": "markdown",
   "metadata": {},
   "source": [
    "# Work hours question"
   ]
  },
  {
   "cell_type": "code",
   "execution_count": null,
   "metadata": {},
   "outputs": [],
   "source": [
    "# hours_vals = list(set([c for c in data[hours_col]]))\n",
    "# hours_vals.sort()\n",
    "hours_vals = ['Less than 1 hour', '1-3 hours','3-5 hours','5-7 hours', 'More than 7 hours']\n",
    "\n",
    "fig, axes = plt.subplots(figsize=(7,4))\n",
    "sns.countplot(data[hours_col], order=hours_vals, ax=axes)\n",
    "fig.tight_layout()"
   ]
  },
  {
   "cell_type": "markdown",
   "metadata": {},
   "source": [
    "Given that a 3 unit class is supposed to take about 3 hours a week, this seems about right."
   ]
  },
  {
   "cell_type": "markdown",
   "metadata": {},
   "source": [
    "# Plot likert scale response distributions"
   ]
  },
  {
   "cell_type": "code",
   "execution_count": null,
   "metadata": {},
   "outputs": [],
   "source": [
    "likert.reverse()"
   ]
  },
  {
   "cell_type": "code",
   "execution_count": null,
   "metadata": {},
   "outputs": [],
   "source": [
    "fig, axes = plt.subplots(nrows=len(likert_cols), figsize=(10,30))\n",
    "\n",
    "for i, c in enumerate(likert_cols):\n",
    "    sns.countplot(data[c], ax=axes[i], order=likert)\n",
    "fig.tight_layout()"
   ]
  },
  {
   "cell_type": "markdown",
   "metadata": {},
   "source": [
    "# Open-ended response questions"
   ]
  },
  {
   "cell_type": "code",
   "execution_count": null,
   "metadata": {},
   "outputs": [],
   "source": [
    "header_temp = \"\\\\vspace{8mm}  \\\\begin{center} \\\\textbf{%s} \\\\end{center} \"\n",
    "entry_temp = \"\"\" \n",
    "\\\\vspace{8mm} \n",
    "\n",
    "%s \n",
    "\n",
    "\"\"\"\n",
    "t = \"\"\n",
    "\n",
    "for c in text_entry_cols:\n",
    "    t += header_temp % c \n",
    "    for v in data[c].dropna():\n",
    "        t += entry_temp % UtfCleaner.clean(v)\n",
    "display(Latex(t))"
   ]
  },
  {
   "cell_type": "code",
   "execution_count": null,
   "metadata": {
    "editable": false,
    "run_control": {
     "frozen": true
    }
   },
   "outputs": [],
   "source": [
    "header_temp = \"<h1>{}</h1>\"\n",
    "entry_temp = \"<p>{} <br>---</p>\"\n",
    "t = \"\"\n",
    "\n",
    "for c in text_entry_cols:\n",
    "    t += header_temp.format(c)\n",
    "    for v in data[c].dropna():\n",
    "        t += entry_temp.format(v) \n",
    "# widgets.HTML(t)\n",
    "display(widgets.HTML(t))"
   ]
  },
  {
   "cell_type": "code",
   "execution_count": null,
   "metadata": {},
   "outputs": [],
   "source": []
  },
  {
   "cell_type": "code",
   "execution_count": null,
   "metadata": {},
   "outputs": [],
   "source": []
  },
  {
   "cell_type": "code",
   "execution_count": null,
   "metadata": {},
   "outputs": [],
   "source": []
  },
  {
   "cell_type": "code",
   "execution_count": null,
   "metadata": {},
   "outputs": [],
   "source": []
  },
  {
   "cell_type": "code",
   "execution_count": null,
   "metadata": {},
   "outputs": [],
   "source": []
  },
  {
   "cell_type": "code",
   "execution_count": null,
   "metadata": {},
   "outputs": [],
   "source": []
  }
 ],
 "metadata": {
  "kernelspec": {
   "display_name": "canv-env",
   "language": "python",
   "name": "canv-env"
  },
  "language_info": {
   "codemirror_mode": {
    "name": "ipython",
    "version": 3
   },
   "file_extension": ".py",
   "mimetype": "text/x-python",
   "name": "python",
   "nbconvert_exporter": "python",
   "pygments_lexer": "ipython3",
   "version": "3.6.4"
  },
  "toc": {
   "colors": {
    "hover_highlight": "#DAA520",
    "navigate_num": "#000000",
    "navigate_text": "#333333",
    "running_highlight": "#FF0000",
    "selected_highlight": "#FFD700",
    "sidebar_border": "#EEEEEE",
    "wrapper_background": "#FFFFFF"
   },
   "moveMenuLeft": true,
   "nav_menu": {
    "height": "66.9667px",
    "width": "251.267px"
   },
   "navigate_menu": true,
   "number_sections": true,
   "sideBar": true,
   "threshold": 4,
   "toc_cell": false,
   "toc_section_display": "block",
   "toc_window_display": false,
   "widenNotebook": false
  }
 },
 "nbformat": 4,
 "nbformat_minor": 2
}
