{
 "cells": [
  {
   "cell_type": "code",
   "execution_count": null,
   "metadata": {
    "run_control": {
     "marked": true
    }
   },
   "outputs": [],
   "source": [
    "%cd ~/Dropbox/CanvasHacks\n",
    "\n",
    "#Plotting \n",
    "%matplotlib inline\n",
    "from matplotlib import pyplot as plt\n",
    "import seaborn as sns\n",
    "sns.set(style=\"whitegrid\")\n",
    "from IPython.display import set_matplotlib_formats\n",
    "set_matplotlib_formats('svg', 'pdf')\n",
    "\n",
    "\n",
    "import pandas as pd\n",
    "pd.options.display.max_rows = 999\n",
    "\n",
    "import datetime\n",
    "\n",
    "from CanvasHacks import environment\n",
    "from CanvasHacks.Configuration import InteractiveConfiguration\n",
    "\n",
    "# from CanvasHacks.RequestTools import *\n",
    "# from CanvasHacks.UrlTools import *\n",
    "# import CanvasHacks.GradingTools as GT\n",
    "# import CanvasHacks.DownloadProcessingTools as PT\n",
    "\n",
    "# # File system\n",
    "# from CanvasHacks.FileTools import getDateForMakingFileName\n",
    "\n",
    "# # This aren't used in the non-saving version\n",
    "# from CanvasHacks.FileTools import makeDataFileIterator\n",
    "# from CanvasHacks.JournalsFileTools import get_journal_folders, make_folder_list, calculate_journal_counts\n",
    "# from CanvasHacks.JournalsFileTools import journal_folder_name, create_folder\n",
    "# from CanvasHacks.FileTools import create_folder, getDateForMakingFileName\n",
    "\n",
    "# # Canvas api\n",
    "# from canvasapi import Canvas\n",
    "# from canvasapi.quiz import QuizReport, Quiz\n",
    "# from canvasapi.requester import Requester\n",
    "# from canvasapi.conversation import Conversation\n",
    "\n",
    "# # Initialize a Canvas api objects\n",
    "# canvas = Canvas(environment.CONFIG.canvas_url_base, environment.CONFIG.canvas_token)\n",
    "# requester = Requester(environment.CONFIG.canvas_url_base, environment.CONFIG.canvas_token)\n",
    "\n",
    "# # Configuration\n",
    "# from CanvasHacks.PeerReviewed.Definitions import Review, InitialWork, MetaReview, Unit #Assignment\n",
    "\n",
    "# # Exceptions\n",
    "# from CanvasHacks.Errors.review_associations import AlreadyAssigned, SubmissionIncomplete\n",
    "\n",
    "# # Models\n",
    "# from CanvasHacks.Models.student import Student\n",
    "# from CanvasHacks.Models.student import student_from_canvas_user, ensure_student\n",
    "\n",
    "# # Notifications\n",
    "# from CanvasHacks.PeerReviewed.Notifications import make_conversation_data, notify_student\n",
    "# from CanvasHacks.PeerReviewed.Notifications import make_prompt_and_response, make_notice\n",
    "# from CanvasHacks.Models.student import get_first_name\n",
    "\n",
    "# # Repos\n",
    "# from CanvasHacks.Repositories.DataManagement import DataStore\n",
    "# from CanvasHacks.Repositories.quizzes import QuizRepository, ReviewRepository\n",
    "# from CanvasHacks.Repositories.codes import AccessCodeRepo\n",
    "# from CanvasHacks.Repositories.reviewer_associations import assign_reviewers, AssociationRepository\n",
    "\n",
    "# # Storage\n",
    "# from CanvasHacks.DAOs.sqlite_dao import SqliteDAO\n",
    "\n",
    "# Widgets\n",
    "from CanvasHacks.Widgets.ConsolidatedTextOutput import make_assignment_header, make_consolidated_text_fields\n",
    "from CanvasHacks.Widgets.InputFields import make_course_ids_input, make_canvas_token_input, make_canvas_url_input, make_general_reset_button\n",
    "from CanvasHacks.Widgets.AssignmentSelection import make_assignment_chooser, view_selected_assignments, view_ungraded_assignments\n",
    "from CanvasHacks.UploadGradeTools import make_upload_button\n",
    "\n",
    "# import inspect\n",
    "# def look_inside(obj):\n",
    "#     print(inspect.getmembers(obj, lambda a:not(inspect.isroutine(a))))\n",
    "\n",
    "    \n",
    "    \n",
    "# from tests.factories.ModelFactories import student_factory\n",
    "\n",
    "from ipywidgets import widgets\n"
   ]
  },
  {
   "cell_type": "code",
   "execution_count": null,
   "metadata": {},
   "outputs": [],
   "source": [
    "import datetime\n",
    "datetime.datetime.utcnow()"
   ]
  },
  {
   "cell_type": "code",
   "execution_count": null,
   "metadata": {},
   "outputs": [],
   "source": [
    "review = Review(id=2)"
   ]
  },
  {
   "cell_type": "code",
   "execution_count": null,
   "metadata": {},
   "outputs": [],
   "source": [
    "# testing: in memory db\n",
    "dao = SqliteDAO()\n",
    "print(\"Connected to testing db\")"
   ]
  },
  {
   "cell_type": "code",
   "execution_count": null,
   "metadata": {},
   "outputs": [],
   "source": [
    "associationRepo = AssociationRepository(dao, 1111)"
   ]
  },
  {
   "cell_type": "code",
   "execution_count": null,
   "metadata": {},
   "outputs": [],
   "source": [
    "import time\n",
    "num = 10\n",
    "for i in range(0, num):\n",
    "    associationRepo._create_association(review, i, 100 + i)\n",
    "    time.sleep(4)"
   ]
  },
  {
   "cell_type": "code",
   "execution_count": null,
   "metadata": {},
   "outputs": [],
   "source": [
    "r = associationRepo.get_associations(review)"
   ]
  },
  {
   "cell_type": "code",
   "execution_count": null,
   "metadata": {},
   "outputs": [],
   "source": [
    "r[0].__dict__"
   ]
  },
  {
   "cell_type": "code",
   "execution_count": null,
   "metadata": {},
   "outputs": [],
   "source": [
    "r.sort(key=lambda x: x.created_at, reverse=True)"
   ]
  },
  {
   "cell_type": "code",
   "execution_count": null,
   "metadata": {},
   "outputs": [],
   "source": [
    "for i in r:\n",
    "    print(i.created_at)"
   ]
  },
  {
   "cell_type": "code",
   "execution_count": null,
   "metadata": {},
   "outputs": [],
   "source": []
  },
  {
   "cell_type": "code",
   "execution_count": null,
   "metadata": {},
   "outputs": [],
   "source": [
    "associationRepo.get_most_recent_date(review)"
   ]
  },
  {
   "cell_type": "code",
   "execution_count": null,
   "metadata": {},
   "outputs": [],
   "source": [
    "widgets.ToggleButton(\n",
    "    value=False,\n",
    "    description='Click me',\n",
    "    disabled=False,\n",
    "    button_style='', # 'success', 'info', 'warning', 'danger' or ''\n",
    "    tooltip='Description',\n",
    "    icon='check'\n",
    ")"
   ]
  },
  {
   "cell_type": "code",
   "execution_count": null,
   "metadata": {},
   "outputs": [],
   "source": [
    "def make_test_selector_t():\n",
    "    def get_icons():\n",
    "        return ['check', ''] if environment.CONFIG.is_test else ['', 'check']\n",
    " \n",
    "    def get_style():\n",
    "        return ''\n",
    "        return 'success' if environment.CONFIG.is_test else 'warning'\n",
    "    \n",
    "    b = widgets.ToggleButtons(\n",
    "        options=['TEST', 'LIVE'],\n",
    "        value='TEST',\n",
    "        description='',\n",
    "        disabled=False,\n",
    "        icons=get_icons(),\n",
    "        button_style=get_style()\n",
    "    )\n",
    "    display(b)\n",
    "    \n",
    "    def callback(j):\n",
    "        print(j)\n",
    "#         if j.name == 'value':\n",
    "#             print(j.name, j)\n",
    "        if j.new == 'LIVE':\n",
    "            environment.CONFIG.set_live()\n",
    "           \n",
    "        if j.new == 'TEST':\n",
    "            environment.CONFIG.set_test()\n",
    "        \n",
    "        b.icons = get_icons()\n",
    "        b.button_style = get_style()\n",
    "\n",
    "    b.observe(callback, names='value')\n",
    "\n"
   ]
  },
  {
   "cell_type": "code",
   "execution_count": null,
   "metadata": {},
   "outputs": [],
   "source": [
    "make_test_selector_t()"
   ]
  },
  {
   "cell_type": "code",
   "execution_count": null,
   "metadata": {},
   "outputs": [],
   "source": [
    "environment.CONFIG.is_test"
   ]
  },
  {
   "cell_type": "code",
   "execution_count": null,
   "metadata": {},
   "outputs": [],
   "source": [
    "def make_test_selector():\n",
    "    def get_description():\n",
    "        return 'TEST' if environment.CONFIG.is_test else 'LIVE'\n",
    " \n",
    "    def get_icons():\n",
    "        return ['check', ''] if environment.CONFIG.is_test else ['', 'check']\n",
    " \n",
    "    def get_style():\n",
    "        return 'success' if environment.CONFIG.is_test else 'warning'\n",
    "    \n",
    "    def get_value():\n",
    "        return environment.CONFIG.is_test\n",
    "\n",
    "    def get_tooltip():\n",
    "        return \"Click to set to {}\".format(get_description())\n",
    "    \n",
    "    b = widgets.ToggleButton(\n",
    "        value=get_value(),\n",
    "        description=get_description(),\n",
    "        button_style=get_style(), \n",
    "        tooltip=get_tooltip()\n",
    "    )\n",
    "    \n",
    "    display(b)\n",
    "    \n",
    "    def callback(j):\n",
    "        if j.new == False:\n",
    "            environment.CONFIG.set_live()\n",
    "           \n",
    "        if j.new == True:\n",
    "            environment.CONFIG.set_test()\n",
    "        \n",
    "        b.icons = get_icons()\n",
    "        b.button_style = get_style()\n",
    "        b.value = get_value()\n",
    "        b.description = get_description()\n",
    "        b.tooltip = get_tooltip()\n",
    "\n",
    "    b.observe(callback, names='value')\n",
    "\n"
   ]
  },
  {
   "cell_type": "code",
   "execution_count": null,
   "metadata": {},
   "outputs": [],
   "source": [
    "make_test_selector()"
   ]
  },
  {
   "cell_type": "code",
   "execution_count": null,
   "metadata": {},
   "outputs": [],
   "source": []
  }
 ],
 "metadata": {
  "kernelspec": {
   "display_name": "canvashacks",
   "language": "python",
   "name": "canvashacks"
  },
  "language_info": {
   "codemirror_mode": {
    "name": "ipython",
    "version": 3
   },
   "file_extension": ".py",
   "mimetype": "text/x-python",
   "name": "python",
   "nbconvert_exporter": "python",
   "pygments_lexer": "ipython3",
   "version": "3.6.4"
  },
  "toc": {
   "colors": {
    "hover_highlight": "#DAA520",
    "navigate_num": "#000000",
    "navigate_text": "#333333",
    "running_highlight": "#FF0000",
    "selected_highlight": "#FFD700",
    "sidebar_border": "#EEEEEE",
    "wrapper_background": "#FFFFFF"
   },
   "moveMenuLeft": true,
   "nav_menu": {
    "height": "11.1px",
    "width": "251.1px"
   },
   "navigate_menu": true,
   "number_sections": true,
   "sideBar": true,
   "threshold": 4,
   "toc_cell": false,
   "toc_section_display": "block",
   "toc_window_display": false,
   "widenNotebook": false
  }
 },
 "nbformat": 4,
 "nbformat_minor": 2
}
