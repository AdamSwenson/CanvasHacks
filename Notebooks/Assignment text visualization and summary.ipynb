{
 "cells": [
  {
   "cell_type": "markdown",
   "metadata": {},
   "source": [
    "Tools for visualizing and picking out trends from the text students submit in their assignments\n",
    "\n"
   ]
  },
  {
   "cell_type": "code",
   "execution_count": null,
   "metadata": {},
   "outputs": [],
   "source": [
    "%cd ~/Dropbox/CanvasHacks\n",
    "\n",
    "  \n",
    "#Plotting \n",
    "%matplotlib inline\n",
    "from matplotlib import pyplot as plt\n",
    "import seaborn as sns\n",
    "sns.set(style=\"whitegrid\")"
   ]
  },
  {
   "cell_type": "code",
   "execution_count": null,
   "metadata": {},
   "outputs": [],
   "source": [
    "# %cd ../\n",
    "\n",
    "from CanvasHacks import environment\n",
    "from CanvasHacks.RequestTools import get_all_course_assignments, get_assignments_needing_grading\n",
    "from CanvasHacks.Configuration import InteractiveConfiguration\n",
    "from CanvasHacks.InputFields import make_course_ids_input, make_canvas_token_input, make_canvas_url_input, make_general_reset_button\n",
    "import CanvasHacks.GradingTools as GT\n",
    "import CanvasHacks.DownloadProcessingTools as PT\n",
    "from CanvasHacks.DataManagement import DataStore\n",
    "\n",
    "from CanvasHacks.ConsolidatedTextOutput import make_assignment_header, make_consolidated_text_fields\n",
    "from CanvasHacks.UploadGradeTools import make_upload_button\n",
    "\n",
    "# This aren't used in the non-saving version\n",
    "from CanvasHacks.FileTools import makeDataFileIterator\n",
    "from CanvasHacks.JournalsFileTools import get_journal_folders, make_folder_list, calculate_journal_counts\n",
    "from CanvasHacks.JournalsFileTools import journal_folder_name, create_folder\n"
   ]
  },
  {
   "cell_type": "markdown",
   "metadata": {},
   "source": [
    "# Setup and credentials"
   ]
  },
  {
   "cell_type": "code",
   "execution_count": null,
   "metadata": {},
   "outputs": [],
   "source": []
  },
  {
   "cell_type": "markdown",
   "metadata": {},
   "source": [
    "# Choose assignments to analyze"
   ]
  },
  {
   "cell_type": "code",
   "execution_count": null,
   "metadata": {},
   "outputs": [],
   "source": [
    "from IPython.display import display\n",
    "from ipywidgets import widgets\n",
    "\n",
    "\n",
    "# Get list of all assignments for the course\n",
    "assignments = get_all_course_assignments(environment.CONFIG.course_ids[0])\n",
    "assignments = [(a['id'], a['name']) for a in assignments]\n",
    "# assignments\n",
    "\n",
    "# Display a button for each\n",
    "for assignment_id, name in assignments:\n",
    "    b = widgets.Button( description=name )\n",
    "    def callback( change ):\n",
    "        environment.CONFIG.add_assignment(assignment_id, name)\n",
    "    b.on_click( callback )\n",
    "    display( b )"
   ]
  },
  {
   "cell_type": "code",
   "execution_count": null,
   "metadata": {},
   "outputs": [],
   "source": [
    "environment.CONFIG.get_assignment_ids()"
   ]
  },
  {
   "cell_type": "markdown",
   "metadata": {},
   "source": [
    "# Get and process student submissions"
   ]
  },
  {
   "cell_type": "code",
   "execution_count": null,
   "metadata": {},
   "outputs": [],
   "source": []
  },
  {
   "cell_type": "code",
   "execution_count": null,
   "metadata": {},
   "outputs": [],
   "source": [
    "name = 'j'\n",
    "course_id = 2\n",
    "b = widgets.Button( description='jjj' )\n",
    "\n",
    "def callback( change ):\n",
    "    environment.CONFIG.add_course_id(course_id)\n",
    "\n",
    "b.on_click( callback )\n",
    "display(b )\n",
    "\n"
   ]
  },
  {
   "cell_type": "code",
   "execution_count": null,
   "metadata": {},
   "outputs": [],
   "source": []
  },
  {
   "cell_type": "markdown",
   "metadata": {},
   "source": [
    "# Plot wordcount distributions"
   ]
  },
  {
   "cell_type": "code",
   "execution_count": null,
   "metadata": {},
   "outputs": [],
   "source": [
    "START_WEEK = 2\n",
    "STOP_WEEK = 15\n",
    "DATA_FOLDER = '%s/data' % environment.PROJ_BASE\n",
    "IGNORE_FILE = \"%s/ignore.csv\" % DATA_FOLDER\n",
    "\n",
    "from CanvasTools.TextProcessing import make_wordbag\n",
    "from CanvasTools.TextProcessing import WordFreq as WF"
   ]
  },
  {
   "cell_type": "markdown",
   "metadata": {},
   "source": [
    "## Load data"
   ]
  },
  {
   "cell_type": "code",
   "execution_count": null,
   "metadata": {},
   "outputs": [],
   "source": [
    "def week_key_gen(start=START_WEEK, stop=STOP_WEEK +1):\n",
    "    \"\"\"Create an iterator for all the keys to the various dictionaries\"\"\"\n",
    "    for i in range(start, stop):\n",
    "        yield \"w%s\" % i\n"
   ]
  },
  {
   "cell_type": "code",
   "execution_count": null,
   "metadata": {},
   "outputs": [],
   "source": [
    "# Get all subfolder paths\n",
    "from CanvasTools.JournalsFileTools import get_journal_folders, make_folder_list, calculate_journal_counts\n",
    "\n",
    "# import os\n",
    "\n",
    "# def get_journal_folders():\n",
    "#     \"\"\"Constructs paths to all journal folders and returns the list\n",
    "#         example result: [\n",
    "#             '/Users/adam/Box Sync/Phil 305 Business ethics/Student work/41181-Journal-week-2',\n",
    "#              '/Users/adam/Box Sync/Phil 305 Business ethics/Student work/41181-Journal-week-3',\n",
    "#              ....\n",
    "#     \"\"\"\n",
    "#     journal_folders = []\n",
    "#     for root, dirs, files in os.walk(environment.ARCHIVE_FOLDER):\n",
    "#         for d in dirs:\n",
    "#             journal_folders.append(os.path.join(root, d)) \n",
    "#     return journal_folders\n",
    "\n",
    "\n",
    "# def make_folder_list(sections, week_num):\n",
    "#     return [\"%s-Journal-week-%s\" % (s, week_num) for s in sections]\n",
    "\n",
    "\n",
    "# # counts from each week\n",
    "# def calculate_journal_counts(journal_folders):\n",
    "#     \"\"\"Returns the count of journals for each week\"\"\"\n",
    "#     cnt = []\n",
    "#     for r in journal_folders:\n",
    "#         with open(\"%s/all-submissions.json\" % r, 'r') as f:\n",
    "#             j = json.load(f)\n",
    "#         cnt.append((r.split('/')[-1:], len(j)))\n",
    "#     return cnt"
   ]
  },
  {
   "cell_type": "code",
   "execution_count": null,
   "metadata": {},
   "outputs": [],
   "source": [
    "from CanvasTools.JournalsFileTools import load_words_to_ignore\n",
    "\n",
    "# def load_words_to_ignore(file=IGNORE_FILE):\n",
    "#     words = []\n",
    "#     with open(file, 'r') as csvfile:\n",
    "#         reader = csv.DictReader(csvfile) #, delimiter=',', quotechar='|')\n",
    "#         for row in reader:\n",
    "# #             print (row['journals'])\n",
    "#             words.append(row['journals'])\n",
    "#     return words"
   ]
  },
  {
   "cell_type": "code",
   "execution_count": null,
   "metadata": {},
   "outputs": [],
   "source": [
    "from CanvasTools.JournalsTextTools import filter_out_terms\n",
    "# def filter_out_terms(combined):\n",
    "#     \"\"\"Loads the strings to ignore from IGNORE_FILE and returns the filtered wordbag\"\"\"\n",
    "#     exclude = load_words_to_ignore()\n",
    "# #     exclude = ['/p','style=', 'br', '“', 'ethics', '”', 'm','’','p', 'picture-uploaded', 'div', '/div',\n",
    "# #               '305', 'september', '2018', 'text-align', 'class=', 'span', 'swenson', 'phil', 'philosophy', \n",
    "# #                '-webkit-standard', 'font', 'face='\n",
    "# #               ]\n",
    "#     exclude += [ \"%s\" % i for i in range(0,10)]\n",
    "# #     print(exclude)\n",
    "\n",
    "#     for k in combined.keys():\n",
    "#         combined[k] = [w for w in combined[k] if w not in exclude]\n",
    "#     return combined"
   ]
  },
  {
   "cell_type": "code",
   "execution_count": null,
   "metadata": {},
   "outputs": [],
   "source": [
    "import csv\n",
    "def write_csv( csvFile, rowsToWrite ):\n",
    "    \"\"\"TODO: let this figure out whether needs i, j or i\"\"\"\n",
    "    with open( csvFile, 'a' ) as csvfile:\n",
    "        writer = csv.writer( csvfile )\n",
    "        # for i in toWrite:\n",
    "        if type(rowsToWrite) is not list:\n",
    "            rowsToWrite = [rowsToWrite]\n",
    "        for r in rowsToWrite:\n",
    "            print(r)\n",
    "            writer.writerow(  r  )\n",
    "\n"
   ]
  },
  {
   "cell_type": "code",
   "execution_count": null,
   "metadata": {},
   "outputs": [],
   "source": [
    "\n",
    "def clearplot_function( ):\n",
    "    \"\"\"Clears the matplotlib plot to free system resources. Call in next cell after plot\"\"\"\n",
    "    try:\n",
    "        plt.close( plt.gcf( ) ); plt.close( 'all' )\n",
    "    except:\n",
    "        pass\n",
    "\n"
   ]
  },
  {
   "cell_type": "code",
   "execution_count": null,
   "metadata": {},
   "outputs": [],
   "source": [
    "exclude = ['/p','style=', 'br', '“', 'ethics', '”', 'm','’','p', 'picture-uploaded', 'div', '/div',\n",
    "              '305', 'september', '2018', 'text-align', 'class=', 'span', 'swenson', 'phil', 'philosophy', \n",
    "               '-webkit-standard', 'font', 'face='\n",
    "              ]"
   ]
  },
  {
   "cell_type": "code",
   "execution_count": null,
   "metadata": {},
   "outputs": [],
   "source": [
    "# Create the file of terms to ignore\n",
    "with open(IGNORE_FILE, 'w') as csvfile:\n",
    "    fieldnames = ['journals', 'online_assignments']\n",
    "    writer = csv.DictWriter(csvfile, fieldnames=fieldnames)\n",
    "\n",
    "    writer.writeheader()\n",
    "    for e in exclude:\n",
    "        writer.writerow({'journals': e, 'online_assignments': ''})\n"
   ]
  },
  {
   "cell_type": "code",
   "execution_count": null,
   "metadata": {},
   "outputs": [],
   "source": [
    "load_words_to_ignore()"
   ]
  },
  {
   "cell_type": "code",
   "execution_count": null,
   "metadata": {},
   "outputs": [],
   "source": [
    "journal_folders = get_journal_folders()"
   ]
  },
  {
   "cell_type": "code",
   "execution_count": null,
   "metadata": {},
   "outputs": [],
   "source": [
    "wcnt = calculate_journal_counts(journal_folders)\n",
    "wcnt   "
   ]
  },
  {
   "cell_type": "code",
   "execution_count": null,
   "metadata": {},
   "outputs": [],
   "source": [
    "# Load all content as wordbags\n",
    "journal_folders = get_journal_folders()\n",
    "\n",
    "data = {}\n",
    "for r in journal_folders:\n",
    "    with open(\"%s/all-submissions.json\" % r, 'r') as f:\n",
    "        j = json.load(f)\n",
    "    data[r.split('/')[-1:][0]] = [make_wordbag(str(row['body'])) for row in j]\n",
    "\n",
    "# data"
   ]
  },
  {
   "cell_type": "code",
   "execution_count": null,
   "metadata": {},
   "outputs": [],
   "source": []
  },
  {
   "cell_type": "code",
   "execution_count": null,
   "metadata": {},
   "outputs": [],
   "source": []
  },
  {
   "cell_type": "code",
   "execution_count": null,
   "metadata": {},
   "outputs": [],
   "source": [
    "combined = {}\n",
    "\"\"\"word bags containing all words from all courses for the week\n",
    "has the format {'w2' : [], 'w3': [], 'w4' : []}\"\"\"\n",
    "\n",
    "\n",
    "freqs = {}\n",
    "\"\"\"contains a word frequency object for each week\"\"\"\n",
    "\n",
    "w = START_WEEK\n",
    "\n",
    "while w <= STOP_WEEK:\n",
    "    folders = make_folder_list(sections, w)\n",
    "    # add entry to the output dict\n",
    "    key = 'w%s' % w\n",
    "    combined[key] = []\n",
    "    for k in folders:\n",
    "        if k in data.keys():\n",
    "            for b in data[k]:\n",
    "                combined[key] += b\n",
    "    w += 1\n",
    "\n",
    "# Run filters on the combined wordbags\n",
    "combined = filter_out_terms(combined)\n",
    "\n",
    "# populate the dictionary with frequencies\n",
    "for k in combined.keys():\n",
    "    freqs[k] = WF(combined[k])\n",
    "\n"
   ]
  },
  {
   "cell_type": "code",
   "execution_count": null,
   "metadata": {},
   "outputs": [],
   "source": []
  },
  {
   "cell_type": "markdown",
   "metadata": {
    "heading_collapsed": true
   },
   "source": [
    "## Unigram visualizations"
   ]
  },
  {
   "cell_type": "code",
   "execution_count": null,
   "metadata": {
    "hidden": true
   },
   "outputs": [],
   "source": [
    "# import wordcloud\n",
    "from CanvasTools.VisualizationTools import draw_cloud, draw_cloud_from_freqs, draw_cumulative_freq\n",
    "\n",
    "# def draw_cloud(wordlist, title, font_size=20):\n",
    "#     \"\"\"Given a list of words, it plots a wordcloud\"\"\"\n",
    "#     # make into block of text\n",
    "#     words = ' '.join(combined['w4'])\n",
    "\n",
    "#     wc = wordcloud.WordCloud(\n",
    "#                           width=2500,\n",
    "#                           height=2000\n",
    "#                          ).generate(words)\n",
    "#     plt.figure(1,figsize=(13, 13))\n",
    "#     plt.imshow(wc)\n",
    "#     plt.axis('off')\n",
    "#     plt.title(title)\n",
    "#     ax = plt.gca()\n",
    "#     ax.title.set_fontsize(font_size)\n",
    "#     plt.show()\n",
    "\n",
    "# def draw_cloud_from_freqs(freqs, week_num, title, font_size=20):\n",
    "#     \"\"\"Given the frequency object with keys like w1, w2,\n",
    "#     this plots a wordcloud from those frequencies\n",
    "#     \"\"\"\n",
    "#     f = {}\n",
    "#     w = \"w%s\" % week_num\n",
    "#     for k in freqs[w].freqDist:\n",
    "#         f[k] = freqs[w].freqDist.freq(k)\n",
    "  \n",
    "#     wc = wordcloud.WordCloud(width=2500, height=2000).generate_from_frequencies(f)\n",
    "#     plt.figure(1,figsize=(13, 13))\n",
    "#     plt.imshow(wc)\n",
    "#     plt.axis('off')\n",
    "#     plt.title(title)\n",
    "#     ax = plt.gca()\n",
    "#     ax.title.set_fontsize(font_size)\n",
    "#     plt.show()\n",
    "\n",
    "# def draw_cumulative_freq(freqs, week_num, max_terms=30, font_size=20):\n",
    "#     \"\"\"Plots cumulative frequencies of terms\"\"\"\n",
    "#     week = \"w%s\" % week_num\n",
    "\n",
    "#     fig = plt.gcf()\n",
    "#     ax = plt.gca()\n",
    "#     ax.set_title(week)\n",
    "    \n",
    "# #     # rotate the x axis labels to 45 degrees\n",
    "# #     for tick in ax.get_xticklabels():\n",
    "# #         tick.set_rotation(45)\n",
    "\n",
    "\n",
    "#     fig.set_figwidth(13)\n",
    "#     fig.set_figheight(5)\n",
    "#     # change the font size\n",
    "#     for item in ([ax.title, ax.xaxis.label, ax.yaxis.label] +ax.get_xticklabels() + ax.get_yticklabels()):\n",
    "#         item.set_fontsize(font_size)\n",
    "    \n",
    "#     plt.xticks(rotation=45)\n",
    "\n",
    "\n",
    "#     freqs[week].plot(max_terms)\n",
    "#     fig.tight_layout()\n"
   ]
  },
  {
   "cell_type": "code",
   "execution_count": null,
   "metadata": {
    "hidden": true
   },
   "outputs": [],
   "source": [
    "\n",
    "# while True:\n",
    "for i in range(START_WEEK, STOP_WEEK +1):\n",
    "    # plot the cumulative frequencies\n",
    "    draw_cumulative_freq(freqs, i)\n",
    "    w = \"w%s\" % i\n",
    "    # plot the wordcloud\n",
    "    draw_cloud_from_freqs(freqs, i, 'Week %s Journals' % i)\n",
    "#     draw_cloud(combined[w], 'week %s journals' % i)\n",
    "    "
   ]
  },
  {
   "cell_type": "markdown",
   "metadata": {},
   "source": [
    "## Ngram tools"
   ]
  },
  {
   "cell_type": "code",
   "execution_count": null,
   "metadata": {
    "code_folding": [
     51,
     55,
     62,
     70,
     74
    ]
   },
   "outputs": [],
   "source": [
    "\"\"\"\n",
    "Previously in TextProcessingTools\n",
    "Created by adam on 11/11/15\n",
    "\"\"\"\n",
    "__author__ = 'adam'\n",
    "\n",
    "import nltk\n",
    "\n",
    "# This idiom is necessary. See https://github.com/nltk/nltk/issues/1516\n",
    "from nltk.metrics import association\n",
    "\n",
    "\n",
    "\n",
    "class NgramError(BaseException):\n",
    "    def __init__(self, processing_step):\n",
    "        \"\"\"\n",
    "        Arguments:\n",
    "            :param processing_step: String description of where error arose\n",
    "        :return:\n",
    "        \"\"\"\n",
    "        super().__init__()\n",
    "        self.kind = 'NgramProcessing'\n",
    "        self.identifier_type = 'String content'\n",
    "        self.step = processing_step\n",
    "#         ProcessingError.__init__(self, processing_step)\n",
    "\n",
    "class NgramGetter(object):\n",
    "    \"\"\"\n",
    "    Abstract parent class for extracting ngrams.\n",
    "\n",
    "    Attributes:\n",
    "        collocation_finder: One of the nltk's collocation finder tools (e.g., BigramCollocationFinder)\n",
    "        top_likelihood_ratio:\n",
    "        measurement_tool: One of nltk's measurement tools (e.g., nltk.collocations.BigramAssocMeasures)\n",
    "        modifiers: IModifier instantiating tool for modifying the text before calculating ngrams\n",
    "        ngrams: List of ngrams\n",
    "        raw_freq: Frequency distribution of ngrams\n",
    "        sorted_ngrams: List of tuples sorted by self.scored_ngrams\n",
    "        top_pmi: Variable number of n-grams with the highest Pointwise Mutual Information (i.e., which occur together\n",
    "        more often than would be expected)\n",
    "        word_bag: List of text to run\n",
    "    \"\"\"\n",
    "\n",
    "    def __init__(self):\n",
    "        self.modifiers = []\n",
    "        self.ngram_filters = []\n",
    "        self.word_bag = []\n",
    "        self.ngrams = []\n",
    "        if not self.measurement_tool:\n",
    "            raise NotImplementedError\n",
    "\n",
    "    def add_modifier(self, iModifier):\n",
    "        assert(isinstance(iModifier, IModifier))\n",
    "        self.modifiers.append(iModifier)\n",
    "\n",
    "    def _run_modifiers(self):\n",
    "        \"\"\"\n",
    "        Calls the modifiers in sequence and stores the results back in word_bag\n",
    "        \"\"\"\n",
    "        for modifier in self.modifiers:\n",
    "            self.word_bag = [modifier.process(w) for w in self.word_bag]\n",
    "\n",
    "    def add_filter(self, iNgramFilter):\n",
    "        \"\"\"\n",
    "        Adds a filter to be run after the ngrams are created\n",
    "        :param iNgramFilter:\n",
    "        :return:\n",
    "        \"\"\"\n",
    "        self.ngram_filters.append(iNgramFilter)\n",
    "\n",
    "    def apply_filters(self):\n",
    "        for ftr in self.ngram_filters:\n",
    "            self.collocation_finder.apply_ngram_filter(ftr)\n",
    "\n",
    "    def process(self, word_bag, min_freq=3, get_top=10, **kwargs):\n",
    "        \"\"\"\n",
    "        Runs any modifiers (stemmers, lemmatizers, etc) on the list of terms and\n",
    "        then extracts the ngrams\n",
    "\n",
    "        Args:\n",
    "            get_top: The cut off for ngrams to get stats for\n",
    "            min_freq: Integer of minimum number of appearances of ngram to extract\n",
    "            word_bag: List of strings to extract ngrams from. Should already be filtered.\n",
    "        \"\"\"\n",
    "        raise NotImplementedError\n",
    "\n",
    "    def _calculate_statistics(self, get_top=10, **kwargs):\n",
    "        \"\"\"\n",
    "                A number of measures are available to score collocations or other associations.\n",
    "        The arguments to measure functions are marginals of a contingency table,\n",
    "        in the bigram case (n_ii, (n_ix, n_xi), n_xx):\n",
    "                w1    ~w1\n",
    "             ------ ------\n",
    "         w2 | n_ii | n_oi | = n_xi\n",
    "             ------ ------\n",
    "        ~w2 | n_io | n_oo |\n",
    "             ------ ------\n",
    "             = n_ix        TOTAL = n_xx\n",
    "        We test their calculation using some known values presented\n",
    "        in Manning and Schutze's text and other papers.\n",
    "        Student's t: examples from Manning and Schutze 5.3.2\n",
    "        Arguments:\n",
    "            get_top: The cut off for ngrams to get stats for\n",
    "        \"\"\"\n",
    "        self.topPMI = self.collocation_finder.nbest(self.measurement_tool.pmi, get_top)\n",
    "        self.raw_freq = self.collocation_finder.score_ngrams(self.measurement_tool.raw_freq)\n",
    "        self.sorted_ngrams = [ngram for ngram, score in self.raw_freq]\n",
    "        self.top_likelihood_ratio = self.collocation_finder.nbest(self.measurement_tool.likelihood_ratio, get_top)\n",
    "\n",
    "\n",
    "class BigramGetter(NgramGetter):\n",
    "    \"\"\"\n",
    "    Extracts 2-grams from a word bag and calculates statistics\n",
    "    Attributes:\n",
    "        top_pmi: Variable number of n-grams with the highest Pointwise Mutual Information (i.e., which occur together\n",
    "        more often than would be expected)\n",
    "        top_likelihood_ratio:\n",
    "        raw_freq: Frequency distribution of ngrams\n",
    "        sorted_ngrams: List of tuples sorted by self.scored_ngrams\n",
    "    \"\"\"\n",
    "\n",
    "    def __init__(self):\n",
    "        self.measurement_tool = association.BigramAssocMeasures()\n",
    "        NgramGetter.__init__(self)\n",
    "\n",
    "    def process(self, word_bag, min_freq=3, get_top=10, **kwargs):\n",
    "        \"\"\"\n",
    "        Arguments:\n",
    "            word_bag: List of strings\n",
    "        \"\"\"\n",
    "        assert(isinstance(word_bag, list))\n",
    "        self.collocation_finder = nltk.collocations.BigramCollocationFinder.from_words(word_bag)\n",
    "        self.collocation_finder.apply_freq_filter(min_freq)\n",
    "        self._calculate_statistics(get_top)\n",
    "\n",
    "class TrigramGetter(NgramGetter):\n",
    "    \"\"\"\n",
    "        Extracts 3-grams from a word bag and calculates statistics\n",
    "    \"\"\"\n",
    "\n",
    "    def __init__(self):\n",
    "        self.measurement_tool = association.TrigramAssocMeasures()\n",
    "        NgramGetter.__init__(self)\n",
    "\n",
    "    def process(self, word_bag, min_freq=3, get_top=10, **kwargs):\n",
    "        \"\"\"\n",
    "        Arguments:\n",
    "            word_bag: List of strings\n",
    "        \"\"\"\n",
    "        assert(isinstance(word_bag, list))\n",
    "#         try:\n",
    "        self._run_modifiers()\n",
    "        self.collocation_finder = nltk.collocations.TrigramCollocationFinder.from_words(word_bag)\n",
    "        self.collocation_finder.apply_freq_filter(min_freq)\n",
    "        self._calculate_statistics(get_top)\n"
   ]
  },
  {
   "cell_type": "markdown",
   "metadata": {},
   "source": [
    "### Find bigrams"
   ]
  },
  {
   "cell_type": "code",
   "execution_count": null,
   "metadata": {},
   "outputs": [],
   "source": [
    "from nltk.probability import FreqDist\n",
    "\n",
    "bigrams = {}\n",
    "week_iter = week_key_gen()\n",
    "i = START_WEEK\n",
    "\n",
    "while True:\n",
    "    try:\n",
    "        w = next(week_iter)\n",
    "        \n",
    "        bg = BigramGetter()\n",
    "        bg.process(combined[w])\n",
    "        #store the bigram object in our dict\n",
    "        bigrams[w] = bg\n",
    "\n",
    "        # reshape into a usable form for plotting\n",
    "        fs = FreqDist()\n",
    "        for s, freq in bg.raw_freq:\n",
    "            # make the string key and set the frequency\n",
    "            fs[\"%s %s\" % (s[0], s[1])] = freq\n",
    "\n",
    "        # plot the cumulative frequencies\n",
    "        draw_cumulative_freq({w : fs}, i)\n",
    "        \n",
    "        i += 1\n",
    "    except StopIteration:\n",
    "        break"
   ]
  },
  {
   "cell_type": "code",
   "execution_count": null,
   "metadata": {},
   "outputs": [],
   "source": [
    "clearplot_function()"
   ]
  },
  {
   "cell_type": "markdown",
   "metadata": {},
   "source": [
    "### Likelihood ratio"
   ]
  },
  {
   "cell_type": "code",
   "execution_count": null,
   "metadata": {},
   "outputs": [],
   "source": [
    "# Print top likelihood ratio\n",
    "def print_top_likelihood_ratios(ngrams):\n",
    "    week_iter = week_key_gen()\n",
    "\n",
    "    while True:\n",
    "        try:\n",
    "            week = next(week_iter)\n",
    "            print(week)\n",
    "            [print(b) for b in ngrams[week].top_likelihood_ratio]\n",
    "        except StopIteration:\n",
    "            break\n",
    "\n",
    "def print_top_PMI(ngrams):\n",
    "    week_iter = week_key_gen()\n",
    "    print(\"Top PMI\")\n",
    "\n",
    "    while True:\n",
    "        try:\n",
    "            week = next(week_iter)\n",
    "            print(week)\n",
    "            [print(b) for b in ngrams[week].topPMI]\n",
    "        except StopIteration:\n",
    "            break\n"
   ]
  },
  {
   "cell_type": "code",
   "execution_count": null,
   "metadata": {},
   "outputs": [],
   "source": [
    "print_top_likelihood_ratios(bigrams)"
   ]
  },
  {
   "cell_type": "code",
   "execution_count": null,
   "metadata": {},
   "outputs": [],
   "source": [
    "print_top_PMI(bigrams)"
   ]
  },
  {
   "cell_type": "markdown",
   "metadata": {},
   "source": [
    "## Find trigrams"
   ]
  },
  {
   "cell_type": "code",
   "execution_count": null,
   "metadata": {},
   "outputs": [],
   "source": [
    "trigrams = {}\n",
    "week_iter = week_key_gen()\n",
    "i = START_WEEK\n",
    "\n",
    "while True:\n",
    "    try:\n",
    "        w = next(week_iter)\n",
    "        \n",
    "        bg = TrigramGetter()\n",
    "        bg.process(combined[w])\n",
    "        #store the trigram object in our dict\n",
    "        trigrams[w] = bg\n",
    "\n",
    "        # reshape into a usable form for plotting\n",
    "        fs = FreqDist()\n",
    "        for s, freq in bg.raw_freq:\n",
    "            # make the string key and set the frequency\n",
    "            fs[\"%s %s %s\" % (s[0], s[1], s[2])] = freq\n",
    "\n",
    "        # plot the cumulative frequencies\n",
    "        draw_cumulative_freq({w : fs}, i)\n",
    "        i += 1\n",
    "    except StopIteration:\n",
    "        break"
   ]
  },
  {
   "cell_type": "code",
   "execution_count": null,
   "metadata": {},
   "outputs": [],
   "source": [
    "clearplot_function()"
   ]
  },
  {
   "cell_type": "code",
   "execution_count": null,
   "metadata": {},
   "outputs": [],
   "source": [
    "print_top_likelihood_ratios(trigrams)"
   ]
  },
  {
   "cell_type": "code",
   "execution_count": null,
   "metadata": {},
   "outputs": [],
   "source": [
    "print_top_PMI(trigrams)"
   ]
  },
  {
   "cell_type": "code",
   "execution_count": null,
   "metadata": {},
   "outputs": [],
   "source": []
  },
  {
   "cell_type": "code",
   "execution_count": null,
   "metadata": {},
   "outputs": [],
   "source": []
  },
  {
   "cell_type": "code",
   "execution_count": null,
   "metadata": {},
   "outputs": [],
   "source": []
  },
  {
   "cell_type": "code",
   "execution_count": null,
   "metadata": {},
   "outputs": [],
   "source": []
  },
  {
   "cell_type": "code",
   "execution_count": null,
   "metadata": {},
   "outputs": [],
   "source": []
  },
  {
   "cell_type": "code",
   "execution_count": null,
   "metadata": {},
   "outputs": [],
   "source": []
  }
 ],
 "metadata": {
  "kernelspec": {
   "display_name": "Python 3",
   "language": "python",
   "name": "python3"
  },
  "language_info": {
   "codemirror_mode": {
    "name": "ipython",
    "version": 3
   },
   "file_extension": ".py",
   "mimetype": "text/x-python",
   "name": "python",
   "nbconvert_exporter": "python",
   "pygments_lexer": "ipython3",
   "version": "3.6.4"
  },
  "latex_envs": {
   "LaTeX_envs_menu_present": false,
   "autoclose": false,
   "autocomplete": true,
   "bibliofile": "biblio.bib",
   "cite_by": "apalike",
   "current_citInitial": 1,
   "eqLabelWithNumbers": true,
   "eqNumInitial": 1,
   "hotkeys": {
    "equation": "Ctrl-E",
    "itemize": "Ctrl-I"
   },
   "labels_anchors": false,
   "latex_user_defs": false,
   "report_style_numbering": false,
   "user_envs_cfg": false
  },
  "toc": {
   "base_numbering": 1,
   "nav_menu": {},
   "number_sections": true,
   "sideBar": true,
   "skip_h1_title": false,
   "title_cell": "Table of Contents",
   "title_sidebar": "Contents",
   "toc_cell": false,
   "toc_position": {},
   "toc_section_display": true,
   "toc_window_display": false
  }
 },
 "nbformat": 4,
 "nbformat_minor": 2
}
