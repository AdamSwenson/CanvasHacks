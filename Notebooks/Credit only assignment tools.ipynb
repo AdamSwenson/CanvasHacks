{
 "cells": [
  {
   "cell_type": "markdown",
   "metadata": {},
   "source": [
    "https://nbviewer.jupyter.org/github/AdamSwenson/CanvasHacks/blob/master/Notebooks/Credit%20only%20assignment%20tools.ipynb?flush_cache=true"
   ]
  },
  {
   "cell_type": "markdown",
   "metadata": {},
   "source": [
    "# Get started\n",
    "\n",
    "Click the icon with 3 rings in the upper right (the tooltip says 'Execute on Binder') to create your own mini-server to run this notebook.\n",
    "\n",
    "After you've opened the notebook in binder, click the run button above a few times. Each click runs the code in the highlighted cell. You can also press shift+return to run it.\n",
    "\n",
    "Try it with the next cell:"
   ]
  },
  {
   "cell_type": "code",
   "execution_count": null,
   "metadata": {},
   "outputs": [],
   "source": [
    "print(\"You've successfully run this cell!\")"
   ]
  },
  {
   "cell_type": "markdown",
   "metadata": {},
   "source": [
    "\n",
    "You'll be able to tell that a cell is running by an asterisk appearing in the brackets to the left ( [ * ]). Some tasks may take a couple of minutes to run, so it may appear frozen.\n",
    "\n",
    "The next 2 cells will grab and import all the code that operates behind the scenes. (If you're curious, you can check it out here: https://github.com/AdamSwenson/CanvasHacks)\n"
   ]
  },
  {
   "cell_type": "code",
   "execution_count": null,
   "metadata": {
    "run_control": {
     "marked": true
    }
   },
   "outputs": [],
   "source": [
    "%cd ../\n",
    "from canvasapi import Canvas\n",
    "from CanvasHacks import environment\n",
    "from CanvasHacks.Definitions.generic import GenericCreditNoCredit\n",
    "from CanvasHacks.Api.UploadGradeTools import make_upload_button\n",
    "from CanvasHacks.Repositories.DataManagement import DataStore, DataStoreNew\n",
    "from CanvasHacks.Repositories.submissions import SubmissionRepository\n",
    "from CanvasHacks.Repositories.students import StudentRepository\n",
    "from CanvasHacks.GradingHandlers.journal import JournalGrader\n",
    "from CanvasHacks.Widgets.InputFields import make_course_ids_input, make_canvas_token_input, make_canvas_url_input, make_general_reset_button\n",
    "from CanvasHacks.Widgets.AssignmentSelection import make_assignment_chooser\n",
    "from CanvasHacks.Widgets.ConsolidatedTextOutput import make_assignment_header, make_consolidated_text_fields\n",
    "from CanvasHacks.Widgets.CredentialFields import make_credentials_input\n",
    "make_credentials_input()"
   ]
  },
  {
   "cell_type": "markdown",
   "metadata": {},
   "source": [
    "WARNING: THIS TEMPORARILY ONLY WORKS FOR 1 CLASS ID. \n",
    "IF YOU NEED TO GRADE ASSIGNMENTS FOR MORE THAN ONE CLASS, AFTER GRADING ASSIGNMENTS FOR THE FIRST CLASS, RETURN TO THIS POINT, CLICK 'RESET', ADD THE NEXT CLASS ID, AND CONTINUE ON."
   ]
  },
  {
   "cell_type": "markdown",
   "metadata": {},
   "source": [
    "## Canvas url\n",
    "\n",
    "Finally, we need the url of your campus canvas installation. When we make requests to the canvas server, we will be using this in our requests. For details, see the Canvas API documentation: https://canvas.instructure.com/doc/api/index.html\n",
    "\n",
    "For CSUN users, you do not need to touch this. The value in the box should be: \n",
    "    \n",
    "    https://canvas.csun.edu/api/v1/courses\n",
    "\n",
    "For non-csun users, make sure you provide the equivalent up to the '/courses'\n",
    "\n",
    "Just paste the url in the box, it will be read when needed\n",
    "\n",
    "Do not add a slash at the end after '/courses'! "
   ]
  },
  {
   "cell_type": "code",
   "execution_count": null,
   "metadata": {},
   "outputs": [],
   "source": [
    "make_canvas_url_input(value=\"https://canvas.csun.edu/api/v1/courses\")"
   ]
  },
  {
   "cell_type": "markdown",
   "metadata": {},
   "source": [
    "#  Figure out what needs grading¶"
   ]
  },
  {
   "cell_type": "markdown",
   "metadata": {},
   "source": [
    "Run the cell below. It will display buttons for each ungraded assignment where at least one student has submitted the assignment. \n",
    "\n",
    "Use these buttons to select which assignments to grade. Unselected assignments are blue; selected are green.\n",
    "\n",
    "NOTE: THIS WILL SHOW ALL UNGRADED ACTIVITIES. THESE TOOLS WILL NOT WORK ON ALL OF THEM. \n",
    "AS PRESENTLY CONFIGURED, YOU CAN ONLY GRADE ASSIGNMENTS (NOT QUIZ-TYPE ACTIVITIES) THAT USE A TEXT-ENTRY BOX OR UPLOADED FILES. "
   ]
  },
  {
   "cell_type": "code",
   "execution_count": null,
   "metadata": {
    "run_control": {
     "marked": true
    }
   },
   "outputs": [],
   "source": [
    "make_assignment_chooser()"
   ]
  },
  {
   "cell_type": "markdown",
   "metadata": {},
   "source": [
    "#  Download and process student submissions"
   ]
  },
  {
   "cell_type": "code",
   "execution_count": null,
   "metadata": {},
   "outputs": [],
   "source": [
    "environment.CONFIG.course"
   ]
  },
  {
   "cell_type": "code",
   "execution_count": null,
   "metadata": {},
   "outputs": [],
   "source": [
    "# not needed w file based config\n",
    "environment.CONFIG.initialize_canvas_objs()\n",
    "\n",
    "results = []\n",
    "\n",
    "for a in environment.CONFIG.assignments:\n",
    "    # canvas api object\n",
    "    assignment = environment.CONFIG.course.get_assignment(int(a[0]))\n",
    "    # activity object to define the features \n",
    "    assignment_defin = GenericCreditNoCredit(**assignment.attributes)\n",
    "    # Download submissions\n",
    "    subRepo = SubmissionRepository(assignment)\n",
    "    # parse out already graded submissions\n",
    "    subRepo.data =[j for j in subRepo.data if j.grade != 'complete']\n",
    "    # shove the activity onto a sub repo so it will resemble\n",
    "    # a quizrepo for the grader\n",
    "    subRepo.activity = assignment_defin\n",
    "    # Initialize the package for results\n",
    "    store = DataStoreNew(assignment_defin)\n",
    "    # provisionally determine credit\n",
    "    grader = JournalGrader(subRepo)\n",
    "    store.results = grader.grade()\n",
    "    results.append(store)\n",
    "\n",
    "# Load student names etc\n",
    "studentRepo = StudentRepository(environment.CONFIG.course)\n",
    "studentRepo.download()"
   ]
  },
  {
   "cell_type": "markdown",
   "metadata": {},
   "source": [
    "# Read student work and check that properly categorized"
   ]
  },
  {
   "cell_type": "code",
   "execution_count": null,
   "metadata": {},
   "outputs": [],
   "source": [
    "for s in results:\n",
    "    make_assignment_header(s)\n",
    "    make_consolidated_text_fields(s, studentRepo)"
   ]
  },
  {
   "cell_type": "markdown",
   "metadata": {},
   "source": [
    "# Upload grades to canvas\n",
    "\n",
    "If you're just experimenting and don't want to upload grades, stop here.\n",
    "\n",
    "Clicking the buttons which appear after running the next cell will upload grades to canvas. That can't be undone."
   ]
  },
  {
   "cell_type": "code",
   "execution_count": null,
   "metadata": {},
   "outputs": [],
   "source": [
    "for store in results:\n",
    "    make_upload_button(store)"
   ]
  },
  {
   "cell_type": "code",
   "execution_count": null,
   "metadata": {
    "deletable": false
   },
   "outputs": [],
   "source": []
  },
  {
   "cell_type": "code",
   "execution_count": null,
   "metadata": {
    "deletable": false
   },
   "outputs": [],
   "source": []
  },
  {
   "cell_type": "code",
   "execution_count": null,
   "metadata": {
    "deletable": false
   },
   "outputs": [],
   "source": []
  },
  {
   "cell_type": "code",
   "execution_count": null,
   "metadata": {
    "deletable": false
   },
   "outputs": [],
   "source": []
  },
  {
   "cell_type": "code",
   "execution_count": null,
   "metadata": {},
   "outputs": [],
   "source": []
  },
  {
   "cell_type": "code",
   "execution_count": null,
   "metadata": {},
   "outputs": [],
   "source": []
  },
  {
   "cell_type": "code",
   "execution_count": null,
   "metadata": {},
   "outputs": [],
   "source": []
  },
  {
   "cell_type": "code",
   "execution_count": null,
   "metadata": {},
   "outputs": [],
   "source": []
  },
  {
   "cell_type": "code",
   "execution_count": null,
   "metadata": {},
   "outputs": [],
   "source": []
  },
  {
   "cell_type": "code",
   "execution_count": null,
   "metadata": {},
   "outputs": [],
   "source": []
  }
 ],
 "metadata": {
  "kernelspec": {
   "display_name": "canv-env",
   "language": "python",
   "name": "canv-env"
  },
  "language_info": {
   "codemirror_mode": {
    "name": "ipython",
    "version": 3
   },
   "file_extension": ".py",
   "mimetype": "text/x-python",
   "name": "python",
   "nbconvert_exporter": "python",
   "pygments_lexer": "ipython3",
   "version": "3.6.4"
  },
  "latex_envs": {
   "LaTeX_envs_menu_present": false,
   "autoclose": false,
   "autocomplete": true,
   "bibliofile": "biblio.bib",
   "cite_by": "apalike",
   "current_citInitial": 1,
   "eqLabelWithNumbers": true,
   "eqNumInitial": 1,
   "hotkeys": {
    "equation": "Ctrl-E",
    "itemize": "Ctrl-I"
   },
   "labels_anchors": false,
   "latex_user_defs": false,
   "report_style_numbering": false,
   "user_envs_cfg": false
  },
  "toc": {
   "base_numbering": 1,
   "colors": {
    "hover_highlight": "#DAA520",
    "navigate_num": "#000000",
    "navigate_text": "#333333",
    "running_highlight": "#FF0000",
    "selected_highlight": "#FFD700",
    "sidebar_border": "#EEEEEE",
    "wrapper_background": "#FFFFFF"
   },
   "moveMenuLeft": true,
   "nav_menu": {},
   "navigate_menu": true,
   "number_sections": true,
   "sideBar": true,
   "skip_h1_title": false,
   "threshold": 4,
   "title_cell": "Table of Contents",
   "title_sidebar": "Contents",
   "toc_cell": false,
   "toc_position": {},
   "toc_section_display": true,
   "toc_window_display": false,
   "widenNotebook": false
  }
 },
 "nbformat": 4,
 "nbformat_minor": 2
}
