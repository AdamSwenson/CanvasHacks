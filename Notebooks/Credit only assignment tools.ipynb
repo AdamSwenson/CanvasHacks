{
 "cells": [
  {
   "cell_type": "code",
   "execution_count": 1,
   "metadata": {
    "ExecuteTime": {
     "end_time": "2019-02-01T20:55:21.002160Z",
     "start_time": "2019-02-01T20:55:20.993636Z"
    }
   },
   "outputs": [
    {
     "name": "stdout",
     "output_type": "stream",
     "text": [
      "/Users/adam/Dropbox/CanvasCorrections\n"
     ]
    }
   ],
   "source": [
    "%cd ../"
   ]
  },
  {
   "cell_type": "code",
   "execution_count": 2,
   "metadata": {
    "ExecuteTime": {
     "end_time": "2019-02-01T20:55:22.146287Z",
     "start_time": "2019-02-01T20:55:22.143882Z"
    }
   },
   "outputs": [],
   "source": [
    "\n",
    "from ipywidgets import widgets\n",
    "from IPython.display import display\n"
   ]
  },
  {
   "cell_type": "code",
   "execution_count": null,
   "metadata": {
    "ExecuteTime": {
     "end_time": "2019-02-01T02:44:54.875049Z",
     "start_time": "2019-02-01T02:44:54.864972Z"
    }
   },
   "outputs": [],
   "source": [
    "import environment"
   ]
  },
  {
   "cell_type": "code",
   "execution_count": null,
   "metadata": {
    "ExecuteTime": {
     "end_time": "2019-02-01T02:45:26.294459Z",
     "start_time": "2019-02-01T02:45:26.289986Z"
    }
   },
   "outputs": [],
   "source": [
    "environment.CONFIG"
   ]
  },
  {
   "cell_type": "code",
   "execution_count": null,
   "metadata": {
    "ExecuteTime": {
     "end_time": "2019-02-01T02:44:57.180847Z",
     "start_time": "2019-02-01T02:44:57.170570Z"
    }
   },
   "outputs": [],
   "source": [
    "environment.TOKEN"
   ]
  },
  {
   "cell_type": "markdown",
   "metadata": {},
   "source": [
    "# Setup the configuration"
   ]
  },
  {
   "cell_type": "markdown",
   "metadata": {},
   "source": [
    "## Canvas API Token\n",
    "\n",
    "Instructions go here...."
   ]
  },
  {
   "cell_type": "code",
   "execution_count": 3,
   "metadata": {
    "ExecuteTime": {
     "end_time": "2019-02-01T20:55:25.017905Z",
     "start_time": "2019-02-01T20:55:25.008486Z"
    }
   },
   "outputs": [],
   "source": [
    "from assets.Configuration import InteractiveConfiguration\n",
    "from assets.InputFields import make_course_ids_input, make_canvas_token_input, make_general_reset_button"
   ]
  },
  {
   "cell_type": "code",
   "execution_count": null,
   "metadata": {
    "ExecuteTime": {
     "end_time": "2019-02-01T02:34:51.516172Z",
     "start_time": "2019-02-01T02:34:51.504989Z"
    }
   },
   "outputs": [],
   "source": [
    "make_canvas_token_input()"
   ]
  },
  {
   "cell_type": "code",
   "execution_count": null,
   "metadata": {
    "ExecuteTime": {
     "end_time": "2019-02-01T02:34:52.170935Z",
     "start_time": "2019-02-01T02:34:52.161865Z"
    }
   },
   "outputs": [],
   "source": [
    "# You may confirm that the token has been added to the configuration here\n",
    "InteractiveConfiguration.canvas_token"
   ]
  },
  {
   "cell_type": "markdown",
   "metadata": {},
   "source": [
    "## Course ids\n",
    "\n",
    "Instructions go here"
   ]
  },
  {
   "cell_type": "code",
   "execution_count": 11,
   "metadata": {
    "ExecuteTime": {
     "end_time": "2019-02-01T20:56:47.804856Z",
     "start_time": "2019-02-01T20:56:47.766395Z"
    }
   },
   "outputs": [
    {
     "data": {
      "application/vnd.jupyter.widget-view+json": {
       "model_id": "deafe0e891034b32af84430ad1b006db",
       "version_major": 2,
       "version_minor": 0
      },
      "text/plain": [
       "HBox(children=(VBox(children=(Text(value='', description='Class id'), HBox(children=(Button(description='Reset…"
      ]
     },
     "metadata": {},
     "output_type": "display_data"
    }
   ],
   "source": [
    "make_course_ids_input()"
   ]
  },
  {
   "cell_type": "code",
   "execution_count": null,
   "metadata": {
    "ExecuteTime": {
     "end_time": "2019-02-01T02:42:03.576982Z",
     "start_time": "2019-02-01T02:42:03.574585Z"
    }
   },
   "outputs": [],
   "source": [
    "sections = [67531]"
   ]
  },
  {
   "cell_type": "markdown",
   "metadata": {},
   "source": [
    "# Figure out what needs grading"
   ]
  },
  {
   "cell_type": "code",
   "execution_count": 4,
   "metadata": {
    "ExecuteTime": {
     "end_time": "2019-02-01T20:55:29.533960Z",
     "start_time": "2019-02-01T20:55:29.414287Z"
    }
   },
   "outputs": [
    {
     "name": "stdout",
     "output_type": "stream",
     "text": [
      "Reading credentials and settings from /Users/adam/Dropbox/CanvasCorrections/private/canvas-credentials.ini\n"
     ]
    }
   ],
   "source": [
    "from assets.RequestTools import get_all_course_assignments, get_assignments_needing_grading"
   ]
  },
  {
   "cell_type": "code",
   "execution_count": null,
   "metadata": {
    "ExecuteTime": {
     "end_time": "2019-02-01T19:58:07.904790Z",
     "start_time": "2019-02-01T19:58:06.585031Z"
    }
   },
   "outputs": [],
   "source": [
    "print(\"These assignments need grading: \")\n",
    "for sec in InteractiveConfiguration.course_ids:\n",
    "    to_grade = get_assignments_needing_grading(sec)\n",
    "    print(sec, to_grade)"
   ]
  },
  {
   "cell_type": "code",
   "execution_count": 9,
   "metadata": {
    "ExecuteTime": {
     "end_time": "2019-02-01T20:56:27.511904Z",
     "start_time": "2019-02-01T20:56:27.509076Z"
    }
   },
   "outputs": [],
   "source": [
    "to_grade = [('Journal (week 1)', 360442)]"
   ]
  },
  {
   "cell_type": "code",
   "execution_count": null,
   "metadata": {},
   "outputs": [],
   "source": [
    "class DataStore(object):\n",
    "    \"\"\"All downloaded and score data gets stored in this object\n",
    "    Methods using the data will expect an instance.\n",
    "    \"\"\"\n",
    "    \n",
    "    def __init__(self):\n",
    "        self._credit = []\n",
    "        self._nocredit = []\n",
    "        self._submissions = []"
   ]
  },
  {
   "cell_type": "markdown",
   "metadata": {},
   "source": [
    "# Download and process student submissions\n",
    "\n",
    "Todo\n",
    "\n",
    "    - Do we want to have more control over which assignments are graded? This just does all ungraded..."
   ]
  },
  {
   "cell_type": "code",
   "execution_count": 5,
   "metadata": {
    "ExecuteTime": {
     "end_time": "2019-02-01T20:55:33.929489Z",
     "start_time": "2019-02-01T20:55:33.836822Z"
    }
   },
   "outputs": [],
   "source": [
    "import assets.GradingTools as GT\n",
    "import assets.DownloadProcessingTools as PT\n",
    "from assets.DataManagement import DataStore"
   ]
  },
  {
   "cell_type": "code",
   "execution_count": 12,
   "metadata": {
    "ExecuteTime": {
     "end_time": "2019-02-01T20:58:41.374009Z",
     "start_time": "2019-02-01T20:57:01.271747Z"
    }
   },
   "outputs": [
    {
     "name": "stdout",
     "output_type": "stream",
     "text": [
      "course 67531\n",
      "Processing Journal (week 1)\n",
      "https://canvas.csun.edu/api/v1/courses/67531/assignments/360442/submissions?per_page=42\n",
      "https://canvas.csun.edu/api/v1/courses/67531/assignments/360442/submissions?page=2&per_page=42\n",
      "https://canvas.csun.edu/api/v1/courses/67531/assignments/360442/submissions?page=3&per_page=42\n",
      "126 responses received\n",
      "Tentatively assigning credit to 87 submissions; no credit to 39 submissions.\n"
     ]
    }
   ],
   "source": [
    "results = []\n",
    "\n",
    "credit = []\n",
    "nocredit = []\n",
    "\n",
    "for course_id in InteractiveConfiguration.course_ids:\n",
    "    print('course', course_id)\n",
    "#     to_grade = get_assignments_needing_grading(course_id)\n",
    "    \n",
    "    for name, assignment_id in to_grade:\n",
    "        store = DataStore(assignment_id=assignment_id, assignment_name=name, course_id=course_id)\n",
    "\n",
    "        print(\"Processing {}\".format(name))\n",
    "        # make folder\n",
    "#         folder = journal_folder_name(name, course_id)\n",
    "#         create_folder(folder)\n",
    "        # download student submissions \n",
    "        response = PT.get_submissions(course_id, assignment_id)\n",
    "        print(\"{} responses received\".format(len(response)))\n",
    "        store.submissions = PT.process_response_without_saving_files(response)\n",
    "        # save a copy \n",
    "#         PT.save_submission_json(submissions, folder)\n",
    "        # give credit for non-empty submissions\n",
    "        c = GT.determine_credit(store.submissions)\n",
    "        # store the decisions rather than sending to server\n",
    "        # that way we don't keep updating until ready\n",
    "        store.credit = c['credit']\n",
    "        store.no_credit = c['nocredit']\n",
    "        store.print_counts()\n",
    "        results.append(store)\n",
    "\n",
    "#         store.credit.append({'course' : course_id, 'assignment': assignment_id, 'ids': c['credit']})\n",
    "#         store.nocredit.append({'course' : course_id, 'assignment': assignment_id, 'ids': c['nocredit']})\n",
    "#         print(\"Tentatively assigning credit to {} submissions; no credit to {} submissions.\".format(len(store.credit), len(store.no_credit))\n"
   ]
  },
  {
   "cell_type": "markdown",
   "metadata": {},
   "source": [
    "# Read student work and check that properly categorized"
   ]
  },
  {
   "cell_type": "code",
   "execution_count": 17,
   "metadata": {
    "ExecuteTime": {
     "end_time": "2019-02-01T21:02:48.933957Z",
     "start_time": "2019-02-01T21:02:48.924547Z"
    }
   },
   "outputs": [],
   "source": [
    "def make_assignment_header(store):\n",
    "    \"\"\"Displays the header for each assignment\"\"\"\n",
    "    entry = \"\"\"\n",
    "    <h1>{}</h1>\n",
    "    <h2>Class id: {}</h2>\"\"\"\n",
    "    return display(widgets.HTML(entry.format(store.assignment_name, store.course_id)))\n",
    "\n",
    "\n",
    "def make_text_display(student_id, text):\n",
    "    \"\"\"Handles the formatting of the student's text\"\"\"\n",
    "    entry = \"\"\"\n",
    "          <div id='%s'>\n",
    "            <h3>%s</h3>\n",
    "            <p>\n",
    "                %s\n",
    "            </p>\n",
    "        </div>\"\"\"\n",
    "    e = entry % (student_id, student_id, text)\n",
    "    return widgets.HTML(e)\n",
    "\n",
    "def make_submission_output(text, student_id, credit_list):\n",
    "    \"\"\"Creates the display of the submitted text with a toggle button to \n",
    "    update whether the student receives credit \n",
    "    \"\"\"\n",
    "    bval = 'Credit' if student_id in credit_list else 'No credit'\n",
    "    credit_button = widgets.ToggleButtons(\n",
    "        options=['Credit', 'No credit'],\n",
    "        value=bval,\n",
    "        description='',\n",
    "        disabled=False\n",
    "    )\n",
    "    \n",
    "    ta = make_text_display(student_id, text)\n",
    "\n",
    "    def on_value_change(change):\n",
    "        \"\"\"The relevant callback\n",
    "        NB the use of scope to define student_id\"\"\"\n",
    "        v = change['new']\n",
    "        print(v, student_id)\n",
    "        try:\n",
    "            if v == 'Credit':\n",
    "                credit_list.append(student_id)\n",
    "            elif v == 'No credit':\n",
    "                credit_list.remove(student_id)\n",
    "        except ValueError:\n",
    "            pass\n",
    "\n",
    "    credit_button.observe(on_value_change, names='value')\n",
    "    display(widgets.VBox([ta, credit_button]))\n",
    "\n",
    "def make_consolidated_text_fields(store):\n",
    "    \"\"\"Displays each entry with a toggle to adjust whether the \n",
    "    student receives credit\"\"\"\n",
    "    for r in store.submissions:\n",
    "        make_submission_output(r['body'], r['student_id'], store.credit)"
   ]
  },
  {
   "cell_type": "code",
   "execution_count": 18,
   "metadata": {
    "ExecuteTime": {
     "end_time": "2019-02-01T21:02:50.014586Z",
     "start_time": "2019-02-01T21:02:50.011512Z"
    }
   },
   "outputs": [],
   "source": [
    "test_results = [{'student_id' : i, 'body': 'Body text for student {}'.format(i)} for i in range(0,4)]\n",
    "\n",
    "# credit_list = [0, 2]\n",
    "\n",
    "# make_consolidated_text_fields(test_results, credit_list)"
   ]
  },
  {
   "cell_type": "code",
   "execution_count": 20,
   "metadata": {
    "ExecuteTime": {
     "end_time": "2019-02-01T21:02:54.740838Z",
     "start_time": "2019-02-01T21:02:52.064033Z"
    },
    "collapsed": true
   },
   "outputs": [
    {
     "data": {
      "application/vnd.jupyter.widget-view+json": {
       "model_id": "a1ca9f5db3b949af878e0b1072b55eb1",
       "version_major": 2,
       "version_minor": 0
      },
      "text/plain": [
       "HTML(value='\\n    <h1>Journal (week 1)</h1>\\n    <h2>Class id: 67531</h2>')"
      ]
     },
     "metadata": {},
     "output_type": "display_data"
    },
    {
     "data": {
      "application/vnd.jupyter.widget-view+json": {
       "model_id": "adf4e76e9cbb40989e98f5594d0162f9",
       "version_major": 2,
       "version_minor": 0
      },
      "text/plain": [
       "VBox(children=(HTML(value=\"\\n          <div id='23662'>\\n            <h3>23662</h3>\\n            <p>\\n        …"
      ]
     },
     "metadata": {},
     "output_type": "display_data"
    },
    {
     "data": {
      "application/vnd.jupyter.widget-view+json": {
       "model_id": "a568176bba25499399c757ce13829522",
       "version_major": 2,
       "version_minor": 0
      },
      "text/plain": [
       "VBox(children=(HTML(value=\"\\n          <div id='25782'>\\n            <h3>25782</h3>\\n            <p>\\n        …"
      ]
     },
     "metadata": {},
     "output_type": "display_data"
    },
    {
     "data": {
      "application/vnd.jupyter.widget-view+json": {
       "model_id": "b53b3f6ab8884bf7a50a4e84bad6ea89",
       "version_major": 2,
       "version_minor": 0
      },
      "text/plain": [
       "VBox(children=(HTML(value=\"\\n          <div id='25976'>\\n            <h3>25976</h3>\\n            <p>\\n        …"
      ]
     },
     "metadata": {},
     "output_type": "display_data"
    },
    {
     "data": {
      "application/vnd.jupyter.widget-view+json": {
       "model_id": "938feb8f472749a1851a6e7a76198d23",
       "version_major": 2,
       "version_minor": 0
      },
      "text/plain": [
       "VBox(children=(HTML(value=\"\\n          <div id='27236'>\\n            <h3>27236</h3>\\n            <p>\\n        …"
      ]
     },
     "metadata": {},
     "output_type": "display_data"
    },
    {
     "data": {
      "application/vnd.jupyter.widget-view+json": {
       "model_id": "462b968482e14af18f55b81f480151af",
       "version_major": 2,
       "version_minor": 0
      },
      "text/plain": [
       "VBox(children=(HTML(value=\"\\n          <div id='29492'>\\n            <h3>29492</h3>\\n            <p>\\n        …"
      ]
     },
     "metadata": {},
     "output_type": "display_data"
    },
    {
     "data": {
      "application/vnd.jupyter.widget-view+json": {
       "model_id": "2f10a75d7188480a8bf014cabf576e87",
       "version_major": 2,
       "version_minor": 0
      },
      "text/plain": [
       "VBox(children=(HTML(value=\"\\n          <div id='30247'>\\n            <h3>30247</h3>\\n            <p>\\n        …"
      ]
     },
     "metadata": {},
     "output_type": "display_data"
    },
    {
     "data": {
      "application/vnd.jupyter.widget-view+json": {
       "model_id": "58e1d724819b4aaf8978b457b7e7e1e1",
       "version_major": 2,
       "version_minor": 0
      },
      "text/plain": [
       "VBox(children=(HTML(value=\"\\n          <div id='32695'>\\n            <h3>32695</h3>\\n            <p>\\n        …"
      ]
     },
     "metadata": {},
     "output_type": "display_data"
    },
    {
     "data": {
      "application/vnd.jupyter.widget-view+json": {
       "model_id": "971b65fb92594e948637a01f98280fba",
       "version_major": 2,
       "version_minor": 0
      },
      "text/plain": [
       "VBox(children=(HTML(value=\"\\n          <div id='33575'>\\n            <h3>33575</h3>\\n            <p>\\n        …"
      ]
     },
     "metadata": {},
     "output_type": "display_data"
    },
    {
     "data": {
      "application/vnd.jupyter.widget-view+json": {
       "model_id": "4ff09bf5f6dc4bcfbbd03e0d75494cd6",
       "version_major": 2,
       "version_minor": 0
      },
      "text/plain": [
       "VBox(children=(HTML(value=\"\\n          <div id='36128'>\\n            <h3>36128</h3>\\n            <p>\\n        …"
      ]
     },
     "metadata": {},
     "output_type": "display_data"
    },
    {
     "data": {
      "application/vnd.jupyter.widget-view+json": {
       "model_id": "fdb9c40973d24acea8fbb68b22044829",
       "version_major": 2,
       "version_minor": 0
      },
      "text/plain": [
       "VBox(children=(HTML(value=\"\\n          <div id='36520'>\\n            <h3>36520</h3>\\n            <p>\\n        …"
      ]
     },
     "metadata": {},
     "output_type": "display_data"
    },
    {
     "data": {
      "application/vnd.jupyter.widget-view+json": {
       "model_id": "c6a52541050f4286b8c060286ecc5add",
       "version_major": 2,
       "version_minor": 0
      },
      "text/plain": [
       "VBox(children=(HTML(value=\"\\n          <div id='39746'>\\n            <h3>39746</h3>\\n            <p>\\n        …"
      ]
     },
     "metadata": {},
     "output_type": "display_data"
    },
    {
     "data": {
      "application/vnd.jupyter.widget-view+json": {
       "model_id": "b662058e5d3a4ee4bbbe3f522415f912",
       "version_major": 2,
       "version_minor": 0
      },
      "text/plain": [
       "VBox(children=(HTML(value=\"\\n          <div id='39892'>\\n            <h3>39892</h3>\\n            <p>\\n        …"
      ]
     },
     "metadata": {},
     "output_type": "display_data"
    },
    {
     "data": {
      "application/vnd.jupyter.widget-view+json": {
       "model_id": "6807863590574cfb9892b02cd4441786",
       "version_major": 2,
       "version_minor": 0
      },
      "text/plain": [
       "VBox(children=(HTML(value=\"\\n          <div id='40955'>\\n            <h3>40955</h3>\\n            <p>\\n        …"
      ]
     },
     "metadata": {},
     "output_type": "display_data"
    },
    {
     "data": {
      "application/vnd.jupyter.widget-view+json": {
       "model_id": "63f25e78b1fa4b7abe11dc0588ce742c",
       "version_major": 2,
       "version_minor": 0
      },
      "text/plain": [
       "VBox(children=(HTML(value=\"\\n          <div id='41592'>\\n            <h3>41592</h3>\\n            <p>\\n        …"
      ]
     },
     "metadata": {},
     "output_type": "display_data"
    },
    {
     "data": {
      "application/vnd.jupyter.widget-view+json": {
       "model_id": "5ebc74aad5054532b2af39a8e5b3bb1f",
       "version_major": 2,
       "version_minor": 0
      },
      "text/plain": [
       "VBox(children=(HTML(value=\"\\n          <div id='41744'>\\n            <h3>41744</h3>\\n            <p>\\n        …"
      ]
     },
     "metadata": {},
     "output_type": "display_data"
    },
    {
     "data": {
      "application/vnd.jupyter.widget-view+json": {
       "model_id": "247438e3e1fa4a32b853e538aa5e3280",
       "version_major": 2,
       "version_minor": 0
      },
      "text/plain": [
       "VBox(children=(HTML(value=\"\\n          <div id='42021'>\\n            <h3>42021</h3>\\n            <p>\\n        …"
      ]
     },
     "metadata": {},
     "output_type": "display_data"
    },
    {
     "data": {
      "application/vnd.jupyter.widget-view+json": {
       "model_id": "3f35923271d54d2fa8de09eb602c2119",
       "version_major": 2,
       "version_minor": 0
      },
      "text/plain": [
       "VBox(children=(HTML(value=\"\\n          <div id='43060'>\\n            <h3>43060</h3>\\n            <p>\\n        …"
      ]
     },
     "metadata": {},
     "output_type": "display_data"
    },
    {
     "data": {
      "application/vnd.jupyter.widget-view+json": {
       "model_id": "d9b63baf5e36469d83b7c1204a98f888",
       "version_major": 2,
       "version_minor": 0
      },
      "text/plain": [
       "VBox(children=(HTML(value=\"\\n          <div id='43081'>\\n            <h3>43081</h3>\\n            <p>\\n        …"
      ]
     },
     "metadata": {},
     "output_type": "display_data"
    },
    {
     "data": {
      "application/vnd.jupyter.widget-view+json": {
       "model_id": "adaa0438f4334016824b855db16a41fc",
       "version_major": 2,
       "version_minor": 0
      },
      "text/plain": [
       "VBox(children=(HTML(value=\"\\n          <div id='44219'>\\n            <h3>44219</h3>\\n            <p>\\n        …"
      ]
     },
     "metadata": {},
     "output_type": "display_data"
    },
    {
     "data": {
      "application/vnd.jupyter.widget-view+json": {
       "model_id": "4f08801e91d2400dac74df1ae861ba6c",
       "version_major": 2,
       "version_minor": 0
      },
      "text/plain": [
       "VBox(children=(HTML(value=\"\\n          <div id='44270'>\\n            <h3>44270</h3>\\n            <p>\\n        …"
      ]
     },
     "metadata": {},
     "output_type": "display_data"
    },
    {
     "data": {
      "application/vnd.jupyter.widget-view+json": {
       "model_id": "82332bcc7ffd466493f7b8d678d26a77",
       "version_major": 2,
       "version_minor": 0
      },
      "text/plain": [
       "VBox(children=(HTML(value=\"\\n          <div id='44323'>\\n            <h3>44323</h3>\\n            <p>\\n        …"
      ]
     },
     "metadata": {},
     "output_type": "display_data"
    },
    {
     "data": {
      "application/vnd.jupyter.widget-view+json": {
       "model_id": "f75830531ad549209b6e63dab27efd08",
       "version_major": 2,
       "version_minor": 0
      },
      "text/plain": [
       "VBox(children=(HTML(value=\"\\n          <div id='44360'>\\n            <h3>44360</h3>\\n            <p>\\n        …"
      ]
     },
     "metadata": {},
     "output_type": "display_data"
    },
    {
     "data": {
      "application/vnd.jupyter.widget-view+json": {
       "model_id": "d7e91ce1a8dc4286b72173a919ac54e5",
       "version_major": 2,
       "version_minor": 0
      },
      "text/plain": [
       "VBox(children=(HTML(value=\"\\n          <div id='44922'>\\n            <h3>44922</h3>\\n            <p>\\n        …"
      ]
     },
     "metadata": {},
     "output_type": "display_data"
    },
    {
     "data": {
      "application/vnd.jupyter.widget-view+json": {
       "model_id": "2dad989c57d04a15874a0706890add1f",
       "version_major": 2,
       "version_minor": 0
      },
      "text/plain": [
       "VBox(children=(HTML(value=\"\\n          <div id='45005'>\\n            <h3>45005</h3>\\n            <p>\\n        …"
      ]
     },
     "metadata": {},
     "output_type": "display_data"
    },
    {
     "data": {
      "application/vnd.jupyter.widget-view+json": {
       "model_id": "2b87050b24dd41d79abef102c4d08426",
       "version_major": 2,
       "version_minor": 0
      },
      "text/plain": [
       "VBox(children=(HTML(value=\"\\n          <div id='45118'>\\n            <h3>45118</h3>\\n            <p>\\n        …"
      ]
     },
     "metadata": {},
     "output_type": "display_data"
    },
    {
     "data": {
      "application/vnd.jupyter.widget-view+json": {
       "model_id": "1ea25259142f408f91d8eba090271e07",
       "version_major": 2,
       "version_minor": 0
      },
      "text/plain": [
       "VBox(children=(HTML(value=\"\\n          <div id='45309'>\\n            <h3>45309</h3>\\n            <p>\\n        …"
      ]
     },
     "metadata": {},
     "output_type": "display_data"
    },
    {
     "data": {
      "application/vnd.jupyter.widget-view+json": {
       "model_id": "ebb438c16f934a8ba191a87dadeaf32b",
       "version_major": 2,
       "version_minor": 0
      },
      "text/plain": [
       "VBox(children=(HTML(value=\"\\n          <div id='45429'>\\n            <h3>45429</h3>\\n            <p>\\n        …"
      ]
     },
     "metadata": {},
     "output_type": "display_data"
    },
    {
     "data": {
      "application/vnd.jupyter.widget-view+json": {
       "model_id": "476ab608c35b430dbd4931f19963ab8d",
       "version_major": 2,
       "version_minor": 0
      },
      "text/plain": [
       "VBox(children=(HTML(value=\"\\n          <div id='45858'>\\n            <h3>45858</h3>\\n            <p>\\n        …"
      ]
     },
     "metadata": {},
     "output_type": "display_data"
    },
    {
     "data": {
      "application/vnd.jupyter.widget-view+json": {
       "model_id": "4dccb0d26b3b4fe2818c6fb0fbdf7940",
       "version_major": 2,
       "version_minor": 0
      },
      "text/plain": [
       "VBox(children=(HTML(value=\"\\n          <div id='46048'>\\n            <h3>46048</h3>\\n            <p>\\n        …"
      ]
     },
     "metadata": {},
     "output_type": "display_data"
    },
    {
     "data": {
      "application/vnd.jupyter.widget-view+json": {
       "model_id": "8436975b5150442e854931db622e2042",
       "version_major": 2,
       "version_minor": 0
      },
      "text/plain": [
       "VBox(children=(HTML(value='\\n          <div id=\\'46247\\'>\\n            <h3>46247</h3>\\n            <p>\\n      …"
      ]
     },
     "metadata": {},
     "output_type": "display_data"
    },
    {
     "data": {
      "application/vnd.jupyter.widget-view+json": {
       "model_id": "61a1dd17f48a4e8bb71065c9db635b56",
       "version_major": 2,
       "version_minor": 0
      },
      "text/plain": [
       "VBox(children=(HTML(value=\"\\n          <div id='46335'>\\n            <h3>46335</h3>\\n            <p>\\n        …"
      ]
     },
     "metadata": {},
     "output_type": "display_data"
    },
    {
     "data": {
      "application/vnd.jupyter.widget-view+json": {
       "model_id": "f5de79e15da44a2cb4e3dc204e463af1",
       "version_major": 2,
       "version_minor": 0
      },
      "text/plain": [
       "VBox(children=(HTML(value=\"\\n          <div id='46665'>\\n            <h3>46665</h3>\\n            <p>\\n        …"
      ]
     },
     "metadata": {},
     "output_type": "display_data"
    },
    {
     "data": {
      "application/vnd.jupyter.widget-view+json": {
       "model_id": "1586ea4bf0d14e4bbefec2c8e78f0fe0",
       "version_major": 2,
       "version_minor": 0
      },
      "text/plain": [
       "VBox(children=(HTML(value=\"\\n          <div id='46674'>\\n            <h3>46674</h3>\\n            <p>\\n        …"
      ]
     },
     "metadata": {},
     "output_type": "display_data"
    },
    {
     "data": {
      "application/vnd.jupyter.widget-view+json": {
       "model_id": "9695d7a091dc4437b83c4fba3f4e03b3",
       "version_major": 2,
       "version_minor": 0
      },
      "text/plain": [
       "VBox(children=(HTML(value=\"\\n          <div id='46791'>\\n            <h3>46791</h3>\\n            <p>\\n        …"
      ]
     },
     "metadata": {},
     "output_type": "display_data"
    },
    {
     "data": {
      "application/vnd.jupyter.widget-view+json": {
       "model_id": "efdb38242b0e40728b0663fe35a3da4c",
       "version_major": 2,
       "version_minor": 0
      },
      "text/plain": [
       "VBox(children=(HTML(value=\"\\n          <div id='48809'>\\n            <h3>48809</h3>\\n            <p>\\n        …"
      ]
     },
     "metadata": {},
     "output_type": "display_data"
    },
    {
     "data": {
      "application/vnd.jupyter.widget-view+json": {
       "model_id": "9a81337cecf347c787e7f15424f9a125",
       "version_major": 2,
       "version_minor": 0
      },
      "text/plain": [
       "VBox(children=(HTML(value=\"\\n          <div id='53606'>\\n            <h3>53606</h3>\\n            <p>\\n        …"
      ]
     },
     "metadata": {},
     "output_type": "display_data"
    },
    {
     "data": {
      "application/vnd.jupyter.widget-view+json": {
       "model_id": "75ab1ce5612e4490a6072ae1751082c5",
       "version_major": 2,
       "version_minor": 0
      },
      "text/plain": [
       "VBox(children=(HTML(value='\\n          <div id=\\'53979\\'>\\n            <h3>53979</h3>\\n            <p>\\n      …"
      ]
     },
     "metadata": {},
     "output_type": "display_data"
    },
    {
     "data": {
      "application/vnd.jupyter.widget-view+json": {
       "model_id": "ff11734cda554725b9434d8af16b2e06",
       "version_major": 2,
       "version_minor": 0
      },
      "text/plain": [
       "VBox(children=(HTML(value='\\n          <div id=\\'54653\\'>\\n            <h3>54653</h3>\\n            <p>\\n      …"
      ]
     },
     "metadata": {},
     "output_type": "display_data"
    },
    {
     "data": {
      "application/vnd.jupyter.widget-view+json": {
       "model_id": "57d2a4bc1e654454a576b64bac266045",
       "version_major": 2,
       "version_minor": 0
      },
      "text/plain": [
       "VBox(children=(HTML(value=\"\\n          <div id='55013'>\\n            <h3>55013</h3>\\n            <p>\\n        …"
      ]
     },
     "metadata": {},
     "output_type": "display_data"
    },
    {
     "data": {
      "application/vnd.jupyter.widget-view+json": {
       "model_id": "887b93104a86427bb3c67c1cd2122842",
       "version_major": 2,
       "version_minor": 0
      },
      "text/plain": [
       "VBox(children=(HTML(value=\"\\n          <div id='55124'>\\n            <h3>55124</h3>\\n            <p>\\n        …"
      ]
     },
     "metadata": {},
     "output_type": "display_data"
    },
    {
     "data": {
      "application/vnd.jupyter.widget-view+json": {
       "model_id": "c54b3fff0990412c93b810aba62c481c",
       "version_major": 2,
       "version_minor": 0
      },
      "text/plain": [
       "VBox(children=(HTML(value=\"\\n          <div id='55607'>\\n            <h3>55607</h3>\\n            <p>\\n        …"
      ]
     },
     "metadata": {},
     "output_type": "display_data"
    },
    {
     "data": {
      "application/vnd.jupyter.widget-view+json": {
       "model_id": "f8aa42a3d1cb43d3ac57608835a40fae",
       "version_major": 2,
       "version_minor": 0
      },
      "text/plain": [
       "VBox(children=(HTML(value=\"\\n          <div id='56114'>\\n            <h3>56114</h3>\\n            <p>\\n        …"
      ]
     },
     "metadata": {},
     "output_type": "display_data"
    },
    {
     "data": {
      "application/vnd.jupyter.widget-view+json": {
       "model_id": "d84821282f2645f6a833cca3305b277f",
       "version_major": 2,
       "version_minor": 0
      },
      "text/plain": [
       "VBox(children=(HTML(value=\"\\n          <div id='56769'>\\n            <h3>56769</h3>\\n            <p>\\n        …"
      ]
     },
     "metadata": {},
     "output_type": "display_data"
    },
    {
     "data": {
      "application/vnd.jupyter.widget-view+json": {
       "model_id": "8c5361210065406899efc706f5916e24",
       "version_major": 2,
       "version_minor": 0
      },
      "text/plain": [
       "VBox(children=(HTML(value=\"\\n          <div id='57719'>\\n            <h3>57719</h3>\\n            <p>\\n        …"
      ]
     },
     "metadata": {},
     "output_type": "display_data"
    },
    {
     "data": {
      "application/vnd.jupyter.widget-view+json": {
       "model_id": "6df5d17adc494eb3a5c68ba082ab5460",
       "version_major": 2,
       "version_minor": 0
      },
      "text/plain": [
       "VBox(children=(HTML(value=\"\\n          <div id='58493'>\\n            <h3>58493</h3>\\n            <p>\\n        …"
      ]
     },
     "metadata": {},
     "output_type": "display_data"
    },
    {
     "data": {
      "application/vnd.jupyter.widget-view+json": {
       "model_id": "39d4b26bfd87473389f64accc67df351",
       "version_major": 2,
       "version_minor": 0
      },
      "text/plain": [
       "VBox(children=(HTML(value=\"\\n          <div id='59446'>\\n            <h3>59446</h3>\\n            <p>\\n        …"
      ]
     },
     "metadata": {},
     "output_type": "display_data"
    },
    {
     "data": {
      "application/vnd.jupyter.widget-view+json": {
       "model_id": "e29651f3fc8d419693b42b4a5e48cb8b",
       "version_major": 2,
       "version_minor": 0
      },
      "text/plain": [
       "VBox(children=(HTML(value=\"\\n          <div id='60229'>\\n            <h3>60229</h3>\\n            <p>\\n        …"
      ]
     },
     "metadata": {},
     "output_type": "display_data"
    },
    {
     "data": {
      "application/vnd.jupyter.widget-view+json": {
       "model_id": "4547172e0abf493787265c94e07b1b84",
       "version_major": 2,
       "version_minor": 0
      },
      "text/plain": [
       "VBox(children=(HTML(value=\"\\n          <div id='60280'>\\n            <h3>60280</h3>\\n            <p>\\n        …"
      ]
     },
     "metadata": {},
     "output_type": "display_data"
    },
    {
     "data": {
      "application/vnd.jupyter.widget-view+json": {
       "model_id": "4d99849146f445529e1c74dc22887fa5",
       "version_major": 2,
       "version_minor": 0
      },
      "text/plain": [
       "VBox(children=(HTML(value=\"\\n          <div id='61109'>\\n            <h3>61109</h3>\\n            <p>\\n        …"
      ]
     },
     "metadata": {},
     "output_type": "display_data"
    },
    {
     "data": {
      "application/vnd.jupyter.widget-view+json": {
       "model_id": "3bc84cf740a245f58fca922e2e5b682d",
       "version_major": 2,
       "version_minor": 0
      },
      "text/plain": [
       "VBox(children=(HTML(value=\"\\n          <div id='62062'>\\n            <h3>62062</h3>\\n            <p>\\n        …"
      ]
     },
     "metadata": {},
     "output_type": "display_data"
    },
    {
     "data": {
      "application/vnd.jupyter.widget-view+json": {
       "model_id": "15254cb4de314eb28d89df84fa45f1a9",
       "version_major": 2,
       "version_minor": 0
      },
      "text/plain": [
       "VBox(children=(HTML(value=\"\\n          <div id='63120'>\\n            <h3>63120</h3>\\n            <p>\\n        …"
      ]
     },
     "metadata": {},
     "output_type": "display_data"
    },
    {
     "data": {
      "application/vnd.jupyter.widget-view+json": {
       "model_id": "516ab5d9646e495bbbc43f6d0127a518",
       "version_major": 2,
       "version_minor": 0
      },
      "text/plain": [
       "VBox(children=(HTML(value=\"\\n          <div id='63474'>\\n            <h3>63474</h3>\\n            <p>\\n        …"
      ]
     },
     "metadata": {},
     "output_type": "display_data"
    },
    {
     "data": {
      "application/vnd.jupyter.widget-view+json": {
       "model_id": "8be011dd8db04a569e253b87a5ae126b",
       "version_major": 2,
       "version_minor": 0
      },
      "text/plain": [
       "VBox(children=(HTML(value='\\n          <div id=\\'64127\\'>\\n            <h3>64127</h3>\\n            <p>\\n      …"
      ]
     },
     "metadata": {},
     "output_type": "display_data"
    },
    {
     "data": {
      "application/vnd.jupyter.widget-view+json": {
       "model_id": "ff082341e8b147e78428bee360d888d4",
       "version_major": 2,
       "version_minor": 0
      },
      "text/plain": [
       "VBox(children=(HTML(value=\"\\n          <div id='65664'>\\n            <h3>65664</h3>\\n            <p>\\n        …"
      ]
     },
     "metadata": {},
     "output_type": "display_data"
    },
    {
     "data": {
      "application/vnd.jupyter.widget-view+json": {
       "model_id": "4eb41f63f4a543aa8c110d730ff22806",
       "version_major": 2,
       "version_minor": 0
      },
      "text/plain": [
       "VBox(children=(HTML(value=\"\\n          <div id='66185'>\\n            <h3>66185</h3>\\n            <p>\\n        …"
      ]
     },
     "metadata": {},
     "output_type": "display_data"
    },
    {
     "data": {
      "application/vnd.jupyter.widget-view+json": {
       "model_id": "d6fcf9ca83e74a5e99ffaf997abd5bab",
       "version_major": 2,
       "version_minor": 0
      },
      "text/plain": [
       "VBox(children=(HTML(value=\"\\n          <div id='66972'>\\n            <h3>66972</h3>\\n            <p>\\n        …"
      ]
     },
     "metadata": {},
     "output_type": "display_data"
    },
    {
     "data": {
      "application/vnd.jupyter.widget-view+json": {
       "model_id": "c7183f6d56374871837e24a7c6e62a63",
       "version_major": 2,
       "version_minor": 0
      },
      "text/plain": [
       "VBox(children=(HTML(value=\"\\n          <div id='68824'>\\n            <h3>68824</h3>\\n            <p>\\n        …"
      ]
     },
     "metadata": {},
     "output_type": "display_data"
    },
    {
     "data": {
      "application/vnd.jupyter.widget-view+json": {
       "model_id": "adf6d287be644cdca14ef4c8a059118a",
       "version_major": 2,
       "version_minor": 0
      },
      "text/plain": [
       "VBox(children=(HTML(value=\"\\n          <div id='69610'>\\n            <h3>69610</h3>\\n            <p>\\n        …"
      ]
     },
     "metadata": {},
     "output_type": "display_data"
    },
    {
     "data": {
      "application/vnd.jupyter.widget-view+json": {
       "model_id": "6f600ef88cf94b1e938815917f2178df",
       "version_major": 2,
       "version_minor": 0
      },
      "text/plain": [
       "VBox(children=(HTML(value=\"\\n          <div id='70933'>\\n            <h3>70933</h3>\\n            <p>\\n        …"
      ]
     },
     "metadata": {},
     "output_type": "display_data"
    },
    {
     "data": {
      "application/vnd.jupyter.widget-view+json": {
       "model_id": "b99277d3a7944438ac47080e348deb8b",
       "version_major": 2,
       "version_minor": 0
      },
      "text/plain": [
       "VBox(children=(HTML(value=\"\\n          <div id='71111'>\\n            <h3>71111</h3>\\n            <p>\\n        …"
      ]
     },
     "metadata": {},
     "output_type": "display_data"
    },
    {
     "data": {
      "application/vnd.jupyter.widget-view+json": {
       "model_id": "d6ff3040ab324a9c94765b360bd7b879",
       "version_major": 2,
       "version_minor": 0
      },
      "text/plain": [
       "VBox(children=(HTML(value=\"\\n          <div id='71829'>\\n            <h3>71829</h3>\\n            <p>\\n        …"
      ]
     },
     "metadata": {},
     "output_type": "display_data"
    },
    {
     "data": {
      "application/vnd.jupyter.widget-view+json": {
       "model_id": "64df49d4b14246569ec402eaf33f5f01",
       "version_major": 2,
       "version_minor": 0
      },
      "text/plain": [
       "VBox(children=(HTML(value=\"\\n          <div id='73208'>\\n            <h3>73208</h3>\\n            <p>\\n        …"
      ]
     },
     "metadata": {},
     "output_type": "display_data"
    },
    {
     "data": {
      "application/vnd.jupyter.widget-view+json": {
       "model_id": "0cdbcc2ffa664448a04e00b33a4e0b79",
       "version_major": 2,
       "version_minor": 0
      },
      "text/plain": [
       "VBox(children=(HTML(value=\"\\n          <div id='73659'>\\n            <h3>73659</h3>\\n            <p>\\n        …"
      ]
     },
     "metadata": {},
     "output_type": "display_data"
    },
    {
     "data": {
      "application/vnd.jupyter.widget-view+json": {
       "model_id": "c59f868ad40e497394fdba2622a7871b",
       "version_major": 2,
       "version_minor": 0
      },
      "text/plain": [
       "VBox(children=(HTML(value=\"\\n          <div id='74473'>\\n            <h3>74473</h3>\\n            <p>\\n        …"
      ]
     },
     "metadata": {},
     "output_type": "display_data"
    },
    {
     "data": {
      "application/vnd.jupyter.widget-view+json": {
       "model_id": "5c7cb0560f064c9eace457322215ac53",
       "version_major": 2,
       "version_minor": 0
      },
      "text/plain": [
       "VBox(children=(HTML(value=\"\\n          <div id='75034'>\\n            <h3>75034</h3>\\n            <p>\\n        …"
      ]
     },
     "metadata": {},
     "output_type": "display_data"
    },
    {
     "data": {
      "application/vnd.jupyter.widget-view+json": {
       "model_id": "29eed51969004026bb69a5e946866f91",
       "version_major": 2,
       "version_minor": 0
      },
      "text/plain": [
       "VBox(children=(HTML(value=\"\\n          <div id='75670'>\\n            <h3>75670</h3>\\n            <p>\\n        …"
      ]
     },
     "metadata": {},
     "output_type": "display_data"
    },
    {
     "data": {
      "application/vnd.jupyter.widget-view+json": {
       "model_id": "3aea1eb17dd54f14b02988200c9e077c",
       "version_major": 2,
       "version_minor": 0
      },
      "text/plain": [
       "VBox(children=(HTML(value=\"\\n          <div id='76748'>\\n            <h3>76748</h3>\\n            <p>\\n        …"
      ]
     },
     "metadata": {},
     "output_type": "display_data"
    },
    {
     "data": {
      "application/vnd.jupyter.widget-view+json": {
       "model_id": "fea484dc8d50496d8e7e37954ea555b5",
       "version_major": 2,
       "version_minor": 0
      },
      "text/plain": [
       "VBox(children=(HTML(value=\"\\n          <div id='77579'>\\n            <h3>77579</h3>\\n            <p>\\n        …"
      ]
     },
     "metadata": {},
     "output_type": "display_data"
    },
    {
     "data": {
      "application/vnd.jupyter.widget-view+json": {
       "model_id": "0132d2fd3bbd44f1b5b251d2ff707789",
       "version_major": 2,
       "version_minor": 0
      },
      "text/plain": [
       "VBox(children=(HTML(value=\"\\n          <div id='77598'>\\n            <h3>77598</h3>\\n            <p>\\n        …"
      ]
     },
     "metadata": {},
     "output_type": "display_data"
    },
    {
     "data": {
      "application/vnd.jupyter.widget-view+json": {
       "model_id": "6a811078e7d44c4ea7ad169503a7b56a",
       "version_major": 2,
       "version_minor": 0
      },
      "text/plain": [
       "VBox(children=(HTML(value=\"\\n          <div id='79239'>\\n            <h3>79239</h3>\\n            <p>\\n        …"
      ]
     },
     "metadata": {},
     "output_type": "display_data"
    },
    {
     "data": {
      "application/vnd.jupyter.widget-view+json": {
       "model_id": "7ef55a5be04048598b8635010ee4cffa",
       "version_major": 2,
       "version_minor": 0
      },
      "text/plain": [
       "VBox(children=(HTML(value=\"\\n          <div id='79633'>\\n            <h3>79633</h3>\\n            <p>\\n        …"
      ]
     },
     "metadata": {},
     "output_type": "display_data"
    },
    {
     "data": {
      "application/vnd.jupyter.widget-view+json": {
       "model_id": "af4304bf2f25469f95b54a4e628cb5b0",
       "version_major": 2,
       "version_minor": 0
      },
      "text/plain": [
       "VBox(children=(HTML(value=\"\\n          <div id='82806'>\\n            <h3>82806</h3>\\n            <p>\\n        …"
      ]
     },
     "metadata": {},
     "output_type": "display_data"
    },
    {
     "data": {
      "application/vnd.jupyter.widget-view+json": {
       "model_id": "aee5038b30cb45d4a1b2effe8700cc88",
       "version_major": 2,
       "version_minor": 0
      },
      "text/plain": [
       "VBox(children=(HTML(value=\"\\n          <div id='83933'>\\n            <h3>83933</h3>\\n            <p>\\n        …"
      ]
     },
     "metadata": {},
     "output_type": "display_data"
    },
    {
     "data": {
      "application/vnd.jupyter.widget-view+json": {
       "model_id": "03824ac168ef4d3da255b70090157def",
       "version_major": 2,
       "version_minor": 0
      },
      "text/plain": [
       "VBox(children=(HTML(value=\"\\n          <div id='87439'>\\n            <h3>87439</h3>\\n            <p>\\n        …"
      ]
     },
     "metadata": {},
     "output_type": "display_data"
    },
    {
     "data": {
      "application/vnd.jupyter.widget-view+json": {
       "model_id": "506a82d80ae34fb88584172313285483",
       "version_major": 2,
       "version_minor": 0
      },
      "text/plain": [
       "VBox(children=(HTML(value=\"\\n          <div id='91143'>\\n            <h3>91143</h3>\\n            <p>\\n        …"
      ]
     },
     "metadata": {},
     "output_type": "display_data"
    },
    {
     "data": {
      "application/vnd.jupyter.widget-view+json": {
       "model_id": "9f7288f884a8455bb0699d4105032ee6",
       "version_major": 2,
       "version_minor": 0
      },
      "text/plain": [
       "VBox(children=(HTML(value='\\n          <div id=\\'91218\\'>\\n            <h3>91218</h3>\\n            <p>\\n      …"
      ]
     },
     "metadata": {},
     "output_type": "display_data"
    },
    {
     "data": {
      "application/vnd.jupyter.widget-view+json": {
       "model_id": "67b9561eba454d068d04b137c5451ea1",
       "version_major": 2,
       "version_minor": 0
      },
      "text/plain": [
       "VBox(children=(HTML(value='\\n          <div id=\\'91254\\'>\\n            <h3>91254</h3>\\n            <p>\\n      …"
      ]
     },
     "metadata": {},
     "output_type": "display_data"
    },
    {
     "data": {
      "application/vnd.jupyter.widget-view+json": {
       "model_id": "ed677e4b4a774932b1560187162db4ee",
       "version_major": 2,
       "version_minor": 0
      },
      "text/plain": [
       "VBox(children=(HTML(value=\"\\n          <div id='91448'>\\n            <h3>91448</h3>\\n            <p>\\n        …"
      ]
     },
     "metadata": {},
     "output_type": "display_data"
    },
    {
     "data": {
      "application/vnd.jupyter.widget-view+json": {
       "model_id": "621c63f18974427e8818cf1d835db716",
       "version_major": 2,
       "version_minor": 0
      },
      "text/plain": [
       "VBox(children=(HTML(value=\"\\n          <div id='91772'>\\n            <h3>91772</h3>\\n            <p>\\n        …"
      ]
     },
     "metadata": {},
     "output_type": "display_data"
    },
    {
     "data": {
      "application/vnd.jupyter.widget-view+json": {
       "model_id": "8026d7551a254a0d96c80b57067d4d32",
       "version_major": 2,
       "version_minor": 0
      },
      "text/plain": [
       "VBox(children=(HTML(value=\"\\n          <div id='92202'>\\n            <h3>92202</h3>\\n            <p>\\n        …"
      ]
     },
     "metadata": {},
     "output_type": "display_data"
    },
    {
     "data": {
      "application/vnd.jupyter.widget-view+json": {
       "model_id": "26b23d2523ee4bd0a646b902b5a5c800",
       "version_major": 2,
       "version_minor": 0
      },
      "text/plain": [
       "VBox(children=(HTML(value=\"\\n          <div id='92575'>\\n            <h3>92575</h3>\\n            <p>\\n        …"
      ]
     },
     "metadata": {},
     "output_type": "display_data"
    },
    {
     "data": {
      "application/vnd.jupyter.widget-view+json": {
       "model_id": "78c7c222871c499cb703126a8aed5335",
       "version_major": 2,
       "version_minor": 0
      },
      "text/plain": [
       "VBox(children=(HTML(value=\"\\n          <div id='93155'>\\n            <h3>93155</h3>\\n            <p>\\n        …"
      ]
     },
     "metadata": {},
     "output_type": "display_data"
    },
    {
     "data": {
      "application/vnd.jupyter.widget-view+json": {
       "model_id": "6b378270576146e580994649d458de88",
       "version_major": 2,
       "version_minor": 0
      },
      "text/plain": [
       "VBox(children=(HTML(value=\"\\n          <div id='93764'>\\n            <h3>93764</h3>\\n            <p>\\n        …"
      ]
     },
     "metadata": {},
     "output_type": "display_data"
    },
    {
     "data": {
      "application/vnd.jupyter.widget-view+json": {
       "model_id": "278a5ca082a74e5592b93da146f9ffc4",
       "version_major": 2,
       "version_minor": 0
      },
      "text/plain": [
       "VBox(children=(HTML(value=\"\\n          <div id='94263'>\\n            <h3>94263</h3>\\n            <p>\\n        …"
      ]
     },
     "metadata": {},
     "output_type": "display_data"
    },
    {
     "data": {
      "application/vnd.jupyter.widget-view+json": {
       "model_id": "d7b1a34bee9740f495ec4f7378e036b6",
       "version_major": 2,
       "version_minor": 0
      },
      "text/plain": [
       "VBox(children=(HTML(value=\"\\n          <div id='94809'>\\n            <h3>94809</h3>\\n            <p>\\n        …"
      ]
     },
     "metadata": {},
     "output_type": "display_data"
    },
    {
     "data": {
      "application/vnd.jupyter.widget-view+json": {
       "model_id": "b953c76e4edc4eb3b544e4ed3e6e87e9",
       "version_major": 2,
       "version_minor": 0
      },
      "text/plain": [
       "VBox(children=(HTML(value=\"\\n          <div id='95655'>\\n            <h3>95655</h3>\\n            <p>\\n        …"
      ]
     },
     "metadata": {},
     "output_type": "display_data"
    },
    {
     "data": {
      "application/vnd.jupyter.widget-view+json": {
       "model_id": "f77da8b026e24666b18a754085e4820a",
       "version_major": 2,
       "version_minor": 0
      },
      "text/plain": [
       "VBox(children=(HTML(value=\"\\n          <div id='95939'>\\n            <h3>95939</h3>\\n            <p>\\n        …"
      ]
     },
     "metadata": {},
     "output_type": "display_data"
    },
    {
     "data": {
      "application/vnd.jupyter.widget-view+json": {
       "model_id": "13f46abeca684ca5b6371c4b2f0c799f",
       "version_major": 2,
       "version_minor": 0
      },
      "text/plain": [
       "VBox(children=(HTML(value=\"\\n          <div id='96025'>\\n            <h3>96025</h3>\\n            <p>\\n        …"
      ]
     },
     "metadata": {},
     "output_type": "display_data"
    },
    {
     "data": {
      "application/vnd.jupyter.widget-view+json": {
       "model_id": "07861d00ca1240e0811f8d2bdd2e37b9",
       "version_major": 2,
       "version_minor": 0
      },
      "text/plain": [
       "VBox(children=(HTML(value=\"\\n          <div id='97127'>\\n            <h3>97127</h3>\\n            <p>\\n        …"
      ]
     },
     "metadata": {},
     "output_type": "display_data"
    },
    {
     "data": {
      "application/vnd.jupyter.widget-view+json": {
       "model_id": "da573914841e47b0a95735bbd5e24a78",
       "version_major": 2,
       "version_minor": 0
      },
      "text/plain": [
       "VBox(children=(HTML(value=\"\\n          <div id='97360'>\\n            <h3>97360</h3>\\n            <p>\\n        …"
      ]
     },
     "metadata": {},
     "output_type": "display_data"
    },
    {
     "data": {
      "application/vnd.jupyter.widget-view+json": {
       "model_id": "00d26261e0a34540bd5983cae60354a8",
       "version_major": 2,
       "version_minor": 0
      },
      "text/plain": [
       "VBox(children=(HTML(value='\\n          <div id=\\'102818\\'>\\n            <h3>102818</h3>\\n            <p>\\n    …"
      ]
     },
     "metadata": {},
     "output_type": "display_data"
    },
    {
     "data": {
      "application/vnd.jupyter.widget-view+json": {
       "model_id": "4ccc31c13876419b91a4ee9b6d89288e",
       "version_major": 2,
       "version_minor": 0
      },
      "text/plain": [
       "VBox(children=(HTML(value=\"\\n          <div id='103134'>\\n            <h3>103134</h3>\\n            <p>\\n      …"
      ]
     },
     "metadata": {},
     "output_type": "display_data"
    },
    {
     "data": {
      "application/vnd.jupyter.widget-view+json": {
       "model_id": "88152d8627834580acebd1d37ead9027",
       "version_major": 2,
       "version_minor": 0
      },
      "text/plain": [
       "VBox(children=(HTML(value=\"\\n          <div id='104007'>\\n            <h3>104007</h3>\\n            <p>\\n      …"
      ]
     },
     "metadata": {},
     "output_type": "display_data"
    },
    {
     "data": {
      "application/vnd.jupyter.widget-view+json": {
       "model_id": "dbbacd39d6854d7bae0d0c17c793e001",
       "version_major": 2,
       "version_minor": 0
      },
      "text/plain": [
       "VBox(children=(HTML(value=\"\\n          <div id='104489'>\\n            <h3>104489</h3>\\n            <p>\\n      …"
      ]
     },
     "metadata": {},
     "output_type": "display_data"
    },
    {
     "data": {
      "application/vnd.jupyter.widget-view+json": {
       "model_id": "10d2bad1d4f04c619a4c4e13170cf519",
       "version_major": 2,
       "version_minor": 0
      },
      "text/plain": [
       "VBox(children=(HTML(value=\"\\n          <div id='109338'>\\n            <h3>109338</h3>\\n            <p>\\n      …"
      ]
     },
     "metadata": {},
     "output_type": "display_data"
    },
    {
     "data": {
      "application/vnd.jupyter.widget-view+json": {
       "model_id": "f65d21829cf34621bd5881c2a8bbce15",
       "version_major": 2,
       "version_minor": 0
      },
      "text/plain": [
       "VBox(children=(HTML(value=\"\\n          <div id='110594'>\\n            <h3>110594</h3>\\n            <p>\\n      …"
      ]
     },
     "metadata": {},
     "output_type": "display_data"
    },
    {
     "data": {
      "application/vnd.jupyter.widget-view+json": {
       "model_id": "e3554528c0d2443b8b3ff0e6b50659b8",
       "version_major": 2,
       "version_minor": 0
      },
      "text/plain": [
       "VBox(children=(HTML(value=\"\\n          <div id='112226'>\\n            <h3>112226</h3>\\n            <p>\\n      …"
      ]
     },
     "metadata": {},
     "output_type": "display_data"
    },
    {
     "data": {
      "application/vnd.jupyter.widget-view+json": {
       "model_id": "8cdab9522305497188d95cee7ff84dc1",
       "version_major": 2,
       "version_minor": 0
      },
      "text/plain": [
       "VBox(children=(HTML(value='\\n          <div id=\\'112933\\'>\\n            <h3>112933</h3>\\n            <p>\\n    …"
      ]
     },
     "metadata": {},
     "output_type": "display_data"
    },
    {
     "data": {
      "application/vnd.jupyter.widget-view+json": {
       "model_id": "9fb6170fbb7f40a385816d3018047147",
       "version_major": 2,
       "version_minor": 0
      },
      "text/plain": [
       "VBox(children=(HTML(value=\"\\n          <div id='113251'>\\n            <h3>113251</h3>\\n            <p>\\n      …"
      ]
     },
     "metadata": {},
     "output_type": "display_data"
    },
    {
     "data": {
      "application/vnd.jupyter.widget-view+json": {
       "model_id": "c45ec7c34e0d4c7cbd221546a2768c2a",
       "version_major": 2,
       "version_minor": 0
      },
      "text/plain": [
       "VBox(children=(HTML(value=\"\\n          <div id='113403'>\\n            <h3>113403</h3>\\n            <p>\\n      …"
      ]
     },
     "metadata": {},
     "output_type": "display_data"
    },
    {
     "data": {
      "application/vnd.jupyter.widget-view+json": {
       "model_id": "d11d3971c8434f508c5d7686ce127309",
       "version_major": 2,
       "version_minor": 0
      },
      "text/plain": [
       "VBox(children=(HTML(value=\"\\n          <div id='113438'>\\n            <h3>113438</h3>\\n            <p>\\n      …"
      ]
     },
     "metadata": {},
     "output_type": "display_data"
    },
    {
     "data": {
      "application/vnd.jupyter.widget-view+json": {
       "model_id": "a9c8bf341ac34f12a4c6212ed547d83b",
       "version_major": 2,
       "version_minor": 0
      },
      "text/plain": [
       "VBox(children=(HTML(value=\"\\n          <div id='113464'>\\n            <h3>113464</h3>\\n            <p>\\n      …"
      ]
     },
     "metadata": {},
     "output_type": "display_data"
    },
    {
     "data": {
      "application/vnd.jupyter.widget-view+json": {
       "model_id": "3ec549b4248d4ce98d743a3fe67bd17a",
       "version_major": 2,
       "version_minor": 0
      },
      "text/plain": [
       "VBox(children=(HTML(value=\"\\n          <div id='114183'>\\n            <h3>114183</h3>\\n            <p>\\n      …"
      ]
     },
     "metadata": {},
     "output_type": "display_data"
    },
    {
     "data": {
      "application/vnd.jupyter.widget-view+json": {
       "model_id": "be40edef9eb242f6a104e564ad571b4e",
       "version_major": 2,
       "version_minor": 0
      },
      "text/plain": [
       "VBox(children=(HTML(value=\"\\n          <div id='114226'>\\n            <h3>114226</h3>\\n            <p>\\n      …"
      ]
     },
     "metadata": {},
     "output_type": "display_data"
    },
    {
     "data": {
      "application/vnd.jupyter.widget-view+json": {
       "model_id": "12eaa43a26cd4995bda051c8576549f2",
       "version_major": 2,
       "version_minor": 0
      },
      "text/plain": [
       "VBox(children=(HTML(value=\"\\n          <div id='114622'>\\n            <h3>114622</h3>\\n            <p>\\n      …"
      ]
     },
     "metadata": {},
     "output_type": "display_data"
    },
    {
     "data": {
      "application/vnd.jupyter.widget-view+json": {
       "model_id": "ded7287e5f334571bbeadb01fd01b1eb",
       "version_major": 2,
       "version_minor": 0
      },
      "text/plain": [
       "VBox(children=(HTML(value=\"\\n          <div id='114729'>\\n            <h3>114729</h3>\\n            <p>\\n      …"
      ]
     },
     "metadata": {},
     "output_type": "display_data"
    },
    {
     "data": {
      "application/vnd.jupyter.widget-view+json": {
       "model_id": "25ffb5be0bdc44ea9a7b9adb7f41c87d",
       "version_major": 2,
       "version_minor": 0
      },
      "text/plain": [
       "VBox(children=(HTML(value=\"\\n          <div id='114776'>\\n            <h3>114776</h3>\\n            <p>\\n      …"
      ]
     },
     "metadata": {},
     "output_type": "display_data"
    },
    {
     "data": {
      "application/vnd.jupyter.widget-view+json": {
       "model_id": "dfd3ee8df4ac4786a56390f737ee649a",
       "version_major": 2,
       "version_minor": 0
      },
      "text/plain": [
       "VBox(children=(HTML(value=\"\\n          <div id='115364'>\\n            <h3>115364</h3>\\n            <p>\\n      …"
      ]
     },
     "metadata": {},
     "output_type": "display_data"
    },
    {
     "data": {
      "application/vnd.jupyter.widget-view+json": {
       "model_id": "2c4e2c30f44a4079af1c9bdbc5eec799",
       "version_major": 2,
       "version_minor": 0
      },
      "text/plain": [
       "VBox(children=(HTML(value=\"\\n          <div id='115548'>\\n            <h3>115548</h3>\\n            <p>\\n      …"
      ]
     },
     "metadata": {},
     "output_type": "display_data"
    },
    {
     "data": {
      "application/vnd.jupyter.widget-view+json": {
       "model_id": "329eb281a15048cdbf137d5a868f0c62",
       "version_major": 2,
       "version_minor": 0
      },
      "text/plain": [
       "VBox(children=(HTML(value=\"\\n          <div id='115796'>\\n            <h3>115796</h3>\\n            <p>\\n      …"
      ]
     },
     "metadata": {},
     "output_type": "display_data"
    },
    {
     "data": {
      "application/vnd.jupyter.widget-view+json": {
       "model_id": "9be1184b402e467e9549fd0db484d92c",
       "version_major": 2,
       "version_minor": 0
      },
      "text/plain": [
       "VBox(children=(HTML(value=\"\\n          <div id='116871'>\\n            <h3>116871</h3>\\n            <p>\\n      …"
      ]
     },
     "metadata": {},
     "output_type": "display_data"
    },
    {
     "data": {
      "application/vnd.jupyter.widget-view+json": {
       "model_id": "8ce912fd1c7e47c99443737cbf2cb454",
       "version_major": 2,
       "version_minor": 0
      },
      "text/plain": [
       "VBox(children=(HTML(value=\"\\n          <div id='117330'>\\n            <h3>117330</h3>\\n            <p>\\n      …"
      ]
     },
     "metadata": {},
     "output_type": "display_data"
    },
    {
     "data": {
      "application/vnd.jupyter.widget-view+json": {
       "model_id": "67bd32bc372e4656945c8c4a79ac447a",
       "version_major": 2,
       "version_minor": 0
      },
      "text/plain": [
       "VBox(children=(HTML(value=\"\\n          <div id='117483'>\\n            <h3>117483</h3>\\n            <p>\\n      …"
      ]
     },
     "metadata": {},
     "output_type": "display_data"
    },
    {
     "data": {
      "application/vnd.jupyter.widget-view+json": {
       "model_id": "7d80ddcfef6c4f05875a113018cdaffd",
       "version_major": 2,
       "version_minor": 0
      },
      "text/plain": [
       "VBox(children=(HTML(value=\"\\n          <div id='117494'>\\n            <h3>117494</h3>\\n            <p>\\n      …"
      ]
     },
     "metadata": {},
     "output_type": "display_data"
    },
    {
     "data": {
      "application/vnd.jupyter.widget-view+json": {
       "model_id": "f00f660dba4b48f0b24cd81632d507e6",
       "version_major": 2,
       "version_minor": 0
      },
      "text/plain": [
       "VBox(children=(HTML(value=\"\\n          <div id='117821'>\\n            <h3>117821</h3>\\n            <p>\\n      …"
      ]
     },
     "metadata": {},
     "output_type": "display_data"
    },
    {
     "data": {
      "application/vnd.jupyter.widget-view+json": {
       "model_id": "fa73d3eefc5b40e09165dca86ae850f7",
       "version_major": 2,
       "version_minor": 0
      },
      "text/plain": [
       "VBox(children=(HTML(value=\"\\n          <div id='117985'>\\n            <h3>117985</h3>\\n            <p>\\n      …"
      ]
     },
     "metadata": {},
     "output_type": "display_data"
    },
    {
     "data": {
      "application/vnd.jupyter.widget-view+json": {
       "model_id": "3482dd6bf88347eeb66d797d505c70ee",
       "version_major": 2,
       "version_minor": 0
      },
      "text/plain": [
       "VBox(children=(HTML(value=\"\\n          <div id='118693'>\\n            <h3>118693</h3>\\n            <p>\\n      …"
      ]
     },
     "metadata": {},
     "output_type": "display_data"
    },
    {
     "data": {
      "application/vnd.jupyter.widget-view+json": {
       "model_id": "c2e6e2a5ce7f4a259a6ebb1c16614531",
       "version_major": 2,
       "version_minor": 0
      },
      "text/plain": [
       "VBox(children=(HTML(value=\"\\n          <div id='118904'>\\n            <h3>118904</h3>\\n            <p>\\n      …"
      ]
     },
     "metadata": {},
     "output_type": "display_data"
    },
    {
     "data": {
      "application/vnd.jupyter.widget-view+json": {
       "model_id": "42a99dd4f50542f1939eda13b49f0e93",
       "version_major": 2,
       "version_minor": 0
      },
      "text/plain": [
       "VBox(children=(HTML(value=\"\\n          <div id='119261'>\\n            <h3>119261</h3>\\n            <p>\\n      …"
      ]
     },
     "metadata": {},
     "output_type": "display_data"
    },
    {
     "data": {
      "application/vnd.jupyter.widget-view+json": {
       "model_id": "93d4728e276d4ff6883170e3743295e8",
       "version_major": 2,
       "version_minor": 0
      },
      "text/plain": [
       "VBox(children=(HTML(value=\"\\n          <div id='119505'>\\n            <h3>119505</h3>\\n            <p>\\n      …"
      ]
     },
     "metadata": {},
     "output_type": "display_data"
    },
    {
     "data": {
      "application/vnd.jupyter.widget-view+json": {
       "model_id": "e3076fac427c41ac9e901a4210c06e7b",
       "version_major": 2,
       "version_minor": 0
      },
      "text/plain": [
       "VBox(children=(HTML(value=\"\\n          <div id='119512'>\\n            <h3>119512</h3>\\n            <p>\\n      …"
      ]
     },
     "metadata": {},
     "output_type": "display_data"
    },
    {
     "data": {
      "application/vnd.jupyter.widget-view+json": {
       "model_id": "54c4a0994e0c4c62bf83e1fe8fa88f50",
       "version_major": 2,
       "version_minor": 0
      },
      "text/plain": [
       "VBox(children=(HTML(value=\"\\n          <div id='120234'>\\n            <h3>120234</h3>\\n            <p>\\n      …"
      ]
     },
     "metadata": {},
     "output_type": "display_data"
    },
    {
     "data": {
      "application/vnd.jupyter.widget-view+json": {
       "model_id": "f9eb3eed793d472e91f685855da586d1",
       "version_major": 2,
       "version_minor": 0
      },
      "text/plain": [
       "VBox(children=(HTML(value=\"\\n          <div id='120827'>\\n            <h3>120827</h3>\\n            <p>\\n      …"
      ]
     },
     "metadata": {},
     "output_type": "display_data"
    },
    {
     "data": {
      "application/vnd.jupyter.widget-view+json": {
       "model_id": "439a1a66e7cb4a16a5ce9bce8678b917",
       "version_major": 2,
       "version_minor": 0
      },
      "text/plain": [
       "VBox(children=(HTML(value=\"\\n          <div id='121891'>\\n            <h3>121891</h3>\\n            <p>\\n      …"
      ]
     },
     "metadata": {},
     "output_type": "display_data"
    },
    {
     "data": {
      "application/vnd.jupyter.widget-view+json": {
       "model_id": "e3da63da06c34db38072d01f370c5401",
       "version_major": 2,
       "version_minor": 0
      },
      "text/plain": [
       "VBox(children=(HTML(value=\"\\n          <div id='126853'>\\n            <h3>126853</h3>\\n            <p>\\n      …"
      ]
     },
     "metadata": {},
     "output_type": "display_data"
    },
    {
     "data": {
      "application/vnd.jupyter.widget-view+json": {
       "model_id": "a38c56d0a6eb4488a077460c3808b99e",
       "version_major": 2,
       "version_minor": 0
      },
      "text/plain": [
       "VBox(children=(HTML(value=\"\\n          <div id='127515'>\\n            <h3>127515</h3>\\n            <p>\\n      …"
      ]
     },
     "metadata": {},
     "output_type": "display_data"
    }
   ],
   "source": [
    "for s in results:\n",
    "    make_assignment_header(s)\n",
    "    make_consolidated_text_fields(s)"
   ]
  },
  {
   "cell_type": "code",
   "execution_count": null,
   "metadata": {},
   "outputs": [],
   "source": []
  },
  {
   "cell_type": "markdown",
   "metadata": {},
   "source": [
    "# Upload the grades to canvas"
   ]
  },
  {
   "cell_type": "code",
   "execution_count": null,
   "metadata": {},
   "outputs": [],
   "source": []
  },
  {
   "cell_type": "code",
   "execution_count": 38,
   "metadata": {
    "ExecuteTime": {
     "end_time": "2019-02-01T21:12:38.774814Z",
     "start_time": "2019-02-01T21:12:38.769706Z"
    }
   },
   "outputs": [],
   "source": [
    "\n",
    "\n",
    "def make_upload_button(store):\n",
    "    def upload_callback(event):\n",
    "        print(store.credit)\n",
    "        # change button style\n",
    "        b.button_style='success'\n",
    "        \n",
    "    desc = 'Upload grades for {}'.format(store.assignment_name)\n",
    "    layout= widgets.Layout(width='50%')\n",
    "    b = widgets.Button(description=desc, button_style='danger', layout=layout)\n",
    "    b.on_click(upload_callback)\n",
    "    \n",
    "    display(b)"
   ]
  },
  {
   "cell_type": "code",
   "execution_count": 40,
   "metadata": {
    "ExecuteTime": {
     "end_time": "2019-02-01T21:13:19.430630Z",
     "start_time": "2019-02-01T21:13:19.421035Z"
    }
   },
   "outputs": [
    {
     "data": {
      "application/vnd.jupyter.widget-view+json": {
       "model_id": "020f69d3540d4d1ba52e26a4ab16500e",
       "version_major": 2,
       "version_minor": 0
      },
      "text/plain": [
       "Button(button_style='danger', description='Upload grades for Journal (week 1)', layout=Layout(width='50%'), st…"
      ]
     },
     "metadata": {},
     "output_type": "display_data"
    }
   ],
   "source": [
    "for store in results:\n",
    "    make_upload_button(store)"
   ]
  },
  {
   "cell_type": "code",
   "execution_count": null,
   "metadata": {},
   "outputs": [],
   "source": []
  },
  {
   "cell_type": "code",
   "execution_count": null,
   "metadata": {},
   "outputs": [],
   "source": []
  }
 ],
 "metadata": {
  "kernelspec": {
   "display_name": "Python 3",
   "language": "python",
   "name": "python3"
  },
  "language_info": {
   "codemirror_mode": {
    "name": "ipython",
    "version": 3
   },
   "file_extension": ".py",
   "mimetype": "text/x-python",
   "name": "python",
   "nbconvert_exporter": "python",
   "pygments_lexer": "ipython3",
   "version": "3.6.4"
  },
  "toc": {
   "base_numbering": 1,
   "nav_menu": {},
   "number_sections": true,
   "sideBar": true,
   "skip_h1_title": false,
   "title_cell": "Table of Contents",
   "title_sidebar": "Contents",
   "toc_cell": false,
   "toc_position": {},
   "toc_section_display": true,
   "toc_window_display": false
  }
 },
 "nbformat": 4,
 "nbformat_minor": 2
}
