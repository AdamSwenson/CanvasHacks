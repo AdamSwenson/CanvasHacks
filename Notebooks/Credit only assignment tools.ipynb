{
 "cells": [
  {
   "cell_type": "markdown",
   "metadata": {},
   "source": [
    "https://nbviewer.jupyter.org/github/AdamSwenson/CanvasHacks/blob/master/Notebooks/Credit%20only%20assignment%20tools.ipynb?flush_cache=true\n",
    "\n",
    "# Get started\n",
    "Click the icon with 3 rings in the upper right (the tooltip says 'Execute on Binder') to create your own mini-server to run this notebook.\n",
    "\n",
    "After you've opened the notebook in binder, click the run button above a few times. Each click runs the code in the highlighted cell. You can also  press shift+return to run it.\n",
    "\n",
    "Try it with the next cell:"
   ]
  },
  {
   "cell_type": "code",
   "execution_count": 2,
   "metadata": {
    "ExecuteTime": {
     "end_time": "2019-02-05T22:10:32.791246Z",
     "start_time": "2019-02-05T22:10:32.788421Z"
    }
   },
   "outputs": [
    {
     "name": "stdout",
     "output_type": "stream",
     "text": [
      "You've successfully run this cell!\n"
     ]
    }
   ],
   "source": [
    "print(\"You've successfully run this cell!\")"
   ]
  },
  {
   "cell_type": "markdown",
   "metadata": {},
   "source": [
    "You'll be able to tell that a cell is running by an asterisk appearing in the brackets to the left ( \\[ * \\]). Some tasks may take a couple of minutes to run, so it may appear frozen.\n",
    "\n",
    "The next 2 cells will grab and import all the code that operates behind the scenes. (If you're curious, you can check it out here: https://github.com/AdamSwenson/CanvasHacks)"
   ]
  },
  {
   "cell_type": "code",
   "execution_count": 3,
   "metadata": {
    "ExecuteTime": {
     "end_time": "2019-02-05T22:16:22.000063Z",
     "start_time": "2019-02-05T22:16:19.894916Z"
    },
    "collapsed": true
   },
   "outputs": [
    {
     "name": "stdout",
     "output_type": "stream",
     "text": [
      "Collecting CanvasHacks\n",
      "  Downloading https://files.pythonhosted.org/packages/96/a9/956e1efe0acc19991c0eccb159e9e25afbc9c50a52516f1931abafe09792/CanvasHacks-0.0.14-py2.py3-none-any.whl\n",
      "Requirement already satisfied: python-docx in /Users/adam/.pyenv/versions/3.6.4/lib/python3.6/site-packages (from CanvasHacks) (0.8.7)\n",
      "Requirement already satisfied: PyPDF2 in /Users/adam/.pyenv/versions/3.6.4/lib/python3.6/site-packages (from CanvasHacks) (1.26.0)\n",
      "Requirement already satisfied: requests in /Users/adam/.pyenv/versions/3.6.4/lib/python3.6/site-packages (from CanvasHacks) (2.21.0)\n",
      "Requirement already satisfied: lxml>=2.3.2 in /Users/adam/.pyenv/versions/3.6.4/lib/python3.6/site-packages (from python-docx->CanvasHacks) (4.2.3)\n",
      "Requirement already satisfied: chardet<3.1.0,>=3.0.2 in /Users/adam/.pyenv/versions/3.6.4/lib/python3.6/site-packages (from requests->CanvasHacks) (3.0.4)\n",
      "Requirement already satisfied: idna<2.9,>=2.5 in /Users/adam/.pyenv/versions/3.6.4/lib/python3.6/site-packages (from requests->CanvasHacks) (2.7)\n",
      "Requirement already satisfied: certifi>=2017.4.17 in /Users/adam/.pyenv/versions/3.6.4/lib/python3.6/site-packages (from requests->CanvasHacks) (2018.4.16)\n",
      "Requirement already satisfied: urllib3<1.25,>=1.21.1 in /Users/adam/.pyenv/versions/3.6.4/lib/python3.6/site-packages (from requests->CanvasHacks) (1.24.1)\n",
      "Installing collected packages: CanvasHacks\n",
      "Successfully installed CanvasHacks-0.0.14\n",
      "\u001b[33mYou are using pip version 18.1, however version 19.0.1 is available.\n",
      "You should consider upgrading via the 'pip install --upgrade pip' command.\u001b[0m\n"
     ]
    }
   ],
   "source": [
    "# Install our library to the server\n",
    "!pip install CanvasHacks"
   ]
  },
  {
   "cell_type": "code",
   "execution_count": 4,
   "metadata": {
    "ExecuteTime": {
     "end_time": "2019-02-05T22:16:28.265347Z",
     "start_time": "2019-02-05T22:16:28.047696Z"
    }
   },
   "outputs": [
    {
     "name": "stdout",
     "output_type": "stream",
     "text": [
      "/Users/adam/Dropbox/CanvasHacks\n",
      "Reading credentials and settings from /Users/adam/Dropbox/CanvasHacks/private/canvas-credentials.ini\n"
     ]
    }
   ],
   "source": [
    "%cd ../\n",
    "\n",
    "from CanvasHacks import environment\n",
    "from CanvasHacks.RequestTools import get_all_course_assignments, get_assignments_needing_grading\n",
    "from CanvasHacks.Configuration import InteractiveConfiguration\n",
    "from CanvasHacks.InputFields import make_course_ids_input, make_canvas_token_input, make_canvas_url_input, make_general_reset_button\n",
    "import CanvasHacks.GradingTools as GT\n",
    "import CanvasHacks.DownloadProcessingTools as PT\n",
    "from CanvasHacks.DataManagement import DataStore\n",
    "from CanvasHacks.ConsolidatedTextOutput import make_assignment_header, make_consolidated_text_fields\n",
    "from CanvasHacks.UploadGradeTools import make_upload_button"
   ]
  },
  {
   "cell_type": "markdown",
   "metadata": {},
   "source": [
    "# Setup the configuration\n",
    "\n",
    "Canvas provides a very nice API (a way to interacting with their server without going through the app or usual webpage) which we'll be using to get student submissions and submit grades. \n",
    "\n",
    "In the following, you'll give the program the credentials for accessing your student data. The program won't save your information and you'll have to re-enter it every time you use it. "
   ]
  },
  {
   "cell_type": "markdown",
   "metadata": {},
   "source": [
    "## Canvas API Token\n",
    "\n",
    "You'll need to generate a token. This stands in for your username/password. \n",
    "\n",
    "Make sure you record the token in a secure place. It will not be saved in this notebook and you will have to re-enter it every time you use this tool.\n",
    "\n",
    "https://canvas.instructure.com/doc/api/file.oauth.html#manual-token-generation\n",
    "\n",
    "\n",
    "To manually generate a token for testing:\n",
    "\n",
    "    Click the \"profile\" link in the top right menu bar, or navigate to /profile\n",
    "\n",
    "    Under the \"Approved Integrations\" section, click the button to generate a new access token.\n",
    "    \n",
    "    Once the token is generated, you cannot view it again, and you'll have to generate a new token if you forget it. Remember that access tokens are password equivalent, so keep it secret.\n",
    "\n",
    "Note that you don't have to click anything, just paste your token in the box and its value will be read when needed\n"
   ]
  },
  {
   "cell_type": "code",
   "execution_count": null,
   "metadata": {
    "ExecuteTime": {
     "end_time": "2019-02-05T00:12:09.197705Z",
     "start_time": "2019-02-05T00:12:09.183070Z"
    }
   },
   "outputs": [],
   "source": [
    "make_canvas_token_input()"
   ]
  },
  {
   "cell_type": "markdown",
   "metadata": {},
   "source": [
    "## Course ids\n",
    "\n",
    "You will also need the id number(s) of the courses you wish to grade. You can find them by logging into canvas and going to the course page. The number you are looking for will be in the url, immediately after '/courses/'\n",
    "\n",
    "    For example, if the url is: https://canvas.csun.edu/courses/12345 \n",
    "    \n",
    "    The course number is: 12345\n",
    "    \n",
    "You will want to also write this number down somewhere secure since the values will be purged when you close the notebook.\n",
    "\n",
    "Add the course ids one-at-a-time using the box and buttons below"
   ]
  },
  {
   "cell_type": "code",
   "execution_count": null,
   "metadata": {
    "ExecuteTime": {
     "end_time": "2019-02-05T00:12:09.696722Z",
     "start_time": "2019-02-05T00:12:09.652568Z"
    }
   },
   "outputs": [],
   "source": [
    "make_course_ids_input()"
   ]
  },
  {
   "cell_type": "markdown",
   "metadata": {},
   "source": [
    "## Canvas url\n",
    "\n",
    "Finally, we need the url of your campus canvas installation. When we make requests to the canvas server, we will be using this in our requests. For details, see the Canvas API documentation: https://canvas.instructure.com/doc/api/index.html\n",
    "\n",
    "For CSUN users, it should be: \n",
    "    \n",
    "    https://canvas.csun.edu/api/v1/courses\n",
    "\n",
    "Just copy and paste the above into the box in the next cell.\n",
    "\n",
    "For non-csun users, make sure you provide the equivalent up to the '/courses'\n",
    "\n",
    "Just paste the url in the box, it will be read when needed\n",
    "\n",
    "Do not add a slash at the end after '/courses'! "
   ]
  },
  {
   "cell_type": "code",
   "execution_count": null,
   "metadata": {
    "ExecuteTime": {
     "end_time": "2019-02-05T00:12:11.558529Z",
     "start_time": "2019-02-05T00:12:11.547830Z"
    }
   },
   "outputs": [],
   "source": [
    "make_canvas_url_input()"
   ]
  },
  {
   "cell_type": "markdown",
   "metadata": {},
   "source": [
    "# Figure out what needs grading"
   ]
  },
  {
   "cell_type": "code",
   "execution_count": null,
   "metadata": {
    "ExecuteTime": {
     "end_time": "2019-02-05T21:24:54.237041Z",
     "start_time": "2019-02-05T21:24:53.298980Z"
    }
   },
   "outputs": [],
   "source": [
    "print(\"These assignments need grading: \")\n",
    "for sec in environment.CONFIG.course_ids:\n",
    "    to_grade = get_assignments_needing_grading(sec)\n",
    "    print(sec, to_grade)"
   ]
  },
  {
   "cell_type": "markdown",
   "metadata": {},
   "source": [
    "# Download and process student submissions\n",
    "\n",
    "Todo\n",
    "\n",
    "    - Do we want to have more control over which assignments are graded? This just does all ungraded..."
   ]
  },
  {
   "cell_type": "code",
   "execution_count": null,
   "metadata": {
    "ExecuteTime": {
     "end_time": "2019-02-05T21:29:18.188053Z",
     "start_time": "2019-02-05T21:27:18.164503Z"
    }
   },
   "outputs": [],
   "source": [
    "results = []\n",
    "\n",
    "\n",
    "for course_id in environment.CONFIG.course_ids:\n",
    "    print('course', course_id)\n",
    "    to_grade = get_assignments_needing_grading(course_id)\n",
    "    \n",
    "    for name, assignment_id in to_grade:\n",
    "        store = DataStore(assignment_id=assignment_id, assignment_name=name, course_id=course_id)\n",
    "        print(\"Processing {}\".format(name))\n",
    "        \n",
    "        # download student submissions \n",
    "        response = PT.get_submissions(course_id, assignment_id)\n",
    "        print(\"{} responses received\".format(len(response)))\n",
    "        store.submissions = PT.process_response_without_saving_files(response)\n",
    "        \n",
    "        # give preliminary credit for non-empty submissions\n",
    "        c = GT.determine_credit(store.submissions)\n",
    "        \n",
    "        # stow the results in our data object\n",
    "        store.credit = c['credit']\n",
    "        store.no_credit = c['nocredit']\n",
    "        store.print_counts()\n",
    "        \n",
    "        # Add the now full-of-data object to our results list\n",
    "        results.append(store)"
   ]
  },
  {
   "cell_type": "markdown",
   "metadata": {},
   "source": [
    "# Read student work and check that properly categorized"
   ]
  },
  {
   "cell_type": "code",
   "execution_count": null,
   "metadata": {
    "ExecuteTime": {
     "end_time": "2019-02-05T21:29:23.558986Z",
     "start_time": "2019-02-05T21:29:18.190604Z"
    },
    "scrolled": false
   },
   "outputs": [],
   "source": [
    "for s in results:\n",
    "    make_assignment_header(s)\n",
    "    make_consolidated_text_fields(s)"
   ]
  },
  {
   "cell_type": "markdown",
   "metadata": {},
   "source": [
    "# Upload the grades to canvas"
   ]
  },
  {
   "cell_type": "code",
   "execution_count": null,
   "metadata": {
    "ExecuteTime": {
     "end_time": "2019-02-05T21:38:06.623889Z",
     "start_time": "2019-02-05T21:38:06.605326Z"
    }
   },
   "outputs": [],
   "source": [
    "for store in results:\n",
    "    make_upload_button(store)"
   ]
  },
  {
   "cell_type": "markdown",
   "metadata": {},
   "source": [
    "# Final steps....\n",
    "\n",
    "Go to Canvas and check your gradebook. There may be a couple of submissions which got skipped because the student uploaded a file in a format we couldn't extract the text from. \n",
    "\n",
    "(Out of 120 students, I usually find 0-2 that didn't get graded for this reason.)\n",
    "\n",
    "Have a drink for a job well-done!\n",
    "\n"
   ]
  },
  {
   "cell_type": "code",
   "execution_count": null,
   "metadata": {},
   "outputs": [],
   "source": []
  }
 ],
 "metadata": {
  "kernelspec": {
   "display_name": "Python 3",
   "language": "python",
   "name": "python3"
  },
  "language_info": {
   "codemirror_mode": {
    "name": "ipython",
    "version": 3
   },
   "file_extension": ".py",
   "mimetype": "text/x-python",
   "name": "python",
   "nbconvert_exporter": "python",
   "pygments_lexer": "ipython3",
   "version": "3.6.4"
  },
  "toc": {
   "base_numbering": 1,
   "nav_menu": {},
   "number_sections": true,
   "sideBar": true,
   "skip_h1_title": false,
   "title_cell": "Table of Contents",
   "title_sidebar": "Contents",
   "toc_cell": false,
   "toc_position": {},
   "toc_section_display": true,
   "toc_window_display": false
  }
 },
 "nbformat": 4,
 "nbformat_minor": 2
}
