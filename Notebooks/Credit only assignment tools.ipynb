{
 "cells": [
  {
   "cell_type": "markdown",
   "metadata": {},
   "source": [
    "# Find at\n",
    "https://nbviewer.jupyter.org/github/AdamSwenson/CanvasHacks/blob/master/Notebooks/Credit%20only%20assignment%20tools.ipynb?flush_cache=true"
   ]
  },
  {
   "cell_type": "code",
   "execution_count": null,
   "metadata": {
    "ExecuteTime": {
     "end_time": "2019-02-05T00:12:08.563461Z",
     "start_time": "2019-02-05T00:12:08.438555Z"
    }
   },
   "outputs": [],
   "source": [
    "# Install our library \n",
    "!pip install CanvasHacks\n",
    "\n",
    "%cd ../\n",
    "\n",
    "from CanvasHacks import environment\n",
    "from CanvasHacks.RequestTools import get_all_course_assignments, get_assignments_needing_grading\n",
    "from CanvasHacks.Configuration import InteractiveConfiguration\n",
    "from CanvasHacks.InputFields import make_course_ids_input, make_canvas_token_input, make_canvas_url_input, make_general_reset_button\n",
    "import CanvasHacks.GradingTools as GT\n",
    "import CanvasHacks.DownloadProcessingTools as PT\n",
    "from CanvasHacks.DataManagement import DataStore"
   ]
  },
  {
   "cell_type": "markdown",
   "metadata": {},
   "source": [
    "# Setup the configuration"
   ]
  },
  {
   "cell_type": "markdown",
   "metadata": {},
   "source": [
    "## Canvas API Token\n",
    "\n",
    "You'll need to generate a token. This stands in for your username/password. \n",
    "\n",
    "Make sure you record the token in a secure place. It will not be saved in this notebook and you will have to re-enter it every time you use this tool.\n",
    "\n",
    "https://canvas.instructure.com/doc/api/file.oauth.html#manual-token-generation\n",
    "\n",
    "\n",
    "To manually generate a token for testing:\n",
    "\n",
    "    Click the \"profile\" link in the top right menu bar, or navigate to /profile\n",
    "\n",
    "    Under the \"Approved Integrations\" section, click the button to generate a new access token.\n",
    "    \n",
    "    Once the token is generated, you cannot view it again, and you'll have to generate a new token if you forget it. Remember that access tokens are password equivalent, so keep it secret.\n",
    "\n",
    "Note that you don't have to click anything, just paste your token in the box and its value will be read when needed\n"
   ]
  },
  {
   "cell_type": "code",
   "execution_count": null,
   "metadata": {
    "ExecuteTime": {
     "end_time": "2019-02-05T00:12:09.197705Z",
     "start_time": "2019-02-05T00:12:09.183070Z"
    }
   },
   "outputs": [],
   "source": [
    "make_canvas_token_input()"
   ]
  },
  {
   "cell_type": "markdown",
   "metadata": {},
   "source": [
    "## Course ids\n",
    "\n",
    "You will also need the id number(s) of the courses you wish to grade. You can find them by logging into canvas and going to the course page. The number you are looking for will be in the url, immediately after '/courses/'\n",
    "\n",
    "    For example, if the url is: https://canvas.csun.edu/courses/12345 \n",
    "    \n",
    "    The course number is: 12345\n",
    "    \n",
    "You will want to also write this number down somewhere secure since the values will be purged when you close the notebook.\n",
    "\n",
    "Add the course ids one-at-a-time using the box and buttons below"
   ]
  },
  {
   "cell_type": "code",
   "execution_count": null,
   "metadata": {
    "ExecuteTime": {
     "end_time": "2019-02-05T00:12:09.696722Z",
     "start_time": "2019-02-05T00:12:09.652568Z"
    }
   },
   "outputs": [],
   "source": [
    "make_course_ids_input()"
   ]
  },
  {
   "cell_type": "markdown",
   "metadata": {},
   "source": [
    "## Canvas url\n",
    "\n",
    "Finally, we need the url of your campus canvas installation. When we make requests to the canvas server, we will be using this in our requests. For details, see the Canvas API documentation: https://canvas.instructure.com/doc/api/index.html\n",
    "\n",
    "For CSUN users, it should be: \n",
    "    \n",
    "    https://canvas.csun.edu/api/v1/courses\n",
    "\n",
    "For non-csun users, make sure you provide the equivalent up to the '/courses'\n",
    "\n",
    "Just paste the url in the box, it will be read when needed\n",
    "\n",
    "Do not add a slash at the end after '/courses'! "
   ]
  },
  {
   "cell_type": "code",
   "execution_count": null,
   "metadata": {
    "ExecuteTime": {
     "end_time": "2019-02-05T00:12:11.558529Z",
     "start_time": "2019-02-05T00:12:11.547830Z"
    }
   },
   "outputs": [],
   "source": [
    "make_canvas_url_input()"
   ]
  },
  {
   "cell_type": "markdown",
   "metadata": {},
   "source": [
    "# Figure out what needs grading"
   ]
  },
  {
   "cell_type": "code",
   "execution_count": null,
   "metadata": {
    "ExecuteTime": {
     "end_time": "2019-02-02T05:25:54.004141Z",
     "start_time": "2019-02-02T05:25:52.893255Z"
    }
   },
   "outputs": [],
   "source": [
    "print(\"These assignments need grading: \")\n",
    "for sec in environment.CONFIG.course_ids:\n",
    "    to_grade = get_assignments_needing_grading(sec)\n",
    "    print(sec, to_grade)"
   ]
  },
  {
   "cell_type": "markdown",
   "metadata": {},
   "source": [
    "# Download and process student submissions\n",
    "\n",
    "Todo\n",
    "\n",
    "    - Do we want to have more control over which assignments are graded? This just does all ungraded..."
   ]
  },
  {
   "cell_type": "code",
   "execution_count": null,
   "metadata": {
    "ExecuteTime": {
     "end_time": "2019-02-02T02:45:03.943571Z",
     "start_time": "2019-02-02T02:42:41.389189Z"
    }
   },
   "outputs": [],
   "source": [
    "results = []\n",
    "\n",
    "\n",
    "for course_id in environment.CONFIG.course_ids:\n",
    "    print('course', course_id)\n",
    "    to_grade = get_assignments_needing_grading(course_id)\n",
    "    \n",
    "    for name, assignment_id in to_grade:\n",
    "        store = DataStore(assignment_id=assignment_id, assignment_name=name, course_id=course_id)\n",
    "\n",
    "        print(\"Processing {}\".format(name))\n",
    "        # make folder\n",
    "        # download student submissions \n",
    "        response = PT.get_submissions(course_id, assignment_id)\n",
    "        print(\"{} responses received\".format(len(response)))\n",
    "        store.submissions = PT.process_response_without_saving_files(response)\n",
    "        # give credit for non-empty submissions\n",
    "        c = GT.determine_credit(store.submissions)\n",
    "        # stow the results in our data object\n",
    "        store.credit = c['credit']\n",
    "        store.no_credit = c['nocredit']\n",
    "        store.print_counts()\n",
    "        # Add the now full-of-data object to our results list\n",
    "        results.append(store)\n"
   ]
  },
  {
   "cell_type": "markdown",
   "metadata": {},
   "source": [
    "# Read student work and check that properly categorized"
   ]
  },
  {
   "cell_type": "code",
   "execution_count": null,
   "metadata": {
    "ExecuteTime": {
     "end_time": "2019-02-02T02:46:07.075159Z",
     "start_time": "2019-02-02T02:46:07.065839Z"
    }
   },
   "outputs": [],
   "source": [
    "from ipywidgets import widgets\n",
    "from IPython.display import display\n",
    "\n",
    "def make_assignment_header(store):\n",
    "    \"\"\"Displays the header for each assignment\"\"\"\n",
    "    entry = \"\"\"\n",
    "    <h1>{}</h1>\n",
    "    <h2>Class id: {}</h2>\"\"\"\n",
    "    return display(widgets.HTML(entry.format(store.assignment_name, store.course_id)))\n",
    "\n",
    "\n",
    "def make_text_display(student_id, text):\n",
    "    \"\"\"Handles the formatting of the student's text\"\"\"\n",
    "    entry = \"\"\"\n",
    "          <div id='%s'>\n",
    "            <h3>%s</h3>\n",
    "            <p>\n",
    "                %s\n",
    "            </p>\n",
    "        </div>\"\"\"\n",
    "    e = entry % (student_id, student_id, text)\n",
    "    return widgets.HTML(e)\n",
    "\n",
    "def make_submission_output(text, student_id, credit_list):\n",
    "    \"\"\"Creates the display of the submitted text with a toggle button to \n",
    "    update whether the student receives credit \n",
    "    \"\"\"\n",
    "    bval = 'Credit' if student_id in credit_list else 'No credit'\n",
    "    credit_button = widgets.ToggleButtons(\n",
    "        options=['Credit', 'No credit'],\n",
    "        value=bval,\n",
    "        description='',\n",
    "        disabled=False\n",
    "    )\n",
    "    \n",
    "    ta = make_text_display(student_id, text)\n",
    "\n",
    "    def on_value_change(change):\n",
    "        \"\"\"The relevant callback\n",
    "        NB the use of scope to define student_id\"\"\"\n",
    "        v = change['new']\n",
    "        print(v, student_id)\n",
    "        try:\n",
    "            if v == 'Credit':\n",
    "                credit_list.append(student_id)\n",
    "            elif v == 'No credit':\n",
    "                credit_list.remove(student_id)\n",
    "        except ValueError:\n",
    "            pass\n",
    "\n",
    "    credit_button.observe(on_value_change, names='value')\n",
    "    display(widgets.VBox([ta, credit_button]))\n",
    "\n",
    "def make_consolidated_text_fields(store):\n",
    "    \"\"\"Displays each entry with a toggle to adjust whether the \n",
    "    student receives credit\"\"\"\n",
    "    for r in store.submissions:\n",
    "        make_submission_output(r['body'], r['student_id'], store.credit)"
   ]
  },
  {
   "cell_type": "code",
   "execution_count": null,
   "metadata": {
    "ExecuteTime": {
     "end_time": "2019-02-02T00:14:07.393841Z",
     "start_time": "2019-02-02T00:14:07.390867Z"
    }
   },
   "outputs": [],
   "source": [
    "test_results = [{'student_id' : i, 'body': 'Body text for student {}'.format(i)} for i in range(0,4)]\n",
    "\n",
    "# credit_list = [0, 2]\n",
    "\n",
    "# make_consolidated_text_fields(test_results, credit_list)"
   ]
  },
  {
   "cell_type": "code",
   "execution_count": null,
   "metadata": {
    "ExecuteTime": {
     "end_time": "2019-02-02T02:46:17.477915Z",
     "start_time": "2019-02-02T02:46:11.136131Z"
    },
    "scrolled": false
   },
   "outputs": [],
   "source": [
    "for s in results:\n",
    "    make_assignment_header(s)\n",
    "    make_consolidated_text_fields(s)"
   ]
  },
  {
   "cell_type": "code",
   "execution_count": null,
   "metadata": {},
   "outputs": [],
   "source": []
  },
  {
   "cell_type": "markdown",
   "metadata": {},
   "source": [
    "# Upload the grades to canvas"
   ]
  },
  {
   "cell_type": "code",
   "execution_count": null,
   "metadata": {
    "ExecuteTime": {
     "end_time": "2019-02-02T03:05:37.332299Z",
     "start_time": "2019-02-02T03:05:37.326175Z"
    }
   },
   "outputs": [],
   "source": [
    "from CanvasHacks.UploadGradeTools import upload_students_receiving_credit\n",
    "from ipywidgets import widgets\n",
    "from IPython.display import display\n",
    "\n",
    "def make_upload_button(store):\n",
    "    def upload_callback(event):\n",
    "        # change button style to indicate working\n",
    "        b.button_style='warning'\n",
    "        # upload grades for students receiving credit\n",
    "        upload_students_receiving_credit(store)\n",
    "        # change button style\n",
    "        b.button_style='success'\n",
    "        \n",
    "    desc = 'Upload grades for {}'.format(store.assignment_name)\n",
    "    layout= widgets.Layout(width='50%')\n",
    "    b = widgets.Button(description=desc, button_style='danger', layout=layout)\n",
    "    b.on_click(upload_callback)\n",
    "    \n",
    "    display(b)"
   ]
  },
  {
   "cell_type": "code",
   "execution_count": null,
   "metadata": {
    "ExecuteTime": {
     "end_time": "2019-02-02T02:48:09.048643Z",
     "start_time": "2019-02-02T02:48:09.024447Z"
    },
    "deletable": false,
    "editable": false,
    "run_control": {
     "frozen": true
    }
   },
   "outputs": [],
   "source": [
    "for store in results:\n",
    "    make_upload_button(store)"
   ]
  },
  {
   "cell_type": "code",
   "execution_count": null,
   "metadata": {},
   "outputs": [],
   "source": []
  },
  {
   "cell_type": "code",
   "execution_count": null,
   "metadata": {},
   "outputs": [],
   "source": []
  }
 ],
 "metadata": {
  "kernelspec": {
   "display_name": "Python 3",
   "language": "python",
   "name": "python3"
  },
  "language_info": {
   "codemirror_mode": {
    "name": "ipython",
    "version": 3
   },
   "file_extension": ".py",
   "mimetype": "text/x-python",
   "name": "python",
   "nbconvert_exporter": "python",
   "pygments_lexer": "ipython3",
   "version": "3.6.4"
  },
  "toc": {
   "base_numbering": 1,
   "nav_menu": {},
   "number_sections": true,
   "sideBar": true,
   "skip_h1_title": false,
   "title_cell": "Table of Contents",
   "title_sidebar": "Contents",
   "toc_cell": false,
   "toc_position": {},
   "toc_section_display": true,
   "toc_window_display": false
  }
 },
 "nbformat": 4,
 "nbformat_minor": 2
}
