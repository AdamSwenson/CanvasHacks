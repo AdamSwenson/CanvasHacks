{
 "cells": [
  {
   "cell_type": "code",
   "execution_count": 1,
   "metadata": {
    "ExecuteTime": {
     "end_time": "2019-02-01T00:52:57.163590Z",
     "start_time": "2019-02-01T00:52:57.160399Z"
    }
   },
   "outputs": [],
   "source": [
    "\n",
    "from ipywidgets import widgets\n",
    "from IPython.display import display\n"
   ]
  },
  {
   "cell_type": "code",
   "execution_count": 4,
   "metadata": {
    "ExecuteTime": {
     "end_time": "2019-02-01T00:55:35.414220Z",
     "start_time": "2019-02-01T00:55:35.409208Z"
    }
   },
   "outputs": [
    {
     "name": "stdout",
     "output_type": "stream",
     "text": [
      "/Users/adam/Dropbox/CanvasCorrections\n"
     ]
    }
   ],
   "source": [
    "%cd ../"
   ]
  },
  {
   "cell_type": "markdown",
   "metadata": {},
   "source": [
    "# Setup the configuration"
   ]
  },
  {
   "cell_type": "markdown",
   "metadata": {},
   "source": [
    "## Canvas API Token\n",
    "\n",
    "Instructions go here...."
   ]
  },
  {
   "cell_type": "code",
   "execution_count": 6,
   "metadata": {
    "ExecuteTime": {
     "end_time": "2019-02-01T00:55:46.564671Z",
     "start_time": "2019-02-01T00:55:46.559705Z"
    }
   },
   "outputs": [],
   "source": [
    "from assets.Configuration import InteractiveConfiguration\n",
    "from assets.InputFields import make_course_ids_input, make_canvas_token_input, make_general_reset_button"
   ]
  },
  {
   "cell_type": "code",
   "execution_count": 7,
   "metadata": {
    "ExecuteTime": {
     "end_time": "2019-02-01T00:55:58.198299Z",
     "start_time": "2019-02-01T00:55:58.183968Z"
    }
   },
   "outputs": [
    {
     "data": {
      "application/vnd.jupyter.widget-view+json": {
       "model_id": "a21c4427dc2545488a1340c62e341f9b",
       "version_major": 2,
       "version_minor": 0
      },
      "text/plain": [
       "Text(value='', description='Canvas token')"
      ]
     },
     "metadata": {},
     "output_type": "display_data"
    }
   ],
   "source": [
    "make_canvas_token_input()"
   ]
  },
  {
   "cell_type": "code",
   "execution_count": 9,
   "metadata": {
    "ExecuteTime": {
     "end_time": "2019-02-01T00:56:06.014114Z",
     "start_time": "2019-02-01T00:56:06.010185Z"
    }
   },
   "outputs": [
    {
     "data": {
      "text/plain": [
       "'5fguu'"
      ]
     },
     "execution_count": 9,
     "metadata": {},
     "output_type": "execute_result"
    }
   ],
   "source": [
    "# You may confirm that the token has been added to the configuration here\n",
    "InteractiveConfiguration.canvas_token"
   ]
  },
  {
   "cell_type": "code",
   "execution_count": null,
   "metadata": {},
   "outputs": [],
   "source": []
  },
  {
   "cell_type": "markdown",
   "metadata": {},
   "source": [
    "## Course ids\n",
    "\n",
    "Instructions go here"
   ]
  },
  {
   "cell_type": "code",
   "execution_count": 10,
   "metadata": {
    "ExecuteTime": {
     "end_time": "2019-02-01T00:56:11.952907Z",
     "start_time": "2019-02-01T00:56:11.911599Z"
    }
   },
   "outputs": [
    {
     "data": {
      "application/vnd.jupyter.widget-view+json": {
       "model_id": "5a86374be6cd4c38bb41ae875875f1e9",
       "version_major": 2,
       "version_minor": 0
      },
      "text/plain": [
       "HBox(children=(VBox(children=(Text(value='', description='Class id'), HBox(children=(Button(description='Reset…"
      ]
     },
     "metadata": {},
     "output_type": "display_data"
    }
   ],
   "source": [
    "make_course_ids_input()"
   ]
  },
  {
   "cell_type": "code",
   "execution_count": null,
   "metadata": {},
   "outputs": [],
   "source": []
  },
  {
   "cell_type": "markdown",
   "metadata": {},
   "source": [
    "# Figure out what needs grading"
   ]
  },
  {
   "cell_type": "code",
   "execution_count": null,
   "metadata": {},
   "outputs": [],
   "source": [
    "print(\"These assignments need grading: \")\n",
    "for sec in InteractiveConfiguration.course_ids:\n",
    "    to_grade = get_assignments_needing_grading(sec)\n",
    "    print(sec, to_grade)"
   ]
  },
  {
   "cell_type": "code",
   "execution_count": null,
   "metadata": {},
   "outputs": [],
   "source": []
  },
  {
   "cell_type": "markdown",
   "metadata": {},
   "source": [
    "# Double check the automatic assignments"
   ]
  },
  {
   "cell_type": "code",
   "execution_count": null,
   "metadata": {},
   "outputs": [],
   "source": [
    "\n",
    "\n",
    "class Manager(object):\n",
    "    def __init__(self):\n",
    "        self.results = [] "
   ]
  },
  {
   "cell_type": "code",
   "execution_count": null,
   "metadata": {},
   "outputs": [],
   "source": [
    "def make_consolidated_text_file(journal_folder, filename=COMPILED_TEXT_FILE_NAME):\n",
    "    \"\"\"Writes each entry in to a single text file for ease of reading\"\"\"\n",
    "    entry = \"\"\"\n",
    "    {student_id} \\n\n",
    "    {body} \\n\n",
    "    \\n\n",
    "    \"\"\"\n",
    "    to_write = \"%s/%s\" %(journal_folder, filename) \n",
    "    with open(\"%s/all-submissions.json\" % journal_folder, 'r') as f:\n",
    "        j = json.load(f)\n",
    "        with open(to_write, 'w+') as cf:\n",
    "            for rec in j:\n",
    "            #     print(entry.format(**rec))\n",
    "                cf.write(entry.format(**rec))\n",
    "    print(\"Consolidated file written to {}\".format(to_write))"
   ]
  },
  {
   "cell_type": "code",
   "execution_count": null,
   "metadata": {
    "ExecuteTime": {
     "end_time": "2019-02-01T00:43:48.545790Z",
     "start_time": "2019-02-01T00:43:48.537839Z"
    }
   },
   "outputs": [],
   "source": [
    "def make_text_display(student_id, text):\n",
    "    \"\"\"Handles the formatting of the student's text\"\"\"\n",
    "    entry = \"\"\"\n",
    "          <div id='%s'>\n",
    "            <h3>%s</h3>\n",
    "            <p>\n",
    "                %s\n",
    "            </p>\n",
    "        </div>\"\"\"\n",
    "    e = entry % (student_id, student_id, text)\n",
    "    return widgets.HTML(e)\n",
    "\n",
    "def make_submission_output(text, student_id, credit_list):\n",
    "    bval = 'Credit' if student_id in credit_list else 'No credit'\n",
    "    credit_button = widgets.ToggleButtons(\n",
    "    options=['Credit', 'No credit'],\n",
    "        value=bval,\n",
    "    description='',\n",
    "    disabled=False\n",
    "    )\n",
    "    \n",
    "    ta = make_text_display(student_id, text)\n",
    "\n",
    "    def on_value_change(change):\n",
    "        \"\"\"The relevant callback\n",
    "        NB the use of scope to define student_id\"\"\"\n",
    "        v = change['new']\n",
    "        print(v, student_id)\n",
    "        try:\n",
    "            if v == 'Credit':\n",
    "                credit_list.append(student_id)\n",
    "            elif v == 'No credit':\n",
    "                credit_list.remove(student_id)\n",
    "        except ValueError:\n",
    "            pass\n",
    "\n",
    "    credit_button.observe(on_value_change, names='value')\n",
    "    display(widgets.VBox([ta, credit_button]))\n",
    "\n",
    "def make_consolidated_text_fields(results, credit_list=[]):\n",
    "    \"\"\"Displays each entry with a toggle to adjust whether the \n",
    "    student receives credit\"\"\"\n",
    "    for r in results:\n",
    "        make_submission_output(r['body'], r['student_id'], credit_list)"
   ]
  },
  {
   "cell_type": "code",
   "execution_count": null,
   "metadata": {
    "ExecuteTime": {
     "end_time": "2019-02-01T00:43:49.506574Z",
     "start_time": "2019-02-01T00:43:49.503359Z"
    }
   },
   "outputs": [],
   "source": [
    "test_results = [{'student_id' : i, 'body': 'Body text for student {}'.format(i)} for i in range(0,4)]"
   ]
  },
  {
   "cell_type": "code",
   "execution_count": null,
   "metadata": {
    "ExecuteTime": {
     "end_time": "2019-02-01T00:43:49.709698Z",
     "start_time": "2019-02-01T00:43:49.705149Z"
    }
   },
   "outputs": [],
   "source": [
    "a = [1, 'b', 4]\n",
    "# a.remove('b')\n",
    "a"
   ]
  },
  {
   "cell_type": "code",
   "execution_count": null,
   "metadata": {
    "ExecuteTime": {
     "end_time": "2019-02-01T00:43:49.909833Z",
     "start_time": "2019-02-01T00:43:49.905133Z"
    }
   },
   "outputs": [],
   "source": [
    "'Credit' if 2 in [1, 2] else 'No credit'\n"
   ]
  },
  {
   "cell_type": "code",
   "execution_count": null,
   "metadata": {
    "ExecuteTime": {
     "end_time": "2019-02-01T00:43:50.168120Z",
     "start_time": "2019-02-01T00:43:50.074282Z"
    }
   },
   "outputs": [],
   "source": [
    "test_results\n",
    "\n",
    "credit_list = [0, 2]\n",
    "\n",
    "make_consolidated_text_fields(test_results, credit_list)"
   ]
  },
  {
   "cell_type": "code",
   "execution_count": null,
   "metadata": {},
   "outputs": [],
   "source": []
  },
  {
   "cell_type": "code",
   "execution_count": null,
   "metadata": {
    "ExecuteTime": {
     "end_time": "2019-02-01T00:44:09.074041Z",
     "start_time": "2019-02-01T00:44:09.070291Z"
    }
   },
   "outputs": [],
   "source": [
    "credit_list"
   ]
  },
  {
   "cell_type": "code",
   "execution_count": null,
   "metadata": {},
   "outputs": [],
   "source": []
  },
  {
   "cell_type": "markdown",
   "metadata": {},
   "source": [
    "# Upload the grades to canvas"
   ]
  },
  {
   "cell_type": "code",
   "execution_count": null,
   "metadata": {},
   "outputs": [],
   "source": []
  },
  {
   "cell_type": "code",
   "execution_count": null,
   "metadata": {
    "ExecuteTime": {
     "end_time": "2019-02-01T00:37:22.863709Z",
     "start_time": "2019-02-01T00:37:22.860043Z"
    }
   },
   "outputs": [],
   "source": [
    "\n",
    "\n",
    "def make_upload_button(credit_list):\n",
    "    def upload_callback(event):\n",
    "        print(credit_list)\n",
    "\n",
    "    b = widgets.Button(description='Upload grades', button_style='danger')\n",
    "    b.on_click(upload_callback)\n",
    "    display(b)"
   ]
  },
  {
   "cell_type": "code",
   "execution_count": null,
   "metadata": {
    "ExecuteTime": {
     "end_time": "2019-02-01T00:37:23.216819Z",
     "start_time": "2019-02-01T00:37:23.205930Z"
    }
   },
   "outputs": [],
   "source": [
    "make_upload_button(credit_list)"
   ]
  },
  {
   "cell_type": "code",
   "execution_count": null,
   "metadata": {},
   "outputs": [],
   "source": []
  },
  {
   "cell_type": "code",
   "execution_count": null,
   "metadata": {},
   "outputs": [],
   "source": []
  }
 ],
 "metadata": {
  "kernelspec": {
   "display_name": "Python 3",
   "language": "python",
   "name": "python3"
  },
  "language_info": {
   "codemirror_mode": {
    "name": "ipython",
    "version": 3
   },
   "file_extension": ".py",
   "mimetype": "text/x-python",
   "name": "python",
   "nbconvert_exporter": "python",
   "pygments_lexer": "ipython3",
   "version": "3.6.4"
  },
  "toc": {
   "base_numbering": 1,
   "nav_menu": {},
   "number_sections": true,
   "sideBar": true,
   "skip_h1_title": false,
   "title_cell": "Table of Contents",
   "title_sidebar": "Contents",
   "toc_cell": false,
   "toc_position": {},
   "toc_section_display": true,
   "toc_window_display": false
  }
 },
 "nbformat": 4,
 "nbformat_minor": 2
}
