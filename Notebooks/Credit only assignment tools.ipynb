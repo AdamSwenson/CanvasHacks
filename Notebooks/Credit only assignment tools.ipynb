{
 "cells": [
  {
   "cell_type": "markdown",
   "metadata": {},
   "source": [
    "https://nbviewer.jupyter.org/github/AdamSwenson/CanvasHacks/blob/master/Notebooks/Credit%20only%20assignment%20tools.ipynb?flush_cache=true"
   ]
  },
  {
   "cell_type": "markdown",
   "metadata": {},
   "source": [
    "# Get started\n",
    "\n",
    "Click the icon with 3 rings in the upper right (the tooltip says 'Execute on Binder') to create your own mini-server to run this notebook.\n",
    "\n",
    "After you've opened the notebook in binder, click the run button above a few times. Each click runs the code in the highlighted cell. You can also press shift+return to run it.\n",
    "\n",
    "Try it with the next cell:"
   ]
  },
  {
   "cell_type": "code",
   "execution_count": null,
   "metadata": {},
   "outputs": [],
   "source": [
    "print(\"You've successfully run this cell!\")"
   ]
  },
  {
   "cell_type": "markdown",
   "metadata": {},
   "source": [
    "\n",
    "\n",
    "You'll be able to tell that a cell is running by an asterisk appearing in the brackets to the left ( [ * ]). Some tasks may take a couple of minutes to run, so it may appear frozen.\n",
    "\n",
    "The next 2 cells will grab and import all the code that operates behind the scenes. (If you're curious, you can check it out here: https://github.com/AdamSwenson/CanvasHacks)\n"
   ]
  },
  {
   "cell_type": "code",
   "execution_count": null,
   "metadata": {
    "deletable": false,
    "editable": false,
    "run_control": {
     "frozen": true
    }
   },
   "outputs": [],
   "source": [
    "# Install our library to the server\n",
    "!pip install CanvasHacks"
   ]
  },
  {
   "cell_type": "code",
   "execution_count": null,
   "metadata": {},
   "outputs": [],
   "source": [
    "%cd ../\n",
    "\n",
    "from CanvasHacks import environment\n",
    "from CanvasHacks.Configuration import InteractiveConfiguration\n",
    "from CanvasHacks.Repositories.DataManagement import DataStore\n",
    "\n",
    "from CanvasHacks.RequestTools import get_all_course_assignments, get_assignments_needing_grading\n",
    "import CanvasHacks.GradingTools as GT\n",
    "import CanvasHacks.DownloadProcessingTools as PT\n",
    "from CanvasHacks.Widgets.InputFields import make_course_ids_input, make_canvas_token_input, make_canvas_url_input, make_general_reset_button\n",
    "from CanvasHacks.Widgets.ConsolidatedTextOutput import make_assignment_header, make_consolidated_text_fields\n",
    "from CanvasHacks.Widgets.CredentialFields import make_credentials_input\n",
    "from CanvasHacks.Widgets.AssignmentSelection import make_assignment_chooser, view_selected_assignments, view_ungraded_assignments\n",
    "\n",
    "# Download students\n",
    "from CanvasHacks.Repositories.StudentData import StudentRepository\n",
    "\n",
    "\n",
    "make_credentials_input()"
   ]
  },
  {
   "cell_type": "markdown",
   "metadata": {},
   "source": [
    "## Canvas url\n",
    "\n",
    "Finally, we need the url of your campus canvas installation. When we make requests to the canvas server, we will be using this in our requests. For details, see the Canvas API documentation: https://canvas.instructure.com/doc/api/index.html\n",
    "\n",
    "For CSUN users, it should be: \n",
    "    \n",
    "    https://canvas.csun.edu/api/v1/courses\n",
    "\n",
    "For non-csun users, make sure you provide the equivalent up to the '/courses'\n",
    "\n",
    "Just paste the url in the box, it will be read when needed\n",
    "\n",
    "Do not add a slash at the end after '/courses'! "
   ]
  },
  {
   "cell_type": "code",
   "execution_count": null,
   "metadata": {},
   "outputs": [],
   "source": [
    "make_canvas_url_input()"
   ]
  },
  {
   "cell_type": "markdown",
   "metadata": {},
   "source": [
    "# Figure out what needs grading"
   ]
  },
  {
   "cell_type": "markdown",
   "metadata": {},
   "source": [
    "Run the cell below. It will display buttons for each ungraded assignment where at least one student has submitted the assignment. \n",
    "\n",
    "Use these buttons to select which assignments to grade. Unselected assignments are blue; selected are green."
   ]
  },
  {
   "cell_type": "code",
   "execution_count": null,
   "metadata": {},
   "outputs": [],
   "source": [
    "make_assignment_chooser()"
   ]
  },
  {
   "cell_type": "markdown",
   "metadata": {},
   "source": [
    "# Download and process student submissions"
   ]
  },
  {
   "cell_type": "code",
   "execution_count": null,
   "metadata": {},
   "outputs": [],
   "source": [
    "results = []\n",
    "\n",
    "for course_id in environment.CONFIG.course_ids:\n",
    "    print('course', course_id)\n",
    "    for assignment_id, name in environment.CONFIG.assignments:\n",
    "        store = DataStore(assignment_id=assignment_id, assignment_name=name, course_id=course_id)\n",
    "\n",
    "        print(\"Processing {}\".format(name))\n",
    "        # make folder\n",
    "        # download student submissions \n",
    "        response = PT.get_submissions(course_id, assignment_id)\n",
    "        print(\"{} responses received\".format(len(response)))\n",
    "        store.submissions = PT.process_response_without_saving_files(response)\n",
    "        # give credit for non-empty submissions\n",
    "        c = GT.determine_credit(store.submissions)\n",
    "        # stow the results in our data object\n",
    "        store.credit = c['credit']\n",
    "        store.no_credit = c['nocredit']\n",
    "        store.print_counts()\n",
    "        # Add the now full-of-data object to our results list\n",
    "        results.append(store)\n",
    "\n",
    "# Load student names etc\n",
    "studentRepo = StudentRepository(environment.CONFIG.course_ids)"
   ]
  },
  {
   "cell_type": "markdown",
   "metadata": {},
   "source": [
    "# Read student work and check that properly categorized"
   ]
  },
  {
   "cell_type": "code",
   "execution_count": null,
   "metadata": {
    "code_folding": [
     23
    ],
    "deletable": false,
    "editable": false,
    "run_control": {
     "frozen": true
    }
   },
   "outputs": [],
   "source": [
    "from ipywidgets import widgets\n",
    "from IPython.display import display\n",
    "\n",
    "def make_assignment_header(store):\n",
    "    \"\"\"Displays the header for each assignment\"\"\"\n",
    "    entry = \"\"\"\n",
    "    <h1>{}</h1>\n",
    "    <h2>Class id: {}</h2>\"\"\"\n",
    "    return display(widgets.HTML(entry.format(store.assignment_name, store.course_id)))\n",
    "\n",
    "\n",
    "def make_text_display(student_id, text):\n",
    "    \"\"\"Handles the formatting of the student's text\"\"\"\n",
    "    entry = \"\"\"\n",
    "          <div id='%s'>\n",
    "            <h3>%s</h3>\n",
    "            <p>\n",
    "                %s\n",
    "            </p>\n",
    "        </div>\"\"\"\n",
    "    e = entry % (student_id, student_id, text)\n",
    "    return widgets.HTML(e)\n",
    "\n",
    "def make_submission_output(text, student_id, credit_list):\n",
    "    \"\"\"Creates the display of the submitted text with a toggle button to \n",
    "    update whether the student receives credit \n",
    "    \"\"\"\n",
    "    bval = 'Credit' if student_id in credit_list else 'No credit'\n",
    "    credit_button = widgets.ToggleButtons(\n",
    "        options=['Credit', 'No credit'],\n",
    "        value=bval,\n",
    "        description='',\n",
    "        disabled=False\n",
    "    )\n",
    "    \n",
    "    ta = make_text_display(student_id, text)\n",
    "\n",
    "    def on_value_change(change):\n",
    "        \"\"\"The relevant callback\n",
    "        NB the use of scope to define student_id\"\"\"\n",
    "        v = change['new']\n",
    "        print(v, student_id)\n",
    "        try:\n",
    "            if v == 'Credit':\n",
    "                credit_list.append(student_id)\n",
    "            elif v == 'No credit':\n",
    "                credit_list.remove(student_id)\n",
    "        except ValueError:\n",
    "            pass\n",
    "\n",
    "    credit_button.observe(on_value_change, names='value')\n",
    "    display(widgets.VBox([ta, credit_button]))\n",
    "\n",
    "def make_consolidated_text_fields(store):\n",
    "    \"\"\"Displays each entry with a toggle to adjust whether the \n",
    "    student receives credit\"\"\"\n",
    "    for r in store.submissions:\n",
    "        make_submission_output(r['body'], r['student_id'], store.credit)"
   ]
  },
  {
   "cell_type": "code",
   "execution_count": null,
   "metadata": {},
   "outputs": [],
   "source": [
    "for s in results:\n",
    "    make_assignment_header(s)\n",
    "    make_consolidated_text_fields(s, studentRepo)"
   ]
  },
  {
   "cell_type": "markdown",
   "metadata": {},
   "source": [
    "# Upload the grades to canvas"
   ]
  },
  {
   "cell_type": "code",
   "execution_count": null,
   "metadata": {},
   "outputs": [],
   "source": [
    "from CanvasHacks.UploadGradeTools import upload_students_receiving_credit\n",
    "from ipywidgets import widgets\n",
    "from IPython.display import display\n",
    "\n",
    "def make_upload_button(store):\n",
    "    def upload_callback(event):\n",
    "        # change button style to indicate working\n",
    "        b.button_style='warning'\n",
    "        # upload grades for students receiving credit\n",
    "        upload_students_receiving_credit(store)\n",
    "        # change button style\n",
    "        b.button_style='success'\n",
    "        \n",
    "    desc = 'Upload grades for {}'.format(store.assignment_name)\n",
    "    layout= widgets.Layout(width='50%')\n",
    "    b = widgets.Button(description=desc, button_style='danger', layout=layout)\n",
    "    b.on_click(upload_callback)\n",
    "    \n",
    "    display(b)"
   ]
  },
  {
   "cell_type": "code",
   "execution_count": null,
   "metadata": {},
   "outputs": [],
   "source": [
    "for store in results:\n",
    "    make_upload_button(store)"
   ]
  },
  {
   "cell_type": "code",
   "execution_count": null,
   "metadata": {},
   "outputs": [],
   "source": []
  },
  {
   "cell_type": "code",
   "execution_count": null,
   "metadata": {},
   "outputs": [],
   "source": []
  }
 ],
 "metadata": {
  "kernelspec": {
   "display_name": "Python 3",
   "language": "python",
   "name": "python3"
  },
  "language_info": {
   "codemirror_mode": {
    "name": "ipython",
    "version": 3
   },
   "file_extension": ".py",
   "mimetype": "text/x-python",
   "name": "python",
   "nbconvert_exporter": "python",
   "pygments_lexer": "ipython3",
   "version": "3.6.4"
  },
  "toc": {
   "base_numbering": 1,
   "colors": {
    "hover_highlight": "#DAA520",
    "navigate_num": "#000000",
    "navigate_text": "#333333",
    "running_highlight": "#FF0000",
    "selected_highlight": "#FFD700",
    "sidebar_border": "#EEEEEE",
    "wrapper_background": "#FFFFFF"
   },
   "moveMenuLeft": true,
   "nav_menu": {},
   "navigate_menu": true,
   "number_sections": true,
   "sideBar": true,
   "skip_h1_title": false,
   "threshold": 4,
   "title_cell": "Table of Contents",
   "title_sidebar": "Contents",
   "toc_cell": false,
   "toc_position": {},
   "toc_section_display": true,
   "toc_window_display": false,
   "widenNotebook": false
  }
 },
 "nbformat": 4,
 "nbformat_minor": 2
}
