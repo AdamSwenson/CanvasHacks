{
 "cells": [
  {
   "cell_type": "code",
   "execution_count": 1,
   "metadata": {
    "ExecuteTime": {
     "end_time": "2019-02-02T02:42:35.609456Z",
     "start_time": "2019-02-02T02:42:35.604010Z"
    }
   },
   "outputs": [
    {
     "name": "stdout",
     "output_type": "stream",
     "text": [
      "/Users/adam/Dropbox/CanvasCorrections\n"
     ]
    }
   ],
   "source": [
    "# %cd ../\n",
    "# Install our library \n",
    "!pip install CanvasHacks\n",
    "\n",
    "import environment\n",
    "from assets.RequestTools import get_all_course_assignments, get_assignments_needing_grading\n",
    "from assets.Configuration import InteractiveConfiguration\n",
    "from assets.InputFields import make_course_ids_input, make_canvas_token_input, make_general_reset_button\n",
    "import assets.GradingTools as GT\n",
    "import assets.DownloadProcessingTools as PT\n",
    "from assets.DataManagement import DataStore"
   ]
  },
  {
   "cell_type": "markdown",
   "metadata": {},
   "source": [
    "# Setup the configuration"
   ]
  },
  {
   "cell_type": "markdown",
   "metadata": {},
   "source": [
    "## Canvas API Token\n",
    "\n",
    "You'll need to generate a token. This stands in for your username/password. \n",
    "\n",
    "Make sure you record the token in a secure place. It will not be saved in this notebook and you will have to re-enter it every time you use this tool.\n",
    "\n",
    "https://canvas.instructure.com/doc/api/file.oauth.html#manual-token-generation\n",
    "\n",
    "\n",
    "To manually generate a token for testing:\n",
    "\n",
    "    Click the \"profile\" link in the top right menu bar, or navigate to /profile\n",
    "\n",
    "    Under the \"Approved Integrations\" section, click the button to generate a new access token.\n",
    "    \n",
    "    Once the token is generated, you cannot view it again, and you'll have to generate a new token if you forget it. Remember that access tokens are password equivalent, so keep it secret.\n",
    "\n"
   ]
  },
  {
   "cell_type": "code",
   "execution_count": null,
   "metadata": {
    "ExecuteTime": {
     "end_time": "2019-02-02T01:06:11.790408Z",
     "start_time": "2019-02-02T01:06:11.778014Z"
    }
   },
   "outputs": [],
   "source": [
    "make_canvas_token_input()"
   ]
  },
  {
   "cell_type": "markdown",
   "metadata": {},
   "source": [
    "## Course ids\n",
    "\n",
    "You will also need the id number(s) of the courses you wish to grade. You can find them by logging into canvas and going to the course page. The number you are looking for will be in the url, immediately after '/courses/'\n",
    "\n",
    "    For example, if the url is: https://canvas.csun.edu/courses/12345 \n",
    "    \n",
    "    The course number is: 12345\n",
    "    \n",
    "You will want to also write this number down somewhere secure since the values will be purged when you close the notebook.\n",
    "\n",
    "Add the course ids one-at-a-time using the box and buttons below"
   ]
  },
  {
   "cell_type": "code",
   "execution_count": 9,
   "metadata": {
    "ExecuteTime": {
     "end_time": "2019-02-02T03:05:11.260643Z",
     "start_time": "2019-02-02T03:05:11.220644Z"
    }
   },
   "outputs": [
    {
     "data": {
      "application/vnd.jupyter.widget-view+json": {
       "model_id": "ee58ce8c55ad453dbfb4eef8ab64ff95",
       "version_major": 2,
       "version_minor": 0
      },
      "text/plain": [
       "HBox(children=(VBox(children=(Text(value='', description='Class id'), HBox(children=(Button(description='Reset…"
      ]
     },
     "metadata": {},
     "output_type": "display_data"
    }
   ],
   "source": [
    "make_course_ids_input()"
   ]
  },
  {
   "cell_type": "markdown",
   "metadata": {},
   "source": [
    "# Figure out what needs grading"
   ]
  },
  {
   "cell_type": "code",
   "execution_count": null,
   "metadata": {
    "ExecuteTime": {
     "end_time": "2019-02-02T01:06:14.869060Z",
     "start_time": "2019-02-02T01:06:13.578579Z"
    }
   },
   "outputs": [],
   "source": [
    "print(\"These assignments need grading: \")\n",
    "for sec in environment.CONFIG.course_ids:\n",
    "    to_grade = get_assignments_needing_grading(sec)\n",
    "    print(sec, to_grade)"
   ]
  },
  {
   "cell_type": "markdown",
   "metadata": {},
   "source": [
    "# Download and process student submissions\n",
    "\n",
    "Todo\n",
    "\n",
    "    - Do we want to have more control over which assignments are graded? This just does all ungraded..."
   ]
  },
  {
   "cell_type": "code",
   "execution_count": 3,
   "metadata": {
    "ExecuteTime": {
     "end_time": "2019-02-02T02:45:03.943571Z",
     "start_time": "2019-02-02T02:42:41.389189Z"
    },
    "collapsed": true
   },
   "outputs": [
    {
     "name": "stdout",
     "output_type": "stream",
     "text": [
      "course 67531\n",
      "Processing Journal (week 1)\n",
      "https://canvas.csun.edu/api/v1/courses/67531/assignments/360442/submissions?per_page=42\n",
      "https://canvas.csun.edu/api/v1/courses/67531/assignments/360442/submissions?page=2&per_page=42\n",
      "https://canvas.csun.edu/api/v1/courses/67531/assignments/360442/submissions?page=3&per_page=42\n",
      "126 responses received\n",
      "Downloading:  https://canvas.csun.edu/files/5617587/download?download_frd=1&verifier=ZAzG9KwDpyqhoMHtX9gttiUx5rQ54Dao6X6RTqEX\n",
      "Downloading:  https://canvas.csun.edu/files/5588856/download?download_frd=1&verifier=8QnasIbl4LT5BC7DLG2AtSQA9kBghrgtrdlQgnnU\n",
      "Downloading:  https://canvas.csun.edu/files/5619568/download?download_frd=1&verifier=8X8gXTPdcGo29R16YsrkRVbL62EFyXLnoOoMeEu6\n",
      "Downloading:  https://canvas.csun.edu/files/5619026/download?download_frd=1&verifier=NY9O8RqjDtyf57ftXvkMDuGAF3BfmlYdPXp9iSzc\n",
      "Downloading:  https://canvas.csun.edu/files/5618296/download?download_frd=1&verifier=zdUSLGz9bI7EEJT3eCAf9GPaobM4m9JHws412Mwi\n",
      "Downloading:  https://canvas.csun.edu/files/5587172/download?download_frd=1&verifier=e0xke1jOmtyJ9vDGYEUKLOvmw618fLYWlVo800RX\n",
      "Downloading:  https://canvas.csun.edu/files/5610915/download?download_frd=1&verifier=WvBienJuNPRYh9NcF4ckg4jRyR34lSUgXXsf0u9f\n",
      "Downloading:  https://canvas.csun.edu/files/5610413/download?download_frd=1&verifier=jiRmrEmBMrtwgmKVuBuER9swLsL8HDKk0EncmzOk\n",
      "Downloading:  https://canvas.csun.edu/files/5618180/download?download_frd=1&verifier=yVRdsQZWUueTCSzEXjcvsJh7NDGHIIts3Pp6bEbN\n",
      "Downloading:  https://canvas.csun.edu/files/5615515/download?download_frd=1&verifier=4miCMKqYwARMFg5Hoh5ddaFUKfHjY9XLdzi6y9B9\n",
      "Downloading:  https://canvas.csun.edu/files/5614303/download?download_frd=1&verifier=dhHuteqDhUZnf95rAR0DfTSDHixRfS6QTafgDq0M\n",
      "Downloading:  https://canvas.csun.edu/files/5585842/download?download_frd=1&verifier=Gm8NgRWODcQsbeZMVEv1CE2Ga5XHCCAFuZAnxXrs\n",
      "Downloading:  https://canvas.csun.edu/files/5617849/download?download_frd=1&verifier=jSkpV2eUwNRE9JJ0Pi826vLSVXRMaFOe2Hi90Q28\n",
      "Downloading:  https://canvas.csun.edu/files/5617510/download?download_frd=1&verifier=rWPabm4hVnZvBhiEgROchdW0DrJhT3Xd4etSfRxW\n",
      "Downloading:  https://canvas.csun.edu/files/5618283/download?download_frd=1&verifier=aHKz8mcihePLnNs3uG7714ODKKtU8TjUkXNQh1As\n",
      "Downloading:  https://canvas.csun.edu/files/5618308/download?download_frd=1&verifier=d9BDWEMRO2hIFjMWSWhjuTLN7lIv5x8Sbcg0Jbay\n",
      "Downloading:  https://canvas.csun.edu/files/5588822/download?download_frd=1&verifier=giXOqCAFdqmsodZcigkio8uLiMedoEeQUmRKsxTN\n",
      "Downloading:  https://canvas.csun.edu/files/5616933/download?download_frd=1&verifier=sEf1inEQqAZ2MNUHxOXos6MmaQOtcPO8BDjnHNjY\n",
      "Downloading:  https://canvas.csun.edu/files/5615291/download?download_frd=1&verifier=boU8cKBWWViMHkqmWTjaYMJYs9qNIMlyrD4BRHmm\n",
      "Downloading:  https://canvas.csun.edu/files/5608730/download?download_frd=1&verifier=GDv97fJLuECNCFOJ9oJPQ8Z8SFgTtKSPORE4AFur\n",
      "Downloading:  https://canvas.csun.edu/files/5614029/download?download_frd=1&verifier=dJ9D72E51gwyJCTezpaNlv5SelDkNX5CO6CPtSXq\n",
      "Downloading:  https://canvas.csun.edu/files/5609622/download?download_frd=1&verifier=3CpKcHFoYMJ7oAlmL6lC2w0g9CZfxVMBb0yVqzAx\n",
      "Downloading:  https://canvas.csun.edu/files/5614855/download?download_frd=1&verifier=wEOkIzOX530Y1KCQFd3Wl3HgszKe5A5i25bNjnGJ\n",
      "Downloading:  https://canvas.csun.edu/files/5606702/download?download_frd=1&verifier=w5xva7jcR1jxkZnHFFHaz0RyW6Z3PqQdLcqtL0Iw\n",
      "Downloading:  https://canvas.csun.edu/files/5593437/download?download_frd=1&verifier=EpB8TguiBt8KxmNBwJaqMqbKLXZgkTxpQBvl8fGR\n",
      "Downloading:  https://canvas.csun.edu/files/5608194/download?download_frd=1&verifier=549H8KwA03uuJladLt2wkkSTBG9JEBi0FnZoTJ61\n",
      "Downloading:  https://canvas.csun.edu/files/5615174/download?download_frd=1&verifier=i2Q2BzqfYEm0qHhS0BgHGZ9lkkKAC2JQlRSqmDtx\n",
      "Downloading:  https://canvas.csun.edu/files/5598058/download?download_frd=1&verifier=cR7HLEoAMBg0xRelqv6qdtusCR8KwCNAIdXdDpQA\n",
      "Downloading:  https://canvas.csun.edu/files/5614908/download?download_frd=1&verifier=CNMYxTOZ95TvjVJH6xg76T91QCRe78dRiih8r5Pt\n",
      "Downloading:  https://canvas.csun.edu/files/5617485/download?download_frd=1&verifier=jivwyiHtDegPRmA2WrbJeM07tcTVNNvEQRf1QeVJ\n",
      "Downloading:  https://canvas.csun.edu/files/5601906/download?download_frd=1&verifier=PhSvsd2IlGpFt8O3xtK8SZChyQxsIKOK4Y4STgHB\n",
      "Downloading:  https://canvas.csun.edu/files/5615530/download?download_frd=1&verifier=1KMjp5aCx4lqjERPXu4Nhus3Ol4qIqXtNWjf0TBL\n",
      "Downloading:  https://canvas.csun.edu/files/5617689/download?download_frd=1&verifier=ys4WDOmyyScheSwnSHHwH3cFZwLj4oxUJqnOopz4\n",
      "Downloading:  https://canvas.csun.edu/files/5614343/download?download_frd=1&verifier=UQLYrQw7NQj2ZB9BOsj2PrFLMEp0AI4JPCSNGrDW\n",
      "Downloading:  https://canvas.csun.edu/files/5588945/download?download_frd=1&verifier=HVDMTqqYwNA2JFfLWpKKnoPk3iJcuNM3nITDoIM8\n",
      "Downloading:  https://canvas.csun.edu/files/5619172/download?download_frd=1&verifier=yshq8kg7SWWrHKdQGexlf78dFAkwciJ2lsfeCPVn\n",
      "Downloading:  https://canvas.csun.edu/files/5619280/download?download_frd=1&verifier=QU0I5iiGPHHvTPI9jfWL0TuY6IheOnDW1ujefnRb\n",
      "Downloading:  https://canvas.csun.edu/files/5617408/download?download_frd=1&verifier=BBSC90pKIlVycTPTruAOGYWqAhPFgKJfTOkkWBsL\n",
      "Downloading:  https://canvas.csun.edu/files/5618587/download?download_frd=1&verifier=3Nc4R0e69SX7JWSMTEuVt7nlZZ6dx3iXzmhGWv3K\n",
      "Downloading:  https://canvas.csun.edu/files/5619636/download?download_frd=1&verifier=N75IZiIQ06MKTFhb3dsMalSkR43qpKwcxK4n0i4r\n",
      "Downloading:  https://canvas.csun.edu/files/5618927/download?download_frd=1&verifier=FoBwLA3aLaQZbTLEkhmLWu4SI7AzK12XblLuzzNj\n",
      "Downloading:  https://canvas.csun.edu/files/5618878/download?download_frd=1&verifier=3JvDVXIgPkQDY4APad5JoPeXGr7r6gjezxB7UrqE\n",
      "Downloading:  https://canvas.csun.edu/files/5589861/download?download_frd=1&verifier=cIQZsAYYnB464AY9I6Hwhqk6P0LJPrTFVzDnKEQt\n",
      "Downloading:  https://canvas.csun.edu/files/5611053/download?download_frd=1&verifier=7ZZApAP6EKfwWPCDb8Lrl8yQ8MXDh8vOOvQZKpBe\n",
      "Downloading:  https://canvas.csun.edu/files/5609328/download?download_frd=1&verifier=NUXqyPt8luv3cKFmnzdoASODfFiAR3glyxoj8X7B\n",
      "Downloading:  https://canvas.csun.edu/files/5617196/download?download_frd=1&verifier=kbVRQZzMQto9N3yRflF7GkAmhlW6txhPyRcqxnmh\n",
      "Downloading:  https://canvas.csun.edu/files/5608334/download?download_frd=1&verifier=TmX0RyVcBdMbuMmLT4XEGHgFHVDU896uES9F8Ljc\n",
      "Downloading:  https://canvas.csun.edu/files/5614524/download?download_frd=1&verifier=e2kTBnZc7ASjA7BheVTYQECpQhvkruniYqx6Kgtq\n",
      "Downloading:  https://canvas.csun.edu/files/5617780/download?download_frd=1&verifier=5KZNorXBVD3NmPA8Wx4A6eRCdVpg77ZcFkYt6LsR\n",
      "Downloading:  https://canvas.csun.edu/files/5618731/download?download_frd=1&verifier=oFPLzMQDyU5hHW568oci41P2iTtjOnIqsDFqZVy3\n",
      "Downloading:  https://canvas.csun.edu/files/5619283/download?download_frd=1&verifier=0wqz0gUHwN2wRKm9Jo8EfTifuOWdvx1LRGh6FxSj\n",
      "Downloading:  https://canvas.csun.edu/files/5610700/download?download_frd=1&verifier=TioOFQA4IlvJZH4xkfejpSCvdb1Jtrl1qWDOzO43\n",
      "Downloading:  https://canvas.csun.edu/files/5617399/download?download_frd=1&verifier=09oVORizcBVXxyZBYxaQpXPpaZceEbFWo8nGro83\n",
      "Downloading:  https://canvas.csun.edu/files/5609160/download?download_frd=1&verifier=L5ciNAXim7q7aQ1FPGTOtfHBRtuFLzd9UBVC5iN2\n",
      "Downloading:  https://canvas.csun.edu/files/5619396/download?download_frd=1&verifier=qg3xEbsAVOJ3ZM2yx0KFEnJiiQGngNKzDicLL7Mw\n",
      "Downloading:  https://canvas.csun.edu/files/5617912/download?download_frd=1&verifier=HRsPUvvRzISWVThENDeyTZYT8f0JPRL0hvgb6DJa\n",
      "Downloading:  https://canvas.csun.edu/files/5610096/download?download_frd=1&verifier=EirYht6fmW3gIMht5rroX3XzS8KbCOtnYdqMH0tL\n",
      "Tentatively assigning credit to 83 submissions; no credit to 43 submissions.\n",
      "Processing Journal (week 2)\n",
      "https://canvas.csun.edu/api/v1/courses/67531/assignments/360449/submissions?per_page=42\n",
      "https://canvas.csun.edu/api/v1/courses/67531/assignments/360449/submissions?page=2&per_page=42\n",
      "https://canvas.csun.edu/api/v1/courses/67531/assignments/360449/submissions?page=3&per_page=42\n",
      "126 responses received\n",
      "Downloading:  https://canvas.csun.edu/files/5664211/download?download_frd=1&verifier=3WACuVhO8GYfPBeF9BjzkUSL0dmbzHa5JtS43iiX\n",
      "Downloading:  https://canvas.csun.edu/files/5654763/download?download_frd=1&verifier=DcPHlOBIlfbYnvr7SaFAZIlhbl8SJlHSSAW9IZ6l\n",
      "Downloading:  https://canvas.csun.edu/files/5664205/download?download_frd=1&verifier=nSYnmXcSK56y3IwOQelqKP5yiuPJRXiJVm2ApZIM\n"
     ]
    },
    {
     "name": "stdout",
     "output_type": "stream",
     "text": [
      "Downloading:  https://canvas.csun.edu/files/5663985/download?download_frd=1&verifier=kGgkWHVnlghrqe0irKgvQa2wik9NBB9piiUqrCsi\n",
      "Downloading:  https://canvas.csun.edu/files/5666597/download?download_frd=1&verifier=gdD4RxVDGCdxYg75cwCwObbn6IsIjBU2k8iKrqQu\n",
      "Downloading:  https://canvas.csun.edu/files/5667657/download?download_frd=1&verifier=h1nmZyFVSqaC7ckreJAXAENkBfS9G51ukV3Ttcyg\n",
      "Downloading:  https://canvas.csun.edu/files/5663794/download?download_frd=1&verifier=xrN6BSoCVaCaIVIJ525sOPcrnMcp0wpCSpN9K9RE\n",
      "Downloading:  https://canvas.csun.edu/files/5659991/download?download_frd=1&verifier=HMOQIkGhsnSeaCrFBfmEM1FoJV2eck8O1SsOYmHc\n",
      "Downloading:  https://canvas.csun.edu/files/5667811/download?download_frd=1&verifier=jySwkcMObLjNgFPILs9kuom9sEQ5BV5wcQanV1cn\n",
      "Downloading:  https://canvas.csun.edu/files/5667777/download?download_frd=1&verifier=3D53UQuyQeDFoEJvZEqWJczKTuIp9Pj7iJmg4Pfq\n",
      "Downloading:  https://canvas.csun.edu/files/5662255/download?download_frd=1&verifier=uS3oCTBbCWWhPE5rHQFOCFBuiuIy2zDxyIoozUBP\n",
      "Downloading:  https://canvas.csun.edu/files/5651880/download?download_frd=1&verifier=KIsxErEurhu8T5clfyUOLp5SiBsA5rC22cPEjgBP\n",
      "Downloading:  https://canvas.csun.edu/files/5666107/download?download_frd=1&verifier=b8ZtQAFszLCiim2g1W5CgBeq2ug0TbXM0pNTdAxJ\n",
      "Downloading:  https://canvas.csun.edu/files/5660434/download?download_frd=1&verifier=Qu9bHXAaA1uUIBWilOEb1FCk3LA9wSpBobfEQbip\n",
      "Downloading:  https://canvas.csun.edu/files/5662648/download?download_frd=1&verifier=UoCV8RDtpPiNcDUxJYFnLS33T0C2aAnWLTOBQwGh\n",
      "Downloading:  https://canvas.csun.edu/files/5663192/download?download_frd=1&verifier=u8W15hyLexHRcK4QoLdyoWsKrZDs6LtC7VxywPIF\n",
      "Downloading:  https://canvas.csun.edu/files/5667000/download?download_frd=1&verifier=acfBi2s3NKrynvEFpxeU4zJ8c1MuJEZACRamMoCr\n",
      "Downloading:  https://canvas.csun.edu/files/5656902/download?download_frd=1&verifier=jFMdlNlllJIIqvJmANC6aCgEISYmwHlNjxkAcaMG\n",
      "Downloading:  https://canvas.csun.edu/files/5664780/download?download_frd=1&verifier=XwHaxemeBEuNti4zxUKp3cSJPlYwyRaSWjykGr4h\n",
      "Downloading:  https://canvas.csun.edu/files/5660770/download?download_frd=1&verifier=hS7iDHhWfD7zxfzvL7Hz4gCeZ8UxTacH09vc6pPQ\n",
      "Downloading:  https://canvas.csun.edu/files/5664686/download?download_frd=1&verifier=jepTfhsPMqXegwIscbA70tNut8N1XkSyZnG0J7B7\n",
      "Downloading:  https://canvas.csun.edu/files/5655035/download?download_frd=1&verifier=YsOXGOucFLW6UdjGRxR6bioSIEcie9S0dj9KsV8N\n",
      "Downloading:  https://canvas.csun.edu/files/5667381/download?download_frd=1&verifier=YxESHaXWFnprTjMPZqczPcQqAoRI7rRODFQsT3Ce\n",
      "Downloading:  https://canvas.csun.edu/files/5666746/download?download_frd=1&verifier=4GYipyD8J98ycf4WZ4p37RAKTSCQadKrSapqkwCY\n",
      "Downloading:  https://canvas.csun.edu/files/5665119/download?download_frd=1&verifier=VBkyn7Mz1jIpb0vVz1bqonWZ0QkbELEqDWRspOfD\n",
      "Downloading:  https://canvas.csun.edu/files/5666734/download?download_frd=1&verifier=r6e7MxVYyOup2SRF69r2V5gGEEypVC9c1be5YKvB\n",
      "Downloading:  https://canvas.csun.edu/files/5656741/download?download_frd=1&verifier=Zp3lagAI64AipAHE1nBw1bbUNypCCqzMQh9bycXp\n",
      "Downloading:  https://canvas.csun.edu/files/5661743/download?download_frd=1&verifier=kfuEplLh4IEQM7ukyypelJp5x0BszeaZrL3up1D8\n",
      "Downloading:  https://canvas.csun.edu/files/5663813/download?download_frd=1&verifier=q1jIrRdZCtOYwvsjXG1YxH10cDQsgh0zWOk9T2cb\n",
      "Downloading:  https://canvas.csun.edu/files/5667222/download?download_frd=1&verifier=Bo127KA9XNOjpNMCnAKZodo46RXADS4MgDn9aIkx\n",
      "Downloading:  https://canvas.csun.edu/files/5665934/download?download_frd=1&verifier=7eC2sTrTOeydYgqtxIoWpZnsHVGbL9KPsOmcFZV6\n",
      "Downloading:  https://canvas.csun.edu/files/5665871/download?download_frd=1&verifier=bqgMQB8tXPtYexgkcwF6J0Ge80fgPXnpBD755dE4\n",
      "Downloading:  https://canvas.csun.edu/files/5667422/download?download_frd=1&verifier=HXvYKDBICWuqSbh1cOt1MY465hsHreGZwfhzijOa\n",
      "Downloading:  https://canvas.csun.edu/files/5667722/download?download_frd=1&verifier=QFWOOcktGnJ555HGqNEQoufCQkvNTvLcMTyHv782\n",
      "Downloading:  https://canvas.csun.edu/files/5665266/download?download_frd=1&verifier=7NtUCAJAVQ2Auc1XiWo9KCtjrHYoKqu2uVIeDWiU\n",
      "Downloading:  https://canvas.csun.edu/files/5640005/download?download_frd=1&verifier=VqcC5jfpHGoM7CQ3oI823T1TZJuRXLXsVmJJxVAX\n",
      "Downloading:  https://canvas.csun.edu/files/5656285/download?download_frd=1&verifier=O6XKxs1nVrCvmuyXUq7AIcyIuylrjcukDb0wcl43\n",
      "Downloading:  https://canvas.csun.edu/files/5666067/download?download_frd=1&verifier=KVz7H5UaetBdZ3Fi0wYrVDldXiI3xuc9gNCXDfc8\n",
      "Downloading:  https://canvas.csun.edu/files/5667023/download?download_frd=1&verifier=RgMcGZEZWoLc1eV3E6ERyXkzNNFpNKMFd7FtACtv\n",
      "Downloading:  https://canvas.csun.edu/files/5666112/download?download_frd=1&verifier=0u8IYkPGa449Ex9UveQFQpRcG7RxE9VDoe6BxyhN\n",
      "Downloading:  https://canvas.csun.edu/files/5664732/download?download_frd=1&verifier=LmjFLscEfMSGLbK7tiVRPvbrlGowoEWw4L9pVnhv\n",
      "Downloading:  https://canvas.csun.edu/files/5664196/download?download_frd=1&verifier=JWObKMrtyIo1TslqkB2BP6vWt8lwEEaQkApEKyLx\n",
      "Downloading:  https://canvas.csun.edu/files/5664718/download?download_frd=1&verifier=M35oZSInI0zgbJNz6RHQbMGW1VJ5FMeoGUayvpfy\n",
      "Downloading:  https://canvas.csun.edu/files/5660127/download?download_frd=1&verifier=LqbUIRRnvYfxQzbw6gEAWA1Z2mgEsPJh80tWYlBP\n",
      "Tentatively assigning credit to 52 submissions; no credit to 74 submissions.\n"
     ]
    }
   ],
   "source": [
    "results = []\n",
    "\n",
    "\n",
    "for course_id in environment.CONFIG.course_ids:\n",
    "    print('course', course_id)\n",
    "    to_grade = get_assignments_needing_grading(course_id)\n",
    "    \n",
    "    for name, assignment_id in to_grade:\n",
    "        store = DataStore(assignment_id=assignment_id, assignment_name=name, course_id=course_id)\n",
    "\n",
    "        print(\"Processing {}\".format(name))\n",
    "        # make folder\n",
    "        # download student submissions \n",
    "        response = PT.get_submissions(course_id, assignment_id)\n",
    "        print(\"{} responses received\".format(len(response)))\n",
    "        store.submissions = PT.process_response_without_saving_files(response)\n",
    "        # give credit for non-empty submissions\n",
    "        c = GT.determine_credit(store.submissions)\n",
    "        # stow the results in our data object\n",
    "        store.credit = c['credit']\n",
    "        store.no_credit = c['nocredit']\n",
    "        store.print_counts()\n",
    "        # Add the now full-of-data object to our results list\n",
    "        results.append(store)\n"
   ]
  },
  {
   "cell_type": "markdown",
   "metadata": {},
   "source": [
    "# Read student work and check that properly categorized"
   ]
  },
  {
   "cell_type": "code",
   "execution_count": 4,
   "metadata": {
    "ExecuteTime": {
     "end_time": "2019-02-02T02:46:07.075159Z",
     "start_time": "2019-02-02T02:46:07.065839Z"
    }
   },
   "outputs": [],
   "source": [
    "from ipywidgets import widgets\n",
    "from IPython.display import display\n",
    "\n",
    "def make_assignment_header(store):\n",
    "    \"\"\"Displays the header for each assignment\"\"\"\n",
    "    entry = \"\"\"\n",
    "    <h1>{}</h1>\n",
    "    <h2>Class id: {}</h2>\"\"\"\n",
    "    return display(widgets.HTML(entry.format(store.assignment_name, store.course_id)))\n",
    "\n",
    "\n",
    "def make_text_display(student_id, text):\n",
    "    \"\"\"Handles the formatting of the student's text\"\"\"\n",
    "    entry = \"\"\"\n",
    "          <div id='%s'>\n",
    "            <h3>%s</h3>\n",
    "            <p>\n",
    "                %s\n",
    "            </p>\n",
    "        </div>\"\"\"\n",
    "    e = entry % (student_id, student_id, text)\n",
    "    return widgets.HTML(e)\n",
    "\n",
    "def make_submission_output(text, student_id, credit_list):\n",
    "    \"\"\"Creates the display of the submitted text with a toggle button to \n",
    "    update whether the student receives credit \n",
    "    \"\"\"\n",
    "    bval = 'Credit' if student_id in credit_list else 'No credit'\n",
    "    credit_button = widgets.ToggleButtons(\n",
    "        options=['Credit', 'No credit'],\n",
    "        value=bval,\n",
    "        description='',\n",
    "        disabled=False\n",
    "    )\n",
    "    \n",
    "    ta = make_text_display(student_id, text)\n",
    "\n",
    "    def on_value_change(change):\n",
    "        \"\"\"The relevant callback\n",
    "        NB the use of scope to define student_id\"\"\"\n",
    "        v = change['new']\n",
    "        print(v, student_id)\n",
    "        try:\n",
    "            if v == 'Credit':\n",
    "                credit_list.append(student_id)\n",
    "            elif v == 'No credit':\n",
    "                credit_list.remove(student_id)\n",
    "        except ValueError:\n",
    "            pass\n",
    "\n",
    "    credit_button.observe(on_value_change, names='value')\n",
    "    display(widgets.VBox([ta, credit_button]))\n",
    "\n",
    "def make_consolidated_text_fields(store):\n",
    "    \"\"\"Displays each entry with a toggle to adjust whether the \n",
    "    student receives credit\"\"\"\n",
    "    for r in store.submissions:\n",
    "        make_submission_output(r['body'], r['student_id'], store.credit)"
   ]
  },
  {
   "cell_type": "code",
   "execution_count": null,
   "metadata": {
    "ExecuteTime": {
     "end_time": "2019-02-02T00:14:07.393841Z",
     "start_time": "2019-02-02T00:14:07.390867Z"
    }
   },
   "outputs": [],
   "source": [
    "test_results = [{'student_id' : i, 'body': 'Body text for student {}'.format(i)} for i in range(0,4)]\n",
    "\n",
    "# credit_list = [0, 2]\n",
    "\n",
    "# make_consolidated_text_fields(test_results, credit_list)"
   ]
  },
  {
   "cell_type": "code",
   "execution_count": 5,
   "metadata": {
    "ExecuteTime": {
     "end_time": "2019-02-02T02:46:17.477915Z",
     "start_time": "2019-02-02T02:46:11.136131Z"
    },
    "scrolled": false
   },
   "outputs": [
    {
     "data": {
      "application/vnd.jupyter.widget-view+json": {
       "model_id": "0a6a84b434f64d85bf9814353de33ef6",
       "version_major": 2,
       "version_minor": 0
      },
      "text/plain": [
       "HTML(value='\\n    <h1>Journal (week 1)</h1>\\n    <h2>Class id: 67531</h2>')"
      ]
     },
     "metadata": {},
     "output_type": "display_data"
    },
    {
     "data": {
      "application/vnd.jupyter.widget-view+json": {
       "model_id": "fe977924a3ee42e5aa8f9e76ccf330c0",
       "version_major": 2,
       "version_minor": 0
      },
      "text/plain": [
       "VBox(children=(HTML(value=\"\\n          <div id='23662'>\\n            <h3>23662</h3>\\n            <p>\\n        …"
      ]
     },
     "metadata": {},
     "output_type": "display_data"
    },
    {
     "data": {
      "application/vnd.jupyter.widget-view+json": {
       "model_id": "0747fa83c4a949a2ab19a803cc3ecf52",
       "version_major": 2,
       "version_minor": 0
      },
      "text/plain": [
       "VBox(children=(HTML(value=\"\\n          <div id='25782'>\\n            <h3>25782</h3>\\n            <p>\\n        …"
      ]
     },
     "metadata": {},
     "output_type": "display_data"
    },
    {
     "data": {
      "application/vnd.jupyter.widget-view+json": {
       "model_id": "14366ddcf3894794a4468b3081510a61",
       "version_major": 2,
       "version_minor": 0
      },
      "text/plain": [
       "VBox(children=(HTML(value=\"\\n          <div id='25976'>\\n            <h3>25976</h3>\\n            <p>\\n        …"
      ]
     },
     "metadata": {},
     "output_type": "display_data"
    },
    {
     "data": {
      "application/vnd.jupyter.widget-view+json": {
       "model_id": "721a2263ff4e4019bca5c29993eb32ae",
       "version_major": 2,
       "version_minor": 0
      },
      "text/plain": [
       "VBox(children=(HTML(value=\"\\n          <div id='27236'>\\n            <h3>27236</h3>\\n            <p>\\n        …"
      ]
     },
     "metadata": {},
     "output_type": "display_data"
    },
    {
     "data": {
      "application/vnd.jupyter.widget-view+json": {
       "model_id": "1241d953de6940908c72d8e88208d6b1",
       "version_major": 2,
       "version_minor": 0
      },
      "text/plain": [
       "VBox(children=(HTML(value=\"\\n          <div id='29492'>\\n            <h3>29492</h3>\\n            <p>\\n        …"
      ]
     },
     "metadata": {},
     "output_type": "display_data"
    },
    {
     "data": {
      "application/vnd.jupyter.widget-view+json": {
       "model_id": "ba4fef170cc4401dacc4cec9d338c4d7",
       "version_major": 2,
       "version_minor": 0
      },
      "text/plain": [
       "VBox(children=(HTML(value=\"\\n          <div id='30247'>\\n            <h3>30247</h3>\\n            <p>\\n        …"
      ]
     },
     "metadata": {},
     "output_type": "display_data"
    },
    {
     "data": {
      "application/vnd.jupyter.widget-view+json": {
       "model_id": "47a2e147e6dd4129948e1c7b6593d251",
       "version_major": 2,
       "version_minor": 0
      },
      "text/plain": [
       "VBox(children=(HTML(value=\"\\n          <div id='32695'>\\n            <h3>32695</h3>\\n            <p>\\n        …"
      ]
     },
     "metadata": {},
     "output_type": "display_data"
    },
    {
     "data": {
      "application/vnd.jupyter.widget-view+json": {
       "model_id": "efe84ceb0d514e96ae760a3f00e7cbf5",
       "version_major": 2,
       "version_minor": 0
      },
      "text/plain": [
       "VBox(children=(HTML(value=\"\\n          <div id='33575'>\\n            <h3>33575</h3>\\n            <p>\\n        …"
      ]
     },
     "metadata": {},
     "output_type": "display_data"
    },
    {
     "data": {
      "application/vnd.jupyter.widget-view+json": {
       "model_id": "d4003a35c38e40648c000a9dfc346623",
       "version_major": 2,
       "version_minor": 0
      },
      "text/plain": [
       "VBox(children=(HTML(value=\"\\n          <div id='36128'>\\n            <h3>36128</h3>\\n            <p>\\n        …"
      ]
     },
     "metadata": {},
     "output_type": "display_data"
    },
    {
     "data": {
      "application/vnd.jupyter.widget-view+json": {
       "model_id": "7fa70a4e77384c21ad30c9feda684806",
       "version_major": 2,
       "version_minor": 0
      },
      "text/plain": [
       "VBox(children=(HTML(value=\"\\n          <div id='36520'>\\n            <h3>36520</h3>\\n            <p>\\n        …"
      ]
     },
     "metadata": {},
     "output_type": "display_data"
    },
    {
     "data": {
      "application/vnd.jupyter.widget-view+json": {
       "model_id": "b97c28ec02fa489b9bfcdeafdfc12115",
       "version_major": 2,
       "version_minor": 0
      },
      "text/plain": [
       "VBox(children=(HTML(value=\"\\n          <div id='39746'>\\n            <h3>39746</h3>\\n            <p>\\n        …"
      ]
     },
     "metadata": {},
     "output_type": "display_data"
    },
    {
     "data": {
      "application/vnd.jupyter.widget-view+json": {
       "model_id": "eb491b81a2d04305bf3247052336a889",
       "version_major": 2,
       "version_minor": 0
      },
      "text/plain": [
       "VBox(children=(HTML(value=\"\\n          <div id='39892'>\\n            <h3>39892</h3>\\n            <p>\\n        …"
      ]
     },
     "metadata": {},
     "output_type": "display_data"
    },
    {
     "data": {
      "application/vnd.jupyter.widget-view+json": {
       "model_id": "126b25ebba314699a7e00f2b5ef8fcc8",
       "version_major": 2,
       "version_minor": 0
      },
      "text/plain": [
       "VBox(children=(HTML(value=\"\\n          <div id='40955'>\\n            <h3>40955</h3>\\n            <p>\\n        …"
      ]
     },
     "metadata": {},
     "output_type": "display_data"
    },
    {
     "data": {
      "application/vnd.jupyter.widget-view+json": {
       "model_id": "a5f8353eee1843fca7b571dac6d404b9",
       "version_major": 2,
       "version_minor": 0
      },
      "text/plain": [
       "VBox(children=(HTML(value=\"\\n          <div id='41592'>\\n            <h3>41592</h3>\\n            <p>\\n        …"
      ]
     },
     "metadata": {},
     "output_type": "display_data"
    },
    {
     "data": {
      "application/vnd.jupyter.widget-view+json": {
       "model_id": "391eb91a51b44f44b38271c8207585cc",
       "version_major": 2,
       "version_minor": 0
      },
      "text/plain": [
       "VBox(children=(HTML(value=\"\\n          <div id='41744'>\\n            <h3>41744</h3>\\n            <p>\\n        …"
      ]
     },
     "metadata": {},
     "output_type": "display_data"
    },
    {
     "data": {
      "application/vnd.jupyter.widget-view+json": {
       "model_id": "d5f569fb99de428491ae7c06daac4ba6",
       "version_major": 2,
       "version_minor": 0
      },
      "text/plain": [
       "VBox(children=(HTML(value=\"\\n          <div id='42021'>\\n            <h3>42021</h3>\\n            <p>\\n        …"
      ]
     },
     "metadata": {},
     "output_type": "display_data"
    },
    {
     "data": {
      "application/vnd.jupyter.widget-view+json": {
       "model_id": "d20ea090849c4844ab6a1578ca3c11f0",
       "version_major": 2,
       "version_minor": 0
      },
      "text/plain": [
       "VBox(children=(HTML(value=\"\\n          <div id='43060'>\\n            <h3>43060</h3>\\n            <p>\\n        …"
      ]
     },
     "metadata": {},
     "output_type": "display_data"
    },
    {
     "data": {
      "application/vnd.jupyter.widget-view+json": {
       "model_id": "96c2b8df32c842429150e4168a21a684",
       "version_major": 2,
       "version_minor": 0
      },
      "text/plain": [
       "VBox(children=(HTML(value=\"\\n          <div id='43081'>\\n            <h3>43081</h3>\\n            <p>\\n        …"
      ]
     },
     "metadata": {},
     "output_type": "display_data"
    },
    {
     "data": {
      "application/vnd.jupyter.widget-view+json": {
       "model_id": "46eee2a543f94b9bab2860f328d1cafd",
       "version_major": 2,
       "version_minor": 0
      },
      "text/plain": [
       "VBox(children=(HTML(value=\"\\n          <div id='44219'>\\n            <h3>44219</h3>\\n            <p>\\n        …"
      ]
     },
     "metadata": {},
     "output_type": "display_data"
    },
    {
     "data": {
      "application/vnd.jupyter.widget-view+json": {
       "model_id": "0a28909d79e34da0b06b46dc245bed0e",
       "version_major": 2,
       "version_minor": 0
      },
      "text/plain": [
       "VBox(children=(HTML(value=\"\\n          <div id='44270'>\\n            <h3>44270</h3>\\n            <p>\\n        …"
      ]
     },
     "metadata": {},
     "output_type": "display_data"
    },
    {
     "data": {
      "application/vnd.jupyter.widget-view+json": {
       "model_id": "9005cb843ca843269b29ebde730dcfd0",
       "version_major": 2,
       "version_minor": 0
      },
      "text/plain": [
       "VBox(children=(HTML(value=\"\\n          <div id='44323'>\\n            <h3>44323</h3>\\n            <p>\\n        …"
      ]
     },
     "metadata": {},
     "output_type": "display_data"
    },
    {
     "data": {
      "application/vnd.jupyter.widget-view+json": {
       "model_id": "10d8a89d74904b39a1566d98ee289f02",
       "version_major": 2,
       "version_minor": 0
      },
      "text/plain": [
       "VBox(children=(HTML(value=\"\\n          <div id='44360'>\\n            <h3>44360</h3>\\n            <p>\\n        …"
      ]
     },
     "metadata": {},
     "output_type": "display_data"
    },
    {
     "data": {
      "application/vnd.jupyter.widget-view+json": {
       "model_id": "c78e7d86d71844f28bc46efa6bcbb625",
       "version_major": 2,
       "version_minor": 0
      },
      "text/plain": [
       "VBox(children=(HTML(value=\"\\n          <div id='44922'>\\n            <h3>44922</h3>\\n            <p>\\n        …"
      ]
     },
     "metadata": {},
     "output_type": "display_data"
    },
    {
     "data": {
      "application/vnd.jupyter.widget-view+json": {
       "model_id": "179b6b115ea144298b009331fda6ab66",
       "version_major": 2,
       "version_minor": 0
      },
      "text/plain": [
       "VBox(children=(HTML(value=\"\\n          <div id='45005'>\\n            <h3>45005</h3>\\n            <p>\\n        …"
      ]
     },
     "metadata": {},
     "output_type": "display_data"
    },
    {
     "data": {
      "application/vnd.jupyter.widget-view+json": {
       "model_id": "10c45192727846eea881739c96dac0b9",
       "version_major": 2,
       "version_minor": 0
      },
      "text/plain": [
       "VBox(children=(HTML(value=\"\\n          <div id='45118'>\\n            <h3>45118</h3>\\n            <p>\\n        …"
      ]
     },
     "metadata": {},
     "output_type": "display_data"
    },
    {
     "data": {
      "application/vnd.jupyter.widget-view+json": {
       "model_id": "d474acd6ed044c0292d0c135e0023be4",
       "version_major": 2,
       "version_minor": 0
      },
      "text/plain": [
       "VBox(children=(HTML(value=\"\\n          <div id='45309'>\\n            <h3>45309</h3>\\n            <p>\\n        …"
      ]
     },
     "metadata": {},
     "output_type": "display_data"
    },
    {
     "data": {
      "application/vnd.jupyter.widget-view+json": {
       "model_id": "0c99f89e76a448ed88ea66829d9f7fd5",
       "version_major": 2,
       "version_minor": 0
      },
      "text/plain": [
       "VBox(children=(HTML(value=\"\\n          <div id='45429'>\\n            <h3>45429</h3>\\n            <p>\\n        …"
      ]
     },
     "metadata": {},
     "output_type": "display_data"
    },
    {
     "data": {
      "application/vnd.jupyter.widget-view+json": {
       "model_id": "82ee2dec06f444f188206e3d4d1a5fd9",
       "version_major": 2,
       "version_minor": 0
      },
      "text/plain": [
       "VBox(children=(HTML(value=\"\\n          <div id='45858'>\\n            <h3>45858</h3>\\n            <p>\\n        …"
      ]
     },
     "metadata": {},
     "output_type": "display_data"
    },
    {
     "data": {
      "application/vnd.jupyter.widget-view+json": {
       "model_id": "7ad5698314b34633aeb11f6ef19abc07",
       "version_major": 2,
       "version_minor": 0
      },
      "text/plain": [
       "VBox(children=(HTML(value=\"\\n          <div id='46048'>\\n            <h3>46048</h3>\\n            <p>\\n        …"
      ]
     },
     "metadata": {},
     "output_type": "display_data"
    },
    {
     "data": {
      "application/vnd.jupyter.widget-view+json": {
       "model_id": "f886bdbbf8e5490d829f6ee71aeb66b2",
       "version_major": 2,
       "version_minor": 0
      },
      "text/plain": [
       "VBox(children=(HTML(value='\\n          <div id=\\'46247\\'>\\n            <h3>46247</h3>\\n            <p>\\n      …"
      ]
     },
     "metadata": {},
     "output_type": "display_data"
    },
    {
     "data": {
      "application/vnd.jupyter.widget-view+json": {
       "model_id": "aa495b5192414f17982fea350827ab63",
       "version_major": 2,
       "version_minor": 0
      },
      "text/plain": [
       "VBox(children=(HTML(value=\"\\n          <div id='46335'>\\n            <h3>46335</h3>\\n            <p>\\n        …"
      ]
     },
     "metadata": {},
     "output_type": "display_data"
    },
    {
     "data": {
      "application/vnd.jupyter.widget-view+json": {
       "model_id": "e070b75b42d54a2e9cd7b81831d31880",
       "version_major": 2,
       "version_minor": 0
      },
      "text/plain": [
       "VBox(children=(HTML(value=\"\\n          <div id='46665'>\\n            <h3>46665</h3>\\n            <p>\\n        …"
      ]
     },
     "metadata": {},
     "output_type": "display_data"
    },
    {
     "data": {
      "application/vnd.jupyter.widget-view+json": {
       "model_id": "5f08fc6d35ca483bbea6d267686c38e1",
       "version_major": 2,
       "version_minor": 0
      },
      "text/plain": [
       "VBox(children=(HTML(value=\"\\n          <div id='46674'>\\n            <h3>46674</h3>\\n            <p>\\n        …"
      ]
     },
     "metadata": {},
     "output_type": "display_data"
    },
    {
     "data": {
      "application/vnd.jupyter.widget-view+json": {
       "model_id": "a2d153a144d6469d8f467c9fe891a8d9",
       "version_major": 2,
       "version_minor": 0
      },
      "text/plain": [
       "VBox(children=(HTML(value=\"\\n          <div id='46791'>\\n            <h3>46791</h3>\\n            <p>\\n        …"
      ]
     },
     "metadata": {},
     "output_type": "display_data"
    },
    {
     "data": {
      "application/vnd.jupyter.widget-view+json": {
       "model_id": "fb78bd728eae4146bac20e557da8ecfd",
       "version_major": 2,
       "version_minor": 0
      },
      "text/plain": [
       "VBox(children=(HTML(value=\"\\n          <div id='48809'>\\n            <h3>48809</h3>\\n            <p>\\n        …"
      ]
     },
     "metadata": {},
     "output_type": "display_data"
    },
    {
     "data": {
      "application/vnd.jupyter.widget-view+json": {
       "model_id": "0a303d4276934635a909cb6ce3f6841e",
       "version_major": 2,
       "version_minor": 0
      },
      "text/plain": [
       "VBox(children=(HTML(value=\"\\n          <div id='53606'>\\n            <h3>53606</h3>\\n            <p>\\n        …"
      ]
     },
     "metadata": {},
     "output_type": "display_data"
    },
    {
     "data": {
      "application/vnd.jupyter.widget-view+json": {
       "model_id": "aa7aa252cb4641e1964d7d04eb1a518c",
       "version_major": 2,
       "version_minor": 0
      },
      "text/plain": [
       "VBox(children=(HTML(value='\\n          <div id=\\'53979\\'>\\n            <h3>53979</h3>\\n            <p>\\n      …"
      ]
     },
     "metadata": {},
     "output_type": "display_data"
    },
    {
     "data": {
      "application/vnd.jupyter.widget-view+json": {
       "model_id": "d8506015c76345e29912b01e7b90f401",
       "version_major": 2,
       "version_minor": 0
      },
      "text/plain": [
       "VBox(children=(HTML(value='\\n          <div id=\\'54653\\'>\\n            <h3>54653</h3>\\n            <p>\\n      …"
      ]
     },
     "metadata": {},
     "output_type": "display_data"
    },
    {
     "data": {
      "application/vnd.jupyter.widget-view+json": {
       "model_id": "3d138344db774e008bbeddbe4bd2cd73",
       "version_major": 2,
       "version_minor": 0
      },
      "text/plain": [
       "VBox(children=(HTML(value=\"\\n          <div id='55013'>\\n            <h3>55013</h3>\\n            <p>\\n        …"
      ]
     },
     "metadata": {},
     "output_type": "display_data"
    },
    {
     "data": {
      "application/vnd.jupyter.widget-view+json": {
       "model_id": "e4d660662d9f4eaea34cd601e3ef9f94",
       "version_major": 2,
       "version_minor": 0
      },
      "text/plain": [
       "VBox(children=(HTML(value=\"\\n          <div id='55124'>\\n            <h3>55124</h3>\\n            <p>\\n        …"
      ]
     },
     "metadata": {},
     "output_type": "display_data"
    },
    {
     "data": {
      "application/vnd.jupyter.widget-view+json": {
       "model_id": "bedbf307d9424756bd6d8356a1d11b00",
       "version_major": 2,
       "version_minor": 0
      },
      "text/plain": [
       "VBox(children=(HTML(value=\"\\n          <div id='55607'>\\n            <h3>55607</h3>\\n            <p>\\n        …"
      ]
     },
     "metadata": {},
     "output_type": "display_data"
    },
    {
     "data": {
      "application/vnd.jupyter.widget-view+json": {
       "model_id": "d53e6ae5d63446db9da7375d9891b020",
       "version_major": 2,
       "version_minor": 0
      },
      "text/plain": [
       "VBox(children=(HTML(value=\"\\n          <div id='56114'>\\n            <h3>56114</h3>\\n            <p>\\n        …"
      ]
     },
     "metadata": {},
     "output_type": "display_data"
    },
    {
     "data": {
      "application/vnd.jupyter.widget-view+json": {
       "model_id": "34bd0a4e85404f1784f7be8da0b46278",
       "version_major": 2,
       "version_minor": 0
      },
      "text/plain": [
       "VBox(children=(HTML(value=\"\\n          <div id='56769'>\\n            <h3>56769</h3>\\n            <p>\\n        …"
      ]
     },
     "metadata": {},
     "output_type": "display_data"
    },
    {
     "data": {
      "application/vnd.jupyter.widget-view+json": {
       "model_id": "d356d67b18404326b173986b0489a6e1",
       "version_major": 2,
       "version_minor": 0
      },
      "text/plain": [
       "VBox(children=(HTML(value=\"\\n          <div id='57719'>\\n            <h3>57719</h3>\\n            <p>\\n        …"
      ]
     },
     "metadata": {},
     "output_type": "display_data"
    },
    {
     "data": {
      "application/vnd.jupyter.widget-view+json": {
       "model_id": "a40341030ce8424da0209320bdd8044a",
       "version_major": 2,
       "version_minor": 0
      },
      "text/plain": [
       "VBox(children=(HTML(value=\"\\n          <div id='58493'>\\n            <h3>58493</h3>\\n            <p>\\n        …"
      ]
     },
     "metadata": {},
     "output_type": "display_data"
    },
    {
     "data": {
      "application/vnd.jupyter.widget-view+json": {
       "model_id": "edcaa7b96c7f41c3b7b559660376c2cd",
       "version_major": 2,
       "version_minor": 0
      },
      "text/plain": [
       "VBox(children=(HTML(value=\"\\n          <div id='59446'>\\n            <h3>59446</h3>\\n            <p>\\n        …"
      ]
     },
     "metadata": {},
     "output_type": "display_data"
    },
    {
     "data": {
      "application/vnd.jupyter.widget-view+json": {
       "model_id": "9d2e9ca10c1e4b3e843069915fe34fe3",
       "version_major": 2,
       "version_minor": 0
      },
      "text/plain": [
       "VBox(children=(HTML(value=\"\\n          <div id='60229'>\\n            <h3>60229</h3>\\n            <p>\\n        …"
      ]
     },
     "metadata": {},
     "output_type": "display_data"
    },
    {
     "data": {
      "application/vnd.jupyter.widget-view+json": {
       "model_id": "b0ffebf593cd4c238527e2eb99b20d6b",
       "version_major": 2,
       "version_minor": 0
      },
      "text/plain": [
       "VBox(children=(HTML(value='\\n          <div id=\\'60280\\'>\\n            <h3>60280</h3>\\n            <p>\\n      …"
      ]
     },
     "metadata": {},
     "output_type": "display_data"
    },
    {
     "data": {
      "application/vnd.jupyter.widget-view+json": {
       "model_id": "b96572b1f532485f9a561f2ba291c7a1",
       "version_major": 2,
       "version_minor": 0
      },
      "text/plain": [
       "VBox(children=(HTML(value=\"\\n          <div id='61109'>\\n            <h3>61109</h3>\\n            <p>\\n        …"
      ]
     },
     "metadata": {},
     "output_type": "display_data"
    },
    {
     "data": {
      "application/vnd.jupyter.widget-view+json": {
       "model_id": "64cf95b7c16f4fbf97d4c99aaf734c73",
       "version_major": 2,
       "version_minor": 0
      },
      "text/plain": [
       "VBox(children=(HTML(value=\"\\n          <div id='62062'>\\n            <h3>62062</h3>\\n            <p>\\n        …"
      ]
     },
     "metadata": {},
     "output_type": "display_data"
    },
    {
     "data": {
      "application/vnd.jupyter.widget-view+json": {
       "model_id": "9ceda0ac3b77465497e80e1ee53d43b5",
       "version_major": 2,
       "version_minor": 0
      },
      "text/plain": [
       "VBox(children=(HTML(value=\"\\n          <div id='63120'>\\n            <h3>63120</h3>\\n            <p>\\n        …"
      ]
     },
     "metadata": {},
     "output_type": "display_data"
    },
    {
     "data": {
      "application/vnd.jupyter.widget-view+json": {
       "model_id": "5a9a7274965643cf87f26ab582fc0ce0",
       "version_major": 2,
       "version_minor": 0
      },
      "text/plain": [
       "VBox(children=(HTML(value=\"\\n          <div id='63474'>\\n            <h3>63474</h3>\\n            <p>\\n        …"
      ]
     },
     "metadata": {},
     "output_type": "display_data"
    },
    {
     "data": {
      "application/vnd.jupyter.widget-view+json": {
       "model_id": "f4a0db9d43a1421ca1ccd6971df28c76",
       "version_major": 2,
       "version_minor": 0
      },
      "text/plain": [
       "VBox(children=(HTML(value='\\n          <div id=\\'64127\\'>\\n            <h3>64127</h3>\\n            <p>\\n      …"
      ]
     },
     "metadata": {},
     "output_type": "display_data"
    },
    {
     "data": {
      "application/vnd.jupyter.widget-view+json": {
       "model_id": "37806eef95fd43da9c259115f46182c3",
       "version_major": 2,
       "version_minor": 0
      },
      "text/plain": [
       "VBox(children=(HTML(value=\"\\n          <div id='65664'>\\n            <h3>65664</h3>\\n            <p>\\n        …"
      ]
     },
     "metadata": {},
     "output_type": "display_data"
    },
    {
     "data": {
      "application/vnd.jupyter.widget-view+json": {
       "model_id": "80b16c0c10544f6c897aafee8ffdbd4e",
       "version_major": 2,
       "version_minor": 0
      },
      "text/plain": [
       "VBox(children=(HTML(value=\"\\n          <div id='66185'>\\n            <h3>66185</h3>\\n            <p>\\n        …"
      ]
     },
     "metadata": {},
     "output_type": "display_data"
    },
    {
     "data": {
      "application/vnd.jupyter.widget-view+json": {
       "model_id": "5193890c08494cf8b2dbd754111a296d",
       "version_major": 2,
       "version_minor": 0
      },
      "text/plain": [
       "VBox(children=(HTML(value=\"\\n          <div id='66972'>\\n            <h3>66972</h3>\\n            <p>\\n        …"
      ]
     },
     "metadata": {},
     "output_type": "display_data"
    },
    {
     "data": {
      "application/vnd.jupyter.widget-view+json": {
       "model_id": "be317b0932654b4780bd140b30f3b821",
       "version_major": 2,
       "version_minor": 0
      },
      "text/plain": [
       "VBox(children=(HTML(value=\"\\n          <div id='68824'>\\n            <h3>68824</h3>\\n            <p>\\n        …"
      ]
     },
     "metadata": {},
     "output_type": "display_data"
    },
    {
     "data": {
      "application/vnd.jupyter.widget-view+json": {
       "model_id": "31d3c187d5944160bd546a4417f77f8a",
       "version_major": 2,
       "version_minor": 0
      },
      "text/plain": [
       "VBox(children=(HTML(value=\"\\n          <div id='69610'>\\n            <h3>69610</h3>\\n            <p>\\n        …"
      ]
     },
     "metadata": {},
     "output_type": "display_data"
    },
    {
     "data": {
      "application/vnd.jupyter.widget-view+json": {
       "model_id": "b4727be0dddb47599404530a1257231e",
       "version_major": 2,
       "version_minor": 0
      },
      "text/plain": [
       "VBox(children=(HTML(value=\"\\n          <div id='70933'>\\n            <h3>70933</h3>\\n            <p>\\n        …"
      ]
     },
     "metadata": {},
     "output_type": "display_data"
    },
    {
     "data": {
      "application/vnd.jupyter.widget-view+json": {
       "model_id": "7e45a67a1dc342ebaeed4692896b5ffe",
       "version_major": 2,
       "version_minor": 0
      },
      "text/plain": [
       "VBox(children=(HTML(value=\"\\n          <div id='71111'>\\n            <h3>71111</h3>\\n            <p>\\n        …"
      ]
     },
     "metadata": {},
     "output_type": "display_data"
    },
    {
     "data": {
      "application/vnd.jupyter.widget-view+json": {
       "model_id": "0e7015e71b644d94b394513455b4e52f",
       "version_major": 2,
       "version_minor": 0
      },
      "text/plain": [
       "VBox(children=(HTML(value=\"\\n          <div id='71829'>\\n            <h3>71829</h3>\\n            <p>\\n        …"
      ]
     },
     "metadata": {},
     "output_type": "display_data"
    },
    {
     "data": {
      "application/vnd.jupyter.widget-view+json": {
       "model_id": "6ff98913179246db852c3776e6c5845e",
       "version_major": 2,
       "version_minor": 0
      },
      "text/plain": [
       "VBox(children=(HTML(value=\"\\n          <div id='73208'>\\n            <h3>73208</h3>\\n            <p>\\n        …"
      ]
     },
     "metadata": {},
     "output_type": "display_data"
    },
    {
     "data": {
      "application/vnd.jupyter.widget-view+json": {
       "model_id": "15ffa9f9d27d4517971e00a0a4bb81b1",
       "version_major": 2,
       "version_minor": 0
      },
      "text/plain": [
       "VBox(children=(HTML(value=\"\\n          <div id='73659'>\\n            <h3>73659</h3>\\n            <p>\\n        …"
      ]
     },
     "metadata": {},
     "output_type": "display_data"
    },
    {
     "data": {
      "application/vnd.jupyter.widget-view+json": {
       "model_id": "0d2180ddcea2430b92679ac949814f52",
       "version_major": 2,
       "version_minor": 0
      },
      "text/plain": [
       "VBox(children=(HTML(value=\"\\n          <div id='74473'>\\n            <h3>74473</h3>\\n            <p>\\n        …"
      ]
     },
     "metadata": {},
     "output_type": "display_data"
    },
    {
     "data": {
      "application/vnd.jupyter.widget-view+json": {
       "model_id": "dd9e45c9735046ff92debf1585cbe526",
       "version_major": 2,
       "version_minor": 0
      },
      "text/plain": [
       "VBox(children=(HTML(value=\"\\n          <div id='75034'>\\n            <h3>75034</h3>\\n            <p>\\n        …"
      ]
     },
     "metadata": {},
     "output_type": "display_data"
    },
    {
     "data": {
      "application/vnd.jupyter.widget-view+json": {
       "model_id": "5f8ac0568a0649319e61384b2abc0a16",
       "version_major": 2,
       "version_minor": 0
      },
      "text/plain": [
       "VBox(children=(HTML(value=\"\\n          <div id='75670'>\\n            <h3>75670</h3>\\n            <p>\\n        …"
      ]
     },
     "metadata": {},
     "output_type": "display_data"
    },
    {
     "data": {
      "application/vnd.jupyter.widget-view+json": {
       "model_id": "9c59c08d61d24249876781bf5ecfd9a3",
       "version_major": 2,
       "version_minor": 0
      },
      "text/plain": [
       "VBox(children=(HTML(value=\"\\n          <div id='76748'>\\n            <h3>76748</h3>\\n            <p>\\n        …"
      ]
     },
     "metadata": {},
     "output_type": "display_data"
    },
    {
     "data": {
      "application/vnd.jupyter.widget-view+json": {
       "model_id": "f629aa7d003742d68d4129a6400a6a73",
       "version_major": 2,
       "version_minor": 0
      },
      "text/plain": [
       "VBox(children=(HTML(value=\"\\n          <div id='77579'>\\n            <h3>77579</h3>\\n            <p>\\n        …"
      ]
     },
     "metadata": {},
     "output_type": "display_data"
    },
    {
     "data": {
      "application/vnd.jupyter.widget-view+json": {
       "model_id": "8d515b9d3ca941a0a1f784a4c3925049",
       "version_major": 2,
       "version_minor": 0
      },
      "text/plain": [
       "VBox(children=(HTML(value=\"\\n          <div id='77598'>\\n            <h3>77598</h3>\\n            <p>\\n        …"
      ]
     },
     "metadata": {},
     "output_type": "display_data"
    },
    {
     "data": {
      "application/vnd.jupyter.widget-view+json": {
       "model_id": "30f17c9de9f941168f4cc9917eee850d",
       "version_major": 2,
       "version_minor": 0
      },
      "text/plain": [
       "VBox(children=(HTML(value=\"\\n          <div id='79239'>\\n            <h3>79239</h3>\\n            <p>\\n        …"
      ]
     },
     "metadata": {},
     "output_type": "display_data"
    },
    {
     "data": {
      "application/vnd.jupyter.widget-view+json": {
       "model_id": "d48c42a691204292b0e156b3fb930536",
       "version_major": 2,
       "version_minor": 0
      },
      "text/plain": [
       "VBox(children=(HTML(value=\"\\n          <div id='79633'>\\n            <h3>79633</h3>\\n            <p>\\n        …"
      ]
     },
     "metadata": {},
     "output_type": "display_data"
    },
    {
     "data": {
      "application/vnd.jupyter.widget-view+json": {
       "model_id": "8bb89b4c470a42e89e594a51e3e233dc",
       "version_major": 2,
       "version_minor": 0
      },
      "text/plain": [
       "VBox(children=(HTML(value=\"\\n          <div id='82806'>\\n            <h3>82806</h3>\\n            <p>\\n        …"
      ]
     },
     "metadata": {},
     "output_type": "display_data"
    },
    {
     "data": {
      "application/vnd.jupyter.widget-view+json": {
       "model_id": "ec954a8790eb40229fd9feeda735a469",
       "version_major": 2,
       "version_minor": 0
      },
      "text/plain": [
       "VBox(children=(HTML(value=\"\\n          <div id='83933'>\\n            <h3>83933</h3>\\n            <p>\\n        …"
      ]
     },
     "metadata": {},
     "output_type": "display_data"
    },
    {
     "data": {
      "application/vnd.jupyter.widget-view+json": {
       "model_id": "a714be5cd70142a58f1e3ed5ae0b9c23",
       "version_major": 2,
       "version_minor": 0
      },
      "text/plain": [
       "VBox(children=(HTML(value=\"\\n          <div id='87439'>\\n            <h3>87439</h3>\\n            <p>\\n        …"
      ]
     },
     "metadata": {},
     "output_type": "display_data"
    },
    {
     "data": {
      "application/vnd.jupyter.widget-view+json": {
       "model_id": "7eb8466be7c94bad9872eed32de1715f",
       "version_major": 2,
       "version_minor": 0
      },
      "text/plain": [
       "VBox(children=(HTML(value=\"\\n          <div id='91143'>\\n            <h3>91143</h3>\\n            <p>\\n        …"
      ]
     },
     "metadata": {},
     "output_type": "display_data"
    },
    {
     "data": {
      "application/vnd.jupyter.widget-view+json": {
       "model_id": "938bdfcc0e0b4bc88f8e413796c046aa",
       "version_major": 2,
       "version_minor": 0
      },
      "text/plain": [
       "VBox(children=(HTML(value='\\n          <div id=\\'91218\\'>\\n            <h3>91218</h3>\\n            <p>\\n      …"
      ]
     },
     "metadata": {},
     "output_type": "display_data"
    },
    {
     "data": {
      "application/vnd.jupyter.widget-view+json": {
       "model_id": "4dedf1077a404fbbb2b591967a14478c",
       "version_major": 2,
       "version_minor": 0
      },
      "text/plain": [
       "VBox(children=(HTML(value='\\n          <div id=\\'91254\\'>\\n            <h3>91254</h3>\\n            <p>\\n      …"
      ]
     },
     "metadata": {},
     "output_type": "display_data"
    },
    {
     "data": {
      "application/vnd.jupyter.widget-view+json": {
       "model_id": "474ab01b3b614005a78b455d3d64cb99",
       "version_major": 2,
       "version_minor": 0
      },
      "text/plain": [
       "VBox(children=(HTML(value=\"\\n          <div id='91448'>\\n            <h3>91448</h3>\\n            <p>\\n        …"
      ]
     },
     "metadata": {},
     "output_type": "display_data"
    },
    {
     "data": {
      "application/vnd.jupyter.widget-view+json": {
       "model_id": "ec359031ff8f4fe6b4369feb3fdbe250",
       "version_major": 2,
       "version_minor": 0
      },
      "text/plain": [
       "VBox(children=(HTML(value=\"\\n          <div id='91772'>\\n            <h3>91772</h3>\\n            <p>\\n        …"
      ]
     },
     "metadata": {},
     "output_type": "display_data"
    },
    {
     "data": {
      "application/vnd.jupyter.widget-view+json": {
       "model_id": "fc26cc0269ae406a82f3e8450393a231",
       "version_major": 2,
       "version_minor": 0
      },
      "text/plain": [
       "VBox(children=(HTML(value=\"\\n          <div id='92202'>\\n            <h3>92202</h3>\\n            <p>\\n        …"
      ]
     },
     "metadata": {},
     "output_type": "display_data"
    },
    {
     "data": {
      "application/vnd.jupyter.widget-view+json": {
       "model_id": "a75436463d6742c48991ff137340e150",
       "version_major": 2,
       "version_minor": 0
      },
      "text/plain": [
       "VBox(children=(HTML(value=\"\\n          <div id='92575'>\\n            <h3>92575</h3>\\n            <p>\\n        …"
      ]
     },
     "metadata": {},
     "output_type": "display_data"
    },
    {
     "data": {
      "application/vnd.jupyter.widget-view+json": {
       "model_id": "3371a020bbad4ef6acfcf699c843ccd5",
       "version_major": 2,
       "version_minor": 0
      },
      "text/plain": [
       "VBox(children=(HTML(value=\"\\n          <div id='93155'>\\n            <h3>93155</h3>\\n            <p>\\n        …"
      ]
     },
     "metadata": {},
     "output_type": "display_data"
    },
    {
     "data": {
      "application/vnd.jupyter.widget-view+json": {
       "model_id": "f5f69cfe6f614d6281bbd19de5360ac6",
       "version_major": 2,
       "version_minor": 0
      },
      "text/plain": [
       "VBox(children=(HTML(value=\"\\n          <div id='93764'>\\n            <h3>93764</h3>\\n            <p>\\n        …"
      ]
     },
     "metadata": {},
     "output_type": "display_data"
    },
    {
     "data": {
      "application/vnd.jupyter.widget-view+json": {
       "model_id": "25b469d1a48f4564be1df6383df1c74d",
       "version_major": 2,
       "version_minor": 0
      },
      "text/plain": [
       "VBox(children=(HTML(value=\"\\n          <div id='94263'>\\n            <h3>94263</h3>\\n            <p>\\n        …"
      ]
     },
     "metadata": {},
     "output_type": "display_data"
    },
    {
     "data": {
      "application/vnd.jupyter.widget-view+json": {
       "model_id": "d993e9b5da64479386f25bc352b0039b",
       "version_major": 2,
       "version_minor": 0
      },
      "text/plain": [
       "VBox(children=(HTML(value=\"\\n          <div id='94809'>\\n            <h3>94809</h3>\\n            <p>\\n        …"
      ]
     },
     "metadata": {},
     "output_type": "display_data"
    },
    {
     "data": {
      "application/vnd.jupyter.widget-view+json": {
       "model_id": "752be3709b594a47b68770e56ce3aa9f",
       "version_major": 2,
       "version_minor": 0
      },
      "text/plain": [
       "VBox(children=(HTML(value=\"\\n          <div id='95655'>\\n            <h3>95655</h3>\\n            <p>\\n        …"
      ]
     },
     "metadata": {},
     "output_type": "display_data"
    },
    {
     "data": {
      "application/vnd.jupyter.widget-view+json": {
       "model_id": "7edd90c41ac74013893d2067adfd0a48",
       "version_major": 2,
       "version_minor": 0
      },
      "text/plain": [
       "VBox(children=(HTML(value=\"\\n          <div id='95939'>\\n            <h3>95939</h3>\\n            <p>\\n        …"
      ]
     },
     "metadata": {},
     "output_type": "display_data"
    },
    {
     "data": {
      "application/vnd.jupyter.widget-view+json": {
       "model_id": "c8d1122c85354b6b8474e28351ff26cc",
       "version_major": 2,
       "version_minor": 0
      },
      "text/plain": [
       "VBox(children=(HTML(value=\"\\n          <div id='96025'>\\n            <h3>96025</h3>\\n            <p>\\n        …"
      ]
     },
     "metadata": {},
     "output_type": "display_data"
    },
    {
     "data": {
      "application/vnd.jupyter.widget-view+json": {
       "model_id": "d874f1015dd047e7be0a70726df3ea15",
       "version_major": 2,
       "version_minor": 0
      },
      "text/plain": [
       "VBox(children=(HTML(value=\"\\n          <div id='97127'>\\n            <h3>97127</h3>\\n            <p>\\n        …"
      ]
     },
     "metadata": {},
     "output_type": "display_data"
    },
    {
     "data": {
      "application/vnd.jupyter.widget-view+json": {
       "model_id": "b63ebdf956564da8bf07b5e20b4e2bb6",
       "version_major": 2,
       "version_minor": 0
      },
      "text/plain": [
       "VBox(children=(HTML(value=\"\\n          <div id='97360'>\\n            <h3>97360</h3>\\n            <p>\\n        …"
      ]
     },
     "metadata": {},
     "output_type": "display_data"
    },
    {
     "data": {
      "application/vnd.jupyter.widget-view+json": {
       "model_id": "7caa4970b208455883def74fc40824ad",
       "version_major": 2,
       "version_minor": 0
      },
      "text/plain": [
       "VBox(children=(HTML(value='\\n          <div id=\\'102818\\'>\\n            <h3>102818</h3>\\n            <p>\\n    …"
      ]
     },
     "metadata": {},
     "output_type": "display_data"
    },
    {
     "data": {
      "application/vnd.jupyter.widget-view+json": {
       "model_id": "2878d6db341f4cd9b275b191cfe1d434",
       "version_major": 2,
       "version_minor": 0
      },
      "text/plain": [
       "VBox(children=(HTML(value=\"\\n          <div id='103134'>\\n            <h3>103134</h3>\\n            <p>\\n      …"
      ]
     },
     "metadata": {},
     "output_type": "display_data"
    },
    {
     "data": {
      "application/vnd.jupyter.widget-view+json": {
       "model_id": "496849b42abc4632bc13abc78ec6650a",
       "version_major": 2,
       "version_minor": 0
      },
      "text/plain": [
       "VBox(children=(HTML(value=\"\\n          <div id='104007'>\\n            <h3>104007</h3>\\n            <p>\\n      …"
      ]
     },
     "metadata": {},
     "output_type": "display_data"
    },
    {
     "data": {
      "application/vnd.jupyter.widget-view+json": {
       "model_id": "20d9e282550347c7bfd02e3a771ff0da",
       "version_major": 2,
       "version_minor": 0
      },
      "text/plain": [
       "VBox(children=(HTML(value=\"\\n          <div id='104489'>\\n            <h3>104489</h3>\\n            <p>\\n      …"
      ]
     },
     "metadata": {},
     "output_type": "display_data"
    },
    {
     "data": {
      "application/vnd.jupyter.widget-view+json": {
       "model_id": "5a3259f15aac447dbd87f734dee2cae2",
       "version_major": 2,
       "version_minor": 0
      },
      "text/plain": [
       "VBox(children=(HTML(value=\"\\n          <div id='109338'>\\n            <h3>109338</h3>\\n            <p>\\n      …"
      ]
     },
     "metadata": {},
     "output_type": "display_data"
    },
    {
     "data": {
      "application/vnd.jupyter.widget-view+json": {
       "model_id": "ca92827301e3490d94bff14119e947a5",
       "version_major": 2,
       "version_minor": 0
      },
      "text/plain": [
       "VBox(children=(HTML(value=\"\\n          <div id='110594'>\\n            <h3>110594</h3>\\n            <p>\\n      …"
      ]
     },
     "metadata": {},
     "output_type": "display_data"
    },
    {
     "data": {
      "application/vnd.jupyter.widget-view+json": {
       "model_id": "66481d765b6546ae8ae9edf0be727e1f",
       "version_major": 2,
       "version_minor": 0
      },
      "text/plain": [
       "VBox(children=(HTML(value=\"\\n          <div id='112226'>\\n            <h3>112226</h3>\\n            <p>\\n      …"
      ]
     },
     "metadata": {},
     "output_type": "display_data"
    },
    {
     "data": {
      "application/vnd.jupyter.widget-view+json": {
       "model_id": "a45455f4ec7441ffa7ed487a9607e176",
       "version_major": 2,
       "version_minor": 0
      },
      "text/plain": [
       "VBox(children=(HTML(value='\\n          <div id=\\'112933\\'>\\n            <h3>112933</h3>\\n            <p>\\n    …"
      ]
     },
     "metadata": {},
     "output_type": "display_data"
    },
    {
     "data": {
      "application/vnd.jupyter.widget-view+json": {
       "model_id": "7afce0d6b9ea493494be7e0af61fd223",
       "version_major": 2,
       "version_minor": 0
      },
      "text/plain": [
       "VBox(children=(HTML(value=\"\\n          <div id='113251'>\\n            <h3>113251</h3>\\n            <p>\\n      …"
      ]
     },
     "metadata": {},
     "output_type": "display_data"
    },
    {
     "data": {
      "application/vnd.jupyter.widget-view+json": {
       "model_id": "321ba80413b34f858ed84c20d63f3d44",
       "version_major": 2,
       "version_minor": 0
      },
      "text/plain": [
       "VBox(children=(HTML(value=\"\\n          <div id='113403'>\\n            <h3>113403</h3>\\n            <p>\\n      …"
      ]
     },
     "metadata": {},
     "output_type": "display_data"
    },
    {
     "data": {
      "application/vnd.jupyter.widget-view+json": {
       "model_id": "af8a0ec1cab64b39a9048aaf4da4fc0e",
       "version_major": 2,
       "version_minor": 0
      },
      "text/plain": [
       "VBox(children=(HTML(value=\"\\n          <div id='113438'>\\n            <h3>113438</h3>\\n            <p>\\n      …"
      ]
     },
     "metadata": {},
     "output_type": "display_data"
    },
    {
     "data": {
      "application/vnd.jupyter.widget-view+json": {
       "model_id": "86352c7ce28a457d8ea1cd625e91766a",
       "version_major": 2,
       "version_minor": 0
      },
      "text/plain": [
       "VBox(children=(HTML(value=\"\\n          <div id='113464'>\\n            <h3>113464</h3>\\n            <p>\\n      …"
      ]
     },
     "metadata": {},
     "output_type": "display_data"
    },
    {
     "data": {
      "application/vnd.jupyter.widget-view+json": {
       "model_id": "5145b51a2c36422b9bc67ec1ee4cb5d6",
       "version_major": 2,
       "version_minor": 0
      },
      "text/plain": [
       "VBox(children=(HTML(value=\"\\n          <div id='114183'>\\n            <h3>114183</h3>\\n            <p>\\n      …"
      ]
     },
     "metadata": {},
     "output_type": "display_data"
    },
    {
     "data": {
      "application/vnd.jupyter.widget-view+json": {
       "model_id": "6439a0ba68fa4542965e023e44ecdcf4",
       "version_major": 2,
       "version_minor": 0
      },
      "text/plain": [
       "VBox(children=(HTML(value=\"\\n          <div id='114226'>\\n            <h3>114226</h3>\\n            <p>\\n      …"
      ]
     },
     "metadata": {},
     "output_type": "display_data"
    },
    {
     "data": {
      "application/vnd.jupyter.widget-view+json": {
       "model_id": "8611a23e1ba446a08fa565471343374a",
       "version_major": 2,
       "version_minor": 0
      },
      "text/plain": [
       "VBox(children=(HTML(value=\"\\n          <div id='114622'>\\n            <h3>114622</h3>\\n            <p>\\n      …"
      ]
     },
     "metadata": {},
     "output_type": "display_data"
    },
    {
     "data": {
      "application/vnd.jupyter.widget-view+json": {
       "model_id": "9fd50cb84f0a484eada7d30c4e4ef453",
       "version_major": 2,
       "version_minor": 0
      },
      "text/plain": [
       "VBox(children=(HTML(value=\"\\n          <div id='114729'>\\n            <h3>114729</h3>\\n            <p>\\n      …"
      ]
     },
     "metadata": {},
     "output_type": "display_data"
    },
    {
     "data": {
      "application/vnd.jupyter.widget-view+json": {
       "model_id": "e2fe6f04879445f19bc07d2692e8f7ec",
       "version_major": 2,
       "version_minor": 0
      },
      "text/plain": [
       "VBox(children=(HTML(value=\"\\n          <div id='114776'>\\n            <h3>114776</h3>\\n            <p>\\n      …"
      ]
     },
     "metadata": {},
     "output_type": "display_data"
    },
    {
     "data": {
      "application/vnd.jupyter.widget-view+json": {
       "model_id": "469d8c3ed2a7429d899145ab896425fa",
       "version_major": 2,
       "version_minor": 0
      },
      "text/plain": [
       "VBox(children=(HTML(value=\"\\n          <div id='115364'>\\n            <h3>115364</h3>\\n            <p>\\n      …"
      ]
     },
     "metadata": {},
     "output_type": "display_data"
    },
    {
     "data": {
      "application/vnd.jupyter.widget-view+json": {
       "model_id": "be7c872d889143eabd5280b2a9faa39e",
       "version_major": 2,
       "version_minor": 0
      },
      "text/plain": [
       "VBox(children=(HTML(value=\"\\n          <div id='115548'>\\n            <h3>115548</h3>\\n            <p>\\n      …"
      ]
     },
     "metadata": {},
     "output_type": "display_data"
    },
    {
     "data": {
      "application/vnd.jupyter.widget-view+json": {
       "model_id": "13d96e388f7945caaaaf564a42770673",
       "version_major": 2,
       "version_minor": 0
      },
      "text/plain": [
       "VBox(children=(HTML(value=\"\\n          <div id='115796'>\\n            <h3>115796</h3>\\n            <p>\\n      …"
      ]
     },
     "metadata": {},
     "output_type": "display_data"
    },
    {
     "data": {
      "application/vnd.jupyter.widget-view+json": {
       "model_id": "b4df923227de46c48cab7c61accd770e",
       "version_major": 2,
       "version_minor": 0
      },
      "text/plain": [
       "VBox(children=(HTML(value=\"\\n          <div id='116871'>\\n            <h3>116871</h3>\\n            <p>\\n      …"
      ]
     },
     "metadata": {},
     "output_type": "display_data"
    },
    {
     "data": {
      "application/vnd.jupyter.widget-view+json": {
       "model_id": "c3278c820ac64be9ac3ad8323283b76c",
       "version_major": 2,
       "version_minor": 0
      },
      "text/plain": [
       "VBox(children=(HTML(value=\"\\n          <div id='117330'>\\n            <h3>117330</h3>\\n            <p>\\n      …"
      ]
     },
     "metadata": {},
     "output_type": "display_data"
    },
    {
     "data": {
      "application/vnd.jupyter.widget-view+json": {
       "model_id": "082907b69c9b4862863b95c98155cb1f",
       "version_major": 2,
       "version_minor": 0
      },
      "text/plain": [
       "VBox(children=(HTML(value=\"\\n          <div id='117483'>\\n            <h3>117483</h3>\\n            <p>\\n      …"
      ]
     },
     "metadata": {},
     "output_type": "display_data"
    },
    {
     "data": {
      "application/vnd.jupyter.widget-view+json": {
       "model_id": "a3f5ea6575ef44d990921223c9896ebe",
       "version_major": 2,
       "version_minor": 0
      },
      "text/plain": [
       "VBox(children=(HTML(value=\"\\n          <div id='117494'>\\n            <h3>117494</h3>\\n            <p>\\n      …"
      ]
     },
     "metadata": {},
     "output_type": "display_data"
    },
    {
     "data": {
      "application/vnd.jupyter.widget-view+json": {
       "model_id": "e820a1ddbf3f456ab1d6f84572c16f64",
       "version_major": 2,
       "version_minor": 0
      },
      "text/plain": [
       "VBox(children=(HTML(value=\"\\n          <div id='117821'>\\n            <h3>117821</h3>\\n            <p>\\n      …"
      ]
     },
     "metadata": {},
     "output_type": "display_data"
    },
    {
     "data": {
      "application/vnd.jupyter.widget-view+json": {
       "model_id": "82bf6e50f466432ba5659d3b35b143f1",
       "version_major": 2,
       "version_minor": 0
      },
      "text/plain": [
       "VBox(children=(HTML(value=\"\\n          <div id='117985'>\\n            <h3>117985</h3>\\n            <p>\\n      …"
      ]
     },
     "metadata": {},
     "output_type": "display_data"
    },
    {
     "data": {
      "application/vnd.jupyter.widget-view+json": {
       "model_id": "deabc594067c4229b248ee311fb82ff2",
       "version_major": 2,
       "version_minor": 0
      },
      "text/plain": [
       "VBox(children=(HTML(value=\"\\n          <div id='118693'>\\n            <h3>118693</h3>\\n            <p>\\n      …"
      ]
     },
     "metadata": {},
     "output_type": "display_data"
    },
    {
     "data": {
      "application/vnd.jupyter.widget-view+json": {
       "model_id": "68432e7073fe46fdac4a711b1b1b218d",
       "version_major": 2,
       "version_minor": 0
      },
      "text/plain": [
       "VBox(children=(HTML(value=\"\\n          <div id='118904'>\\n            <h3>118904</h3>\\n            <p>\\n      …"
      ]
     },
     "metadata": {},
     "output_type": "display_data"
    },
    {
     "data": {
      "application/vnd.jupyter.widget-view+json": {
       "model_id": "6f8988cec14f48dabb238f4524a32065",
       "version_major": 2,
       "version_minor": 0
      },
      "text/plain": [
       "VBox(children=(HTML(value=\"\\n          <div id='119261'>\\n            <h3>119261</h3>\\n            <p>\\n      …"
      ]
     },
     "metadata": {},
     "output_type": "display_data"
    },
    {
     "data": {
      "application/vnd.jupyter.widget-view+json": {
       "model_id": "9aa59bd27b474154b94f62a1321653d5",
       "version_major": 2,
       "version_minor": 0
      },
      "text/plain": [
       "VBox(children=(HTML(value=\"\\n          <div id='119505'>\\n            <h3>119505</h3>\\n            <p>\\n      …"
      ]
     },
     "metadata": {},
     "output_type": "display_data"
    },
    {
     "data": {
      "application/vnd.jupyter.widget-view+json": {
       "model_id": "bd93d1fd4f8d4217a7614672cb184409",
       "version_major": 2,
       "version_minor": 0
      },
      "text/plain": [
       "VBox(children=(HTML(value=\"\\n          <div id='119512'>\\n            <h3>119512</h3>\\n            <p>\\n      …"
      ]
     },
     "metadata": {},
     "output_type": "display_data"
    },
    {
     "data": {
      "application/vnd.jupyter.widget-view+json": {
       "model_id": "e61910980d3649c48e07a047d162354b",
       "version_major": 2,
       "version_minor": 0
      },
      "text/plain": [
       "VBox(children=(HTML(value=\"\\n          <div id='120234'>\\n            <h3>120234</h3>\\n            <p>\\n      …"
      ]
     },
     "metadata": {},
     "output_type": "display_data"
    },
    {
     "data": {
      "application/vnd.jupyter.widget-view+json": {
       "model_id": "eb13269d0273469abcb848fc0e3d92b1",
       "version_major": 2,
       "version_minor": 0
      },
      "text/plain": [
       "VBox(children=(HTML(value=\"\\n          <div id='120827'>\\n            <h3>120827</h3>\\n            <p>\\n      …"
      ]
     },
     "metadata": {},
     "output_type": "display_data"
    },
    {
     "data": {
      "application/vnd.jupyter.widget-view+json": {
       "model_id": "9b29a557599b47bd99766c091d4008e2",
       "version_major": 2,
       "version_minor": 0
      },
      "text/plain": [
       "VBox(children=(HTML(value=\"\\n          <div id='121891'>\\n            <h3>121891</h3>\\n            <p>\\n      …"
      ]
     },
     "metadata": {},
     "output_type": "display_data"
    },
    {
     "data": {
      "application/vnd.jupyter.widget-view+json": {
       "model_id": "9f5ff747cfa945cf94530756a594abc4",
       "version_major": 2,
       "version_minor": 0
      },
      "text/plain": [
       "VBox(children=(HTML(value=\"\\n          <div id='126853'>\\n            <h3>126853</h3>\\n            <p>\\n      …"
      ]
     },
     "metadata": {},
     "output_type": "display_data"
    },
    {
     "data": {
      "application/vnd.jupyter.widget-view+json": {
       "model_id": "53f6b779229a480fa550817c2a1bc70a",
       "version_major": 2,
       "version_minor": 0
      },
      "text/plain": [
       "VBox(children=(HTML(value=\"\\n          <div id='127515'>\\n            <h3>127515</h3>\\n            <p>\\n      …"
      ]
     },
     "metadata": {},
     "output_type": "display_data"
    },
    {
     "data": {
      "application/vnd.jupyter.widget-view+json": {
       "model_id": "6d1fb804e5284866a9fb813c7e248471",
       "version_major": 2,
       "version_minor": 0
      },
      "text/plain": [
       "HTML(value='\\n    <h1>Journal (week 2)</h1>\\n    <h2>Class id: 67531</h2>')"
      ]
     },
     "metadata": {},
     "output_type": "display_data"
    },
    {
     "data": {
      "application/vnd.jupyter.widget-view+json": {
       "model_id": "94f9c1ff12d3434ba54df43c65ed3c47",
       "version_major": 2,
       "version_minor": 0
      },
      "text/plain": [
       "VBox(children=(HTML(value=\"\\n          <div id='23662'>\\n            <h3>23662</h3>\\n            <p>\\n        …"
      ]
     },
     "metadata": {},
     "output_type": "display_data"
    },
    {
     "data": {
      "application/vnd.jupyter.widget-view+json": {
       "model_id": "5ed4da0d50334bf8a2c97f40b481289f",
       "version_major": 2,
       "version_minor": 0
      },
      "text/plain": [
       "VBox(children=(HTML(value=\"\\n          <div id='25782'>\\n            <h3>25782</h3>\\n            <p>\\n        …"
      ]
     },
     "metadata": {},
     "output_type": "display_data"
    },
    {
     "data": {
      "application/vnd.jupyter.widget-view+json": {
       "model_id": "c8305980d2a14d81a7c531bda0b42f86",
       "version_major": 2,
       "version_minor": 0
      },
      "text/plain": [
       "VBox(children=(HTML(value='\\n          <div id=\\'25976\\'>\\n            <h3>25976</h3>\\n            <p>\\n      …"
      ]
     },
     "metadata": {},
     "output_type": "display_data"
    },
    {
     "data": {
      "application/vnd.jupyter.widget-view+json": {
       "model_id": "e0d5675aa69a4d5186ce70735c8fecde",
       "version_major": 2,
       "version_minor": 0
      },
      "text/plain": [
       "VBox(children=(HTML(value=\"\\n          <div id='27236'>\\n            <h3>27236</h3>\\n            <p>\\n        …"
      ]
     },
     "metadata": {},
     "output_type": "display_data"
    },
    {
     "data": {
      "application/vnd.jupyter.widget-view+json": {
       "model_id": "d04108ce770e4f66870856547fec069c",
       "version_major": 2,
       "version_minor": 0
      },
      "text/plain": [
       "VBox(children=(HTML(value=\"\\n          <div id='29492'>\\n            <h3>29492</h3>\\n            <p>\\n        …"
      ]
     },
     "metadata": {},
     "output_type": "display_data"
    },
    {
     "data": {
      "application/vnd.jupyter.widget-view+json": {
       "model_id": "50f72e192d7d4923bae29dcde838a07e",
       "version_major": 2,
       "version_minor": 0
      },
      "text/plain": [
       "VBox(children=(HTML(value=\"\\n          <div id='30247'>\\n            <h3>30247</h3>\\n            <p>\\n        …"
      ]
     },
     "metadata": {},
     "output_type": "display_data"
    },
    {
     "data": {
      "application/vnd.jupyter.widget-view+json": {
       "model_id": "f99e93b3dc784c8cb1dc03c847bd19a5",
       "version_major": 2,
       "version_minor": 0
      },
      "text/plain": [
       "VBox(children=(HTML(value=\"\\n          <div id='32695'>\\n            <h3>32695</h3>\\n            <p>\\n        …"
      ]
     },
     "metadata": {},
     "output_type": "display_data"
    },
    {
     "data": {
      "application/vnd.jupyter.widget-view+json": {
       "model_id": "1e72ec7e8a394988b5c9ae2b74c89205",
       "version_major": 2,
       "version_minor": 0
      },
      "text/plain": [
       "VBox(children=(HTML(value=\"\\n          <div id='33575'>\\n            <h3>33575</h3>\\n            <p>\\n        …"
      ]
     },
     "metadata": {},
     "output_type": "display_data"
    },
    {
     "data": {
      "application/vnd.jupyter.widget-view+json": {
       "model_id": "9bfdaa4e959f456b8d56b05ba3f8c798",
       "version_major": 2,
       "version_minor": 0
      },
      "text/plain": [
       "VBox(children=(HTML(value=\"\\n          <div id='36128'>\\n            <h3>36128</h3>\\n            <p>\\n        …"
      ]
     },
     "metadata": {},
     "output_type": "display_data"
    },
    {
     "data": {
      "application/vnd.jupyter.widget-view+json": {
       "model_id": "470e864bcfe8480685e5233f0b6edbc7",
       "version_major": 2,
       "version_minor": 0
      },
      "text/plain": [
       "VBox(children=(HTML(value=\"\\n          <div id='36520'>\\n            <h3>36520</h3>\\n            <p>\\n        …"
      ]
     },
     "metadata": {},
     "output_type": "display_data"
    },
    {
     "data": {
      "application/vnd.jupyter.widget-view+json": {
       "model_id": "e0eea2d0640e4c4a981833510f9c737b",
       "version_major": 2,
       "version_minor": 0
      },
      "text/plain": [
       "VBox(children=(HTML(value=\"\\n          <div id='39746'>\\n            <h3>39746</h3>\\n            <p>\\n        …"
      ]
     },
     "metadata": {},
     "output_type": "display_data"
    },
    {
     "data": {
      "application/vnd.jupyter.widget-view+json": {
       "model_id": "9638587fa3e746de87afea2d66357dc6",
       "version_major": 2,
       "version_minor": 0
      },
      "text/plain": [
       "VBox(children=(HTML(value=\"\\n          <div id='39892'>\\n            <h3>39892</h3>\\n            <p>\\n        …"
      ]
     },
     "metadata": {},
     "output_type": "display_data"
    },
    {
     "data": {
      "application/vnd.jupyter.widget-view+json": {
       "model_id": "389b889dea694e7bbccb407c0ed6cde6",
       "version_major": 2,
       "version_minor": 0
      },
      "text/plain": [
       "VBox(children=(HTML(value=\"\\n          <div id='40955'>\\n            <h3>40955</h3>\\n            <p>\\n        …"
      ]
     },
     "metadata": {},
     "output_type": "display_data"
    },
    {
     "data": {
      "application/vnd.jupyter.widget-view+json": {
       "model_id": "dc0b58245bd84883b11e5d9b62a7e481",
       "version_major": 2,
       "version_minor": 0
      },
      "text/plain": [
       "VBox(children=(HTML(value=\"\\n          <div id='41592'>\\n            <h3>41592</h3>\\n            <p>\\n        …"
      ]
     },
     "metadata": {},
     "output_type": "display_data"
    },
    {
     "data": {
      "application/vnd.jupyter.widget-view+json": {
       "model_id": "f6c612f621654be7809f5f56283009cb",
       "version_major": 2,
       "version_minor": 0
      },
      "text/plain": [
       "VBox(children=(HTML(value=\"\\n          <div id='41744'>\\n            <h3>41744</h3>\\n            <p>\\n        …"
      ]
     },
     "metadata": {},
     "output_type": "display_data"
    },
    {
     "data": {
      "application/vnd.jupyter.widget-view+json": {
       "model_id": "52813d37ec464387b60c6a0f3c9cd1a0",
       "version_major": 2,
       "version_minor": 0
      },
      "text/plain": [
       "VBox(children=(HTML(value=\"\\n          <div id='42021'>\\n            <h3>42021</h3>\\n            <p>\\n        …"
      ]
     },
     "metadata": {},
     "output_type": "display_data"
    },
    {
     "data": {
      "application/vnd.jupyter.widget-view+json": {
       "model_id": "e50ee5d914cc44e9961eb73532df5ef3",
       "version_major": 2,
       "version_minor": 0
      },
      "text/plain": [
       "VBox(children=(HTML(value=\"\\n          <div id='43060'>\\n            <h3>43060</h3>\\n            <p>\\n        …"
      ]
     },
     "metadata": {},
     "output_type": "display_data"
    },
    {
     "data": {
      "application/vnd.jupyter.widget-view+json": {
       "model_id": "e5fd5ea9ae92446f8b89bad1cae1eb9c",
       "version_major": 2,
       "version_minor": 0
      },
      "text/plain": [
       "VBox(children=(HTML(value=\"\\n          <div id='43081'>\\n            <h3>43081</h3>\\n            <p>\\n        …"
      ]
     },
     "metadata": {},
     "output_type": "display_data"
    },
    {
     "data": {
      "application/vnd.jupyter.widget-view+json": {
       "model_id": "f1a3f8acf4984bdaadf7d1eb0916a0dc",
       "version_major": 2,
       "version_minor": 0
      },
      "text/plain": [
       "VBox(children=(HTML(value=\"\\n          <div id='44219'>\\n            <h3>44219</h3>\\n            <p>\\n        …"
      ]
     },
     "metadata": {},
     "output_type": "display_data"
    },
    {
     "data": {
      "application/vnd.jupyter.widget-view+json": {
       "model_id": "3235c8089fa24f1282f4d3bc7aec0324",
       "version_major": 2,
       "version_minor": 0
      },
      "text/plain": [
       "VBox(children=(HTML(value=\"\\n          <div id='44270'>\\n            <h3>44270</h3>\\n            <p>\\n        …"
      ]
     },
     "metadata": {},
     "output_type": "display_data"
    },
    {
     "data": {
      "application/vnd.jupyter.widget-view+json": {
       "model_id": "7e7dd5496b1e4f7dafeb1e46373f4ef9",
       "version_major": 2,
       "version_minor": 0
      },
      "text/plain": [
       "VBox(children=(HTML(value=\"\\n          <div id='44323'>\\n            <h3>44323</h3>\\n            <p>\\n        …"
      ]
     },
     "metadata": {},
     "output_type": "display_data"
    },
    {
     "data": {
      "application/vnd.jupyter.widget-view+json": {
       "model_id": "cbd49f9ad63c4f1f9cb887a895f68cfd",
       "version_major": 2,
       "version_minor": 0
      },
      "text/plain": [
       "VBox(children=(HTML(value=\"\\n          <div id='44360'>\\n            <h3>44360</h3>\\n            <p>\\n        …"
      ]
     },
     "metadata": {},
     "output_type": "display_data"
    },
    {
     "data": {
      "application/vnd.jupyter.widget-view+json": {
       "model_id": "e8dcf388f7a9466898aa92a5ff863c9d",
       "version_major": 2,
       "version_minor": 0
      },
      "text/plain": [
       "VBox(children=(HTML(value=\"\\n          <div id='44922'>\\n            <h3>44922</h3>\\n            <p>\\n        …"
      ]
     },
     "metadata": {},
     "output_type": "display_data"
    },
    {
     "data": {
      "application/vnd.jupyter.widget-view+json": {
       "model_id": "a3e011a4d27b4f66b34026dff59e41f9",
       "version_major": 2,
       "version_minor": 0
      },
      "text/plain": [
       "VBox(children=(HTML(value=\"\\n          <div id='45005'>\\n            <h3>45005</h3>\\n            <p>\\n        …"
      ]
     },
     "metadata": {},
     "output_type": "display_data"
    },
    {
     "data": {
      "application/vnd.jupyter.widget-view+json": {
       "model_id": "a6dc34f554ec4fc497bdfe0165c1e37e",
       "version_major": 2,
       "version_minor": 0
      },
      "text/plain": [
       "VBox(children=(HTML(value=\"\\n          <div id='45118'>\\n            <h3>45118</h3>\\n            <p>\\n        …"
      ]
     },
     "metadata": {},
     "output_type": "display_data"
    },
    {
     "data": {
      "application/vnd.jupyter.widget-view+json": {
       "model_id": "d728b1f2a876458780fb325a97f98b81",
       "version_major": 2,
       "version_minor": 0
      },
      "text/plain": [
       "VBox(children=(HTML(value=\"\\n          <div id='45309'>\\n            <h3>45309</h3>\\n            <p>\\n        …"
      ]
     },
     "metadata": {},
     "output_type": "display_data"
    },
    {
     "data": {
      "application/vnd.jupyter.widget-view+json": {
       "model_id": "29a5cce3bf5a432794fdec31496cc367",
       "version_major": 2,
       "version_minor": 0
      },
      "text/plain": [
       "VBox(children=(HTML(value=\"\\n          <div id='45429'>\\n            <h3>45429</h3>\\n            <p>\\n        …"
      ]
     },
     "metadata": {},
     "output_type": "display_data"
    },
    {
     "data": {
      "application/vnd.jupyter.widget-view+json": {
       "model_id": "303617f8e9504bdaa67f90a3497918e6",
       "version_major": 2,
       "version_minor": 0
      },
      "text/plain": [
       "VBox(children=(HTML(value=\"\\n          <div id='45858'>\\n            <h3>45858</h3>\\n            <p>\\n        …"
      ]
     },
     "metadata": {},
     "output_type": "display_data"
    },
    {
     "data": {
      "application/vnd.jupyter.widget-view+json": {
       "model_id": "f6c8c48e7fbc4c8c87064cf18bb1407e",
       "version_major": 2,
       "version_minor": 0
      },
      "text/plain": [
       "VBox(children=(HTML(value=\"\\n          <div id='46048'>\\n            <h3>46048</h3>\\n            <p>\\n        …"
      ]
     },
     "metadata": {},
     "output_type": "display_data"
    },
    {
     "data": {
      "application/vnd.jupyter.widget-view+json": {
       "model_id": "b3c381bc832947dab55425e1cebad01d",
       "version_major": 2,
       "version_minor": 0
      },
      "text/plain": [
       "VBox(children=(HTML(value=\"\\n          <div id='46247'>\\n            <h3>46247</h3>\\n            <p>\\n        …"
      ]
     },
     "metadata": {},
     "output_type": "display_data"
    },
    {
     "data": {
      "application/vnd.jupyter.widget-view+json": {
       "model_id": "ade34d3646fe420fb0e905000750b439",
       "version_major": 2,
       "version_minor": 0
      },
      "text/plain": [
       "VBox(children=(HTML(value=\"\\n          <div id='46335'>\\n            <h3>46335</h3>\\n            <p>\\n        …"
      ]
     },
     "metadata": {},
     "output_type": "display_data"
    },
    {
     "data": {
      "application/vnd.jupyter.widget-view+json": {
       "model_id": "86a02666632a4afea70f11a1c5d2f4e0",
       "version_major": 2,
       "version_minor": 0
      },
      "text/plain": [
       "VBox(children=(HTML(value=\"\\n          <div id='46665'>\\n            <h3>46665</h3>\\n            <p>\\n        …"
      ]
     },
     "metadata": {},
     "output_type": "display_data"
    },
    {
     "data": {
      "application/vnd.jupyter.widget-view+json": {
       "model_id": "cf036800702b4bbd8efc6b44e0de854a",
       "version_major": 2,
       "version_minor": 0
      },
      "text/plain": [
       "VBox(children=(HTML(value=\"\\n          <div id='46674'>\\n            <h3>46674</h3>\\n            <p>\\n        …"
      ]
     },
     "metadata": {},
     "output_type": "display_data"
    },
    {
     "data": {
      "application/vnd.jupyter.widget-view+json": {
       "model_id": "b3e0d6c6a2604c4695ad0be3f028c2f1",
       "version_major": 2,
       "version_minor": 0
      },
      "text/plain": [
       "VBox(children=(HTML(value=\"\\n          <div id='46791'>\\n            <h3>46791</h3>\\n            <p>\\n        …"
      ]
     },
     "metadata": {},
     "output_type": "display_data"
    },
    {
     "data": {
      "application/vnd.jupyter.widget-view+json": {
       "model_id": "c141352f4ed3401e8b8d76fe5cecfc97",
       "version_major": 2,
       "version_minor": 0
      },
      "text/plain": [
       "VBox(children=(HTML(value=\"\\n          <div id='48809'>\\n            <h3>48809</h3>\\n            <p>\\n        …"
      ]
     },
     "metadata": {},
     "output_type": "display_data"
    },
    {
     "data": {
      "application/vnd.jupyter.widget-view+json": {
       "model_id": "3e26d8d9b367437ca63cc08ee445afd7",
       "version_major": 2,
       "version_minor": 0
      },
      "text/plain": [
       "VBox(children=(HTML(value=\"\\n          <div id='53606'>\\n            <h3>53606</h3>\\n            <p>\\n        …"
      ]
     },
     "metadata": {},
     "output_type": "display_data"
    },
    {
     "data": {
      "application/vnd.jupyter.widget-view+json": {
       "model_id": "8175e3a8696a462e9c9dc1c9bab60f43",
       "version_major": 2,
       "version_minor": 0
      },
      "text/plain": [
       "VBox(children=(HTML(value=\"\\n          <div id='53979'>\\n            <h3>53979</h3>\\n            <p>\\n        …"
      ]
     },
     "metadata": {},
     "output_type": "display_data"
    },
    {
     "data": {
      "application/vnd.jupyter.widget-view+json": {
       "model_id": "0a46e0f178c94541b7dcc7bab2cc9e62",
       "version_major": 2,
       "version_minor": 0
      },
      "text/plain": [
       "VBox(children=(HTML(value=\"\\n          <div id='54653'>\\n            <h3>54653</h3>\\n            <p>\\n        …"
      ]
     },
     "metadata": {},
     "output_type": "display_data"
    },
    {
     "data": {
      "application/vnd.jupyter.widget-view+json": {
       "model_id": "0497dc1060604b1baf9decd82e4357cc",
       "version_major": 2,
       "version_minor": 0
      },
      "text/plain": [
       "VBox(children=(HTML(value=\"\\n          <div id='55013'>\\n            <h3>55013</h3>\\n            <p>\\n        …"
      ]
     },
     "metadata": {},
     "output_type": "display_data"
    },
    {
     "data": {
      "application/vnd.jupyter.widget-view+json": {
       "model_id": "b5e7dcfbdb244162ae42bf7813077317",
       "version_major": 2,
       "version_minor": 0
      },
      "text/plain": [
       "VBox(children=(HTML(value=\"\\n          <div id='55124'>\\n            <h3>55124</h3>\\n            <p>\\n        …"
      ]
     },
     "metadata": {},
     "output_type": "display_data"
    },
    {
     "data": {
      "application/vnd.jupyter.widget-view+json": {
       "model_id": "871a4a32695f4f7e8a10f9c861f251a8",
       "version_major": 2,
       "version_minor": 0
      },
      "text/plain": [
       "VBox(children=(HTML(value=\"\\n          <div id='55607'>\\n            <h3>55607</h3>\\n            <p>\\n        …"
      ]
     },
     "metadata": {},
     "output_type": "display_data"
    },
    {
     "data": {
      "application/vnd.jupyter.widget-view+json": {
       "model_id": "c3057ed894d74544a3891995be36087a",
       "version_major": 2,
       "version_minor": 0
      },
      "text/plain": [
       "VBox(children=(HTML(value=\"\\n          <div id='56114'>\\n            <h3>56114</h3>\\n            <p>\\n        …"
      ]
     },
     "metadata": {},
     "output_type": "display_data"
    },
    {
     "data": {
      "application/vnd.jupyter.widget-view+json": {
       "model_id": "6a7406324ae64ea391ebe7a41ac7d74c",
       "version_major": 2,
       "version_minor": 0
      },
      "text/plain": [
       "VBox(children=(HTML(value=\"\\n          <div id='56769'>\\n            <h3>56769</h3>\\n            <p>\\n        …"
      ]
     },
     "metadata": {},
     "output_type": "display_data"
    },
    {
     "data": {
      "application/vnd.jupyter.widget-view+json": {
       "model_id": "2b58df75505b46d5b18fd8fdc53f6050",
       "version_major": 2,
       "version_minor": 0
      },
      "text/plain": [
       "VBox(children=(HTML(value=\"\\n          <div id='57719'>\\n            <h3>57719</h3>\\n            <p>\\n        …"
      ]
     },
     "metadata": {},
     "output_type": "display_data"
    },
    {
     "data": {
      "application/vnd.jupyter.widget-view+json": {
       "model_id": "467dcc090eb5469284587c9601cdb39a",
       "version_major": 2,
       "version_minor": 0
      },
      "text/plain": [
       "VBox(children=(HTML(value=\"\\n          <div id='58493'>\\n            <h3>58493</h3>\\n            <p>\\n        …"
      ]
     },
     "metadata": {},
     "output_type": "display_data"
    },
    {
     "data": {
      "application/vnd.jupyter.widget-view+json": {
       "model_id": "76651a1ed8ef4992bb3ddb95ff0ef00f",
       "version_major": 2,
       "version_minor": 0
      },
      "text/plain": [
       "VBox(children=(HTML(value=\"\\n          <div id='59446'>\\n            <h3>59446</h3>\\n            <p>\\n        …"
      ]
     },
     "metadata": {},
     "output_type": "display_data"
    },
    {
     "data": {
      "application/vnd.jupyter.widget-view+json": {
       "model_id": "1dc6bd457f994ab4b59b997457100427",
       "version_major": 2,
       "version_minor": 0
      },
      "text/plain": [
       "VBox(children=(HTML(value=\"\\n          <div id='60229'>\\n            <h3>60229</h3>\\n            <p>\\n        …"
      ]
     },
     "metadata": {},
     "output_type": "display_data"
    },
    {
     "data": {
      "application/vnd.jupyter.widget-view+json": {
       "model_id": "4679dd7790d64ceaac34f52d721cf74d",
       "version_major": 2,
       "version_minor": 0
      },
      "text/plain": [
       "VBox(children=(HTML(value='\\n          <div id=\\'60280\\'>\\n            <h3>60280</h3>\\n            <p>\\n      …"
      ]
     },
     "metadata": {},
     "output_type": "display_data"
    },
    {
     "data": {
      "application/vnd.jupyter.widget-view+json": {
       "model_id": "976be1b3cb094cba838a99830b4c12f8",
       "version_major": 2,
       "version_minor": 0
      },
      "text/plain": [
       "VBox(children=(HTML(value=\"\\n          <div id='61109'>\\n            <h3>61109</h3>\\n            <p>\\n        …"
      ]
     },
     "metadata": {},
     "output_type": "display_data"
    },
    {
     "data": {
      "application/vnd.jupyter.widget-view+json": {
       "model_id": "c993ca36053a4559be52517070ab1d49",
       "version_major": 2,
       "version_minor": 0
      },
      "text/plain": [
       "VBox(children=(HTML(value=\"\\n          <div id='62062'>\\n            <h3>62062</h3>\\n            <p>\\n        …"
      ]
     },
     "metadata": {},
     "output_type": "display_data"
    },
    {
     "data": {
      "application/vnd.jupyter.widget-view+json": {
       "model_id": "fedfc6d4943448b9ad259c104c7475fa",
       "version_major": 2,
       "version_minor": 0
      },
      "text/plain": [
       "VBox(children=(HTML(value=\"\\n          <div id='63120'>\\n            <h3>63120</h3>\\n            <p>\\n        …"
      ]
     },
     "metadata": {},
     "output_type": "display_data"
    },
    {
     "data": {
      "application/vnd.jupyter.widget-view+json": {
       "model_id": "e6f419af58c74db3a42fa1b1bb1622c5",
       "version_major": 2,
       "version_minor": 0
      },
      "text/plain": [
       "VBox(children=(HTML(value=\"\\n          <div id='63474'>\\n            <h3>63474</h3>\\n            <p>\\n        …"
      ]
     },
     "metadata": {},
     "output_type": "display_data"
    },
    {
     "data": {
      "application/vnd.jupyter.widget-view+json": {
       "model_id": "d404e270813e4039b60c3dcd137a5c7f",
       "version_major": 2,
       "version_minor": 0
      },
      "text/plain": [
       "VBox(children=(HTML(value=\"\\n          <div id='64127'>\\n            <h3>64127</h3>\\n            <p>\\n        …"
      ]
     },
     "metadata": {},
     "output_type": "display_data"
    },
    {
     "data": {
      "application/vnd.jupyter.widget-view+json": {
       "model_id": "1c58a75169f64de3992a6708b226cb83",
       "version_major": 2,
       "version_minor": 0
      },
      "text/plain": [
       "VBox(children=(HTML(value=\"\\n          <div id='65664'>\\n            <h3>65664</h3>\\n            <p>\\n        …"
      ]
     },
     "metadata": {},
     "output_type": "display_data"
    },
    {
     "data": {
      "application/vnd.jupyter.widget-view+json": {
       "model_id": "bc9b6dc9bd154e80971e61ff2f13e131",
       "version_major": 2,
       "version_minor": 0
      },
      "text/plain": [
       "VBox(children=(HTML(value=\"\\n          <div id='66185'>\\n            <h3>66185</h3>\\n            <p>\\n        …"
      ]
     },
     "metadata": {},
     "output_type": "display_data"
    },
    {
     "data": {
      "application/vnd.jupyter.widget-view+json": {
       "model_id": "cb70f6d1d11949119debd1d71d78c8cc",
       "version_major": 2,
       "version_minor": 0
      },
      "text/plain": [
       "VBox(children=(HTML(value=\"\\n          <div id='66972'>\\n            <h3>66972</h3>\\n            <p>\\n        …"
      ]
     },
     "metadata": {},
     "output_type": "display_data"
    },
    {
     "data": {
      "application/vnd.jupyter.widget-view+json": {
       "model_id": "4063774f22dc47bdac1c093055a115dd",
       "version_major": 2,
       "version_minor": 0
      },
      "text/plain": [
       "VBox(children=(HTML(value=\"\\n          <div id='68824'>\\n            <h3>68824</h3>\\n            <p>\\n        …"
      ]
     },
     "metadata": {},
     "output_type": "display_data"
    },
    {
     "data": {
      "application/vnd.jupyter.widget-view+json": {
       "model_id": "ff3448c293f5421688a066d7e975807e",
       "version_major": 2,
       "version_minor": 0
      },
      "text/plain": [
       "VBox(children=(HTML(value=\"\\n          <div id='69610'>\\n            <h3>69610</h3>\\n            <p>\\n        …"
      ]
     },
     "metadata": {},
     "output_type": "display_data"
    },
    {
     "data": {
      "application/vnd.jupyter.widget-view+json": {
       "model_id": "76342b5c906d43f5badac85967018000",
       "version_major": 2,
       "version_minor": 0
      },
      "text/plain": [
       "VBox(children=(HTML(value=\"\\n          <div id='70933'>\\n            <h3>70933</h3>\\n            <p>\\n        …"
      ]
     },
     "metadata": {},
     "output_type": "display_data"
    },
    {
     "data": {
      "application/vnd.jupyter.widget-view+json": {
       "model_id": "74772c9a36654b8aa60945119c3a708c",
       "version_major": 2,
       "version_minor": 0
      },
      "text/plain": [
       "VBox(children=(HTML(value=\"\\n          <div id='71111'>\\n            <h3>71111</h3>\\n            <p>\\n        …"
      ]
     },
     "metadata": {},
     "output_type": "display_data"
    },
    {
     "data": {
      "application/vnd.jupyter.widget-view+json": {
       "model_id": "aafb75cbe8474e7eab35ac0eeb4da32c",
       "version_major": 2,
       "version_minor": 0
      },
      "text/plain": [
       "VBox(children=(HTML(value=\"\\n          <div id='71829'>\\n            <h3>71829</h3>\\n            <p>\\n        …"
      ]
     },
     "metadata": {},
     "output_type": "display_data"
    },
    {
     "data": {
      "application/vnd.jupyter.widget-view+json": {
       "model_id": "1b315138d4914cd7946dea50f7eed2c9",
       "version_major": 2,
       "version_minor": 0
      },
      "text/plain": [
       "VBox(children=(HTML(value=\"\\n          <div id='73208'>\\n            <h3>73208</h3>\\n            <p>\\n        …"
      ]
     },
     "metadata": {},
     "output_type": "display_data"
    },
    {
     "data": {
      "application/vnd.jupyter.widget-view+json": {
       "model_id": "4e38bc97f84e41769fc11469d1a4ebf7",
       "version_major": 2,
       "version_minor": 0
      },
      "text/plain": [
       "VBox(children=(HTML(value=\"\\n          <div id='73659'>\\n            <h3>73659</h3>\\n            <p>\\n        …"
      ]
     },
     "metadata": {},
     "output_type": "display_data"
    },
    {
     "data": {
      "application/vnd.jupyter.widget-view+json": {
       "model_id": "e4a884f2028e46c9a8f3b9ffe247e857",
       "version_major": 2,
       "version_minor": 0
      },
      "text/plain": [
       "VBox(children=(HTML(value=\"\\n          <div id='74473'>\\n            <h3>74473</h3>\\n            <p>\\n        …"
      ]
     },
     "metadata": {},
     "output_type": "display_data"
    },
    {
     "data": {
      "application/vnd.jupyter.widget-view+json": {
       "model_id": "144b3210c6934e5caa219e1613cd9ffc",
       "version_major": 2,
       "version_minor": 0
      },
      "text/plain": [
       "VBox(children=(HTML(value=\"\\n          <div id='75034'>\\n            <h3>75034</h3>\\n            <p>\\n        …"
      ]
     },
     "metadata": {},
     "output_type": "display_data"
    },
    {
     "data": {
      "application/vnd.jupyter.widget-view+json": {
       "model_id": "cfe07229665d4f24941a6ba766d63cd7",
       "version_major": 2,
       "version_minor": 0
      },
      "text/plain": [
       "VBox(children=(HTML(value=\"\\n          <div id='75670'>\\n            <h3>75670</h3>\\n            <p>\\n        …"
      ]
     },
     "metadata": {},
     "output_type": "display_data"
    },
    {
     "data": {
      "application/vnd.jupyter.widget-view+json": {
       "model_id": "f2a94998510e478682b9b5596aef6035",
       "version_major": 2,
       "version_minor": 0
      },
      "text/plain": [
       "VBox(children=(HTML(value=\"\\n          <div id='76748'>\\n            <h3>76748</h3>\\n            <p>\\n        …"
      ]
     },
     "metadata": {},
     "output_type": "display_data"
    },
    {
     "data": {
      "application/vnd.jupyter.widget-view+json": {
       "model_id": "1dfc9ee3fa334575a37f5bc682faf69b",
       "version_major": 2,
       "version_minor": 0
      },
      "text/plain": [
       "VBox(children=(HTML(value=\"\\n          <div id='77579'>\\n            <h3>77579</h3>\\n            <p>\\n        …"
      ]
     },
     "metadata": {},
     "output_type": "display_data"
    },
    {
     "data": {
      "application/vnd.jupyter.widget-view+json": {
       "model_id": "c16bf69332574719aea80c6460288f1a",
       "version_major": 2,
       "version_minor": 0
      },
      "text/plain": [
       "VBox(children=(HTML(value=\"\\n          <div id='77598'>\\n            <h3>77598</h3>\\n            <p>\\n        …"
      ]
     },
     "metadata": {},
     "output_type": "display_data"
    },
    {
     "data": {
      "application/vnd.jupyter.widget-view+json": {
       "model_id": "05dc2858ab1e4ad6a8f7fbd96ee0582f",
       "version_major": 2,
       "version_minor": 0
      },
      "text/plain": [
       "VBox(children=(HTML(value=\"\\n          <div id='79239'>\\n            <h3>79239</h3>\\n            <p>\\n        …"
      ]
     },
     "metadata": {},
     "output_type": "display_data"
    },
    {
     "data": {
      "application/vnd.jupyter.widget-view+json": {
       "model_id": "3587c2e89e4b408db6b49c3d36d847e6",
       "version_major": 2,
       "version_minor": 0
      },
      "text/plain": [
       "VBox(children=(HTML(value=\"\\n          <div id='79633'>\\n            <h3>79633</h3>\\n            <p>\\n        …"
      ]
     },
     "metadata": {},
     "output_type": "display_data"
    },
    {
     "data": {
      "application/vnd.jupyter.widget-view+json": {
       "model_id": "55fbab6cc6a6438780e939cbca176dce",
       "version_major": 2,
       "version_minor": 0
      },
      "text/plain": [
       "VBox(children=(HTML(value=\"\\n          <div id='82806'>\\n            <h3>82806</h3>\\n            <p>\\n        …"
      ]
     },
     "metadata": {},
     "output_type": "display_data"
    },
    {
     "data": {
      "application/vnd.jupyter.widget-view+json": {
       "model_id": "ea0c70f833b94416b63a4d4682805278",
       "version_major": 2,
       "version_minor": 0
      },
      "text/plain": [
       "VBox(children=(HTML(value=\"\\n          <div id='83933'>\\n            <h3>83933</h3>\\n            <p>\\n        …"
      ]
     },
     "metadata": {},
     "output_type": "display_data"
    },
    {
     "data": {
      "application/vnd.jupyter.widget-view+json": {
       "model_id": "eeade5e7f99e44b2bee9df8e6a819484",
       "version_major": 2,
       "version_minor": 0
      },
      "text/plain": [
       "VBox(children=(HTML(value=\"\\n          <div id='87439'>\\n            <h3>87439</h3>\\n            <p>\\n        …"
      ]
     },
     "metadata": {},
     "output_type": "display_data"
    },
    {
     "data": {
      "application/vnd.jupyter.widget-view+json": {
       "model_id": "5099798217ed4954ab62d1d31e35a77e",
       "version_major": 2,
       "version_minor": 0
      },
      "text/plain": [
       "VBox(children=(HTML(value=\"\\n          <div id='91143'>\\n            <h3>91143</h3>\\n            <p>\\n        …"
      ]
     },
     "metadata": {},
     "output_type": "display_data"
    },
    {
     "data": {
      "application/vnd.jupyter.widget-view+json": {
       "model_id": "03e80797dc26444a963cda1979459a1e",
       "version_major": 2,
       "version_minor": 0
      },
      "text/plain": [
       "VBox(children=(HTML(value=\"\\n          <div id='91218'>\\n            <h3>91218</h3>\\n            <p>\\n        …"
      ]
     },
     "metadata": {},
     "output_type": "display_data"
    },
    {
     "data": {
      "application/vnd.jupyter.widget-view+json": {
       "model_id": "5de110a1ab0841d1b310fcae0327c133",
       "version_major": 2,
       "version_minor": 0
      },
      "text/plain": [
       "VBox(children=(HTML(value=\"\\n          <div id='91254'>\\n            <h3>91254</h3>\\n            <p>\\n        …"
      ]
     },
     "metadata": {},
     "output_type": "display_data"
    },
    {
     "data": {
      "application/vnd.jupyter.widget-view+json": {
       "model_id": "9ad315f849f240c4a327d7b3bf470071",
       "version_major": 2,
       "version_minor": 0
      },
      "text/plain": [
       "VBox(children=(HTML(value=\"\\n          <div id='91448'>\\n            <h3>91448</h3>\\n            <p>\\n        …"
      ]
     },
     "metadata": {},
     "output_type": "display_data"
    },
    {
     "data": {
      "application/vnd.jupyter.widget-view+json": {
       "model_id": "10570b1446fc4f42aed128520cfa8d0a",
       "version_major": 2,
       "version_minor": 0
      },
      "text/plain": [
       "VBox(children=(HTML(value=\"\\n          <div id='91772'>\\n            <h3>91772</h3>\\n            <p>\\n        …"
      ]
     },
     "metadata": {},
     "output_type": "display_data"
    },
    {
     "data": {
      "application/vnd.jupyter.widget-view+json": {
       "model_id": "2b0d003b2e7f416ab31a6ba5c1ef4201",
       "version_major": 2,
       "version_minor": 0
      },
      "text/plain": [
       "VBox(children=(HTML(value=\"\\n          <div id='92202'>\\n            <h3>92202</h3>\\n            <p>\\n        …"
      ]
     },
     "metadata": {},
     "output_type": "display_data"
    },
    {
     "data": {
      "application/vnd.jupyter.widget-view+json": {
       "model_id": "30c2a69796ff43c1afefb1a6cbab62d3",
       "version_major": 2,
       "version_minor": 0
      },
      "text/plain": [
       "VBox(children=(HTML(value=\"\\n          <div id='92575'>\\n            <h3>92575</h3>\\n            <p>\\n        …"
      ]
     },
     "metadata": {},
     "output_type": "display_data"
    },
    {
     "data": {
      "application/vnd.jupyter.widget-view+json": {
       "model_id": "2d12bf6ba4a14ed49307d9d36457b2b1",
       "version_major": 2,
       "version_minor": 0
      },
      "text/plain": [
       "VBox(children=(HTML(value=\"\\n          <div id='93155'>\\n            <h3>93155</h3>\\n            <p>\\n        …"
      ]
     },
     "metadata": {},
     "output_type": "display_data"
    },
    {
     "data": {
      "application/vnd.jupyter.widget-view+json": {
       "model_id": "c7d7b2d3df0c4c8884759084ade188e2",
       "version_major": 2,
       "version_minor": 0
      },
      "text/plain": [
       "VBox(children=(HTML(value=\"\\n          <div id='93764'>\\n            <h3>93764</h3>\\n            <p>\\n        …"
      ]
     },
     "metadata": {},
     "output_type": "display_data"
    },
    {
     "data": {
      "application/vnd.jupyter.widget-view+json": {
       "model_id": "d4c3b7db267245ccba8c314a23f7a718",
       "version_major": 2,
       "version_minor": 0
      },
      "text/plain": [
       "VBox(children=(HTML(value=\"\\n          <div id='94263'>\\n            <h3>94263</h3>\\n            <p>\\n        …"
      ]
     },
     "metadata": {},
     "output_type": "display_data"
    },
    {
     "data": {
      "application/vnd.jupyter.widget-view+json": {
       "model_id": "ed4452c03f2142bf9d4165a9714efc1e",
       "version_major": 2,
       "version_minor": 0
      },
      "text/plain": [
       "VBox(children=(HTML(value=\"\\n          <div id='94809'>\\n            <h3>94809</h3>\\n            <p>\\n        …"
      ]
     },
     "metadata": {},
     "output_type": "display_data"
    },
    {
     "data": {
      "application/vnd.jupyter.widget-view+json": {
       "model_id": "93f69960da314a9eb45a1dc2a04d7b41",
       "version_major": 2,
       "version_minor": 0
      },
      "text/plain": [
       "VBox(children=(HTML(value=\"\\n          <div id='95655'>\\n            <h3>95655</h3>\\n            <p>\\n        …"
      ]
     },
     "metadata": {},
     "output_type": "display_data"
    },
    {
     "data": {
      "application/vnd.jupyter.widget-view+json": {
       "model_id": "99e1f221c09a4d07a123c452145bf1a0",
       "version_major": 2,
       "version_minor": 0
      },
      "text/plain": [
       "VBox(children=(HTML(value=\"\\n          <div id='95939'>\\n            <h3>95939</h3>\\n            <p>\\n        …"
      ]
     },
     "metadata": {},
     "output_type": "display_data"
    },
    {
     "data": {
      "application/vnd.jupyter.widget-view+json": {
       "model_id": "46f78365b116496a897a52c62875eee1",
       "version_major": 2,
       "version_minor": 0
      },
      "text/plain": [
       "VBox(children=(HTML(value=\"\\n          <div id='96025'>\\n            <h3>96025</h3>\\n            <p>\\n        …"
      ]
     },
     "metadata": {},
     "output_type": "display_data"
    },
    {
     "data": {
      "application/vnd.jupyter.widget-view+json": {
       "model_id": "5296b551bfbb49589330ad5b2fa79e8e",
       "version_major": 2,
       "version_minor": 0
      },
      "text/plain": [
       "VBox(children=(HTML(value=\"\\n          <div id='97127'>\\n            <h3>97127</h3>\\n            <p>\\n        …"
      ]
     },
     "metadata": {},
     "output_type": "display_data"
    },
    {
     "data": {
      "application/vnd.jupyter.widget-view+json": {
       "model_id": "493cbd6b453347c583827e535ab107be",
       "version_major": 2,
       "version_minor": 0
      },
      "text/plain": [
       "VBox(children=(HTML(value=\"\\n          <div id='97360'>\\n            <h3>97360</h3>\\n            <p>\\n        …"
      ]
     },
     "metadata": {},
     "output_type": "display_data"
    },
    {
     "data": {
      "application/vnd.jupyter.widget-view+json": {
       "model_id": "6c17121924234509a5a17d8a3efb81c0",
       "version_major": 2,
       "version_minor": 0
      },
      "text/plain": [
       "VBox(children=(HTML(value=\"\\n          <div id='102818'>\\n            <h3>102818</h3>\\n            <p>\\n      …"
      ]
     },
     "metadata": {},
     "output_type": "display_data"
    },
    {
     "data": {
      "application/vnd.jupyter.widget-view+json": {
       "model_id": "cec5cc61a27e49f893730ea707b4c1f8",
       "version_major": 2,
       "version_minor": 0
      },
      "text/plain": [
       "VBox(children=(HTML(value=\"\\n          <div id='103134'>\\n            <h3>103134</h3>\\n            <p>\\n      …"
      ]
     },
     "metadata": {},
     "output_type": "display_data"
    },
    {
     "data": {
      "application/vnd.jupyter.widget-view+json": {
       "model_id": "a825dd379bfb45dc922e2c4500327c6a",
       "version_major": 2,
       "version_minor": 0
      },
      "text/plain": [
       "VBox(children=(HTML(value=\"\\n          <div id='104007'>\\n            <h3>104007</h3>\\n            <p>\\n      …"
      ]
     },
     "metadata": {},
     "output_type": "display_data"
    },
    {
     "data": {
      "application/vnd.jupyter.widget-view+json": {
       "model_id": "37f5ad4d56e84229ba4b95dfff9d77bd",
       "version_major": 2,
       "version_minor": 0
      },
      "text/plain": [
       "VBox(children=(HTML(value=\"\\n          <div id='104489'>\\n            <h3>104489</h3>\\n            <p>\\n      …"
      ]
     },
     "metadata": {},
     "output_type": "display_data"
    },
    {
     "data": {
      "application/vnd.jupyter.widget-view+json": {
       "model_id": "dd865f7e82ad49c0835863db4848285f",
       "version_major": 2,
       "version_minor": 0
      },
      "text/plain": [
       "VBox(children=(HTML(value=\"\\n          <div id='109338'>\\n            <h3>109338</h3>\\n            <p>\\n      …"
      ]
     },
     "metadata": {},
     "output_type": "display_data"
    },
    {
     "data": {
      "application/vnd.jupyter.widget-view+json": {
       "model_id": "3aa97a9649a441b59337f08f47afea7d",
       "version_major": 2,
       "version_minor": 0
      },
      "text/plain": [
       "VBox(children=(HTML(value=\"\\n          <div id='110594'>\\n            <h3>110594</h3>\\n            <p>\\n      …"
      ]
     },
     "metadata": {},
     "output_type": "display_data"
    },
    {
     "data": {
      "application/vnd.jupyter.widget-view+json": {
       "model_id": "41a9f02fea964498a2d5b2e3a00580b4",
       "version_major": 2,
       "version_minor": 0
      },
      "text/plain": [
       "VBox(children=(HTML(value=\"\\n          <div id='112226'>\\n            <h3>112226</h3>\\n            <p>\\n      …"
      ]
     },
     "metadata": {},
     "output_type": "display_data"
    },
    {
     "data": {
      "application/vnd.jupyter.widget-view+json": {
       "model_id": "9142a58a0c3342fa9615045d18c9ae2b",
       "version_major": 2,
       "version_minor": 0
      },
      "text/plain": [
       "VBox(children=(HTML(value='\\n          <div id=\\'112933\\'>\\n            <h3>112933</h3>\\n            <p>\\n    …"
      ]
     },
     "metadata": {},
     "output_type": "display_data"
    },
    {
     "data": {
      "application/vnd.jupyter.widget-view+json": {
       "model_id": "a22920018aca494f9bb77bb2ce470ca5",
       "version_major": 2,
       "version_minor": 0
      },
      "text/plain": [
       "VBox(children=(HTML(value=\"\\n          <div id='113251'>\\n            <h3>113251</h3>\\n            <p>\\n      …"
      ]
     },
     "metadata": {},
     "output_type": "display_data"
    },
    {
     "data": {
      "application/vnd.jupyter.widget-view+json": {
       "model_id": "a1ce5b965136454790b56c665864bd06",
       "version_major": 2,
       "version_minor": 0
      },
      "text/plain": [
       "VBox(children=(HTML(value=\"\\n          <div id='113403'>\\n            <h3>113403</h3>\\n            <p>\\n      …"
      ]
     },
     "metadata": {},
     "output_type": "display_data"
    },
    {
     "data": {
      "application/vnd.jupyter.widget-view+json": {
       "model_id": "edfa63cc53124895a4b9061c4ebec658",
       "version_major": 2,
       "version_minor": 0
      },
      "text/plain": [
       "VBox(children=(HTML(value=\"\\n          <div id='113438'>\\n            <h3>113438</h3>\\n            <p>\\n      …"
      ]
     },
     "metadata": {},
     "output_type": "display_data"
    },
    {
     "data": {
      "application/vnd.jupyter.widget-view+json": {
       "model_id": "a328145e14fa4007aae9eccc8a0586db",
       "version_major": 2,
       "version_minor": 0
      },
      "text/plain": [
       "VBox(children=(HTML(value='\\n          <div id=\\'113464\\'>\\n            <h3>113464</h3>\\n            <p>\\n    …"
      ]
     },
     "metadata": {},
     "output_type": "display_data"
    },
    {
     "data": {
      "application/vnd.jupyter.widget-view+json": {
       "model_id": "f3366f46155d48aa9f2f9dbec84437ea",
       "version_major": 2,
       "version_minor": 0
      },
      "text/plain": [
       "VBox(children=(HTML(value=\"\\n          <div id='114183'>\\n            <h3>114183</h3>\\n            <p>\\n      …"
      ]
     },
     "metadata": {},
     "output_type": "display_data"
    },
    {
     "data": {
      "application/vnd.jupyter.widget-view+json": {
       "model_id": "f693947b8ba14a96b8bb524ebd49d0fa",
       "version_major": 2,
       "version_minor": 0
      },
      "text/plain": [
       "VBox(children=(HTML(value=\"\\n          <div id='114226'>\\n            <h3>114226</h3>\\n            <p>\\n      …"
      ]
     },
     "metadata": {},
     "output_type": "display_data"
    },
    {
     "data": {
      "application/vnd.jupyter.widget-view+json": {
       "model_id": "32dfc2fe776144b0911a2d7e23d53ebf",
       "version_major": 2,
       "version_minor": 0
      },
      "text/plain": [
       "VBox(children=(HTML(value=\"\\n          <div id='114622'>\\n            <h3>114622</h3>\\n            <p>\\n      …"
      ]
     },
     "metadata": {},
     "output_type": "display_data"
    },
    {
     "data": {
      "application/vnd.jupyter.widget-view+json": {
       "model_id": "49a9b465ed6c497da481c5f093e79aaa",
       "version_major": 2,
       "version_minor": 0
      },
      "text/plain": [
       "VBox(children=(HTML(value='\\n          <div id=\\'114729\\'>\\n            <h3>114729</h3>\\n            <p>\\n    …"
      ]
     },
     "metadata": {},
     "output_type": "display_data"
    },
    {
     "data": {
      "application/vnd.jupyter.widget-view+json": {
       "model_id": "64a485f2a6f94861b4431009e8628c1f",
       "version_major": 2,
       "version_minor": 0
      },
      "text/plain": [
       "VBox(children=(HTML(value=\"\\n          <div id='114776'>\\n            <h3>114776</h3>\\n            <p>\\n      …"
      ]
     },
     "metadata": {},
     "output_type": "display_data"
    },
    {
     "data": {
      "application/vnd.jupyter.widget-view+json": {
       "model_id": "26b72f2a381d4ea0bddee98a11d282bb",
       "version_major": 2,
       "version_minor": 0
      },
      "text/plain": [
       "VBox(children=(HTML(value=\"\\n          <div id='115364'>\\n            <h3>115364</h3>\\n            <p>\\n      …"
      ]
     },
     "metadata": {},
     "output_type": "display_data"
    },
    {
     "data": {
      "application/vnd.jupyter.widget-view+json": {
       "model_id": "f2ec974ea87a465ab70da71c489b4349",
       "version_major": 2,
       "version_minor": 0
      },
      "text/plain": [
       "VBox(children=(HTML(value=\"\\n          <div id='115548'>\\n            <h3>115548</h3>\\n            <p>\\n      …"
      ]
     },
     "metadata": {},
     "output_type": "display_data"
    },
    {
     "data": {
      "application/vnd.jupyter.widget-view+json": {
       "model_id": "7f205dff8d7448eb8e5a339ddf45745f",
       "version_major": 2,
       "version_minor": 0
      },
      "text/plain": [
       "VBox(children=(HTML(value=\"\\n          <div id='115796'>\\n            <h3>115796</h3>\\n            <p>\\n      …"
      ]
     },
     "metadata": {},
     "output_type": "display_data"
    },
    {
     "data": {
      "application/vnd.jupyter.widget-view+json": {
       "model_id": "89c35711d45448d9a27be9123a1c88bb",
       "version_major": 2,
       "version_minor": 0
      },
      "text/plain": [
       "VBox(children=(HTML(value=\"\\n          <div id='116871'>\\n            <h3>116871</h3>\\n            <p>\\n      …"
      ]
     },
     "metadata": {},
     "output_type": "display_data"
    },
    {
     "data": {
      "application/vnd.jupyter.widget-view+json": {
       "model_id": "a63b4e3d42a0492e91ece9d489402afa",
       "version_major": 2,
       "version_minor": 0
      },
      "text/plain": [
       "VBox(children=(HTML(value=\"\\n          <div id='117330'>\\n            <h3>117330</h3>\\n            <p>\\n      …"
      ]
     },
     "metadata": {},
     "output_type": "display_data"
    },
    {
     "data": {
      "application/vnd.jupyter.widget-view+json": {
       "model_id": "d8fab1723287472ba82f596f779cfc46",
       "version_major": 2,
       "version_minor": 0
      },
      "text/plain": [
       "VBox(children=(HTML(value=\"\\n          <div id='117483'>\\n            <h3>117483</h3>\\n            <p>\\n      …"
      ]
     },
     "metadata": {},
     "output_type": "display_data"
    },
    {
     "data": {
      "application/vnd.jupyter.widget-view+json": {
       "model_id": "5ec46141962f4f818496537609e3bd2f",
       "version_major": 2,
       "version_minor": 0
      },
      "text/plain": [
       "VBox(children=(HTML(value=\"\\n          <div id='117494'>\\n            <h3>117494</h3>\\n            <p>\\n      …"
      ]
     },
     "metadata": {},
     "output_type": "display_data"
    },
    {
     "data": {
      "application/vnd.jupyter.widget-view+json": {
       "model_id": "0ab2ab444cc7450bbfa1054223d288e1",
       "version_major": 2,
       "version_minor": 0
      },
      "text/plain": [
       "VBox(children=(HTML(value=\"\\n          <div id='117821'>\\n            <h3>117821</h3>\\n            <p>\\n      …"
      ]
     },
     "metadata": {},
     "output_type": "display_data"
    },
    {
     "data": {
      "application/vnd.jupyter.widget-view+json": {
       "model_id": "9e9530ac110a4ff2a2861237dc5e4c52",
       "version_major": 2,
       "version_minor": 0
      },
      "text/plain": [
       "VBox(children=(HTML(value='\\n          <div id=\\'117985\\'>\\n            <h3>117985</h3>\\n            <p>\\n    …"
      ]
     },
     "metadata": {},
     "output_type": "display_data"
    },
    {
     "data": {
      "application/vnd.jupyter.widget-view+json": {
       "model_id": "3013d519346641f78d48ab8e5ebb3467",
       "version_major": 2,
       "version_minor": 0
      },
      "text/plain": [
       "VBox(children=(HTML(value=\"\\n          <div id='118693'>\\n            <h3>118693</h3>\\n            <p>\\n      …"
      ]
     },
     "metadata": {},
     "output_type": "display_data"
    },
    {
     "data": {
      "application/vnd.jupyter.widget-view+json": {
       "model_id": "d292fd00040946509b22ab40420667d1",
       "version_major": 2,
       "version_minor": 0
      },
      "text/plain": [
       "VBox(children=(HTML(value=\"\\n          <div id='118904'>\\n            <h3>118904</h3>\\n            <p>\\n      …"
      ]
     },
     "metadata": {},
     "output_type": "display_data"
    },
    {
     "data": {
      "application/vnd.jupyter.widget-view+json": {
       "model_id": "9cd7652b993f4ef5976d8ca0c79c8704",
       "version_major": 2,
       "version_minor": 0
      },
      "text/plain": [
       "VBox(children=(HTML(value=\"\\n          <div id='119261'>\\n            <h3>119261</h3>\\n            <p>\\n      …"
      ]
     },
     "metadata": {},
     "output_type": "display_data"
    },
    {
     "data": {
      "application/vnd.jupyter.widget-view+json": {
       "model_id": "fa9506adefcd4db1a8c71db19bccc27a",
       "version_major": 2,
       "version_minor": 0
      },
      "text/plain": [
       "VBox(children=(HTML(value=\"\\n          <div id='119505'>\\n            <h3>119505</h3>\\n            <p>\\n      …"
      ]
     },
     "metadata": {},
     "output_type": "display_data"
    },
    {
     "data": {
      "application/vnd.jupyter.widget-view+json": {
       "model_id": "e7e0694514d24c43b6b7af6ceea725c5",
       "version_major": 2,
       "version_minor": 0
      },
      "text/plain": [
       "VBox(children=(HTML(value=\"\\n          <div id='119512'>\\n            <h3>119512</h3>\\n            <p>\\n      …"
      ]
     },
     "metadata": {},
     "output_type": "display_data"
    },
    {
     "data": {
      "application/vnd.jupyter.widget-view+json": {
       "model_id": "9c2c62539a504bf884c8205e96ba2d41",
       "version_major": 2,
       "version_minor": 0
      },
      "text/plain": [
       "VBox(children=(HTML(value=\"\\n          <div id='120234'>\\n            <h3>120234</h3>\\n            <p>\\n      …"
      ]
     },
     "metadata": {},
     "output_type": "display_data"
    },
    {
     "data": {
      "application/vnd.jupyter.widget-view+json": {
       "model_id": "dfa46981ed0c4d9faddbef51454a8899",
       "version_major": 2,
       "version_minor": 0
      },
      "text/plain": [
       "VBox(children=(HTML(value=\"\\n          <div id='120827'>\\n            <h3>120827</h3>\\n            <p>\\n      …"
      ]
     },
     "metadata": {},
     "output_type": "display_data"
    },
    {
     "data": {
      "application/vnd.jupyter.widget-view+json": {
       "model_id": "1e2101413ea04ecbbbc696c07b5088d1",
       "version_major": 2,
       "version_minor": 0
      },
      "text/plain": [
       "VBox(children=(HTML(value=\"\\n          <div id='121891'>\\n            <h3>121891</h3>\\n            <p>\\n      …"
      ]
     },
     "metadata": {},
     "output_type": "display_data"
    },
    {
     "data": {
      "application/vnd.jupyter.widget-view+json": {
       "model_id": "d0a543ef9c5e4cdea91243d9ec0cf800",
       "version_major": 2,
       "version_minor": 0
      },
      "text/plain": [
       "VBox(children=(HTML(value=\"\\n          <div id='126853'>\\n            <h3>126853</h3>\\n            <p>\\n      …"
      ]
     },
     "metadata": {},
     "output_type": "display_data"
    },
    {
     "data": {
      "application/vnd.jupyter.widget-view+json": {
       "model_id": "25af86fba62048b992c2bca2d9d240ca",
       "version_major": 2,
       "version_minor": 0
      },
      "text/plain": [
       "VBox(children=(HTML(value=\"\\n          <div id='127515'>\\n            <h3>127515</h3>\\n            <p>\\n      …"
      ]
     },
     "metadata": {},
     "output_type": "display_data"
    }
   ],
   "source": [
    "for s in results:\n",
    "    make_assignment_header(s)\n",
    "    make_consolidated_text_fields(s)"
   ]
  },
  {
   "cell_type": "code",
   "execution_count": null,
   "metadata": {},
   "outputs": [],
   "source": []
  },
  {
   "cell_type": "markdown",
   "metadata": {},
   "source": [
    "# Upload the grades to canvas"
   ]
  },
  {
   "cell_type": "code",
   "execution_count": 10,
   "metadata": {
    "ExecuteTime": {
     "end_time": "2019-02-02T03:05:37.332299Z",
     "start_time": "2019-02-02T03:05:37.326175Z"
    }
   },
   "outputs": [],
   "source": [
    "from assets.UploadGradeTools import upload_students_receiving_credit\n",
    "from ipywidgets import widgets\n",
    "from IPython.display import display\n",
    "\n",
    "def make_upload_button(store):\n",
    "    def upload_callback(event):\n",
    "        # change button style to indicate working\n",
    "        b.button_style='warning'\n",
    "        # upload grades for students receiving credit\n",
    "        upload_students_receiving_credit(store)\n",
    "        # change button style\n",
    "        b.button_style='success'\n",
    "        \n",
    "    desc = 'Upload grades for {}'.format(store.assignment_name)\n",
    "    layout= widgets.Layout(width='50%')\n",
    "    b = widgets.Button(description=desc, button_style='danger', layout=layout)\n",
    "    b.on_click(upload_callback)\n",
    "    \n",
    "    display(b)"
   ]
  },
  {
   "cell_type": "code",
   "execution_count": 7,
   "metadata": {
    "ExecuteTime": {
     "end_time": "2019-02-02T02:48:09.048643Z",
     "start_time": "2019-02-02T02:48:09.024447Z"
    },
    "deletable": false,
    "editable": false,
    "run_control": {
     "frozen": true
    }
   },
   "outputs": [
    {
     "data": {
      "application/vnd.jupyter.widget-view+json": {
       "model_id": "c060f87a835845ff94e43f400d1e80c5",
       "version_major": 2,
       "version_minor": 0
      },
      "text/plain": [
       "Button(button_style='danger', description='Upload grades for Journal (week 1)', layout=Layout(width='50%'), st…"
      ]
     },
     "metadata": {},
     "output_type": "display_data"
    },
    {
     "data": {
      "application/vnd.jupyter.widget-view+json": {
       "model_id": "7e32e45fd0c54393a0cb83c286078e05",
       "version_major": 2,
       "version_minor": 0
      },
      "text/plain": [
       "Button(button_style='danger', description='Upload grades for Journal (week 2)', layout=Layout(width='50%'), st…"
      ]
     },
     "metadata": {},
     "output_type": "display_data"
    },
    {
     "name": "stdout",
     "output_type": "stream",
     "text": [
      "credit https://canvas.csun.edu/api/v1/courses/67531/assignments/360442/submissions/23662\n",
      "credit https://canvas.csun.edu/api/v1/courses/67531/assignments/360442/submissions/25782\n",
      "credit https://canvas.csun.edu/api/v1/courses/67531/assignments/360442/submissions/36128\n",
      "credit https://canvas.csun.edu/api/v1/courses/67531/assignments/360442/submissions/36520\n",
      "credit https://canvas.csun.edu/api/v1/courses/67531/assignments/360442/submissions/39746\n",
      "credit https://canvas.csun.edu/api/v1/courses/67531/assignments/360442/submissions/39892\n",
      "credit https://canvas.csun.edu/api/v1/courses/67531/assignments/360442/submissions/42021\n",
      "credit https://canvas.csun.edu/api/v1/courses/67531/assignments/360442/submissions/43060\n",
      "credit https://canvas.csun.edu/api/v1/courses/67531/assignments/360442/submissions/43081\n",
      "credit https://canvas.csun.edu/api/v1/courses/67531/assignments/360442/submissions/44219\n",
      "credit https://canvas.csun.edu/api/v1/courses/67531/assignments/360442/submissions/44270\n",
      "credit https://canvas.csun.edu/api/v1/courses/67531/assignments/360442/submissions/44323\n",
      "credit https://canvas.csun.edu/api/v1/courses/67531/assignments/360442/submissions/44360\n",
      "credit https://canvas.csun.edu/api/v1/courses/67531/assignments/360442/submissions/44922\n",
      "credit https://canvas.csun.edu/api/v1/courses/67531/assignments/360442/submissions/45005\n",
      "credit https://canvas.csun.edu/api/v1/courses/67531/assignments/360442/submissions/45429\n",
      "credit https://canvas.csun.edu/api/v1/courses/67531/assignments/360442/submissions/45858\n",
      "credit https://canvas.csun.edu/api/v1/courses/67531/assignments/360442/submissions/46247\n",
      "credit https://canvas.csun.edu/api/v1/courses/67531/assignments/360442/submissions/46335\n",
      "credit https://canvas.csun.edu/api/v1/courses/67531/assignments/360442/submissions/46791\n",
      "credit https://canvas.csun.edu/api/v1/courses/67531/assignments/360442/submissions/48809\n",
      "credit https://canvas.csun.edu/api/v1/courses/67531/assignments/360442/submissions/53606\n",
      "credit https://canvas.csun.edu/api/v1/courses/67531/assignments/360442/submissions/53979\n",
      "credit https://canvas.csun.edu/api/v1/courses/67531/assignments/360442/submissions/54653\n",
      "credit https://canvas.csun.edu/api/v1/courses/67531/assignments/360442/submissions/55013\n",
      "credit https://canvas.csun.edu/api/v1/courses/67531/assignments/360442/submissions/55124\n",
      "credit https://canvas.csun.edu/api/v1/courses/67531/assignments/360442/submissions/55607\n",
      "credit https://canvas.csun.edu/api/v1/courses/67531/assignments/360442/submissions/57719\n",
      "credit https://canvas.csun.edu/api/v1/courses/67531/assignments/360442/submissions/60280\n",
      "credit https://canvas.csun.edu/api/v1/courses/67531/assignments/360442/submissions/61109\n",
      "credit https://canvas.csun.edu/api/v1/courses/67531/assignments/360442/submissions/62062\n",
      "credit https://canvas.csun.edu/api/v1/courses/67531/assignments/360442/submissions/63120\n",
      "credit https://canvas.csun.edu/api/v1/courses/67531/assignments/360442/submissions/64127\n",
      "credit https://canvas.csun.edu/api/v1/courses/67531/assignments/360442/submissions/65664\n",
      "credit https://canvas.csun.edu/api/v1/courses/67531/assignments/360442/submissions/68824\n",
      "credit https://canvas.csun.edu/api/v1/courses/67531/assignments/360442/submissions/69610\n",
      "credit https://canvas.csun.edu/api/v1/courses/67531/assignments/360442/submissions/71829\n",
      "credit https://canvas.csun.edu/api/v1/courses/67531/assignments/360442/submissions/73208\n",
      "credit https://canvas.csun.edu/api/v1/courses/67531/assignments/360442/submissions/73659\n",
      "credit https://canvas.csun.edu/api/v1/courses/67531/assignments/360442/submissions/74473\n",
      "credit https://canvas.csun.edu/api/v1/courses/67531/assignments/360442/submissions/75034\n",
      "credit https://canvas.csun.edu/api/v1/courses/67531/assignments/360442/submissions/75670\n",
      "credit https://canvas.csun.edu/api/v1/courses/67531/assignments/360442/submissions/76748\n",
      "credit https://canvas.csun.edu/api/v1/courses/67531/assignments/360442/submissions/77579\n",
      "credit https://canvas.csun.edu/api/v1/courses/67531/assignments/360442/submissions/77598\n",
      "credit https://canvas.csun.edu/api/v1/courses/67531/assignments/360442/submissions/79239\n",
      "credit https://canvas.csun.edu/api/v1/courses/67531/assignments/360442/submissions/83933\n",
      "credit https://canvas.csun.edu/api/v1/courses/67531/assignments/360442/submissions/91143\n",
      "credit https://canvas.csun.edu/api/v1/courses/67531/assignments/360442/submissions/91218\n",
      "credit https://canvas.csun.edu/api/v1/courses/67531/assignments/360442/submissions/91254\n",
      "credit https://canvas.csun.edu/api/v1/courses/67531/assignments/360442/submissions/91448\n",
      "credit https://canvas.csun.edu/api/v1/courses/67531/assignments/360442/submissions/92575\n",
      "credit https://canvas.csun.edu/api/v1/courses/67531/assignments/360442/submissions/93764\n",
      "credit https://canvas.csun.edu/api/v1/courses/67531/assignments/360442/submissions/94263\n",
      "credit https://canvas.csun.edu/api/v1/courses/67531/assignments/360442/submissions/94809\n",
      "credit https://canvas.csun.edu/api/v1/courses/67531/assignments/360442/submissions/95655\n",
      "credit https://canvas.csun.edu/api/v1/courses/67531/assignments/360442/submissions/95939\n",
      "credit https://canvas.csun.edu/api/v1/courses/67531/assignments/360442/submissions/96025\n",
      "credit https://canvas.csun.edu/api/v1/courses/67531/assignments/360442/submissions/97127\n",
      "credit https://canvas.csun.edu/api/v1/courses/67531/assignments/360442/submissions/102818\n",
      "credit https://canvas.csun.edu/api/v1/courses/67531/assignments/360442/submissions/103134\n",
      "credit https://canvas.csun.edu/api/v1/courses/67531/assignments/360442/submissions/104007\n",
      "credit https://canvas.csun.edu/api/v1/courses/67531/assignments/360442/submissions/104489\n",
      "credit https://canvas.csun.edu/api/v1/courses/67531/assignments/360442/submissions/110594\n",
      "credit https://canvas.csun.edu/api/v1/courses/67531/assignments/360442/submissions/112933\n",
      "credit https://canvas.csun.edu/api/v1/courses/67531/assignments/360442/submissions/113251\n",
      "credit https://canvas.csun.edu/api/v1/courses/67531/assignments/360442/submissions/113403\n",
      "credit https://canvas.csun.edu/api/v1/courses/67531/assignments/360442/submissions/113464\n",
      "credit https://canvas.csun.edu/api/v1/courses/67531/assignments/360442/submissions/114183\n",
      "credit https://canvas.csun.edu/api/v1/courses/67531/assignments/360442/submissions/114226\n",
      "credit https://canvas.csun.edu/api/v1/courses/67531/assignments/360442/submissions/114622\n",
      "credit https://canvas.csun.edu/api/v1/courses/67531/assignments/360442/submissions/114729\n",
      "credit https://canvas.csun.edu/api/v1/courses/67531/assignments/360442/submissions/114776\n",
      "credit https://canvas.csun.edu/api/v1/courses/67531/assignments/360442/submissions/115364\n",
      "credit https://canvas.csun.edu/api/v1/courses/67531/assignments/360442/submissions/117330\n",
      "credit https://canvas.csun.edu/api/v1/courses/67531/assignments/360442/submissions/117483\n",
      "credit https://canvas.csun.edu/api/v1/courses/67531/assignments/360442/submissions/117985\n",
      "credit https://canvas.csun.edu/api/v1/courses/67531/assignments/360442/submissions/118693\n",
      "credit https://canvas.csun.edu/api/v1/courses/67531/assignments/360442/submissions/118904\n",
      "credit https://canvas.csun.edu/api/v1/courses/67531/assignments/360442/submissions/119512\n",
      "credit https://canvas.csun.edu/api/v1/courses/67531/assignments/360442/submissions/120234\n",
      "credit https://canvas.csun.edu/api/v1/courses/67531/assignments/360442/submissions/121891\n",
      "credit https://canvas.csun.edu/api/v1/courses/67531/assignments/360442/submissions/126853\n",
      "credit https://canvas.csun.edu/api/v1/courses/67531/assignments/360449/submissions/23662\n",
      "credit https://canvas.csun.edu/api/v1/courses/67531/assignments/360449/submissions/25782\n",
      "credit https://canvas.csun.edu/api/v1/courses/67531/assignments/360449/submissions/25976\n",
      "credit https://canvas.csun.edu/api/v1/courses/67531/assignments/360449/submissions/29492\n",
      "credit https://canvas.csun.edu/api/v1/courses/67531/assignments/360449/submissions/32695\n",
      "credit https://canvas.csun.edu/api/v1/courses/67531/assignments/360449/submissions/33575\n",
      "credit https://canvas.csun.edu/api/v1/courses/67531/assignments/360449/submissions/36520\n",
      "credit https://canvas.csun.edu/api/v1/courses/67531/assignments/360449/submissions/39892\n",
      "credit https://canvas.csun.edu/api/v1/courses/67531/assignments/360449/submissions/44219\n"
     ]
    },
    {
     "name": "stdout",
     "output_type": "stream",
     "text": [
      "credit https://canvas.csun.edu/api/v1/courses/67531/assignments/360449/submissions/44270\n",
      "credit https://canvas.csun.edu/api/v1/courses/67531/assignments/360449/submissions/44360\n",
      "credit https://canvas.csun.edu/api/v1/courses/67531/assignments/360449/submissions/45005\n",
      "credit https://canvas.csun.edu/api/v1/courses/67531/assignments/360449/submissions/45309\n",
      "credit https://canvas.csun.edu/api/v1/courses/67531/assignments/360449/submissions/45429\n",
      "credit https://canvas.csun.edu/api/v1/courses/67531/assignments/360449/submissions/46335\n",
      "credit https://canvas.csun.edu/api/v1/courses/67531/assignments/360449/submissions/46791\n",
      "credit https://canvas.csun.edu/api/v1/courses/67531/assignments/360449/submissions/48809\n",
      "credit https://canvas.csun.edu/api/v1/courses/67531/assignments/360449/submissions/53606\n",
      "credit https://canvas.csun.edu/api/v1/courses/67531/assignments/360449/submissions/54653\n",
      "credit https://canvas.csun.edu/api/v1/courses/67531/assignments/360449/submissions/55124\n",
      "credit https://canvas.csun.edu/api/v1/courses/67531/assignments/360449/submissions/56114\n",
      "credit https://canvas.csun.edu/api/v1/courses/67531/assignments/360449/submissions/57719\n",
      "credit https://canvas.csun.edu/api/v1/courses/67531/assignments/360449/submissions/58493\n",
      "credit https://canvas.csun.edu/api/v1/courses/67531/assignments/360449/submissions/60280\n",
      "credit https://canvas.csun.edu/api/v1/courses/67531/assignments/360449/submissions/62062\n",
      "credit https://canvas.csun.edu/api/v1/courses/67531/assignments/360449/submissions/63120\n",
      "credit https://canvas.csun.edu/api/v1/courses/67531/assignments/360449/submissions/64127\n",
      "credit https://canvas.csun.edu/api/v1/courses/67531/assignments/360449/submissions/65664\n",
      "credit https://canvas.csun.edu/api/v1/courses/67531/assignments/360449/submissions/66185\n",
      "credit https://canvas.csun.edu/api/v1/courses/67531/assignments/360449/submissions/70933\n",
      "credit https://canvas.csun.edu/api/v1/courses/67531/assignments/360449/submissions/71111\n",
      "credit https://canvas.csun.edu/api/v1/courses/67531/assignments/360449/submissions/73208\n",
      "credit https://canvas.csun.edu/api/v1/courses/67531/assignments/360449/submissions/74473\n",
      "credit https://canvas.csun.edu/api/v1/courses/67531/assignments/360449/submissions/75034\n",
      "credit https://canvas.csun.edu/api/v1/courses/67531/assignments/360449/submissions/76748\n",
      "credit https://canvas.csun.edu/api/v1/courses/67531/assignments/360449/submissions/91143\n",
      "credit https://canvas.csun.edu/api/v1/courses/67531/assignments/360449/submissions/91448\n",
      "credit https://canvas.csun.edu/api/v1/courses/67531/assignments/360449/submissions/93155\n",
      "credit https://canvas.csun.edu/api/v1/courses/67531/assignments/360449/submissions/95655\n",
      "credit https://canvas.csun.edu/api/v1/courses/67531/assignments/360449/submissions/96025\n",
      "credit https://canvas.csun.edu/api/v1/courses/67531/assignments/360449/submissions/104489\n",
      "credit https://canvas.csun.edu/api/v1/courses/67531/assignments/360449/submissions/109338\n",
      "credit https://canvas.csun.edu/api/v1/courses/67531/assignments/360449/submissions/112933\n",
      "credit https://canvas.csun.edu/api/v1/courses/67531/assignments/360449/submissions/113403\n",
      "credit https://canvas.csun.edu/api/v1/courses/67531/assignments/360449/submissions/113464\n",
      "credit https://canvas.csun.edu/api/v1/courses/67531/assignments/360449/submissions/114226\n",
      "credit https://canvas.csun.edu/api/v1/courses/67531/assignments/360449/submissions/114622\n",
      "credit https://canvas.csun.edu/api/v1/courses/67531/assignments/360449/submissions/114729\n",
      "credit https://canvas.csun.edu/api/v1/courses/67531/assignments/360449/submissions/117821\n",
      "credit https://canvas.csun.edu/api/v1/courses/67531/assignments/360449/submissions/117985\n",
      "credit https://canvas.csun.edu/api/v1/courses/67531/assignments/360449/submissions/118693\n",
      "credit https://canvas.csun.edu/api/v1/courses/67531/assignments/360449/submissions/120234\n"
     ]
    }
   ],
   "source": [
    "for store in results:\n",
    "    make_upload_button(store)"
   ]
  },
  {
   "cell_type": "code",
   "execution_count": null,
   "metadata": {},
   "outputs": [],
   "source": []
  },
  {
   "cell_type": "code",
   "execution_count": null,
   "metadata": {},
   "outputs": [],
   "source": []
  }
 ],
 "metadata": {
  "kernelspec": {
   "display_name": "Python 3",
   "language": "python",
   "name": "python3"
  },
  "language_info": {
   "codemirror_mode": {
    "name": "ipython",
    "version": 3
   },
   "file_extension": ".py",
   "mimetype": "text/x-python",
   "name": "python",
   "nbconvert_exporter": "python",
   "pygments_lexer": "ipython3",
   "version": "3.6.4"
  },
  "toc": {
   "base_numbering": 1,
   "nav_menu": {},
   "number_sections": true,
   "sideBar": true,
   "skip_h1_title": false,
   "title_cell": "Table of Contents",
   "title_sidebar": "Contents",
   "toc_cell": false,
   "toc_position": {},
   "toc_section_display": true,
   "toc_window_display": false
  }
 },
 "nbformat": 4,
 "nbformat_minor": 2
}
