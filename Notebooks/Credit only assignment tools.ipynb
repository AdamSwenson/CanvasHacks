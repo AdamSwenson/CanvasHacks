{
 "cells": [
  {
   "cell_type": "code",
   "execution_count": 2,
   "metadata": {
    "ExecuteTime": {
     "end_time": "2019-02-01T02:44:54.103867Z",
     "start_time": "2019-02-01T02:44:54.098807Z"
    }
   },
   "outputs": [
    {
     "name": "stdout",
     "output_type": "stream",
     "text": [
      "/Users/adam/Dropbox/CanvasCorrections\n"
     ]
    }
   ],
   "source": [
    "%cd ../"
   ]
  },
  {
   "cell_type": "code",
   "execution_count": 3,
   "metadata": {
    "ExecuteTime": {
     "end_time": "2019-02-01T02:44:54.616706Z",
     "start_time": "2019-02-01T02:44:54.614077Z"
    }
   },
   "outputs": [],
   "source": [
    "\n",
    "from ipywidgets import widgets\n",
    "from IPython.display import display\n"
   ]
  },
  {
   "cell_type": "code",
   "execution_count": 4,
   "metadata": {
    "ExecuteTime": {
     "end_time": "2019-02-01T02:44:54.875049Z",
     "start_time": "2019-02-01T02:44:54.864972Z"
    }
   },
   "outputs": [
    {
     "name": "stdout",
     "output_type": "stream",
     "text": [
      "Reading credentials and settings from /Users/adam/Dropbox/CanvasCorrections/private/canvas-credentials.ini\n"
     ]
    }
   ],
   "source": [
    "import environment"
   ]
  },
  {
   "cell_type": "code",
   "execution_count": 9,
   "metadata": {
    "ExecuteTime": {
     "end_time": "2019-02-01T02:45:26.294459Z",
     "start_time": "2019-02-01T02:45:26.289986Z"
    }
   },
   "outputs": [
    {
     "data": {
      "text/plain": [
       "assets.Configuration.FileBasedConfiguration"
      ]
     },
     "execution_count": 9,
     "metadata": {},
     "output_type": "execute_result"
    }
   ],
   "source": [
    "environment.CONFIG"
   ]
  },
  {
   "cell_type": "code",
   "execution_count": 5,
   "metadata": {
    "ExecuteTime": {
     "end_time": "2019-02-01T02:44:57.180847Z",
     "start_time": "2019-02-01T02:44:57.170570Z"
    }
   },
   "outputs": [
    {
     "data": {
      "text/plain": [
       "'1860~lPVuCKmkiXLWjridsFKMxQgeZEaEkXUccUr8YTL6M9iLTjsBjegfXvag5bvqRx9w'"
      ]
     },
     "execution_count": 5,
     "metadata": {},
     "output_type": "execute_result"
    }
   ],
   "source": [
    "environment.TOKEN"
   ]
  },
  {
   "cell_type": "markdown",
   "metadata": {},
   "source": [
    "# Setup the configuration"
   ]
  },
  {
   "cell_type": "markdown",
   "metadata": {},
   "source": [
    "## Canvas API Token\n",
    "\n",
    "Instructions go here...."
   ]
  },
  {
   "cell_type": "code",
   "execution_count": null,
   "metadata": {
    "ExecuteTime": {
     "end_time": "2019-02-01T02:41:57.328082Z",
     "start_time": "2019-02-01T02:41:57.323570Z"
    }
   },
   "outputs": [],
   "source": [
    "from assets.Configuration import InteractiveConfiguration\n",
    "from assets.InputFields import make_course_ids_input, make_canvas_token_input, make_general_reset_button"
   ]
  },
  {
   "cell_type": "code",
   "execution_count": null,
   "metadata": {
    "ExecuteTime": {
     "end_time": "2019-02-01T02:34:51.516172Z",
     "start_time": "2019-02-01T02:34:51.504989Z"
    }
   },
   "outputs": [],
   "source": [
    "make_canvas_token_input()"
   ]
  },
  {
   "cell_type": "code",
   "execution_count": null,
   "metadata": {
    "ExecuteTime": {
     "end_time": "2019-02-01T02:34:52.170935Z",
     "start_time": "2019-02-01T02:34:52.161865Z"
    }
   },
   "outputs": [],
   "source": [
    "# You may confirm that the token has been added to the configuration here\n",
    "InteractiveConfiguration.canvas_token"
   ]
  },
  {
   "cell_type": "markdown",
   "metadata": {},
   "source": [
    "## Course ids\n",
    "\n",
    "Instructions go here"
   ]
  },
  {
   "cell_type": "code",
   "execution_count": null,
   "metadata": {
    "ExecuteTime": {
     "end_time": "2019-02-01T02:42:17.694913Z",
     "start_time": "2019-02-01T02:42:17.653286Z"
    }
   },
   "outputs": [],
   "source": [
    "make_course_ids_input()"
   ]
  },
  {
   "cell_type": "code",
   "execution_count": null,
   "metadata": {
    "ExecuteTime": {
     "end_time": "2019-02-01T02:42:03.576982Z",
     "start_time": "2019-02-01T02:42:03.574585Z"
    }
   },
   "outputs": [],
   "source": [
    "sections = [67531]"
   ]
  },
  {
   "cell_type": "markdown",
   "metadata": {},
   "source": [
    "# Figure out what needs grading"
   ]
  },
  {
   "cell_type": "code",
   "execution_count": null,
   "metadata": {
    "ExecuteTime": {
     "end_time": "2019-02-01T02:42:27.276837Z",
     "start_time": "2019-02-01T02:42:27.274005Z"
    }
   },
   "outputs": [],
   "source": [
    "from assets.RequestTools import get_all_course_assignments, get_assignments_needing_grading"
   ]
  },
  {
   "cell_type": "code",
   "execution_count": null,
   "metadata": {
    "ExecuteTime": {
     "end_time": "2019-02-01T02:42:29.056826Z",
     "start_time": "2019-02-01T02:42:27.624997Z"
    }
   },
   "outputs": [],
   "source": [
    "print(\"These assignments need grading: \")\n",
    "for sec in InteractiveConfiguration.course_ids:\n",
    "    to_grade = get_assignments_needing_grading(sec)\n",
    "    print(sec, to_grade)"
   ]
  },
  {
   "cell_type": "markdown",
   "metadata": {},
   "source": [
    "# Download and process student submissions"
   ]
  },
  {
   "cell_type": "code",
   "execution_count": null,
   "metadata": {},
   "outputs": [],
   "source": [
    "\n",
    "credit = []\n",
    "nocredit = []\n",
    "\n",
    "for course_id in sections:\n",
    "    print('course', course_id)\n",
    "    to_grade = get_assignments_needing_grading(course_id)\n",
    "    \n",
    "    for name, assignment_id in to_grade:\n",
    "        # make folder\n",
    "        folder = journal_folder_name(name, course_id)\n",
    "        create_folder(folder)\n",
    "        # download student submissions \n",
    "        response = PT.get_submissions(course_id, assignment_id)\n",
    "        print(\"{} responses received\".format(len(response)))\n",
    "        submissions = PT.process_response(response, folder)\n",
    "        # save a copy \n",
    "        PT.save_submission_json(submissions, folder)\n",
    "        # give credit for non-empty submissions\n",
    "        c = GT.determine_credit(submissions)\n",
    "        # store the decisions rather than sending to server\n",
    "        # that way we don't keep updating until ready\n",
    "        credit.append({'course' : course_id, 'assignment': assignment_id, 'ids': c['credit']})\n",
    "        nocredit.append({'course' : course_id, 'assignment': assignment_id, 'ids': c['nocredit']})\n"
   ]
  },
  {
   "cell_type": "code",
   "execution_count": null,
   "metadata": {},
   "outputs": [],
   "source": []
  },
  {
   "cell_type": "markdown",
   "metadata": {},
   "source": [
    "# Double check the automatic assignments"
   ]
  },
  {
   "cell_type": "code",
   "execution_count": null,
   "metadata": {},
   "outputs": [],
   "source": [
    "\n",
    "\n",
    "class Manager(object):\n",
    "    def __init__(self):\n",
    "        self.results = [] "
   ]
  },
  {
   "cell_type": "code",
   "execution_count": null,
   "metadata": {},
   "outputs": [],
   "source": [
    "def make_consolidated_text_file(journal_folder, filename=COMPILED_TEXT_FILE_NAME):\n",
    "    \"\"\"Writes each entry in to a single text file for ease of reading\"\"\"\n",
    "    entry = \"\"\"\n",
    "    {student_id} \\n\n",
    "    {body} \\n\n",
    "    \\n\n",
    "    \"\"\"\n",
    "    to_write = \"%s/%s\" %(journal_folder, filename) \n",
    "    with open(\"%s/all-submissions.json\" % journal_folder, 'r') as f:\n",
    "        j = json.load(f)\n",
    "        with open(to_write, 'w+') as cf:\n",
    "            for rec in j:\n",
    "            #     print(entry.format(**rec))\n",
    "                cf.write(entry.format(**rec))\n",
    "    print(\"Consolidated file written to {}\".format(to_write))"
   ]
  },
  {
   "cell_type": "code",
   "execution_count": null,
   "metadata": {
    "ExecuteTime": {
     "end_time": "2019-02-01T00:43:48.545790Z",
     "start_time": "2019-02-01T00:43:48.537839Z"
    }
   },
   "outputs": [],
   "source": [
    "def make_text_display(student_id, text):\n",
    "    \"\"\"Handles the formatting of the student's text\"\"\"\n",
    "    entry = \"\"\"\n",
    "          <div id='%s'>\n",
    "            <h3>%s</h3>\n",
    "            <p>\n",
    "                %s\n",
    "            </p>\n",
    "        </div>\"\"\"\n",
    "    e = entry % (student_id, student_id, text)\n",
    "    return widgets.HTML(e)\n",
    "\n",
    "def make_submission_output(text, student_id, credit_list):\n",
    "    bval = 'Credit' if student_id in credit_list else 'No credit'\n",
    "    credit_button = widgets.ToggleButtons(\n",
    "    options=['Credit', 'No credit'],\n",
    "        value=bval,\n",
    "    description='',\n",
    "    disabled=False\n",
    "    )\n",
    "    \n",
    "    ta = make_text_display(student_id, text)\n",
    "\n",
    "    def on_value_change(change):\n",
    "        \"\"\"The relevant callback\n",
    "        NB the use of scope to define student_id\"\"\"\n",
    "        v = change['new']\n",
    "        print(v, student_id)\n",
    "        try:\n",
    "            if v == 'Credit':\n",
    "                credit_list.append(student_id)\n",
    "            elif v == 'No credit':\n",
    "                credit_list.remove(student_id)\n",
    "        except ValueError:\n",
    "            pass\n",
    "\n",
    "    credit_button.observe(on_value_change, names='value')\n",
    "    display(widgets.VBox([ta, credit_button]))\n",
    "\n",
    "def make_consolidated_text_fields(results, credit_list=[]):\n",
    "    \"\"\"Displays each entry with a toggle to adjust whether the \n",
    "    student receives credit\"\"\"\n",
    "    for r in results:\n",
    "        make_submission_output(r['body'], r['student_id'], credit_list)"
   ]
  },
  {
   "cell_type": "code",
   "execution_count": null,
   "metadata": {
    "ExecuteTime": {
     "end_time": "2019-02-01T00:43:49.506574Z",
     "start_time": "2019-02-01T00:43:49.503359Z"
    }
   },
   "outputs": [],
   "source": [
    "test_results = [{'student_id' : i, 'body': 'Body text for student {}'.format(i)} for i in range(0,4)]"
   ]
  },
  {
   "cell_type": "code",
   "execution_count": null,
   "metadata": {
    "ExecuteTime": {
     "end_time": "2019-02-01T00:43:49.709698Z",
     "start_time": "2019-02-01T00:43:49.705149Z"
    }
   },
   "outputs": [],
   "source": [
    "a = [1, 'b', 4]\n",
    "# a.remove('b')\n",
    "a"
   ]
  },
  {
   "cell_type": "code",
   "execution_count": null,
   "metadata": {
    "ExecuteTime": {
     "end_time": "2019-02-01T00:43:49.909833Z",
     "start_time": "2019-02-01T00:43:49.905133Z"
    }
   },
   "outputs": [],
   "source": [
    "'Credit' if 2 in [1, 2] else 'No credit'\n"
   ]
  },
  {
   "cell_type": "code",
   "execution_count": null,
   "metadata": {
    "ExecuteTime": {
     "end_time": "2019-02-01T00:43:50.168120Z",
     "start_time": "2019-02-01T00:43:50.074282Z"
    }
   },
   "outputs": [],
   "source": [
    "test_results\n",
    "\n",
    "credit_list = [0, 2]\n",
    "\n",
    "make_consolidated_text_fields(test_results, credit_list)"
   ]
  },
  {
   "cell_type": "code",
   "execution_count": null,
   "metadata": {},
   "outputs": [],
   "source": []
  },
  {
   "cell_type": "code",
   "execution_count": null,
   "metadata": {
    "ExecuteTime": {
     "end_time": "2019-02-01T00:44:09.074041Z",
     "start_time": "2019-02-01T00:44:09.070291Z"
    }
   },
   "outputs": [],
   "source": [
    "credit_list"
   ]
  },
  {
   "cell_type": "code",
   "execution_count": null,
   "metadata": {},
   "outputs": [],
   "source": []
  },
  {
   "cell_type": "markdown",
   "metadata": {},
   "source": [
    "# Upload the grades to canvas"
   ]
  },
  {
   "cell_type": "code",
   "execution_count": null,
   "metadata": {},
   "outputs": [],
   "source": []
  },
  {
   "cell_type": "code",
   "execution_count": null,
   "metadata": {
    "ExecuteTime": {
     "end_time": "2019-02-01T00:37:22.863709Z",
     "start_time": "2019-02-01T00:37:22.860043Z"
    }
   },
   "outputs": [],
   "source": [
    "\n",
    "\n",
    "def make_upload_button(credit_list):\n",
    "    def upload_callback(event):\n",
    "        print(credit_list)\n",
    "\n",
    "    b = widgets.Button(description='Upload grades', button_style='danger')\n",
    "    b.on_click(upload_callback)\n",
    "    display(b)"
   ]
  },
  {
   "cell_type": "code",
   "execution_count": null,
   "metadata": {
    "ExecuteTime": {
     "end_time": "2019-02-01T00:37:23.216819Z",
     "start_time": "2019-02-01T00:37:23.205930Z"
    }
   },
   "outputs": [],
   "source": [
    "make_upload_button(credit_list)"
   ]
  },
  {
   "cell_type": "code",
   "execution_count": null,
   "metadata": {},
   "outputs": [],
   "source": []
  },
  {
   "cell_type": "code",
   "execution_count": null,
   "metadata": {},
   "outputs": [],
   "source": []
  }
 ],
 "metadata": {
  "kernelspec": {
   "display_name": "Python 3",
   "language": "python",
   "name": "python3"
  },
  "language_info": {
   "codemirror_mode": {
    "name": "ipython",
    "version": 3
   },
   "file_extension": ".py",
   "mimetype": "text/x-python",
   "name": "python",
   "nbconvert_exporter": "python",
   "pygments_lexer": "ipython3",
   "version": "3.6.4"
  },
  "toc": {
   "base_numbering": 1,
   "nav_menu": {},
   "number_sections": true,
   "sideBar": true,
   "skip_h1_title": false,
   "title_cell": "Table of Contents",
   "title_sidebar": "Contents",
   "toc_cell": false,
   "toc_position": {},
   "toc_section_display": true,
   "toc_window_display": false
  }
 },
 "nbformat": 4,
 "nbformat_minor": 2
}
