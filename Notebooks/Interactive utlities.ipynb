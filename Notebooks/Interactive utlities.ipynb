{
 "cells": [
  {
   "cell_type": "markdown",
   "metadata": {},
   "source": [
    "This contains common code blocks used for configuration and user input\n",
    "New tools are developed here."
   ]
  },
  {
   "cell_type": "code",
   "execution_count": null,
   "metadata": {
    "ExecuteTime": {
     "end_time": "2019-01-08T00:25:32.312856Z",
     "start_time": "2019-01-08T00:25:32.230232Z"
    },
    "deletable": false,
    "editable": false,
    "run_control": {
     "frozen": true
    }
   },
   "outputs": [],
   "source": [
    "# Install our library \n",
    "!pip install CanvasHacks\n"
   ]
  },
  {
   "cell_type": "code",
   "execution_count": null,
   "metadata": {
    "ExecuteTime": {
     "end_time": "2019-02-06T02:29:24.580742Z",
     "start_time": "2019-02-06T02:29:24.388011Z"
    }
   },
   "outputs": [],
   "source": [
    "%cd ~/Dropbox/CanvasHacks\n",
    "\n",
    "# %cd ../\n",
    "from IPython.display import display\n",
    "from ipywidgets import widgets\n",
    "\n",
    "from CanvasHacks import environment\n",
    "from CanvasHacks.RequestTools import get_all_course_assignments, get_assignments_needing_grading\n",
    "from CanvasHacks.Configuration import InteractiveConfiguration\n",
    "from CanvasHacks.InputFields import make_course_ids_input, make_canvas_token_input, make_canvas_url_input, make_general_reset_button\n",
    "import CanvasHacks.GradingTools as GT\n",
    "import CanvasHacks.DownloadProcessingTools as PT\n",
    "from CanvasHacks.DataManagement import DataStore\n",
    "\n",
    "from CanvasHacks.ConsolidatedTextOutput import make_assignment_header, make_consolidated_text_fields\n",
    "from CanvasHacks.UploadGradeTools import make_upload_button\n",
    "\n",
    "# This aren't used in the non-saving version\n",
    "from CanvasHacks.FileTools import makeDataFileIterator\n",
    "from CanvasHacks.JournalsFileTools import get_journal_folders, make_folder_list, calculate_journal_counts\n",
    "from CanvasHacks.JournalsFileTools import journal_folder_name, create_folder\n"
   ]
  },
  {
   "cell_type": "markdown",
   "metadata": {
    "ExecuteTime": {
     "end_time": "2019-01-08T03:39:28.096516Z",
     "start_time": "2019-01-08T03:39:28.093104Z"
    }
   },
   "source": [
    "# Setup the configuration"
   ]
  },
  {
   "cell_type": "code",
   "execution_count": null,
   "metadata": {
    "ExecuteTime": {
     "end_time": "2019-02-06T02:29:27.359774Z",
     "start_time": "2019-02-06T02:29:27.355838Z"
    }
   },
   "outputs": [],
   "source": [
    "from CanvasHacks.CredentialFields import make_credentials_input"
   ]
  },
  {
   "cell_type": "code",
   "execution_count": null,
   "metadata": {
    "ExecuteTime": {
     "end_time": "2019-02-06T02:29:42.099673Z",
     "start_time": "2019-02-06T02:29:42.021539Z"
    }
   },
   "outputs": [],
   "source": [
    "make_credentials_input()"
   ]
  },
  {
   "cell_type": "code",
   "execution_count": null,
   "metadata": {
    "ExecuteTime": {
     "end_time": "2019-02-06T02:23:07.851857Z",
     "start_time": "2019-02-06T02:23:07.848929Z"
    }
   },
   "outputs": [],
   "source": [
    "\n",
    "def token_instructions_and_input():\n",
    "    token_instructions = \"\"\"\n",
    "    <div>\n",
    "        <div>\n",
    "            <p>You'll need to generate a token for the Canvas API. The token replaces your username/password when making requests to Canvas.</p> \n",
    "            <p>Please record the token in a secure place. This program will not save it; you will have to re-enter it every time you use this tool.</p>\n",
    "\n",
    "            <p>First log into Canvas. Then: </p>\n",
    "            <blockquote>\n",
    "                <p>Click the \"profile\" link in the top right menu bar, or navigate to /profile</p>\n",
    "\n",
    "                <p>Under the \"Approved Integrations\" section, click the button to generate a new access token.</p>\n",
    "\n",
    "            <p>Once the token is generated, you cannot view it again, and you'll have to generate a new token if you forget\n",
    "                it.\n",
    "                Remember that access tokens are password equivalent, so keep it secret (ed: keep it safe!).</p>\n",
    "\n",
    "                <p><a href=\"https://canvas.instructure.com/doc/api/file.oauth.html#manual-token-generation\">https://canvas.instructure.com/doc/api/file.oauth.html#manual-token-generation</a>\n",
    "                </p>\n",
    "            </blockquote>\n",
    "        </div>\n",
    "        <div>\n",
    "            <h5> Paste your token into the box below. You don't have to click anything, its value will be read when\n",
    "                needed</h5>\n",
    "        </div>\n",
    "    </div>\n",
    "    \"\"\"\n",
    "\n",
    "    instruct = widgets.HTML(value=token_instructions)\n",
    "    display(instruct)\n",
    "    make_canvas_token_input()\n",
    "\n",
    "def section_instructions_and_input():\n",
    "    section_instruct = \"\"\"\n",
    "    <div>\n",
    "        <p>You will also need the id number(s) of the courses you wish to grade. You can find them by logging into canvas\n",
    "            and going to the course page. The number you are looking for will be in the url, immediately after\n",
    "            '/courses/'. For example:</p>\n",
    "        <blockquote>https://canvas.csun.edu/courses/<b>12345</b></blockquote>\n",
    "        <p>Write this number down somewhere secure so that you can re-enter it next time you use the\n",
    "            program.</p>\n",
    "\n",
    "        <h5>Add the course ids one-at-a-time using the box and buttons below</h5>\n",
    "    </div>\n",
    "    \"\"\"\n",
    "\n",
    "    display(widgets.HTML(section_instruct))\n",
    "    make_course_ids_input()\n",
    "\n",
    "\n",
    "\n",
    "def make_credentials_input():\n",
    "    token_instructions_and_input()\n",
    "    section_instructions_and_input()"
   ]
  },
  {
   "cell_type": "code",
   "execution_count": null,
   "metadata": {},
   "outputs": [],
   "source": []
  },
  {
   "cell_type": "code",
   "execution_count": null,
   "metadata": {},
   "outputs": [],
   "source": []
  },
  {
   "cell_type": "markdown",
   "metadata": {
    "ExecuteTime": {
     "end_time": "2019-02-06T02:39:43.922971Z",
     "start_time": "2019-02-06T02:39:43.920210Z"
    }
   },
   "source": [
    "# Choose assignments"
   ]
  },
  {
   "cell_type": "code",
   "execution_count": null,
   "metadata": {
    "ExecuteTime": {
     "end_time": "2019-02-06T02:43:25.151705Z",
     "start_time": "2019-02-06T02:43:25.146535Z"
    }
   },
   "outputs": [],
   "source": [
    "from IPython.display import display\n",
    "from ipywidgets import widgets\n",
    "\n",
    "def assignment_buttons():\n",
    "    # Get list of all assignments for the courses\n",
    "    for course_id in environment.CONFIG.course_ids:\n",
    "        assignments = get_all_course_assignments(course_id)\n",
    "        assignments = [(a['id'], a['name']) for a in assignments]\n",
    "        display(widgets.HTML(value=\"<h4>Course {}</h4>\".format(course_id)))\n",
    "\n",
    "        # Display a button for each\n",
    "        for assignment_id, name in assignments:\n",
    "            b = widgets.Button( description=name )\n",
    "            def callback( change ):\n",
    "                environment.CONFIG.add_assignment(assignment_id, name)\n",
    "            b.on_click( callback )\n",
    "            display( b )"
   ]
  },
  {
   "cell_type": "code",
   "execution_count": null,
   "metadata": {
    "ExecuteTime": {
     "end_time": "2019-02-06T02:43:26.801687Z",
     "start_time": "2019-02-06T02:43:25.691345Z"
    }
   },
   "outputs": [],
   "source": [
    "assignment_buttons()"
   ]
  },
  {
   "cell_type": "code",
   "execution_count": null,
   "metadata": {},
   "outputs": [],
   "source": []
  },
  {
   "cell_type": "code",
   "execution_count": null,
   "metadata": {},
   "outputs": [],
   "source": []
  },
  {
   "cell_type": "code",
   "execution_count": null,
   "metadata": {},
   "outputs": [],
   "source": []
  },
  {
   "cell_type": "code",
   "execution_count": null,
   "metadata": {},
   "outputs": [],
   "source": []
  },
  {
   "cell_type": "code",
   "execution_count": null,
   "metadata": {},
   "outputs": [],
   "source": []
  },
  {
   "cell_type": "markdown",
   "metadata": {},
   "source": [
    "## Reseting the configuration (when you're done!)\n",
    "\n",
    "Closing your session will automatically wipe out the token and ids you've entered here. \n",
    "\n",
    "However, if you'd like to be sure that they've been removed, you can click the button below. The two cell's below the button should show you an empty list of ids (it looks like: [ ]) and that the token has been set to False"
   ]
  },
  {
   "cell_type": "code",
   "execution_count": null,
   "metadata": {
    "ExecuteTime": {
     "end_time": "2019-01-08T03:38:13.594955Z",
     "start_time": "2019-01-08T03:38:13.584298Z"
    }
   },
   "outputs": [],
   "source": [
    "make_general_reset_button()"
   ]
  },
  {
   "cell_type": "code",
   "execution_count": null,
   "metadata": {
    "ExecuteTime": {
     "end_time": "2019-01-08T03:21:12.398568Z",
     "start_time": "2019-01-08T03:21:12.392359Z"
    }
   },
   "outputs": [],
   "source": [
    "InteractiveConfiguration.course_ids"
   ]
  },
  {
   "cell_type": "code",
   "execution_count": null,
   "metadata": {
    "ExecuteTime": {
     "end_time": "2019-01-08T03:40:41.511745Z",
     "start_time": "2019-01-08T03:40:41.506403Z"
    }
   },
   "outputs": [],
   "source": [
    "InteractiveConfiguration.canvas_token"
   ]
  },
  {
   "cell_type": "markdown",
   "metadata": {},
   "source": [
    "# Downloading files"
   ]
  },
  {
   "cell_type": "code",
   "execution_count": null,
   "metadata": {},
   "outputs": [],
   "source": [
    "!pip install pandas"
   ]
  },
  {
   "cell_type": "code",
   "execution_count": null,
   "metadata": {},
   "outputs": [],
   "source": [
    "import base64\n",
    "from IPython.display import HTML\n",
    "import pandas as pd\n",
    "\n",
    "def create_download_link( df, title = \"Download CSV file\", filename = \"data.csv\"):\n",
    "    \"\"\"\n",
    "    https://medium.com/ibm-data-science-experience/how-to-upload-download-files-to-from-notebook-in-my-local-machine-6a4e65a15767\n",
    "    \"\"\"\n",
    "    csv = df.to_csv()\n",
    "    b64 = base64.b64encode(csv.encode())\n",
    "    payload = b64.decode()\n",
    "    html = '<a download=\"{filename}\" href=\"data:text/csv;base64,{payload}\" target=\"_blank\">{title}</a>'\n",
    "    html = html.format(payload=payload,title=title,filename=filename)\n",
    "    return HTML(html)\n"
   ]
  },
  {
   "cell_type": "code",
   "execution_count": null,
   "metadata": {},
   "outputs": [],
   "source": [
    " df = pd.DataFrame({'AAA': [4, 5, 6, 7],\n",
    "                 'BBB': [10, 20, 30, 40],\n",
    "                    'CCC': [100, 50, -30, -50]})\n",
    "    \n",
    "\n",
    "create_download_link(df)"
   ]
  },
  {
   "cell_type": "code",
   "execution_count": null,
   "metadata": {},
   "outputs": [],
   "source": []
  },
  {
   "cell_type": "code",
   "execution_count": null,
   "metadata": {},
   "outputs": [],
   "source": [
    "def create_text_download_link( txt, title = \"Download file\", filename = \"test.txt\"):\n",
    "    \"\"\"Displays a link with which to download the text as a file\"\"\"\n",
    "    payload = txt\n",
    "    html = '<a download=\"{filename}\" href=\"data:text/text,{payload}\" target=\"_blank\">{title}</a>'\n",
    "    html = html.format(payload=payload,title=title,filename=filename)\n",
    "    return HTML(html)\n"
   ]
  },
  {
   "cell_type": "code",
   "execution_count": null,
   "metadata": {},
   "outputs": [],
   "source": [
    "test = \"tacos are nom\"\n",
    "create_text_download_link(test)"
   ]
  },
  {
   "cell_type": "code",
   "execution_count": null,
   "metadata": {},
   "outputs": [],
   "source": []
  }
 ],
 "metadata": {
  "kernelspec": {
   "display_name": "Python 3",
   "language": "python",
   "name": "python3"
  },
  "language_info": {
   "codemirror_mode": {
    "name": "ipython",
    "version": 3
   },
   "file_extension": ".py",
   "mimetype": "text/x-python",
   "name": "python",
   "nbconvert_exporter": "python",
   "pygments_lexer": "ipython3",
   "version": "3.6.4"
  },
  "toc": {
   "base_numbering": 1,
   "nav_menu": {},
   "number_sections": true,
   "sideBar": true,
   "skip_h1_title": false,
   "title_cell": "Table of Contents",
   "title_sidebar": "Contents",
   "toc_cell": false,
   "toc_position": {},
   "toc_section_display": true,
   "toc_window_display": false
  }
 },
 "nbformat": 4,
 "nbformat_minor": 2
}
